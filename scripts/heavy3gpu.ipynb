{
 "cells": [
  {
   "cell_type": "code",
   "execution_count": 1,
   "id": "5b20c5b2",
   "metadata": {},
   "outputs": [
    {
     "name": "stderr",
     "output_type": "stream",
     "text": [
      "WARNING: replacing module Delhi.\n"
     ]
    },
    {
     "data": {
      "text/plain": [
       "plot_extrapolation (generic function with 1 method)"
      ]
     },
     "metadata": {},
     "output_type": "display_data"
    }
   ],
   "source": [
    "using Random\n",
    "using Dates\n",
    "using Optimization\n",
    "using Lux\n",
    "using DiffEqFlux: NeuralODE, ADAMW, swish\n",
    "using DifferentialEquations\n",
    "using ComponentArrays\n",
    "using BSON: @save, @load\n",
    "\n",
    "include(joinpath(\"..\", \"src\", \"delhi.jl\"))\n",
    "include(joinpath(\"..\", \"src\", \"figures.jl\"))\n"
   ]
  },
  {
   "cell_type": "code",
   "execution_count": 2,
   "id": "9bb5151e",
   "metadata": {},
   "outputs": [
    {
     "data": {
      "text/plain": [
       "ResidualBlock"
      ]
     },
     "metadata": {},
     "output_type": "display_data"
    }
   ],
   "source": [
    "function lotka_volterra(du,u,para,t)\n",
    "    x, y = u\n",
    "    α, β, δ, γ = para\n",
    "    du[1] = dx = α*x - β*x*y\n",
    "    du[2] = dy = -δ*y + γ*x*y\n",
    "  end\n",
    "  u0 = [1.0,1.0]\n",
    "  tspan = (0.0,10.0)\n",
    "  para = [1.5,1.0,3.0,1.0]\n",
    "  prob = ODEProblem(lotka_volterra,u0,tspan,para)\n",
    "\n",
    "# Define a custom residual block\n",
    "mutable struct ResidualBlock\n",
    "    inner_layer::Chain\n",
    "end\n",
    "\n",
    "function ResidualBlock(input_dim, hidden_dim)\n",
    "    return ResidualBlock(Chain(\n",
    "        Dense(input_dim, hidden_dim, swish),\n",
    "        Dense(hidden_dim, input_dim)\n",
    "    ))\n",
    "end #ignore residual block\n",
    "\n",
    "\n",
    "# Define your neural network with residual blocks\n",
    "#data_dim = 10  # Adjust this to your input data dimension\n",
    "#swish(x) = x * σ.(x)\n",
    "\n",
    "# To forward pass through the network, just call model(x) where x is your input data.\n"
   ]
  },
  {
   "cell_type": "code",
   "execution_count": 2,
   "id": "d495e272",
   "metadata": {},
   "outputs": [
    {
     "data": {
      "text/plain": [
       "neural_ode (generic function with 1 method)"
      ]
     },
     "metadata": {},
     "output_type": "display_data"
    }
   ],
   "source": [
    "function neural_ode(t, data_dim)\n",
    "    f = Lux.Chain(\n",
    "\n",
    "        Lux.Dense(data_dim, 32, swish),\n",
    "        Lux.Dense(32, 8, swish),\n",
    "        Lux.Dense(8, 4, swish),\n",
    "        p -> solve(prob,Tsit5(),p=p,saveat=0.1)[1,:],\n",
    "        Lux.Dense(101, 64, swish),\n",
    "        Lux.Dense(64, 32, swish),\n",
    "        Lux.Dense(32, data_dim)\n",
    "    )\n",
    "\n",
    "    node = NeuralODE(\n",
    "        f, extrema(t), Tsit5(),\n",
    "        saveat=t,\n",
    "        abstol=1e-9, reltol=1e-9\n",
    "    )\n",
    "    \n",
    "    rng = Random.default_rng()\n",
    "    p, state = Lux.setup(rng, f)\n",
    "\n",
    "    return node, ComponentArray(p), state\n",
    "end"
   ]
  },
  {
   "cell_type": "code",
   "execution_count": 3,
   "id": "a80c6f85",
   "metadata": {},
   "outputs": [
    {
     "data": {
      "text/plain": [
       "train_one_round (generic function with 2 methods)"
      ]
     },
     "metadata": {},
     "output_type": "display_data"
    }
   ],
   "source": [
    "function train_one_round(node, θ, state, y, opt, maxiters, rng, y0=y[:, 1]; kwargs...)\n",
    "    predict(θ) = Array(node(y0, θ, state)[1])\n",
    "    loss(θ) = sum(abs2, predict(θ) .- y)\n",
    "    \n",
    "    adtype = Optimization.AutoZygote()\n",
    "    optf = OptimizationFunction((θ, p) -> loss(θ), adtype)\n",
    "    optprob = OptimizationProblem(optf, θ)\n",
    "    res = solve(optprob, opt, maxiters=maxiters; kwargs...)\n",
    "    res.minimizer, state\n",
    "end\n"
   ]
  },
  {
   "cell_type": "code",
   "execution_count": 4,
   "id": "fba37566",
   "metadata": {},
   "outputs": [
    {
     "data": {
      "text/plain": [
       "train (generic function with 3 methods)"
      ]
     },
     "metadata": {},
     "output_type": "display_data"
    }
   ],
   "source": [
    "function train(t, y, obs_grid, maxiters, lr, rng, θ=nothing, state=nothing; kwargs...)\n",
    "    log_results(θs, losses) =\n",
    "        (θ, loss) -> begin\n",
    "        push!(θs, copy(θ))\n",
    "        push!(losses, loss)\n",
    "        false\n",
    "    end\n",
    "\n",
    "    θs, losses = ComponentArray[], Float32[]\n",
    "    for k in obs_grid\n",
    "        node, θ_new, state_new = neural_ode(t, size(y, 1))\n",
    "        if θ === nothing θ = θ_new end\n",
    "        if state === nothing state = state_new end\n",
    "\n",
    "        θ, state = train_one_round(\n",
    "            node, θ, state, y, ADAMW(lr), maxiters, rng;\n",
    "            callback=log_results(θs, losses),\n",
    "            kwargs...\n",
    "        )\n",
    "    end\n",
    "    final_loss=0\n",
    "    θs, state, losses, final_loss\n",
    " \n",
    "end\n",
    "\n"
   ]
  },
  {
   "cell_type": "code",
   "execution_count": 5,
   "id": "5e18d5d2",
   "metadata": {},
   "outputs": [
    {
     "name": "stderr",
     "output_type": "stream",
     "text": [
      "┌ Info: Fitting model...\n",
      "└ @ Main c:\\Users\\SpOoKyJaRvIs\\Desktop\\CSO211 project\\neural-ode-weather-forecast\\scripts\\heavy3gpu.ipynb:1\n"
     ]
    },
    {
     "data": {
      "text/plain": [
       "\"c:\\\\Users\\\\SpOoKyJaRvIs\\\\Desktop\\\\CSO211 project\\\\neural-ode-weather-forecast\\\\scripts\\\\plots\\\\zoomed_pressure.svg\""
      ]
     },
     "metadata": {},
     "output_type": "display_data"
    }
   ],
   "source": [
    "@info \"Fitting model...\"\n",
    "rng = MersenneTwister(123)\n",
    "df = Delhi.load()\n",
    "plt_features = Delhi.plot_features(df)\n",
    "savefig(plt_features, joinpath(\"plots\", \"features.svg\"))\n",
    "\n",
    "df_2016 = filter(x -> x.date < Date(2016, 1, 1), df)\n",
    "plt_2016 = plot(\n",
    "    df_2016.date,\n",
    "    df_2016.meanpressure,\n",
    "    title = \"Mean pressure, before 2016\",\n",
    "    ylabel = Delhi.units[4],\n",
    "    xlabel = \"Time\",\n",
    "    color = 4,\n",
    "    size = (600, 300),\n",
    "    label = nothing,\n",
    "    right_margin=5Plots.mm\n",
    ")\n",
    "savefig(plt_2016, joinpath(\"plots\", \"zoomed_pressure.svg\"))\n"
   ]
  },
  {
   "cell_type": "code",
   "execution_count": 6,
   "id": "7595d719",
   "metadata": {},
   "outputs": [
    {
     "data": {
      "text/plain": [
       "([-1.60579308398432, -1.4367622330383107, -1.267731382092763, -1.0987005311472149, -0.9296696802012057, -0.7606388292556577, -0.5916079783101097, -0.4225771273641006, -0.2535462764185526, -0.08451542547300459, 0.08451542547300459, 0.2535462764185526, 0.4225771273641006, 0.5916079783101097, 0.7606388292556577, 0.9296696802012057, 1.0987005311472149, 1.267731382092763, 1.4367622330383107, 1.60579308398432], [-1.763925125632563 -1.1235556296843154 … 0.9028695693184288 0.8197374527372693; 0.7428026273433367 0.6737312549046214 … 0.09770117510549325 0.007224485672476749; -1.2549872329391258 0.1484330904176096 … 0.17740293507960775 0.2501049921257615; 1.3575622301481491 1.1122878498059419 … -1.1776132360481055 -0.8698951253162611], [1.774823934929868, 1.943854785875416, 2.1128856368214253, 2.2819164877669733, 2.450947338712521, 2.6199781896585304, 2.7890090406040784, 2.9580398915496264, 3.1270707424956354, 3.2961015934411835  …  5.493502655735152, 5.662533506681161, 5.831564357626709, 6.000595208572257, 6.169626059518266, 6.338656910463814, 6.507687761409362, 6.676718612355371, 6.845749463300919, 7.014780314246467], [0.5993503684676721 0.16298266490255592 … -0.20348342992971324 0.7317806567121532; 0.13187113236250197 -0.13998567041267365 … -0.8422665838983205 -1.9573986619710841; 0.4571916301460007 -1.7045417244468233 … 0.8980938434368024 1.0278275757923792; -0.3884420348396531 0.5432510751435583 … 0.4059779413164457 -0.35559069742876687], ([2013.875;;], [0.49300664859163934;;]), ([25.27671416254674; 61.30422906824019; 7.194851184048889; 1007.321897943855;;], [7.484413247165987; 15.784237081943546; 1.8812446147951691; 7.75348347013801;;]))"
      ]
     },
     "metadata": {},
     "output_type": "display_data"
    }
   ],
   "source": [
    "t_train, y_train, t_test, y_test, (t_mean, t_scale), (y_mean, y_scale) = Delhi.preprocess(df)"
   ]
  },
  {
   "cell_type": "code",
   "execution_count": 7,
   "id": "f9a37c57",
   "metadata": {},
   "outputs": [
    {
     "data": {
      "text/plain": [
       "\"c:\\\\Users\\\\SpOoKyJaRvIs\\\\Desktop\\\\CSO211 project\\\\neural-ode-weather-forecast\\\\scripts\\\\plots\\\\train_test_split.svg\""
      ]
     },
     "metadata": {},
     "output_type": "display_data"
    }
   ],
   "source": [
    "plt_split = plot(\n",
    "    reshape(t_train, :), y_train',\n",
    "    linewidth = 3, colors = 1:4,\n",
    "    xlabel = \"Normalized time\", ylabel = \"Normalized values\",\n",
    "    label = nothing, title = \"Pre-processed data\"\n",
    ")\n",
    "plot!(\n",
    "    plt_split, reshape(t_test, :), y_test',\n",
    "    linewidth = 3, linestyle = :dash,\n",
    "    color = [1 2 3 4], label = nothing\n",
    ")\n",
    "\n",
    "plot!(\n",
    "    plt_split, [0], [0], linewidth = 0,\n",
    "    label = \"Train\", color = 1\n",
    ")\n",
    "plot!(\n",
    "    plt_split, [0], [0], linewidth = 0,\n",
    "    linestyle = :dash, label = \"Test\",\n",
    "    color = 1\n",
    ")\n",
    "savefig(plt_split, joinpath(\"plots\", \"train_test_split.svg\"))\n"
   ]
  },
  {
   "cell_type": "code",
   "execution_count": 8,
   "id": "63ce4bd2",
   "metadata": {},
   "outputs": [
    {
     "name": "stderr",
     "output_type": "stream",
     "text": [
      "\r\u001b[32mloss: 240:   0%|█                                       |  ETA: 0:06:06\u001b[39m\u001b[K"
     ]
    },
    {
     "name": "stderr",
     "output_type": "stream",
     "text": [
      "\r\u001b[32mloss: 234:   1%|█                                       |  ETA: 0:07:43\u001b[39m\u001b[K"
     ]
    },
    {
     "name": "stderr",
     "output_type": "stream",
     "text": [
      "\r\u001b[32mloss: 228:   1%|█                                       |  ETA: 0:07:04\u001b[39m\u001b[K"
     ]
    },
    {
     "name": "stderr",
     "output_type": "stream",
     "text": [
      "\r\u001b[32mloss: 223:   1%|█                                       |  ETA: 0:06:57\u001b[39m\u001b[K"
     ]
    },
    {
     "name": "stderr",
     "output_type": "stream",
     "text": [
      "\r\u001b[32mloss: 218:   2%|█                                       |  ETA: 0:06:21\u001b[39m\u001b[K"
     ]
    },
    {
     "name": "stderr",
     "output_type": "stream",
     "text": [
      "\r\u001b[32mloss: 214:   2%|█                                       |  ETA: 0:06:14\u001b[39m\u001b[K"
     ]
    },
    {
     "name": "stderr",
     "output_type": "stream",
     "text": [
      "\r\u001b[32mloss: 209:   2%|█                                       |  ETA: 0:05:52\u001b[39m\u001b[K"
     ]
    },
    {
     "name": "stderr",
     "output_type": "stream",
     "text": [
      "\r\u001b[32mloss: 205:   2%|█                                       |  ETA: 0:05:49\u001b[39m\u001b[K"
     ]
    },
    {
     "name": "stderr",
     "output_type": "stream",
     "text": [
      "\r\u001b[32mloss: 201:   2%|██                                      |  ETA: 0:05:33\u001b[39m\u001b[K"
     ]
    },
    {
     "name": "stderr",
     "output_type": "stream",
     "text": [
      "\r\u001b[32mloss: 198:   3%|██                                      |  ETA: 0:05:28\u001b[39m\u001b[K"
     ]
    },
    {
     "name": "stderr",
     "output_type": "stream",
     "text": [
      "\r\u001b[32mloss: 194:   3%|██                                      |  ETA: 0:05:16\u001b[39m\u001b[K"
     ]
    },
    {
     "name": "stderr",
     "output_type": "stream",
     "text": [
      "\r\u001b[32mloss: 191:   3%|██                                      |  ETA: 0:05:12\u001b[39m\u001b[K"
     ]
    },
    {
     "name": "stderr",
     "output_type": "stream",
     "text": [
      "\r\u001b[32mloss: 188:   4%|██                                      |  ETA: 0:05:01\u001b[39m\u001b[K"
     ]
    },
    {
     "name": "stderr",
     "output_type": "stream",
     "text": [
      "\r\u001b[32mloss: 184:   4%|██                                      |  ETA: 0:05:04\u001b[39m\u001b[K"
     ]
    },
    {
     "name": "stderr",
     "output_type": "stream",
     "text": [
      "\r\u001b[32mloss: 181:   4%|██                                      |  ETA: 0:04:56\u001b[39m\u001b[K"
     ]
    },
    {
     "name": "stderr",
     "output_type": "stream",
     "text": [
      "\r\u001b[32mloss: 178:   4%|██                                      |  ETA: 0:04:57\u001b[39m\u001b[K"
     ]
    },
    {
     "name": "stderr",
     "output_type": "stream",
     "text": [
      "\r\u001b[32mloss: 176:   4%|██                                      |  ETA: 0:04:50\u001b[39m\u001b[K"
     ]
    },
    {
     "name": "stderr",
     "output_type": "stream",
     "text": [
      "\r\u001b[32mloss: 173:   5%|██                                      |  ETA: 0:04:51\u001b[39m\u001b[K"
     ]
    },
    {
     "name": "stderr",
     "output_type": "stream",
     "text": [
      "\r\u001b[32mloss: 170:   5%|███                                     |  ETA: 0:04:45\u001b[39m\u001b[K"
     ]
    },
    {
     "name": "stderr",
     "output_type": "stream",
     "text": [
      "\r\u001b[32mloss: 167:   5%|███                                     |  ETA: 0:04:46\u001b[39m\u001b[K"
     ]
    },
    {
     "name": "stderr",
     "output_type": "stream",
     "text": [
      "\r\u001b[32mloss: 165:   6%|███                                     |  ETA: 0:04:41\u001b[39m\u001b[K"
     ]
    },
    {
     "name": "stderr",
     "output_type": "stream",
     "text": [
      "\r\u001b[32mloss: 162:   6%|███                                     |  ETA: 0:04:41\u001b[39m\u001b[K"
     ]
    },
    {
     "name": "stderr",
     "output_type": "stream",
     "text": [
      "\r\u001b[32mloss: 160:   6%|███                                     |  ETA: 0:04:35\u001b[39m\u001b[K"
     ]
    },
    {
     "name": "stderr",
     "output_type": "stream",
     "text": [
      "\r\u001b[32mloss: 157:   6%|███                                     |  ETA: 0:04:34\u001b[39m\u001b[K"
     ]
    },
    {
     "name": "stderr",
     "output_type": "stream",
     "text": [
      "\r\u001b[32mloss: 155:   6%|███                                     |  ETA: 0:04:29\u001b[39m\u001b[K"
     ]
    },
    {
     "name": "stderr",
     "output_type": "stream",
     "text": [
      "\r\u001b[32mloss: 152:   7%|███                                     |  ETA: 0:04:28\u001b[39m\u001b[K"
     ]
    },
    {
     "name": "stderr",
     "output_type": "stream",
     "text": [
      "\r\u001b[32mloss: 150:   7%|███                                     |  ETA: 0:04:23\u001b[39m\u001b[K"
     ]
    },
    {
     "name": "stderr",
     "output_type": "stream",
     "text": [
      "\r\u001b[32mloss: 147:   7%|███                                     |  ETA: 0:04:23\u001b[39m\u001b[K"
     ]
    },
    {
     "name": "stderr",
     "output_type": "stream",
     "text": [
      "\r\u001b[32mloss: 145:   8%|████                                    |  ETA: 0:04:19\u001b[39m\u001b[K"
     ]
    },
    {
     "name": "stderr",
     "output_type": "stream",
     "text": [
      "\r\u001b[32mloss: 143:   8%|████                                    |  ETA: 0:04:20\u001b[39m\u001b[K"
     ]
    },
    {
     "name": "stderr",
     "output_type": "stream",
     "text": [
      "\r\u001b[32mloss: 141:   8%|████                                    |  ETA: 0:04:16\u001b[39m\u001b[K"
     ]
    },
    {
     "name": "stderr",
     "output_type": "stream",
     "text": [
      "\r\u001b[32mloss: 138:   8%|████                                    |  ETA: 0:04:17\u001b[39m\u001b[K"
     ]
    },
    {
     "name": "stderr",
     "output_type": "stream",
     "text": [
      "\r\u001b[32mloss: 136:   8%|████                                    |  ETA: 0:04:13\u001b[39m\u001b[K"
     ]
    },
    {
     "name": "stderr",
     "output_type": "stream",
     "text": [
      "\r\u001b[32mloss: 134:   9%|████                                    |  ETA: 0:04:12\u001b[39m\u001b[K"
     ]
    },
    {
     "name": "stderr",
     "output_type": "stream",
     "text": [
      "\r\u001b[32mloss: 132:   9%|████                                    |  ETA: 0:04:08\u001b[39m\u001b[K"
     ]
    },
    {
     "name": "stderr",
     "output_type": "stream",
     "text": [
      "\r\u001b[32mloss: 130:   9%|████                                    |  ETA: 0:04:08\u001b[39m\u001b[K"
     ]
    },
    {
     "name": "stderr",
     "output_type": "stream",
     "text": [
      "\r\u001b[32mloss: 128:  10%|████                                    |  ETA: 0:04:04\u001b[39m\u001b[K"
     ]
    },
    {
     "name": "stderr",
     "output_type": "stream",
     "text": [
      "\r\u001b[32mloss: 126:  10%|████                                    |  ETA: 0:04:05\u001b[39m\u001b[K"
     ]
    },
    {
     "name": "stderr",
     "output_type": "stream",
     "text": [
      "\r\u001b[32mloss: 124:  10%|█████                                   |  ETA: 0:04:02\u001b[39m\u001b[K"
     ]
    },
    {
     "name": "stderr",
     "output_type": "stream",
     "text": [
      "\r\u001b[32mloss: 122:  10%|█████                                   |  ETA: 0:04:02\u001b[39m\u001b[K"
     ]
    },
    {
     "name": "stderr",
     "output_type": "stream",
     "text": [
      "\r\u001b[32mloss: 121:  10%|█████                                   |  ETA: 0:03:59\u001b[39m\u001b[K"
     ]
    },
    {
     "name": "stderr",
     "output_type": "stream",
     "text": [
      "\r\u001b[32mloss: 119:  11%|█████                                   |  ETA: 0:03:59\u001b[39m\u001b[K"
     ]
    },
    {
     "name": "stderr",
     "output_type": "stream",
     "text": [
      "\r\u001b[32mloss: 117:  11%|█████                                   |  ETA: 0:03:55\u001b[39m\u001b[K"
     ]
    },
    {
     "name": "stderr",
     "output_type": "stream",
     "text": [
      "\r\u001b[32mloss: 116:  11%|█████                                   |  ETA: 0:03:55\u001b[39m\u001b[K"
     ]
    },
    {
     "name": "stderr",
     "output_type": "stream",
     "text": [
      "\r\u001b[32mloss: 114:  12%|█████                                   |  ETA: 0:03:52\u001b[39m\u001b[K"
     ]
    },
    {
     "name": "stderr",
     "output_type": "stream",
     "text": [
      "\r\u001b[32mloss: 113:  12%|█████                                   |  ETA: 0:03:53\u001b[39m\u001b[K"
     ]
    },
    {
     "name": "stderr",
     "output_type": "stream",
     "text": [
      "\r\u001b[32mloss: 111:  12%|█████                                   |  ETA: 0:03:51\u001b[39m\u001b[K"
     ]
    },
    {
     "name": "stderr",
     "output_type": "stream",
     "text": [
      "\r\u001b[32mloss: 110:  12%|█████                                   |  ETA: 0:03:51\u001b[39m\u001b[K"
     ]
    },
    {
     "name": "stderr",
     "output_type": "stream",
     "text": [
      "\r\u001b[32mloss: 109:  12%|██████                                  |  ETA: 0:03:47\u001b[39m\u001b[K"
     ]
    },
    {
     "name": "stderr",
     "output_type": "stream",
     "text": [
      "\r\u001b[32mloss: 107:  13%|██████                                  |  ETA: 0:03:47\u001b[39m\u001b[K"
     ]
    },
    {
     "name": "stderr",
     "output_type": "stream",
     "text": [
      "\r\u001b[32mloss: 106:  13%|██████                                  |  ETA: 0:03:44\u001b[39m\u001b[K"
     ]
    },
    {
     "name": "stderr",
     "output_type": "stream",
     "text": [
      "\r\u001b[32mloss: 105:  13%|██████                                  |  ETA: 0:03:44\u001b[39m\u001b[K"
     ]
    },
    {
     "name": "stderr",
     "output_type": "stream",
     "text": [
      "\r\u001b[32mloss: 104:  14%|██████                                  |  ETA: 0:03:41\u001b[39m\u001b[K"
     ]
    },
    {
     "name": "stderr",
     "output_type": "stream",
     "text": [
      "\r\u001b[32mloss: 103:  14%|██████                                  |  ETA: 0:03:40\u001b[39m\u001b[K"
     ]
    },
    {
     "name": "stderr",
     "output_type": "stream",
     "text": [
      "\r\u001b[32mloss: 102:  14%|██████                                  |  ETA: 0:03:38\u001b[39m\u001b[K"
     ]
    },
    {
     "name": "stderr",
     "output_type": "stream",
     "text": [
      "\r\u001b[32mloss: 101:  14%|██████                                  |  ETA: 0:03:37\u001b[39m\u001b[K"
     ]
    },
    {
     "name": "stderr",
     "output_type": "stream",
     "text": [
      "\r\u001b[32mloss: 99.8:  14%|██████                                 |  ETA: 0:03:35\u001b[39m\u001b[K"
     ]
    },
    {
     "name": "stderr",
     "output_type": "stream",
     "text": [
      "\r\u001b[32mloss: 98.9:  15%|██████                                 |  ETA: 0:03:34\u001b[39m\u001b[K"
     ]
    },
    {
     "name": "stderr",
     "output_type": "stream",
     "text": [
      "\r\u001b[32mloss: 98.1:  15%|██████                                 |  ETA: 0:03:32\u001b[39m\u001b[K"
     ]
    },
    {
     "name": "stderr",
     "output_type": "stream",
     "text": [
      "\r\u001b[32mloss: 97.3:  15%|██████                                 |  ETA: 0:03:32\u001b[39m\u001b[K"
     ]
    },
    {
     "name": "stderr",
     "output_type": "stream",
     "text": [
      "\r\u001b[32mloss: 96.5:  16%|███████                                |  ETA: 0:03:30\u001b[39m\u001b[K"
     ]
    },
    {
     "name": "stderr",
     "output_type": "stream",
     "text": [
      "\r\u001b[32mloss: 95.8:  16%|███████                                |  ETA: 0:03:29\u001b[39m\u001b[K"
     ]
    },
    {
     "name": "stderr",
     "output_type": "stream",
     "text": [
      "\r\u001b[32mloss: 95.1:  16%|███████                                |  ETA: 0:03:27\u001b[39m\u001b[K"
     ]
    },
    {
     "name": "stderr",
     "output_type": "stream",
     "text": [
      "\r\u001b[32mloss: 94.4:  16%|███████                                |  ETA: 0:03:26\u001b[39m\u001b[K"
     ]
    },
    {
     "name": "stderr",
     "output_type": "stream",
     "text": [
      "\r\u001b[32mloss: 93.8:  16%|███████                                |  ETA: 0:03:25\u001b[39m\u001b[K"
     ]
    },
    {
     "name": "stderr",
     "output_type": "stream",
     "text": [
      "\r\u001b[32mloss: 93.2:  17%|███████                                |  ETA: 0:03:25\u001b[39m\u001b[K"
     ]
    },
    {
     "name": "stderr",
     "output_type": "stream",
     "text": [
      "\r\u001b[32mloss: 92.6:  17%|███████                                |  ETA: 0:03:23\u001b[39m\u001b[K"
     ]
    },
    {
     "name": "stderr",
     "output_type": "stream",
     "text": [
      "\r\u001b[32mloss: 92:  17%|████████                                 |  ETA: 0:03:23\u001b[39m\u001b[K"
     ]
    },
    {
     "name": "stderr",
     "output_type": "stream",
     "text": [
      "\r\u001b[32mloss: 91.5:  18%|███████                                |  ETA: 0:03:21\u001b[39m\u001b[K"
     ]
    },
    {
     "name": "stderr",
     "output_type": "stream",
     "text": [
      "\r\u001b[32mloss: 91:  18%|████████                                 |  ETA: 0:03:21\u001b[39m\u001b[K"
     ]
    },
    {
     "name": "stderr",
     "output_type": "stream",
     "text": [
      "\r\u001b[32mloss: 90.5:  18%|████████                               |  ETA: 0:03:19\u001b[39m\u001b[K"
     ]
    },
    {
     "name": "stderr",
     "output_type": "stream",
     "text": [
      "\r\u001b[32mloss: 90:  18%|████████                                 |  ETA: 0:03:19\u001b[39m\u001b[K"
     ]
    },
    {
     "name": "stderr",
     "output_type": "stream",
     "text": [
      "\r\u001b[32mloss: 89.6:  18%|████████                               |  ETA: 0:03:17\u001b[39m\u001b[K"
     ]
    },
    {
     "name": "stderr",
     "output_type": "stream",
     "text": [
      "\r\u001b[32mloss: 89.2:  19%|████████                               |  ETA: 0:03:16\u001b[39m\u001b[K"
     ]
    },
    {
     "name": "stderr",
     "output_type": "stream",
     "text": [
      "\r\u001b[32mloss: 88.8:  19%|████████                               |  ETA: 0:03:15\u001b[39m\u001b[K"
     ]
    },
    {
     "name": "stderr",
     "output_type": "stream",
     "text": [
      "\r\u001b[32mloss: 88.4:  19%|████████                               |  ETA: 0:03:15\u001b[39m\u001b[K"
     ]
    },
    {
     "name": "stderr",
     "output_type": "stream",
     "text": [
      "\r\u001b[32mloss: 88:  20%|████████                                 |  ETA: 0:03:13\u001b[39m\u001b[K"
     ]
    },
    {
     "name": "stderr",
     "output_type": "stream",
     "text": [
      "\r\u001b[32mloss: 87.6:  20%|████████                               |  ETA: 0:03:13\u001b[39m\u001b[K"
     ]
    },
    {
     "name": "stderr",
     "output_type": "stream",
     "text": [
      "\r\u001b[32mloss: 87.3:  20%|████████                               |  ETA: 0:03:11\u001b[39m\u001b[K"
     ]
    },
    {
     "name": "stderr",
     "output_type": "stream",
     "text": [
      "\r\u001b[32mloss: 86.9:  20%|████████                               |  ETA: 0:03:11\u001b[39m\u001b[K"
     ]
    },
    {
     "name": "stderr",
     "output_type": "stream",
     "text": [
      "\r\u001b[32mloss: 86.6:  20%|████████                               |  ETA: 0:03:10\u001b[39m\u001b[K"
     ]
    },
    {
     "name": "stderr",
     "output_type": "stream",
     "text": [
      "\r\u001b[32mloss: 86.3:  21%|█████████                              |  ETA: 0:03:09\u001b[39m\u001b[K"
     ]
    },
    {
     "name": "stderr",
     "output_type": "stream",
     "text": [
      "\r\u001b[32mloss: 85.9:  21%|█████████                              |  ETA: 0:03:08\u001b[39m\u001b[K"
     ]
    },
    {
     "name": "stderr",
     "output_type": "stream",
     "text": [
      "\r\u001b[32mloss: 85.6:  21%|█████████                              |  ETA: 0:03:07\u001b[39m\u001b[K"
     ]
    },
    {
     "name": "stderr",
     "output_type": "stream",
     "text": [
      "\r\u001b[32mloss: 85.3:  22%|█████████                              |  ETA: 0:03:06\u001b[39m\u001b[K"
     ]
    },
    {
     "name": "stderr",
     "output_type": "stream",
     "text": [
      "\r\u001b[32mloss: 85:  22%|█████████                                |  ETA: 0:03:05\u001b[39m\u001b[K"
     ]
    },
    {
     "name": "stderr",
     "output_type": "stream",
     "text": [
      "\r\u001b[32mloss: 84.8:  22%|█████████                              |  ETA: 0:03:04\u001b[39m\u001b[K"
     ]
    },
    {
     "name": "stderr",
     "output_type": "stream",
     "text": [
      "\r\u001b[32mloss: 84.5:  22%|█████████                              |  ETA: 0:03:04\u001b[39m\u001b[K"
     ]
    },
    {
     "name": "stderr",
     "output_type": "stream",
     "text": [
      "\r\u001b[32mloss: 84.2:  22%|█████████                              |  ETA: 0:03:03\u001b[39m\u001b[K"
     ]
    },
    {
     "name": "stderr",
     "output_type": "stream",
     "text": [
      "\r\u001b[32mloss: 84:  23%|██████████                               |  ETA: 0:03:03\u001b[39m\u001b[K"
     ]
    },
    {
     "name": "stderr",
     "output_type": "stream",
     "text": [
      "\r\u001b[32mloss: 83.7:  23%|█████████                              |  ETA: 0:03:02\u001b[39m\u001b[K"
     ]
    },
    {
     "name": "stderr",
     "output_type": "stream",
     "text": [
      "\r\u001b[32mloss: 83.4:  23%|██████████                             |  ETA: 0:03:01\u001b[39m\u001b[K"
     ]
    },
    {
     "name": "stderr",
     "output_type": "stream",
     "text": [
      "\r\u001b[32mloss: 83.2:  24%|██████████                             |  ETA: 0:03:00\u001b[39m\u001b[K"
     ]
    },
    {
     "name": "stderr",
     "output_type": "stream",
     "text": [
      "\r\u001b[32mloss: 83:  24%|██████████                               |  ETA: 0:03:00\u001b[39m\u001b[K"
     ]
    },
    {
     "name": "stderr",
     "output_type": "stream",
     "text": [
      "\r\u001b[32mloss: 82.7:  24%|██████████                             |  ETA: 0:02:59\u001b[39m\u001b[K"
     ]
    },
    {
     "name": "stderr",
     "output_type": "stream",
     "text": [
      "\r\u001b[32mloss: 82.5:  24%|██████████                             |  ETA: 0:02:58\u001b[39m\u001b[K"
     ]
    },
    {
     "name": "stderr",
     "output_type": "stream",
     "text": [
      "\r\u001b[32mloss: 82.2:  24%|██████████                             |  ETA: 0:02:57\u001b[39m\u001b[K"
     ]
    },
    {
     "name": "stderr",
     "output_type": "stream",
     "text": [
      "\r\u001b[32mloss: 82:  25%|███████████                              |  ETA: 0:02:57\u001b[39m\u001b[K"
     ]
    },
    {
     "name": "stderr",
     "output_type": "stream",
     "text": [
      "\r\u001b[32mloss: 81.8:  25%|██████████                             |  ETA: 0:02:56\u001b[39m\u001b[K"
     ]
    },
    {
     "name": "stderr",
     "output_type": "stream",
     "text": [
      "\r\u001b[32mloss: 81.6:  25%|██████████                             |  ETA: 0:02:56\u001b[39m\u001b[K"
     ]
    },
    {
     "name": "stderr",
     "output_type": "stream",
     "text": [
      "\r\u001b[32mloss: 81.3:  26%|██████████                             |  ETA: 0:02:55\u001b[39m\u001b[K"
     ]
    },
    {
     "name": "stderr",
     "output_type": "stream",
     "text": [
      "\r\u001b[32mloss: 81.1:  26%|███████████                            |  ETA: 0:02:55\u001b[39m\u001b[K"
     ]
    },
    {
     "name": "stderr",
     "output_type": "stream",
     "text": [
      "\r\u001b[32mloss: 80.9:  26%|███████████                            |  ETA: 0:02:54\u001b[39m\u001b[K"
     ]
    },
    {
     "name": "stderr",
     "output_type": "stream",
     "text": [
      "\r\u001b[32mloss: 80.7:  26%|███████████                            |  ETA: 0:02:54\u001b[39m\u001b[K"
     ]
    },
    {
     "name": "stderr",
     "output_type": "stream",
     "text": [
      "\r\u001b[32mloss: 80.5:  26%|███████████                            |  ETA: 0:02:53\u001b[39m\u001b[K"
     ]
    },
    {
     "name": "stderr",
     "output_type": "stream",
     "text": [
      "\r\u001b[32mloss: 80.3:  27%|███████████                            |  ETA: 0:02:52\u001b[39m\u001b[K"
     ]
    },
    {
     "name": "stderr",
     "output_type": "stream",
     "text": [
      "\r\u001b[32mloss: 80.1:  27%|███████████                            |  ETA: 0:02:51\u001b[39m\u001b[K"
     ]
    },
    {
     "name": "stderr",
     "output_type": "stream",
     "text": [
      "\r\u001b[32mloss: 79.9:  27%|███████████                            |  ETA: 0:02:50\u001b[39m\u001b[K"
     ]
    },
    {
     "name": "stderr",
     "output_type": "stream",
     "text": [
      "\r\u001b[32mloss: 79.7:  28%|███████████                            |  ETA: 0:02:49\u001b[39m\u001b[K"
     ]
    },
    {
     "name": "stderr",
     "output_type": "stream",
     "text": [
      "\r\u001b[32mloss: 79.5:  28%|███████████                            |  ETA: 0:02:49\u001b[39m\u001b[K"
     ]
    },
    {
     "name": "stderr",
     "output_type": "stream",
     "text": [
      "\r\u001b[32mloss: 79.3:  28%|███████████                            |  ETA: 0:02:47\u001b[39m\u001b[K"
     ]
    },
    {
     "name": "stderr",
     "output_type": "stream",
     "text": [
      "\r\u001b[32mloss: 79.1:  28%|███████████                            |  ETA: 0:02:47\u001b[39m\u001b[K"
     ]
    },
    {
     "name": "stderr",
     "output_type": "stream",
     "text": [
      "\r\u001b[32mloss: 78.9:  28%|████████████                           |  ETA: 0:02:46\u001b[39m\u001b[K"
     ]
    },
    {
     "name": "stderr",
     "output_type": "stream",
     "text": [
      "\r\u001b[32mloss: 78.7:  29%|████████████                           |  ETA: 0:02:46\u001b[39m\u001b[K"
     ]
    },
    {
     "name": "stderr",
     "output_type": "stream",
     "text": [
      "\r\u001b[32mloss: 78.5:  29%|████████████                           |  ETA: 0:02:45\u001b[39m\u001b[K"
     ]
    },
    {
     "name": "stderr",
     "output_type": "stream",
     "text": [
      "\r\u001b[32mloss: 78.3:  29%|████████████                           |  ETA: 0:02:45\u001b[39m\u001b[K"
     ]
    },
    {
     "name": "stderr",
     "output_type": "stream",
     "text": [
      "\r\u001b[32mloss: 78.1:  30%|████████████                           |  ETA: 0:02:43\u001b[39m\u001b[K"
     ]
    },
    {
     "name": "stderr",
     "output_type": "stream",
     "text": [
      "\r\u001b[32mloss: 77.9:  30%|████████████                           |  ETA: 0:02:43\u001b[39m\u001b[K"
     ]
    },
    {
     "name": "stderr",
     "output_type": "stream",
     "text": [
      "\r\u001b[32mloss: 77.7:  30%|████████████                           |  ETA: 0:02:42\u001b[39m\u001b[K"
     ]
    },
    {
     "name": "stderr",
     "output_type": "stream",
     "text": [
      "\r\u001b[32mloss: 77.5:  30%|████████████                           |  ETA: 0:02:42\u001b[39m\u001b[K"
     ]
    },
    {
     "name": "stderr",
     "output_type": "stream",
     "text": [
      "\r\u001b[32mloss: 77.3:  30%|████████████                           |  ETA: 0:02:40\u001b[39m\u001b[K"
     ]
    },
    {
     "name": "stderr",
     "output_type": "stream",
     "text": [
      "\r\u001b[32mloss: 77.1:  31%|████████████                           |  ETA: 0:02:40\u001b[39m\u001b[K"
     ]
    },
    {
     "name": "stderr",
     "output_type": "stream",
     "text": [
      "\r\u001b[32mloss: 76.9:  31%|█████████████                          |  ETA: 0:02:39\u001b[39m\u001b[K"
     ]
    },
    {
     "name": "stderr",
     "output_type": "stream",
     "text": [
      "\r\u001b[32mloss: 76.7:  31%|█████████████                          |  ETA: 0:02:39\u001b[39m\u001b[K"
     ]
    },
    {
     "name": "stderr",
     "output_type": "stream",
     "text": [
      "\r\u001b[32mloss: 76.6:  32%|█████████████                          |  ETA: 0:02:38\u001b[39m\u001b[K"
     ]
    },
    {
     "name": "stderr",
     "output_type": "stream",
     "text": [
      "\r\u001b[32mloss: 76.4:  32%|█████████████                          |  ETA: 0:02:37\u001b[39m\u001b[K"
     ]
    },
    {
     "name": "stderr",
     "output_type": "stream",
     "text": [
      "\r\u001b[32mloss: 76.2:  32%|█████████████                          |  ETA: 0:02:36\u001b[39m\u001b[K"
     ]
    },
    {
     "name": "stderr",
     "output_type": "stream",
     "text": [
      "\r\u001b[32mloss: 76:  32%|██████████████                           |  ETA: 0:02:35\u001b[39m\u001b[K"
     ]
    },
    {
     "name": "stderr",
     "output_type": "stream",
     "text": [
      "\r\u001b[32mloss: 75.8:  32%|█████████████                          |  ETA: 0:02:34\u001b[39m\u001b[K"
     ]
    },
    {
     "name": "stderr",
     "output_type": "stream",
     "text": [
      "\r\u001b[32mloss: 75.7:  33%|█████████████                          |  ETA: 0:02:34\u001b[39m\u001b[K"
     ]
    },
    {
     "name": "stderr",
     "output_type": "stream",
     "text": [
      "\r\u001b[32mloss: 75.5:  33%|█████████████                          |  ETA: 0:02:33\u001b[39m\u001b[K"
     ]
    },
    {
     "name": "stderr",
     "output_type": "stream",
     "text": [
      "\r\u001b[32mloss: 75.3:  33%|█████████████                          |  ETA: 0:02:33\u001b[39m\u001b[K"
     ]
    },
    {
     "name": "stderr",
     "output_type": "stream",
     "text": [
      "\r\u001b[32mloss: 75.1:  34%|██████████████                         |  ETA: 0:02:32\u001b[39m\u001b[K"
     ]
    },
    {
     "name": "stderr",
     "output_type": "stream",
     "text": [
      "\r\u001b[32mloss: 75:  34%|██████████████                           |  ETA: 0:02:31\u001b[39m\u001b[K"
     ]
    },
    {
     "name": "stderr",
     "output_type": "stream",
     "text": [
      "\r\u001b[32mloss: 74.8:  34%|██████████████                         |  ETA: 0:02:31\u001b[39m\u001b[K"
     ]
    },
    {
     "name": "stderr",
     "output_type": "stream",
     "text": [
      "\r\u001b[32mloss: 74.6:  34%|██████████████                         |  ETA: 0:02:31\u001b[39m\u001b[K"
     ]
    },
    {
     "name": "stderr",
     "output_type": "stream",
     "text": [
      "\r\u001b[32mloss: 74.5:  34%|██████████████                         |  ETA: 0:02:30\u001b[39m\u001b[K"
     ]
    },
    {
     "name": "stderr",
     "output_type": "stream",
     "text": [
      "\r\u001b[32mloss: 74.3:  35%|██████████████                         |  ETA: 0:02:29\u001b[39m\u001b[K"
     ]
    },
    {
     "name": "stderr",
     "output_type": "stream",
     "text": [
      "\r\u001b[32mloss: 74.1:  35%|██████████████                         |  ETA: 0:02:29\u001b[39m\u001b[K"
     ]
    },
    {
     "name": "stderr",
     "output_type": "stream",
     "text": [
      "\r\u001b[32mloss: 74:  35%|███████████████                          |  ETA: 0:02:28\u001b[39m\u001b[K"
     ]
    },
    {
     "name": "stderr",
     "output_type": "stream",
     "text": [
      "\r\u001b[32mloss: 73.8:  36%|██████████████                         |  ETA: 0:02:27\u001b[39m\u001b[K"
     ]
    },
    {
     "name": "stderr",
     "output_type": "stream",
     "text": [
      "\r\u001b[32mloss: 73.6:  36%|██████████████                         |  ETA: 0:02:27\u001b[39m\u001b[K"
     ]
    },
    {
     "name": "stderr",
     "output_type": "stream",
     "text": [
      "\r\u001b[32mloss: 73.5:  36%|███████████████                        |  ETA: 0:02:26\u001b[39m\u001b[K"
     ]
    },
    {
     "name": "stderr",
     "output_type": "stream",
     "text": [
      "\r\u001b[32mloss: 73.3:  36%|███████████████                        |  ETA: 0:02:25\u001b[39m\u001b[K"
     ]
    },
    {
     "name": "stderr",
     "output_type": "stream",
     "text": [
      "\r\u001b[32mloss: 73.2:  36%|███████████████                        |  ETA: 0:02:24\u001b[39m\u001b[K"
     ]
    },
    {
     "name": "stderr",
     "output_type": "stream",
     "text": [
      "\r\u001b[32mloss: 73:  37%|████████████████                         |  ETA: 0:02:24\u001b[39m\u001b[K"
     ]
    },
    {
     "name": "stderr",
     "output_type": "stream",
     "text": [
      "\r\u001b[32mloss: 72.9:  37%|███████████████                        |  ETA: 0:02:23\u001b[39m\u001b[K"
     ]
    },
    {
     "name": "stderr",
     "output_type": "stream",
     "text": [
      "\r\u001b[32mloss: 72.7:  37%|███████████████                        |  ETA: 0:02:23\u001b[39m\u001b[K"
     ]
    },
    {
     "name": "stderr",
     "output_type": "stream",
     "text": [
      "\r\u001b[32mloss: 72.6:  38%|███████████████                        |  ETA: 0:02:22\u001b[39m\u001b[K"
     ]
    },
    {
     "name": "stderr",
     "output_type": "stream",
     "text": [
      "\r\u001b[32mloss: 72.5:  38%|███████████████                        |  ETA: 0:02:21\u001b[39m\u001b[K"
     ]
    },
    {
     "name": "stderr",
     "output_type": "stream",
     "text": [
      "\r\u001b[32mloss: 72.3:  38%|███████████████                        |  ETA: 0:02:20\u001b[39m\u001b[K"
     ]
    },
    {
     "name": "stderr",
     "output_type": "stream",
     "text": [
      "\r\u001b[32mloss: 72.2:  38%|███████████████                        |  ETA: 0:02:20\u001b[39m\u001b[K"
     ]
    },
    {
     "name": "stderr",
     "output_type": "stream",
     "text": [
      "\r\u001b[32mloss: 72:  38%|████████████████                         |  ETA: 0:02:19\u001b[39m\u001b[K"
     ]
    },
    {
     "name": "stderr",
     "output_type": "stream",
     "text": [
      "\r\u001b[32mloss: 71.9:  39%|████████████████                       |  ETA: 0:02:19\u001b[39m\u001b[K"
     ]
    },
    {
     "name": "stderr",
     "output_type": "stream",
     "text": [
      "\r\u001b[32mloss: 71.8:  39%|████████████████                       |  ETA: 0:02:18\u001b[39m\u001b[K"
     ]
    },
    {
     "name": "stderr",
     "output_type": "stream",
     "text": [
      "\r\u001b[32mloss: 71.7:  39%|████████████████                       |  ETA: 0:02:18\u001b[39m\u001b[K"
     ]
    },
    {
     "name": "stderr",
     "output_type": "stream",
     "text": [
      "\r\u001b[32mloss: 71.5:  40%|████████████████                       |  ETA: 0:02:17\u001b[39m\u001b[K"
     ]
    },
    {
     "name": "stderr",
     "output_type": "stream",
     "text": [
      "\r\u001b[32mloss: 71.4:  40%|████████████████                       |  ETA: 0:02:16\u001b[39m\u001b[K"
     ]
    },
    {
     "name": "stderr",
     "output_type": "stream",
     "text": [
      "\r\u001b[32mloss: 71.3:  40%|████████████████                       |  ETA: 0:02:15\u001b[39m\u001b[K"
     ]
    },
    {
     "name": "stderr",
     "output_type": "stream",
     "text": [
      "\r\u001b[32mloss: 71.2:  40%|████████████████                       |  ETA: 0:02:15\u001b[39m\u001b[K"
     ]
    },
    {
     "name": "stderr",
     "output_type": "stream",
     "text": [
      "\r\u001b[32mloss: 71.1:  40%|████████████████                       |  ETA: 0:02:14\u001b[39m\u001b[K"
     ]
    },
    {
     "name": "stderr",
     "output_type": "stream",
     "text": [
      "\r\u001b[32mloss: 70.9:  41%|████████████████                       |  ETA: 0:02:14\u001b[39m\u001b[K"
     ]
    },
    {
     "name": "stderr",
     "output_type": "stream",
     "text": [
      "\r\u001b[32mloss: 70.8:  41%|████████████████                       |  ETA: 0:02:13\u001b[39m\u001b[K"
     ]
    },
    {
     "name": "stderr",
     "output_type": "stream",
     "text": [
      "\r\u001b[32mloss: 70.7:  41%|█████████████████                      |  ETA: 0:02:13\u001b[39m\u001b[K"
     ]
    },
    {
     "name": "stderr",
     "output_type": "stream",
     "text": [
      "\r\u001b[32mloss: 70.6:  42%|█████████████████                      |  ETA: 0:02:12\u001b[39m\u001b[K"
     ]
    },
    {
     "name": "stderr",
     "output_type": "stream",
     "text": [
      "\r\u001b[32mloss: 70.5:  42%|█████████████████                      |  ETA: 0:02:11\u001b[39m\u001b[K"
     ]
    },
    {
     "name": "stderr",
     "output_type": "stream",
     "text": [
      "\r\u001b[32mloss: 70.4:  42%|█████████████████                      |  ETA: 0:02:10\u001b[39m\u001b[K"
     ]
    },
    {
     "name": "stderr",
     "output_type": "stream",
     "text": [
      "\r\u001b[32mloss: 70.3:  42%|█████████████████                      |  ETA: 0:02:10\u001b[39m\u001b[K"
     ]
    },
    {
     "name": "stderr",
     "output_type": "stream",
     "text": [
      "\r\u001b[32mloss: 70.2:  42%|█████████████████                      |  ETA: 0:02:09\u001b[39m\u001b[K"
     ]
    },
    {
     "name": "stderr",
     "output_type": "stream",
     "text": [
      "\r\u001b[32mloss: 70.1:  43%|█████████████████                      |  ETA: 0:02:09\u001b[39m\u001b[K"
     ]
    },
    {
     "name": "stderr",
     "output_type": "stream",
     "text": [
      "\r\u001b[32mloss: 70:  43%|██████████████████                       |  ETA: 0:02:08\u001b[39m\u001b[K"
     ]
    },
    {
     "name": "stderr",
     "output_type": "stream",
     "text": [
      "\r\u001b[32mloss: 70:  43%|██████████████████                       |  ETA: 0:02:08\u001b[39m\u001b[K"
     ]
    },
    {
     "name": "stderr",
     "output_type": "stream",
     "text": [
      "\r\u001b[32mloss: 69.9:  44%|█████████████████                      |  ETA: 0:02:07\u001b[39m\u001b[K"
     ]
    },
    {
     "name": "stderr",
     "output_type": "stream",
     "text": [
      "\r\u001b[32mloss: 69.8:  44%|██████████████████                     |  ETA: 0:02:07\u001b[39m\u001b[K"
     ]
    },
    {
     "name": "stderr",
     "output_type": "stream",
     "text": [
      "\r\u001b[32mloss: 69.7:  44%|██████████████████                     |  ETA: 0:02:06\u001b[39m\u001b[K"
     ]
    },
    {
     "name": "stderr",
     "output_type": "stream",
     "text": [
      "\r\u001b[32mloss: 69.6:  44%|██████████████████                     |  ETA: 0:02:06\u001b[39m\u001b[K"
     ]
    },
    {
     "name": "stderr",
     "output_type": "stream",
     "text": [
      "\r\u001b[32mloss: 69.5:  44%|██████████████████                     |  ETA: 0:02:05\u001b[39m\u001b[K"
     ]
    },
    {
     "name": "stderr",
     "output_type": "stream",
     "text": [
      "\r\u001b[32mloss: 69.5:  45%|██████████████████                     |  ETA: 0:02:05\u001b[39m\u001b[K"
     ]
    },
    {
     "name": "stderr",
     "output_type": "stream",
     "text": [
      "\r\u001b[32mloss: 69.4:  45%|██████████████████                     |  ETA: 0:02:04\u001b[39m\u001b[K"
     ]
    },
    {
     "name": "stderr",
     "output_type": "stream",
     "text": [
      "\r\u001b[32mloss: 69.3:  45%|██████████████████                     |  ETA: 0:02:03\u001b[39m\u001b[K"
     ]
    },
    {
     "name": "stderr",
     "output_type": "stream",
     "text": [
      "\r\u001b[32mloss: 69.3:  46%|██████████████████                     |  ETA: 0:02:02\u001b[39m\u001b[K"
     ]
    },
    {
     "name": "stderr",
     "output_type": "stream",
     "text": [
      "\r\u001b[32mloss: 69.2:  46%|██████████████████                     |  ETA: 0:02:02\u001b[39m\u001b[K"
     ]
    },
    {
     "name": "stderr",
     "output_type": "stream",
     "text": [
      "\r\u001b[32mloss: 69.1:  46%|██████████████████                     |  ETA: 0:02:01\u001b[39m\u001b[K"
     ]
    },
    {
     "name": "stderr",
     "output_type": "stream",
     "text": [
      "\r\u001b[32mloss: 69.1:  46%|███████████████████                    |  ETA: 0:02:01\u001b[39m\u001b[K"
     ]
    },
    {
     "name": "stderr",
     "output_type": "stream",
     "text": [
      "\r\u001b[32mloss: 69:  46%|████████████████████                     |  ETA: 0:02:00\u001b[39m\u001b[K"
     ]
    },
    {
     "name": "stderr",
     "output_type": "stream",
     "text": [
      "\r\u001b[32mloss: 68.9:  47%|███████████████████                    |  ETA: 0:01:59\u001b[39m\u001b[K"
     ]
    },
    {
     "name": "stderr",
     "output_type": "stream",
     "text": [
      "\r\u001b[32mloss: 68.9:  47%|███████████████████                    |  ETA: 0:01:59\u001b[39m\u001b[K"
     ]
    },
    {
     "name": "stderr",
     "output_type": "stream",
     "text": [
      "\r\u001b[32mloss: 68.8:  47%|███████████████████                    |  ETA: 0:01:58\u001b[39m\u001b[K"
     ]
    },
    {
     "name": "stderr",
     "output_type": "stream",
     "text": [
      "\r\u001b[32mloss: 68.8:  48%|███████████████████                    |  ETA: 0:01:57\u001b[39m\u001b[K"
     ]
    },
    {
     "name": "stderr",
     "output_type": "stream",
     "text": [
      "\r\u001b[32mloss: 68.7:  48%|███████████████████                    |  ETA: 0:01:57\u001b[39m\u001b[K"
     ]
    },
    {
     "name": "stderr",
     "output_type": "stream",
     "text": [
      "\r\u001b[32mloss: 68.7:  48%|███████████████████                    |  ETA: 0:01:56\u001b[39m\u001b[K"
     ]
    },
    {
     "name": "stderr",
     "output_type": "stream",
     "text": [
      "\r\u001b[32mloss: 68.6:  48%|███████████████████                    |  ETA: 0:01:56\u001b[39m\u001b[K"
     ]
    },
    {
     "name": "stderr",
     "output_type": "stream",
     "text": [
      "\r\u001b[32mloss: 68.6:  48%|███████████████████                    |  ETA: 0:01:55\u001b[39m\u001b[K"
     ]
    },
    {
     "name": "stderr",
     "output_type": "stream",
     "text": [
      "\r\u001b[32mloss: 68.5:  49%|███████████████████                    |  ETA: 0:01:55\u001b[39m\u001b[K"
     ]
    },
    {
     "name": "stderr",
     "output_type": "stream",
     "text": [
      "\r\u001b[32mloss: 68.5:  49%|████████████████████                   |  ETA: 0:01:54\u001b[39m\u001b[K"
     ]
    },
    {
     "name": "stderr",
     "output_type": "stream",
     "text": [
      "\r\u001b[32mloss: 68.4:  49%|████████████████████                   |  ETA: 0:01:53\u001b[39m\u001b[K"
     ]
    },
    {
     "name": "stderr",
     "output_type": "stream",
     "text": [
      "\r\u001b[32mloss: 68.4:  50%|████████████████████                   |  ETA: 0:01:53\u001b[39m\u001b[K"
     ]
    },
    {
     "name": "stderr",
     "output_type": "stream",
     "text": [
      "\r\u001b[32mloss: 68.3:  50%|████████████████████                   |  ETA: 0:01:52\u001b[39m\u001b[K"
     ]
    },
    {
     "name": "stderr",
     "output_type": "stream",
     "text": [
      "\r\u001b[32mloss: 68.3:  50%|████████████████████                   |  ETA: 0:01:51\u001b[39m\u001b[K"
     ]
    },
    {
     "name": "stderr",
     "output_type": "stream",
     "text": [
      "\r\u001b[32mloss: 68.3:  50%|████████████████████                   |  ETA: 0:01:51\u001b[39m\u001b[K"
     ]
    },
    {
     "name": "stderr",
     "output_type": "stream",
     "text": [
      "\r\u001b[32mloss: 68.2:  50%|████████████████████                   |  ETA: 0:01:50\u001b[39m\u001b[K"
     ]
    },
    {
     "name": "stderr",
     "output_type": "stream",
     "text": [
      "\r\u001b[32mloss: 68.2:  51%|████████████████████                   |  ETA: 0:01:50\u001b[39m\u001b[K"
     ]
    },
    {
     "name": "stderr",
     "output_type": "stream",
     "text": [
      "\r\u001b[32mloss: 68.1:  51%|████████████████████                   |  ETA: 0:01:49\u001b[39m\u001b[K"
     ]
    },
    {
     "name": "stderr",
     "output_type": "stream",
     "text": [
      "\r\u001b[32mloss: 68.1:  51%|████████████████████                   |  ETA: 0:01:49\u001b[39m\u001b[K"
     ]
    },
    {
     "name": "stderr",
     "output_type": "stream",
     "text": [
      "\r\u001b[32mloss: 68.1:  52%|█████████████████████                  |  ETA: 0:01:48\u001b[39m\u001b[K"
     ]
    },
    {
     "name": "stderr",
     "output_type": "stream",
     "text": [
      "\r\u001b[32mloss: 68:  52%|██████████████████████                   |  ETA: 0:01:48\u001b[39m\u001b[K"
     ]
    },
    {
     "name": "stderr",
     "output_type": "stream",
     "text": [
      "\r\u001b[32mloss: 68:  52%|██████████████████████                   |  ETA: 0:01:47\u001b[39m\u001b[K"
     ]
    },
    {
     "name": "stderr",
     "output_type": "stream",
     "text": [
      "\r\u001b[32mloss: 68:  52%|██████████████████████                   |  ETA: 0:01:46\u001b[39m\u001b[K"
     ]
    },
    {
     "name": "stderr",
     "output_type": "stream",
     "text": [
      "\r\u001b[32mloss: 68:  52%|██████████████████████                   |  ETA: 0:01:46\u001b[39m\u001b[K"
     ]
    },
    {
     "name": "stderr",
     "output_type": "stream",
     "text": [
      "\r\u001b[32mloss: 67.9:  53%|█████████████████████                  |  ETA: 0:01:45\u001b[39m\u001b[K"
     ]
    },
    {
     "name": "stderr",
     "output_type": "stream",
     "text": [
      "\r\u001b[32mloss: 67.9:  53%|█████████████████████                  |  ETA: 0:01:45\u001b[39m\u001b[K"
     ]
    },
    {
     "name": "stderr",
     "output_type": "stream",
     "text": [
      "\r\u001b[32mloss: 67.9:  53%|█████████████████████                  |  ETA: 0:01:44\u001b[39m\u001b[K"
     ]
    },
    {
     "name": "stderr",
     "output_type": "stream",
     "text": [
      "\r\u001b[32mloss: 67.8:  54%|█████████████████████                  |  ETA: 0:01:44\u001b[39m\u001b[K"
     ]
    },
    {
     "name": "stderr",
     "output_type": "stream",
     "text": [
      "\r\u001b[32mloss: 67.8:  54%|█████████████████████                  |  ETA: 0:01:43\u001b[39m\u001b[K"
     ]
    },
    {
     "name": "stderr",
     "output_type": "stream",
     "text": [
      "\r\u001b[32mloss: 67.8:  54%|██████████████████████                 |  ETA: 0:01:43\u001b[39m\u001b[K"
     ]
    },
    {
     "name": "stderr",
     "output_type": "stream",
     "text": [
      "\r\u001b[32mloss: 67.8:  54%|██████████████████████                 |  ETA: 0:01:42\u001b[39m\u001b[K"
     ]
    },
    {
     "name": "stderr",
     "output_type": "stream",
     "text": [
      "\r\u001b[32mloss: 67.7:  54%|██████████████████████                 |  ETA: 0:01:42\u001b[39m\u001b[K"
     ]
    },
    {
     "name": "stderr",
     "output_type": "stream",
     "text": [
      "\r\u001b[32mloss: 67.7:  55%|██████████████████████                 |  ETA: 0:01:41\u001b[39m\u001b[K"
     ]
    },
    {
     "name": "stderr",
     "output_type": "stream",
     "text": [
      "\r\u001b[32mloss: 67.7:  55%|██████████████████████                 |  ETA: 0:01:41\u001b[39m\u001b[K"
     ]
    },
    {
     "name": "stderr",
     "output_type": "stream",
     "text": [
      "\r\u001b[32mloss: 67.7:  55%|██████████████████████                 |  ETA: 0:01:40\u001b[39m\u001b[K"
     ]
    },
    {
     "name": "stderr",
     "output_type": "stream",
     "text": [
      "\r\u001b[32mloss: 67.7:  56%|██████████████████████                 |  ETA: 0:01:39\u001b[39m\u001b[K"
     ]
    },
    {
     "name": "stderr",
     "output_type": "stream",
     "text": [
      "\r\u001b[32mloss: 67.6:  56%|██████████████████████                 |  ETA: 0:01:39\u001b[39m\u001b[K"
     ]
    },
    {
     "name": "stderr",
     "output_type": "stream",
     "text": [
      "\r\u001b[32mloss: 67.6:  56%|██████████████████████                 |  ETA: 0:01:38\u001b[39m\u001b[K"
     ]
    },
    {
     "name": "stderr",
     "output_type": "stream",
     "text": [
      "\r\u001b[32mloss: 67.6:  56%|██████████████████████                 |  ETA: 0:01:38\u001b[39m\u001b[K"
     ]
    },
    {
     "name": "stderr",
     "output_type": "stream",
     "text": [
      "\r\u001b[32mloss: 67.6:  56%|███████████████████████                |  ETA: 0:01:37\u001b[39m\u001b[K"
     ]
    },
    {
     "name": "stderr",
     "output_type": "stream",
     "text": [
      "\r\u001b[32mloss: 67.6:  57%|███████████████████████                |  ETA: 0:01:37\u001b[39m\u001b[K"
     ]
    },
    {
     "name": "stderr",
     "output_type": "stream",
     "text": [
      "\r\u001b[32mloss: 67.5:  57%|███████████████████████                |  ETA: 0:01:36\u001b[39m\u001b[K"
     ]
    },
    {
     "name": "stderr",
     "output_type": "stream",
     "text": [
      "\r\u001b[32mloss: 67.5:  57%|███████████████████████                |  ETA: 0:01:36\u001b[39m\u001b[K"
     ]
    },
    {
     "name": "stderr",
     "output_type": "stream",
     "text": [
      "\r\u001b[32mloss: 67.5:  58%|███████████████████████                |  ETA: 0:01:35\u001b[39m\u001b[K"
     ]
    },
    {
     "name": "stderr",
     "output_type": "stream",
     "text": [
      "\r\u001b[32mloss: 67.5:  58%|███████████████████████                |  ETA: 0:01:35\u001b[39m\u001b[K"
     ]
    },
    {
     "name": "stderr",
     "output_type": "stream",
     "text": [
      "\r\u001b[32mloss: 67.5:  58%|███████████████████████                |  ETA: 0:01:34\u001b[39m\u001b[K"
     ]
    },
    {
     "name": "stderr",
     "output_type": "stream",
     "text": [
      "\r\u001b[32mloss: 67.5:  58%|███████████████████████                |  ETA: 0:01:34\u001b[39m\u001b[K"
     ]
    },
    {
     "name": "stderr",
     "output_type": "stream",
     "text": [
      "\r\u001b[32mloss: 67.5:  58%|███████████████████████                |  ETA: 0:01:33\u001b[39m\u001b[K"
     ]
    },
    {
     "name": "stderr",
     "output_type": "stream",
     "text": [
      "\r\u001b[32mloss: 67.4:  59%|███████████████████████                |  ETA: 0:01:32\u001b[39m\u001b[K"
     ]
    },
    {
     "name": "stderr",
     "output_type": "stream",
     "text": [
      "\r\u001b[32mloss: 67.4:  59%|████████████████████████               |  ETA: 0:01:32\u001b[39m\u001b[K"
     ]
    },
    {
     "name": "stderr",
     "output_type": "stream",
     "text": [
      "\r\u001b[32mloss: 67.4:  59%|████████████████████████               |  ETA: 0:01:31\u001b[39m\u001b[K"
     ]
    },
    {
     "name": "stderr",
     "output_type": "stream",
     "text": [
      "\r\u001b[32mloss: 67.4:  60%|████████████████████████               |  ETA: 0:01:31\u001b[39m\u001b[K"
     ]
    },
    {
     "name": "stderr",
     "output_type": "stream",
     "text": [
      "\r\u001b[32mloss: 67.4:  60%|████████████████████████               |  ETA: 0:01:30\u001b[39m\u001b[K"
     ]
    },
    {
     "name": "stderr",
     "output_type": "stream",
     "text": [
      "\r\u001b[32mloss: 67.4:  60%|████████████████████████               |  ETA: 0:01:29\u001b[39m\u001b[K"
     ]
    },
    {
     "name": "stderr",
     "output_type": "stream",
     "text": [
      "\r\u001b[32mloss: 67.4:  60%|████████████████████████               |  ETA: 0:01:29\u001b[39m\u001b[K"
     ]
    },
    {
     "name": "stderr",
     "output_type": "stream",
     "text": [
      "\r\u001b[32mloss: 67.4:  60%|████████████████████████               |  ETA: 0:01:28\u001b[39m\u001b[K"
     ]
    },
    {
     "name": "stderr",
     "output_type": "stream",
     "text": [
      "\r\u001b[32mloss: 67.3:  61%|████████████████████████               |  ETA: 0:01:28\u001b[39m\u001b[K"
     ]
    },
    {
     "name": "stderr",
     "output_type": "stream",
     "text": [
      "\r\u001b[32mloss: 67.3:  61%|████████████████████████               |  ETA: 0:01:27\u001b[39m\u001b[K"
     ]
    },
    {
     "name": "stderr",
     "output_type": "stream",
     "text": [
      "\r\u001b[32mloss: 67.3:  61%|████████████████████████               |  ETA: 0:01:27\u001b[39m\u001b[K"
     ]
    },
    {
     "name": "stderr",
     "output_type": "stream",
     "text": [
      "\r\u001b[32mloss: 67.3:  62%|████████████████████████               |  ETA: 0:01:26\u001b[39m\u001b[K"
     ]
    },
    {
     "name": "stderr",
     "output_type": "stream",
     "text": [
      "\r\u001b[32mloss: 67.3:  62%|█████████████████████████              |  ETA: 0:01:26\u001b[39m\u001b[K"
     ]
    },
    {
     "name": "stderr",
     "output_type": "stream",
     "text": [
      "\r\u001b[32mloss: 67.3:  62%|█████████████████████████              |  ETA: 0:01:25\u001b[39m\u001b[K"
     ]
    },
    {
     "name": "stderr",
     "output_type": "stream",
     "text": [
      "\r\u001b[32mloss: 67.3:  62%|█████████████████████████              |  ETA: 0:01:25\u001b[39m\u001b[K"
     ]
    },
    {
     "name": "stderr",
     "output_type": "stream",
     "text": [
      "\r\u001b[32mloss: 67.3:  62%|█████████████████████████              |  ETA: 0:01:24\u001b[39m\u001b[K"
     ]
    },
    {
     "name": "stderr",
     "output_type": "stream",
     "text": [
      "\r\u001b[32mloss: 67.3:  63%|█████████████████████████              |  ETA: 0:01:24\u001b[39m\u001b[K"
     ]
    },
    {
     "name": "stderr",
     "output_type": "stream",
     "text": [
      "\r\u001b[32mloss: 67.3:  63%|█████████████████████████              |  ETA: 0:01:23\u001b[39m\u001b[K"
     ]
    },
    {
     "name": "stderr",
     "output_type": "stream",
     "text": [
      "\r\u001b[32mloss: 67.2:  63%|█████████████████████████              |  ETA: 0:01:22\u001b[39m\u001b[K"
     ]
    },
    {
     "name": "stderr",
     "output_type": "stream",
     "text": [
      "\r\u001b[32mloss: 67.2:  64%|█████████████████████████              |  ETA: 0:01:22\u001b[39m\u001b[K"
     ]
    },
    {
     "name": "stderr",
     "output_type": "stream",
     "text": [
      "\r\u001b[32mloss: 67.2:  64%|█████████████████████████              |  ETA: 0:01:21\u001b[39m\u001b[K"
     ]
    },
    {
     "name": "stderr",
     "output_type": "stream",
     "text": [
      "\r\u001b[32mloss: 67.2:  64%|█████████████████████████              |  ETA: 0:01:20\u001b[39m\u001b[K"
     ]
    },
    {
     "name": "stderr",
     "output_type": "stream",
     "text": [
      "\r\u001b[32mloss: 67.2:  64%|██████████████████████████             |  ETA: 0:01:20\u001b[39m\u001b[K"
     ]
    },
    {
     "name": "stderr",
     "output_type": "stream",
     "text": [
      "\r\u001b[32mloss: 67.2:  64%|██████████████████████████             |  ETA: 0:01:19\u001b[39m\u001b[K"
     ]
    },
    {
     "name": "stderr",
     "output_type": "stream",
     "text": [
      "\r\u001b[32mloss: 67.2:  65%|██████████████████████████             |  ETA: 0:01:19\u001b[39m\u001b[K"
     ]
    },
    {
     "name": "stderr",
     "output_type": "stream",
     "text": [
      "\r\u001b[32mloss: 67.2:  65%|██████████████████████████             |  ETA: 0:01:18\u001b[39m\u001b[K"
     ]
    },
    {
     "name": "stderr",
     "output_type": "stream",
     "text": [
      "\r\u001b[32mloss: 67.2:  65%|██████████████████████████             |  ETA: 0:01:18\u001b[39m\u001b[K"
     ]
    },
    {
     "name": "stderr",
     "output_type": "stream",
     "text": [
      "\r\u001b[32mloss: 67.2:  66%|██████████████████████████             |  ETA: 0:01:17\u001b[39m\u001b[K"
     ]
    },
    {
     "name": "stderr",
     "output_type": "stream",
     "text": [
      "\r\u001b[32mloss: 67.2:  66%|██████████████████████████             |  ETA: 0:01:17\u001b[39m\u001b[K"
     ]
    },
    {
     "name": "stderr",
     "output_type": "stream",
     "text": [
      "\r\u001b[32mloss: 67.2:  66%|██████████████████████████             |  ETA: 0:01:16\u001b[39m\u001b[K"
     ]
    },
    {
     "name": "stderr",
     "output_type": "stream",
     "text": [
      "\r\u001b[32mloss: 67.2:  66%|██████████████████████████             |  ETA: 0:01:16\u001b[39m\u001b[K"
     ]
    },
    {
     "name": "stderr",
     "output_type": "stream",
     "text": [
      "\r\u001b[32mloss: 67.1:  66%|██████████████████████████             |  ETA: 0:01:15\u001b[39m\u001b[K"
     ]
    },
    {
     "name": "stderr",
     "output_type": "stream",
     "text": [
      "\r\u001b[32mloss: 67.1:  67%|███████████████████████████            |  ETA: 0:01:15\u001b[39m\u001b[K"
     ]
    },
    {
     "name": "stderr",
     "output_type": "stream",
     "text": [
      "\r\u001b[32mloss: 67.1:  67%|███████████████████████████            |  ETA: 0:01:14\u001b[39m\u001b[K"
     ]
    },
    {
     "name": "stderr",
     "output_type": "stream",
     "text": [
      "\r\u001b[32mloss: 67.1:  67%|███████████████████████████            |  ETA: 0:01:14\u001b[39m\u001b[K"
     ]
    },
    {
     "name": "stderr",
     "output_type": "stream",
     "text": [
      "\r\u001b[32mloss: 67.1:  68%|███████████████████████████            |  ETA: 0:01:13\u001b[39m\u001b[K"
     ]
    },
    {
     "name": "stderr",
     "output_type": "stream",
     "text": [
      "\r\u001b[32mloss: 67.1:  68%|███████████████████████████            |  ETA: 0:01:13\u001b[39m\u001b[K"
     ]
    },
    {
     "name": "stderr",
     "output_type": "stream",
     "text": [
      "\r\u001b[32mloss: 67.1:  68%|███████████████████████████            |  ETA: 0:01:12\u001b[39m\u001b[K"
     ]
    },
    {
     "name": "stderr",
     "output_type": "stream",
     "text": [
      "\r\u001b[32mloss: 67.1:  68%|███████████████████████████            |  ETA: 0:01:11\u001b[39m\u001b[K"
     ]
    },
    {
     "name": "stderr",
     "output_type": "stream",
     "text": [
      "\r\u001b[32mloss: 67.1:  68%|███████████████████████████            |  ETA: 0:01:11\u001b[39m\u001b[K"
     ]
    },
    {
     "name": "stderr",
     "output_type": "stream",
     "text": [
      "\r\u001b[32mloss: 67.1:  69%|███████████████████████████            |  ETA: 0:01:10\u001b[39m\u001b[K"
     ]
    },
    {
     "name": "stderr",
     "output_type": "stream",
     "text": [
      "\r\u001b[32mloss: 67.1:  69%|███████████████████████████            |  ETA: 0:01:10\u001b[39m\u001b[K"
     ]
    },
    {
     "name": "stderr",
     "output_type": "stream",
     "text": [
      "\r\u001b[32mloss: 67.1:  69%|███████████████████████████            |  ETA: 0:01:09\u001b[39m\u001b[K"
     ]
    },
    {
     "name": "stderr",
     "output_type": "stream",
     "text": [
      "\r\u001b[32mloss: 67.1:  70%|████████████████████████████           |  ETA: 0:01:08\u001b[39m\u001b[K"
     ]
    },
    {
     "name": "stderr",
     "output_type": "stream",
     "text": [
      "\r\u001b[32mloss: 67.1:  70%|████████████████████████████           |  ETA: 0:01:08\u001b[39m\u001b[K"
     ]
    },
    {
     "name": "stderr",
     "output_type": "stream",
     "text": [
      "\r\u001b[32mloss: 67.1:  70%|████████████████████████████           |  ETA: 0:01:07\u001b[39m\u001b[K"
     ]
    },
    {
     "name": "stderr",
     "output_type": "stream",
     "text": [
      "\r\u001b[32mloss: 67.1:  70%|████████████████████████████           |  ETA: 0:01:07\u001b[39m\u001b[K"
     ]
    },
    {
     "name": "stderr",
     "output_type": "stream",
     "text": [
      "\r\u001b[32mloss: 67.1:  70%|████████████████████████████           |  ETA: 0:01:06\u001b[39m\u001b[K"
     ]
    },
    {
     "name": "stderr",
     "output_type": "stream",
     "text": [
      "\r\u001b[32mloss: 67.1:  71%|████████████████████████████           |  ETA: 0:01:06\u001b[39m\u001b[K"
     ]
    },
    {
     "name": "stderr",
     "output_type": "stream",
     "text": [
      "\r\u001b[32mloss: 67.1:  71%|████████████████████████████           |  ETA: 0:01:05\u001b[39m\u001b[K"
     ]
    },
    {
     "name": "stderr",
     "output_type": "stream",
     "text": [
      "\r\u001b[32mloss: 67.1:  71%|████████████████████████████           |  ETA: 0:01:05\u001b[39m\u001b[K"
     ]
    },
    {
     "name": "stderr",
     "output_type": "stream",
     "text": [
      "\r\u001b[32mloss: 67.1:  72%|████████████████████████████           |  ETA: 0:01:04\u001b[39m\u001b[K"
     ]
    },
    {
     "name": "stderr",
     "output_type": "stream",
     "text": [
      "\r\u001b[32mloss: 67:  72%|██████████████████████████████           |  ETA: 0:01:04\u001b[39m\u001b[K"
     ]
    },
    {
     "name": "stderr",
     "output_type": "stream",
     "text": [
      "\r\u001b[32mloss: 67:  72%|██████████████████████████████           |  ETA: 0:01:03\u001b[39m\u001b[K"
     ]
    },
    {
     "name": "stderr",
     "output_type": "stream",
     "text": [
      "\r\u001b[32mloss: 67:  72%|██████████████████████████████           |  ETA: 0:01:03\u001b[39m\u001b[K"
     ]
    },
    {
     "name": "stderr",
     "output_type": "stream",
     "text": [
      "\r\u001b[32mloss: 67:  72%|██████████████████████████████           |  ETA: 0:01:02\u001b[39m\u001b[K"
     ]
    },
    {
     "name": "stderr",
     "output_type": "stream",
     "text": [
      "\r\u001b[32mloss: 67:  73%|██████████████████████████████           |  ETA: 0:01:02\u001b[39m\u001b[K"
     ]
    },
    {
     "name": "stderr",
     "output_type": "stream",
     "text": [
      "\r\u001b[32mloss: 67:  73%|██████████████████████████████           |  ETA: 0:01:01\u001b[39m\u001b[K"
     ]
    },
    {
     "name": "stderr",
     "output_type": "stream",
     "text": [
      "\r\u001b[32mloss: 67:  73%|███████████████████████████████          |  ETA: 0:01:00\u001b[39m\u001b[K"
     ]
    },
    {
     "name": "stderr",
     "output_type": "stream",
     "text": [
      "\r\u001b[32mloss: 67:  74%|███████████████████████████████          |  ETA: 0:01:00\u001b[39m\u001b[K"
     ]
    },
    {
     "name": "stderr",
     "output_type": "stream",
     "text": [
      "\r\u001b[32mloss: 67:  74%|███████████████████████████████          |  ETA: 0:00:59\u001b[39m\u001b[K"
     ]
    },
    {
     "name": "stderr",
     "output_type": "stream",
     "text": [
      "\r\u001b[32mloss: 67:  74%|███████████████████████████████          |  ETA: 0:00:59\u001b[39m\u001b[K"
     ]
    },
    {
     "name": "stderr",
     "output_type": "stream",
     "text": [
      "\r\u001b[32mloss: 67:  74%|███████████████████████████████          |  ETA: 0:00:58\u001b[39m\u001b[K"
     ]
    },
    {
     "name": "stderr",
     "output_type": "stream",
     "text": [
      "\r\u001b[32mloss: 67:  74%|███████████████████████████████          |  ETA: 0:00:58\u001b[39m\u001b[K"
     ]
    },
    {
     "name": "stderr",
     "output_type": "stream",
     "text": [
      "\r\u001b[32mloss: 67:  75%|███████████████████████████████          |  ETA: 0:00:57\u001b[39m\u001b[K"
     ]
    },
    {
     "name": "stderr",
     "output_type": "stream",
     "text": [
      "\r\u001b[32mloss: 67:  75%|███████████████████████████████          |  ETA: 0:00:57\u001b[39m\u001b[K"
     ]
    },
    {
     "name": "stderr",
     "output_type": "stream",
     "text": [
      "\r\u001b[32mloss: 67:  75%|███████████████████████████████          |  ETA: 0:00:56\u001b[39m\u001b[K"
     ]
    },
    {
     "name": "stderr",
     "output_type": "stream",
     "text": [
      "\r\u001b[32mloss: 67:  76%|███████████████████████████████          |  ETA: 0:00:55\u001b[39m\u001b[K"
     ]
    },
    {
     "name": "stderr",
     "output_type": "stream",
     "text": [
      "\r\u001b[32mloss: 67:  76%|████████████████████████████████         |  ETA: 0:00:55\u001b[39m\u001b[K"
     ]
    },
    {
     "name": "stderr",
     "output_type": "stream",
     "text": [
      "\r\u001b[32mloss: 67:  76%|████████████████████████████████         |  ETA: 0:00:54\u001b[39m\u001b[K"
     ]
    },
    {
     "name": "stderr",
     "output_type": "stream",
     "text": [
      "\r\u001b[32mloss: 67:  76%|████████████████████████████████         |  ETA: 0:00:54\u001b[39m\u001b[K"
     ]
    },
    {
     "name": "stderr",
     "output_type": "stream",
     "text": [
      "\r\u001b[32mloss: 67:  76%|████████████████████████████████         |  ETA: 0:00:53\u001b[39m\u001b[K"
     ]
    },
    {
     "name": "stderr",
     "output_type": "stream",
     "text": [
      "\r\u001b[32mloss: 67:  77%|████████████████████████████████         |  ETA: 0:00:53\u001b[39m\u001b[K"
     ]
    },
    {
     "name": "stderr",
     "output_type": "stream",
     "text": [
      "\r\u001b[32mloss: 67:  77%|████████████████████████████████         |  ETA: 0:00:52\u001b[39m\u001b[K"
     ]
    },
    {
     "name": "stderr",
     "output_type": "stream",
     "text": [
      "\r\u001b[32mloss: 67:  77%|████████████████████████████████         |  ETA: 0:00:52\u001b[39m\u001b[K"
     ]
    },
    {
     "name": "stderr",
     "output_type": "stream",
     "text": [
      "\r\u001b[32mloss: 67:  78%|████████████████████████████████         |  ETA: 0:00:51\u001b[39m\u001b[K"
     ]
    },
    {
     "name": "stderr",
     "output_type": "stream",
     "text": [
      "\r\u001b[32mloss: 67:  78%|████████████████████████████████         |  ETA: 0:00:51\u001b[39m\u001b[K"
     ]
    },
    {
     "name": "stderr",
     "output_type": "stream",
     "text": [
      "\r\u001b[32mloss: 67:  78%|████████████████████████████████         |  ETA: 0:00:50\u001b[39m\u001b[K"
     ]
    },
    {
     "name": "stderr",
     "output_type": "stream",
     "text": [
      "\r\u001b[32mloss: 67:  78%|█████████████████████████████████        |  ETA: 0:00:50\u001b[39m\u001b[K"
     ]
    },
    {
     "name": "stderr",
     "output_type": "stream",
     "text": [
      "\r\u001b[32mloss: 67:  78%|█████████████████████████████████        |  ETA: 0:00:49\u001b[39m\u001b[K"
     ]
    },
    {
     "name": "stderr",
     "output_type": "stream",
     "text": [
      "\r\u001b[32mloss: 67:  79%|█████████████████████████████████        |  ETA: 0:00:49\u001b[39m\u001b[K"
     ]
    },
    {
     "name": "stderr",
     "output_type": "stream",
     "text": [
      "\r\u001b[32mloss: 67:  79%|█████████████████████████████████        |  ETA: 0:00:48\u001b[39m\u001b[K"
     ]
    },
    {
     "name": "stderr",
     "output_type": "stream",
     "text": [
      "\r\u001b[32mloss: 67:  79%|█████████████████████████████████        |  ETA: 0:00:48\u001b[39m\u001b[K"
     ]
    },
    {
     "name": "stderr",
     "output_type": "stream",
     "text": [
      "\r\u001b[32mloss: 67:  80%|█████████████████████████████████        |  ETA: 0:00:47\u001b[39m\u001b[K"
     ]
    },
    {
     "name": "stderr",
     "output_type": "stream",
     "text": [
      "\r\u001b[32mloss: 67:  80%|█████████████████████████████████        |  ETA: 0:00:47\u001b[39m\u001b[K"
     ]
    },
    {
     "name": "stderr",
     "output_type": "stream",
     "text": [
      "\r\u001b[32mloss: 67:  80%|█████████████████████████████████        |  ETA: 0:00:46\u001b[39m\u001b[K"
     ]
    },
    {
     "name": "stderr",
     "output_type": "stream",
     "text": [
      "\r\u001b[32mloss: 67:  80%|█████████████████████████████████        |  ETA: 0:00:46\u001b[39m\u001b[K"
     ]
    },
    {
     "name": "stderr",
     "output_type": "stream",
     "text": [
      "\r\u001b[32mloss: 67:  80%|██████████████████████████████████       |  ETA: 0:00:45\u001b[39m\u001b[K"
     ]
    },
    {
     "name": "stderr",
     "output_type": "stream",
     "text": [
      "\r\u001b[32mloss: 67:  81%|██████████████████████████████████       |  ETA: 0:00:44\u001b[39m\u001b[K"
     ]
    },
    {
     "name": "stderr",
     "output_type": "stream",
     "text": [
      "\r\u001b[32mloss: 67:  81%|██████████████████████████████████       |  ETA: 0:00:44\u001b[39m\u001b[K"
     ]
    },
    {
     "name": "stderr",
     "output_type": "stream",
     "text": [
      "\r\u001b[32mloss: 66.9:  81%|████████████████████████████████       |  ETA: 0:00:43\u001b[39m\u001b[K"
     ]
    },
    {
     "name": "stderr",
     "output_type": "stream",
     "text": [
      "\r\u001b[32mloss: 66.9:  82%|████████████████████████████████       |  ETA: 0:00:43\u001b[39m\u001b[K"
     ]
    },
    {
     "name": "stderr",
     "output_type": "stream",
     "text": [
      "\r\u001b[32mloss: 66.9:  82%|████████████████████████████████       |  ETA: 0:00:42\u001b[39m\u001b[K"
     ]
    },
    {
     "name": "stderr",
     "output_type": "stream",
     "text": [
      "\r\u001b[32mloss: 66.9:  82%|████████████████████████████████       |  ETA: 0:00:41\u001b[39m\u001b[K"
     ]
    },
    {
     "name": "stderr",
     "output_type": "stream",
     "text": [
      "\r\u001b[32mloss: 66.9:  82%|█████████████████████████████████      |  ETA: 0:00:41\u001b[39m\u001b[K"
     ]
    },
    {
     "name": "stderr",
     "output_type": "stream",
     "text": [
      "\r\u001b[32mloss: 66.9:  82%|█████████████████████████████████      |  ETA: 0:00:40\u001b[39m\u001b[K"
     ]
    },
    {
     "name": "stderr",
     "output_type": "stream",
     "text": [
      "\r\u001b[32mloss: 66.9:  83%|█████████████████████████████████      |  ETA: 0:00:40\u001b[39m\u001b[K"
     ]
    },
    {
     "name": "stderr",
     "output_type": "stream",
     "text": [
      "\r\u001b[32mloss: 66.9:  83%|█████████████████████████████████      |  ETA: 0:00:39\u001b[39m\u001b[K"
     ]
    },
    {
     "name": "stderr",
     "output_type": "stream",
     "text": [
      "\r\u001b[32mloss: 66.9:  83%|█████████████████████████████████      |  ETA: 0:00:39\u001b[39m\u001b[K"
     ]
    },
    {
     "name": "stderr",
     "output_type": "stream",
     "text": [
      "\r\u001b[32mloss: 66.9:  84%|█████████████████████████████████      |  ETA: 0:00:38\u001b[39m\u001b[K"
     ]
    },
    {
     "name": "stderr",
     "output_type": "stream",
     "text": [
      "\r\u001b[32mloss: 66.9:  84%|█████████████████████████████████      |  ETA: 0:00:38\u001b[39m\u001b[K"
     ]
    },
    {
     "name": "stderr",
     "output_type": "stream",
     "text": [
      "\r\u001b[32mloss: 66.9:  84%|█████████████████████████████████      |  ETA: 0:00:37\u001b[39m\u001b[K"
     ]
    },
    {
     "name": "stderr",
     "output_type": "stream",
     "text": [
      "\r\u001b[32mloss: 66.9:  84%|█████████████████████████████████      |  ETA: 0:00:36\u001b[39m\u001b[K"
     ]
    },
    {
     "name": "stderr",
     "output_type": "stream",
     "text": [
      "\r\u001b[32mloss: 66.9:  84%|█████████████████████████████████      |  ETA: 0:00:36\u001b[39m\u001b[K"
     ]
    },
    {
     "name": "stderr",
     "output_type": "stream",
     "text": [
      "\r\u001b[32mloss: 66.9:  85%|██████████████████████████████████     |  ETA: 0:00:35\u001b[39m\u001b[K"
     ]
    },
    {
     "name": "stderr",
     "output_type": "stream",
     "text": [
      "\r\u001b[32mloss: 66.9:  85%|██████████████████████████████████     |  ETA: 0:00:35\u001b[39m\u001b[K"
     ]
    },
    {
     "name": "stderr",
     "output_type": "stream",
     "text": [
      "\r\u001b[32mloss: 66.9:  85%|██████████████████████████████████     |  ETA: 0:00:34\u001b[39m\u001b[K"
     ]
    },
    {
     "name": "stderr",
     "output_type": "stream",
     "text": [
      "\r\u001b[32mloss: 66.9:  86%|██████████████████████████████████     |  ETA: 0:00:33\u001b[39m\u001b[K"
     ]
    },
    {
     "name": "stderr",
     "output_type": "stream",
     "text": [
      "\r\u001b[32mloss: 66.9:  86%|██████████████████████████████████     |  ETA: 0:00:33\u001b[39m\u001b[K"
     ]
    },
    {
     "name": "stderr",
     "output_type": "stream",
     "text": [
      "\r\u001b[32mloss: 66.9:  86%|██████████████████████████████████     |  ETA: 0:00:32\u001b[39m\u001b[K"
     ]
    },
    {
     "name": "stderr",
     "output_type": "stream",
     "text": [
      "\r\u001b[32mloss: 66.9:  86%|██████████████████████████████████     |  ETA: 0:00:32\u001b[39m\u001b[K"
     ]
    },
    {
     "name": "stderr",
     "output_type": "stream",
     "text": [
      "\r\u001b[32mloss: 66.9:  86%|██████████████████████████████████     |  ETA: 0:00:31\u001b[39m\u001b[K"
     ]
    },
    {
     "name": "stderr",
     "output_type": "stream",
     "text": [
      "\r\u001b[32mloss: 66.9:  87%|██████████████████████████████████     |  ETA: 0:00:31\u001b[39m\u001b[K"
     ]
    },
    {
     "name": "stderr",
     "output_type": "stream",
     "text": [
      "\r\u001b[32mloss: 66.9:  87%|██████████████████████████████████     |  ETA: 0:00:30\u001b[39m\u001b[K"
     ]
    },
    {
     "name": "stderr",
     "output_type": "stream",
     "text": [
      "\r\u001b[32mloss: 66.9:  87%|███████████████████████████████████    |  ETA: 0:00:30\u001b[39m\u001b[K"
     ]
    },
    {
     "name": "stderr",
     "output_type": "stream",
     "text": [
      "\r\u001b[32mloss: 66.9:  88%|███████████████████████████████████    |  ETA: 0:00:29\u001b[39m\u001b[K"
     ]
    },
    {
     "name": "stderr",
     "output_type": "stream",
     "text": [
      "\r\u001b[32mloss: 66.9:  88%|███████████████████████████████████    |  ETA: 0:00:29\u001b[39m\u001b[K"
     ]
    },
    {
     "name": "stderr",
     "output_type": "stream",
     "text": [
      "\r\u001b[32mloss: 66.9:  88%|███████████████████████████████████    |  ETA: 0:00:28\u001b[39m\u001b[K"
     ]
    },
    {
     "name": "stderr",
     "output_type": "stream",
     "text": [
      "\r\u001b[32mloss: 66.9:  88%|███████████████████████████████████    |  ETA: 0:00:27\u001b[39m\u001b[K"
     ]
    },
    {
     "name": "stderr",
     "output_type": "stream",
     "text": [
      "\r\u001b[32mloss: 66.9:  88%|███████████████████████████████████    |  ETA: 0:00:27\u001b[39m\u001b[K"
     ]
    },
    {
     "name": "stderr",
     "output_type": "stream",
     "text": [
      "\r\u001b[32mloss: 66.9:  89%|███████████████████████████████████    |  ETA: 0:00:26\u001b[39m\u001b[K"
     ]
    },
    {
     "name": "stderr",
     "output_type": "stream",
     "text": [
      "\r\u001b[32mloss: 66.9:  89%|███████████████████████████████████    |  ETA: 0:00:26\u001b[39m\u001b[K"
     ]
    },
    {
     "name": "stderr",
     "output_type": "stream",
     "text": [
      "\r\u001b[32mloss: 66.9:  89%|███████████████████████████████████    |  ETA: 0:00:25\u001b[39m\u001b[K"
     ]
    },
    {
     "name": "stderr",
     "output_type": "stream",
     "text": [
      "\r\u001b[32mloss: 66.9:  90%|███████████████████████████████████    |  ETA: 0:00:24\u001b[39m\u001b[K"
     ]
    },
    {
     "name": "stderr",
     "output_type": "stream",
     "text": [
      "\r\u001b[32mloss: 66.9:  90%|███████████████████████████████████    |  ETA: 0:00:24\u001b[39m\u001b[K"
     ]
    },
    {
     "name": "stderr",
     "output_type": "stream",
     "text": [
      "\r\u001b[32mloss: 66.9:  90%|████████████████████████████████████   |  ETA: 0:00:23\u001b[39m\u001b[K"
     ]
    },
    {
     "name": "stderr",
     "output_type": "stream",
     "text": [
      "\r\u001b[32mloss: 66.9:  90%|████████████████████████████████████   |  ETA: 0:00:23\u001b[39m\u001b[K"
     ]
    },
    {
     "name": "stderr",
     "output_type": "stream",
     "text": [
      "\r\u001b[32mloss: 66.9:  90%|████████████████████████████████████   |  ETA: 0:00:22\u001b[39m\u001b[K"
     ]
    },
    {
     "name": "stderr",
     "output_type": "stream",
     "text": [
      "\r\u001b[32mloss: 66.9:  91%|████████████████████████████████████   |  ETA: 0:00:22\u001b[39m\u001b[K"
     ]
    },
    {
     "name": "stderr",
     "output_type": "stream",
     "text": [
      "\r\u001b[32mloss: 66.9:  91%|████████████████████████████████████   |  ETA: 0:00:21\u001b[39m\u001b[K"
     ]
    },
    {
     "name": "stderr",
     "output_type": "stream",
     "text": [
      "\r\u001b[32mloss: 66.9:  91%|████████████████████████████████████   |  ETA: 0:00:21\u001b[39m\u001b[K"
     ]
    },
    {
     "name": "stderr",
     "output_type": "stream",
     "text": [
      "\r\u001b[32mloss: 66.9:  92%|████████████████████████████████████   |  ETA: 0:00:20\u001b[39m\u001b[K"
     ]
    },
    {
     "name": "stderr",
     "output_type": "stream",
     "text": [
      "\r\u001b[32mloss: 66.9:  92%|████████████████████████████████████   |  ETA: 0:00:19\u001b[39m\u001b[K"
     ]
    },
    {
     "name": "stderr",
     "output_type": "stream",
     "text": [
      "\r\u001b[32mloss: 66.9:  92%|████████████████████████████████████   |  ETA: 0:00:19\u001b[39m\u001b[K"
     ]
    },
    {
     "name": "stderr",
     "output_type": "stream",
     "text": [
      "\r\u001b[32mloss: 66.9:  92%|████████████████████████████████████   |  ETA: 0:00:18\u001b[39m\u001b[K"
     ]
    },
    {
     "name": "stderr",
     "output_type": "stream",
     "text": [
      "\r\u001b[32mloss: 66.9:  92%|█████████████████████████████████████  |  ETA: 0:00:18\u001b[39m\u001b[K"
     ]
    },
    {
     "name": "stderr",
     "output_type": "stream",
     "text": [
      "\r\u001b[32mloss: 66.9:  93%|█████████████████████████████████████  |  ETA: 0:00:17\u001b[39m\u001b[K"
     ]
    },
    {
     "name": "stderr",
     "output_type": "stream",
     "text": [
      "\r\u001b[32mloss: 66.9:  93%|█████████████████████████████████████  |  ETA: 0:00:16\u001b[39m\u001b[K"
     ]
    },
    {
     "name": "stderr",
     "output_type": "stream",
     "text": [
      "\r\u001b[32mloss: 66.9:  93%|█████████████████████████████████████  |  ETA: 0:00:16\u001b[39m\u001b[K"
     ]
    },
    {
     "name": "stderr",
     "output_type": "stream",
     "text": [
      "\r\u001b[32mloss: 66.9:  94%|█████████████████████████████████████  |  ETA: 0:00:15\u001b[39m\u001b[K"
     ]
    },
    {
     "name": "stderr",
     "output_type": "stream",
     "text": [
      "\r\u001b[32mloss: 66.9:  94%|█████████████████████████████████████  |  ETA: 0:00:15\u001b[39m\u001b[K"
     ]
    },
    {
     "name": "stderr",
     "output_type": "stream",
     "text": [
      "\r\u001b[32mloss: 66.9:  94%|█████████████████████████████████████  |  ETA: 0:00:14\u001b[39m\u001b[K"
     ]
    },
    {
     "name": "stderr",
     "output_type": "stream",
     "text": [
      "\r\u001b[32mloss: 66.9:  94%|█████████████████████████████████████  |  ETA: 0:00:14\u001b[39m\u001b[K"
     ]
    },
    {
     "name": "stderr",
     "output_type": "stream",
     "text": [
      "\r\u001b[32mloss: 66.9:  94%|█████████████████████████████████████  |  ETA: 0:00:13\u001b[39m\u001b[K"
     ]
    },
    {
     "name": "stderr",
     "output_type": "stream",
     "text": [
      "\r\u001b[32mloss: 66.9:  95%|█████████████████████████████████████  |  ETA: 0:00:12\u001b[39m\u001b[K"
     ]
    },
    {
     "name": "stderr",
     "output_type": "stream",
     "text": [
      "\r\u001b[32mloss: 66.9:  95%|██████████████████████████████████████ |  ETA: 0:00:12\u001b[39m\u001b[K"
     ]
    },
    {
     "name": "stderr",
     "output_type": "stream",
     "text": [
      "\r\u001b[32mloss: 66.9:  95%|██████████████████████████████████████ |  ETA: 0:00:11\u001b[39m\u001b[K"
     ]
    },
    {
     "name": "stderr",
     "output_type": "stream",
     "text": [
      "\r\u001b[32mloss: 66.9:  96%|██████████████████████████████████████ |  ETA: 0:00:11\u001b[39m\u001b[K"
     ]
    },
    {
     "name": "stderr",
     "output_type": "stream",
     "text": [
      "\r\u001b[32mloss: 66.9:  96%|██████████████████████████████████████ |  ETA: 0:00:10\u001b[39m\u001b[K"
     ]
    },
    {
     "name": "stderr",
     "output_type": "stream",
     "text": [
      "\r\u001b[32mloss: 66.9:  96%|██████████████████████████████████████ |  ETA: 0:00:09\u001b[39m\u001b[K"
     ]
    },
    {
     "name": "stderr",
     "output_type": "stream",
     "text": [
      "\r\u001b[32mloss: 66.9:  96%|██████████████████████████████████████ |  ETA: 0:00:09\u001b[39m\u001b[K"
     ]
    },
    {
     "name": "stderr",
     "output_type": "stream",
     "text": [
      "\r\u001b[32mloss: 66.9:  96%|██████████████████████████████████████ |  ETA: 0:00:08\u001b[39m\u001b[K"
     ]
    },
    {
     "name": "stderr",
     "output_type": "stream",
     "text": [
      "\r\u001b[32mloss: 66.9:  97%|██████████████████████████████████████ |  ETA: 0:00:08\u001b[39m\u001b[K"
     ]
    },
    {
     "name": "stderr",
     "output_type": "stream",
     "text": [
      "\r\u001b[32mloss: 66.9:  97%|██████████████████████████████████████ |  ETA: 0:00:07\u001b[39m\u001b[K"
     ]
    },
    {
     "name": "stderr",
     "output_type": "stream",
     "text": [
      "\r\u001b[32mloss: 66.9:  97%|██████████████████████████████████████ |  ETA: 0:00:07\u001b[39m\u001b[K"
     ]
    },
    {
     "name": "stderr",
     "output_type": "stream",
     "text": [
      "\r\u001b[32mloss: 66.9:  98%|███████████████████████████████████████|  ETA: 0:00:06\u001b[39m\u001b[K"
     ]
    },
    {
     "name": "stderr",
     "output_type": "stream",
     "text": [
      "\r\u001b[32mloss: 66.9:  98%|███████████████████████████████████████|  ETA: 0:00:05\u001b[39m\u001b[K"
     ]
    },
    {
     "name": "stderr",
     "output_type": "stream",
     "text": [
      "\r\u001b[32mloss: 66.9:  98%|███████████████████████████████████████|  ETA: 0:00:05\u001b[39m\u001b[K"
     ]
    },
    {
     "name": "stderr",
     "output_type": "stream",
     "text": [
      "\r\u001b[32mloss: 66.9:  98%|███████████████████████████████████████|  ETA: 0:00:04\u001b[39m\u001b[K"
     ]
    },
    {
     "name": "stderr",
     "output_type": "stream",
     "text": [
      "\r\u001b[32mloss: 66.9:  98%|███████████████████████████████████████|  ETA: 0:00:04\u001b[39m\u001b[K"
     ]
    },
    {
     "name": "stderr",
     "output_type": "stream",
     "text": [
      "\r\u001b[32mloss: 66.9:  99%|███████████████████████████████████████|  ETA: 0:00:03\u001b[39m\u001b[K"
     ]
    },
    {
     "name": "stderr",
     "output_type": "stream",
     "text": [
      "\r\u001b[32mloss: 66.9:  99%|███████████████████████████████████████|  ETA: 0:00:02\u001b[39m\u001b[K"
     ]
    },
    {
     "name": "stderr",
     "output_type": "stream",
     "text": [
      "\r\u001b[32mloss: 66.9:  99%|███████████████████████████████████████|  ETA: 0:00:02\u001b[39m\u001b[K"
     ]
    },
    {
     "name": "stderr",
     "output_type": "stream",
     "text": [
      "\r\u001b[32mloss: 66.9: 100%|███████████████████████████████████████|  ETA: 0:00:01\u001b[39m\u001b[K"
     ]
    },
    {
     "name": "stderr",
     "output_type": "stream",
     "text": [
      "\r\u001b[32mloss: 66.9: 100%|███████████████████████████████████████|  ETA: 0:00:01\u001b[39m\u001b[K"
     ]
    },
    {
     "name": "stderr",
     "output_type": "stream",
     "text": [
      "\r\u001b[32mloss: 66.9: 100%|███████████████████████████████████████| Time: 0:03:55\u001b[39m"
     ]
    },
    {
     "name": "stderr",
     "output_type": "stream",
     "text": [
      "\u001b[K\n"
     ]
    },
    {
     "name": "stderr",
     "output_type": "stream",
     "text": [
      "\r\u001b[32mloss: 66.8:   0%|█                                      |  ETA: 0:02:46\u001b[39m\u001b[K"
     ]
    },
    {
     "name": "stderr",
     "output_type": "stream",
     "text": [
      "\r\u001b[32mloss: 66.8:   1%|█                                      |  ETA: 0:03:59\u001b[39m\u001b[K"
     ]
    },
    {
     "name": "stderr",
     "output_type": "stream",
     "text": [
      "\r\u001b[32mloss: 66.8:   1%|█                                      |  ETA: 0:04:09\u001b[39m\u001b[K"
     ]
    },
    {
     "name": "stderr",
     "output_type": "stream",
     "text": [
      "\r\u001b[32mloss: 66.8:   1%|█                                      |  ETA: 0:04:26\u001b[39m\u001b[K"
     ]
    },
    {
     "name": "stderr",
     "output_type": "stream",
     "text": [
      "\r\u001b[32mloss: 66.8:   2%|█                                      |  ETA: 0:04:16\u001b[39m\u001b[K"
     ]
    },
    {
     "name": "stderr",
     "output_type": "stream",
     "text": [
      "\r\u001b[32mloss: 66.7:   2%|█                                      |  ETA: 0:04:30\u001b[39m\u001b[K"
     ]
    },
    {
     "name": "stderr",
     "output_type": "stream",
     "text": [
      "\r\u001b[32mloss: 66.7:   2%|█                                      |  ETA: 0:04:27\u001b[39m\u001b[K"
     ]
    },
    {
     "name": "stderr",
     "output_type": "stream",
     "text": [
      "\r\u001b[32mloss: 66.7:   2%|█                                      |  ETA: 0:04:35\u001b[39m\u001b[K"
     ]
    },
    {
     "name": "stderr",
     "output_type": "stream",
     "text": [
      "\r\u001b[32mloss: 66.7:   2%|█                                      |  ETA: 0:04:30\u001b[39m\u001b[K"
     ]
    },
    {
     "name": "stderr",
     "output_type": "stream",
     "text": [
      "\r\u001b[32mloss: 66.7:   3%|██                                     |  ETA: 0:04:37\u001b[39m\u001b[K"
     ]
    },
    {
     "name": "stderr",
     "output_type": "stream",
     "text": [
      "\r\u001b[32mloss: 66.7:   3%|██                                     |  ETA: 0:04:31\u001b[39m\u001b[K"
     ]
    },
    {
     "name": "stderr",
     "output_type": "stream",
     "text": [
      "\r\u001b[32mloss: 66.6:   3%|██                                     |  ETA: 0:04:37\u001b[39m\u001b[K"
     ]
    },
    {
     "name": "stderr",
     "output_type": "stream",
     "text": [
      "\r\u001b[32mloss: 66.6:   4%|██                                     |  ETA: 0:04:31\u001b[39m\u001b[K"
     ]
    },
    {
     "name": "stderr",
     "output_type": "stream",
     "text": [
      "\r\u001b[32mloss: 66.6:   4%|██                                     |  ETA: 0:04:35\u001b[39m\u001b[K"
     ]
    },
    {
     "name": "stderr",
     "output_type": "stream",
     "text": [
      "\r\u001b[32mloss: 66.6:   4%|██                                     |  ETA: 0:04:31\u001b[39m\u001b[K"
     ]
    },
    {
     "name": "stderr",
     "output_type": "stream",
     "text": [
      "\r\u001b[32mloss: 66.6:   4%|██                                     |  ETA: 0:04:35\u001b[39m\u001b[K"
     ]
    },
    {
     "name": "stderr",
     "output_type": "stream",
     "text": [
      "\r\u001b[32mloss: 66.6:   4%|██                                     |  ETA: 0:04:34\u001b[39m\u001b[K"
     ]
    },
    {
     "name": "stderr",
     "output_type": "stream",
     "text": [
      "\r\u001b[32mloss: 66.5:   5%|██                                     |  ETA: 0:04:36\u001b[39m\u001b[K"
     ]
    },
    {
     "name": "stderr",
     "output_type": "stream",
     "text": [
      "\r\u001b[32mloss: 66.5:   5%|██                                     |  ETA: 0:04:35\u001b[39m\u001b[K"
     ]
    },
    {
     "name": "stderr",
     "output_type": "stream",
     "text": [
      "\r\u001b[32mloss: 66.5:   5%|███                                    |  ETA: 0:04:37\u001b[39m\u001b[K"
     ]
    },
    {
     "name": "stderr",
     "output_type": "stream",
     "text": [
      "\r\u001b[32mloss: 66.5:   6%|███                                    |  ETA: 0:04:33\u001b[39m\u001b[K"
     ]
    },
    {
     "name": "stderr",
     "output_type": "stream",
     "text": [
      "\r\u001b[32mloss: 66.5:   6%|███                                    |  ETA: 0:04:35\u001b[39m\u001b[K"
     ]
    },
    {
     "name": "stderr",
     "output_type": "stream",
     "text": [
      "\r\u001b[32mloss: 66.5:   6%|███                                    |  ETA: 0:04:31\u001b[39m\u001b[K"
     ]
    },
    {
     "name": "stderr",
     "output_type": "stream",
     "text": [
      "\r\u001b[32mloss: 66.4:   6%|███                                    |  ETA: 0:04:33\u001b[39m\u001b[K"
     ]
    },
    {
     "name": "stderr",
     "output_type": "stream",
     "text": [
      "\r\u001b[32mloss: 66.4:   6%|███                                    |  ETA: 0:04:30\u001b[39m\u001b[K"
     ]
    },
    {
     "name": "stderr",
     "output_type": "stream",
     "text": [
      "\r\u001b[32mloss: 66.4:   7%|███                                    |  ETA: 0:04:32\u001b[39m\u001b[K"
     ]
    },
    {
     "name": "stderr",
     "output_type": "stream",
     "text": [
      "\r\u001b[32mloss: 66.4:   7%|███                                    |  ETA: 0:04:31\u001b[39m\u001b[K"
     ]
    },
    {
     "name": "stderr",
     "output_type": "stream",
     "text": [
      "\r\u001b[32mloss: 66.4:   7%|███                                    |  ETA: 0:04:34\u001b[39m\u001b[K"
     ]
    },
    {
     "name": "stderr",
     "output_type": "stream",
     "text": [
      "\r\u001b[32mloss: 66.3:   8%|███                                    |  ETA: 0:04:32\u001b[39m\u001b[K"
     ]
    },
    {
     "name": "stderr",
     "output_type": "stream",
     "text": [
      "\r\u001b[32mloss: 66.3:   8%|████                                   |  ETA: 0:04:33\u001b[39m\u001b[K"
     ]
    },
    {
     "name": "stderr",
     "output_type": "stream",
     "text": [
      "\r\u001b[32mloss: 66.3:   8%|████                                   |  ETA: 0:04:31\u001b[39m\u001b[K"
     ]
    },
    {
     "name": "stderr",
     "output_type": "stream",
     "text": [
      "\r\u001b[32mloss: 66.3:   8%|████                                   |  ETA: 0:04:33\u001b[39m\u001b[K"
     ]
    },
    {
     "name": "stderr",
     "output_type": "stream",
     "text": [
      "\r\u001b[32mloss: 66.3:   8%|████                                   |  ETA: 0:04:30\u001b[39m\u001b[K"
     ]
    },
    {
     "name": "stderr",
     "output_type": "stream",
     "text": [
      "\r\u001b[32mloss: 66.2:   9%|████                                   |  ETA: 0:04:32\u001b[39m\u001b[K"
     ]
    },
    {
     "name": "stderr",
     "output_type": "stream",
     "text": [
      "\r\u001b[32mloss: 66.2:   9%|████                                   |  ETA: 0:04:29\u001b[39m\u001b[K"
     ]
    },
    {
     "name": "stderr",
     "output_type": "stream",
     "text": [
      "\r\u001b[32mloss: 66.2:   9%|████                                   |  ETA: 0:04:30\u001b[39m\u001b[K"
     ]
    },
    {
     "name": "stderr",
     "output_type": "stream",
     "text": [
      "\r\u001b[32mloss: 66.2:  10%|████                                   |  ETA: 0:04:28\u001b[39m\u001b[K"
     ]
    },
    {
     "name": "stderr",
     "output_type": "stream",
     "text": [
      "\r\u001b[32mloss: 66.2:  10%|████                                   |  ETA: 0:04:30\u001b[39m\u001b[K"
     ]
    },
    {
     "name": "stderr",
     "output_type": "stream",
     "text": [
      "\r\u001b[32mloss: 66.1:  10%|████                                   |  ETA: 0:04:29\u001b[39m\u001b[K"
     ]
    },
    {
     "name": "stderr",
     "output_type": "stream",
     "text": [
      "\r\u001b[32mloss: 66.1:  10%|████                                   |  ETA: 0:04:31\u001b[39m\u001b[K"
     ]
    },
    {
     "name": "stderr",
     "output_type": "stream",
     "text": [
      "\r\u001b[32mloss: 66.1:  10%|█████                                  |  ETA: 0:04:29\u001b[39m\u001b[K"
     ]
    },
    {
     "name": "stderr",
     "output_type": "stream",
     "text": [
      "\r\u001b[32mloss: 66.1:  11%|█████                                  |  ETA: 0:04:30\u001b[39m\u001b[K"
     ]
    },
    {
     "name": "stderr",
     "output_type": "stream",
     "text": [
      "\r\u001b[32mloss: 66.1:  11%|█████                                  |  ETA: 0:04:28\u001b[39m\u001b[K"
     ]
    },
    {
     "name": "stderr",
     "output_type": "stream",
     "text": [
      "\r\u001b[32mloss: 66:  11%|█████                                    |  ETA: 0:04:30\u001b[39m\u001b[K"
     ]
    },
    {
     "name": "stderr",
     "output_type": "stream",
     "text": [
      "\r\u001b[32mloss: 66:  12%|█████                                    |  ETA: 0:04:28\u001b[39m\u001b[K"
     ]
    },
    {
     "name": "stderr",
     "output_type": "stream",
     "text": [
      "\r\u001b[32mloss: 66:  12%|█████                                    |  ETA: 0:04:29\u001b[39m\u001b[K"
     ]
    },
    {
     "name": "stderr",
     "output_type": "stream",
     "text": [
      "\r\u001b[32mloss: 66:  12%|█████                                    |  ETA: 0:04:27\u001b[39m\u001b[K"
     ]
    },
    {
     "name": "stderr",
     "output_type": "stream",
     "text": [
      "\r\u001b[32mloss: 66:  12%|██████                                   |  ETA: 0:04:29\u001b[39m\u001b[K"
     ]
    },
    {
     "name": "stderr",
     "output_type": "stream",
     "text": [
      "\r\u001b[32mloss: 65.9:  12%|█████                                  |  ETA: 0:04:28\u001b[39m\u001b[K"
     ]
    },
    {
     "name": "stderr",
     "output_type": "stream",
     "text": [
      "\r\u001b[32mloss: 65.9:  13%|█████                                  |  ETA: 0:04:29\u001b[39m\u001b[K"
     ]
    },
    {
     "name": "stderr",
     "output_type": "stream",
     "text": [
      "\r\u001b[32mloss: 65.9:  13%|██████                                 |  ETA: 0:04:27\u001b[39m\u001b[K"
     ]
    },
    {
     "name": "stderr",
     "output_type": "stream",
     "text": [
      "\r\u001b[32mloss: 65.9:  13%|██████                                 |  ETA: 0:04:28\u001b[39m\u001b[K"
     ]
    },
    {
     "name": "stderr",
     "output_type": "stream",
     "text": [
      "\r\u001b[32mloss: 65.8:  14%|██████                                 |  ETA: 0:04:27\u001b[39m\u001b[K"
     ]
    },
    {
     "name": "stderr",
     "output_type": "stream",
     "text": [
      "\r\u001b[32mloss: 65.8:  14%|██████                                 |  ETA: 0:04:28\u001b[39m\u001b[K"
     ]
    },
    {
     "name": "stderr",
     "output_type": "stream",
     "text": [
      "\r\u001b[32mloss: 65.8:  14%|██████                                 |  ETA: 0:04:26\u001b[39m\u001b[K"
     ]
    },
    {
     "name": "stderr",
     "output_type": "stream",
     "text": [
      "\r\u001b[32mloss: 65.8:  14%|██████                                 |  ETA: 0:04:28\u001b[39m\u001b[K"
     ]
    },
    {
     "name": "stderr",
     "output_type": "stream",
     "text": [
      "\r\u001b[32mloss: 65.7:  14%|██████                                 |  ETA: 0:04:27\u001b[39m\u001b[K"
     ]
    },
    {
     "name": "stderr",
     "output_type": "stream",
     "text": [
      "\r\u001b[32mloss: 65.7:  15%|██████                                 |  ETA: 0:04:28\u001b[39m\u001b[K"
     ]
    },
    {
     "name": "stderr",
     "output_type": "stream",
     "text": [
      "\r\u001b[32mloss: 65.7:  15%|██████                                 |  ETA: 0:04:26\u001b[39m\u001b[K"
     ]
    },
    {
     "name": "stderr",
     "output_type": "stream",
     "text": [
      "\r\u001b[32mloss: 65.7:  15%|██████                                 |  ETA: 0:04:27\u001b[39m\u001b[K"
     ]
    },
    {
     "name": "stderr",
     "output_type": "stream",
     "text": [
      "\r\u001b[32mloss: 65.6:  16%|███████                                |  ETA: 0:04:26\u001b[39m\u001b[K"
     ]
    },
    {
     "name": "stderr",
     "output_type": "stream",
     "text": [
      "\r\u001b[32mloss: 65.6:  16%|███████                                |  ETA: 0:04:27\u001b[39m\u001b[K"
     ]
    },
    {
     "name": "stderr",
     "output_type": "stream",
     "text": [
      "\r\u001b[32mloss: 65.6:  16%|███████                                |  ETA: 0:04:26\u001b[39m\u001b[K"
     ]
    },
    {
     "name": "stderr",
     "output_type": "stream",
     "text": [
      "\r\u001b[32mloss: 65.5:  16%|███████                                |  ETA: 0:04:26\u001b[39m\u001b[K"
     ]
    },
    {
     "name": "stderr",
     "output_type": "stream",
     "text": [
      "\r\u001b[32mloss: 65.5:  16%|███████                                |  ETA: 0:04:25\u001b[39m\u001b[K"
     ]
    },
    {
     "name": "stderr",
     "output_type": "stream",
     "text": [
      "\r\u001b[32mloss: 65.5:  17%|███████                                |  ETA: 0:04:25\u001b[39m\u001b[K"
     ]
    },
    {
     "name": "stderr",
     "output_type": "stream",
     "text": [
      "\r\u001b[32mloss: 65.4:  17%|███████                                |  ETA: 0:04:24\u001b[39m\u001b[K"
     ]
    },
    {
     "name": "stderr",
     "output_type": "stream",
     "text": [
      "\r\u001b[32mloss: 65.4:  17%|███████                                |  ETA: 0:04:24\u001b[39m\u001b[K"
     ]
    },
    {
     "name": "stderr",
     "output_type": "stream",
     "text": [
      "\r\u001b[32mloss: 65.3:  18%|███████                                |  ETA: 0:04:23\u001b[39m\u001b[K"
     ]
    },
    {
     "name": "stderr",
     "output_type": "stream",
     "text": [
      "\r\u001b[32mloss: 65.3:  18%|███████                                |  ETA: 0:04:23\u001b[39m\u001b[K"
     ]
    },
    {
     "name": "stderr",
     "output_type": "stream",
     "text": [
      "\r\u001b[32mloss: 65.2:  18%|████████                               |  ETA: 0:04:22\u001b[39m\u001b[K"
     ]
    },
    {
     "name": "stderr",
     "output_type": "stream",
     "text": [
      "\r\u001b[32mloss: 65.2:  18%|████████                               |  ETA: 0:04:22\u001b[39m\u001b[K"
     ]
    },
    {
     "name": "stderr",
     "output_type": "stream",
     "text": [
      "\r\u001b[32mloss: 65.1:  18%|████████                               |  ETA: 0:04:21\u001b[39m\u001b[K"
     ]
    },
    {
     "name": "stderr",
     "output_type": "stream",
     "text": [
      "\r\u001b[32mloss: 65:  19%|████████                                 |  ETA: 0:04:22\u001b[39m\u001b[K"
     ]
    },
    {
     "name": "stderr",
     "output_type": "stream",
     "text": [
      "\r\u001b[32mloss: 65:  19%|████████                                 |  ETA: 0:04:20\u001b[39m\u001b[K"
     ]
    },
    {
     "name": "stderr",
     "output_type": "stream",
     "text": [
      "\r\u001b[32mloss: 64.9:  19%|████████                               |  ETA: 0:04:21\u001b[39m\u001b[K"
     ]
    },
    {
     "name": "stderr",
     "output_type": "stream",
     "text": [
      "\r\u001b[32mloss: 64.8:  20%|████████                               |  ETA: 0:04:19\u001b[39m\u001b[K"
     ]
    },
    {
     "name": "stderr",
     "output_type": "stream",
     "text": [
      "\r\u001b[32mloss: 64.7:  20%|████████                               |  ETA: 0:04:19\u001b[39m\u001b[K"
     ]
    },
    {
     "name": "stderr",
     "output_type": "stream",
     "text": [
      "\r\u001b[32mloss: 64.6:  20%|████████                               |  ETA: 0:04:18\u001b[39m\u001b[K"
     ]
    },
    {
     "name": "stderr",
     "output_type": "stream",
     "text": [
      "\r\u001b[32mloss: 64.5:  20%|████████                               |  ETA: 0:04:18\u001b[39m\u001b[K"
     ]
    },
    {
     "name": "stderr",
     "output_type": "stream",
     "text": [
      "\r\u001b[32mloss: 64.3:  20%|████████                               |  ETA: 0:04:16\u001b[39m\u001b[K"
     ]
    },
    {
     "name": "stderr",
     "output_type": "stream",
     "text": [
      "\r\u001b[32mloss: 64.2:  21%|█████████                              |  ETA: 0:04:17\u001b[39m\u001b[K"
     ]
    },
    {
     "name": "stderr",
     "output_type": "stream",
     "text": [
      "\r\u001b[32mloss: 64:  21%|█████████                                |  ETA: 0:04:15\u001b[39m\u001b[K"
     ]
    },
    {
     "name": "stderr",
     "output_type": "stream",
     "text": [
      "\r\u001b[32mloss: 63.9:  21%|█████████                              |  ETA: 0:04:15\u001b[39m\u001b[K"
     ]
    },
    {
     "name": "stderr",
     "output_type": "stream",
     "text": [
      "\r\u001b[32mloss: 63.7:  22%|█████████                              |  ETA: 0:04:14\u001b[39m\u001b[K"
     ]
    },
    {
     "name": "stderr",
     "output_type": "stream",
     "text": [
      "\r\u001b[32mloss: 63.5:  22%|█████████                              |  ETA: 0:04:14\u001b[39m\u001b[K"
     ]
    },
    {
     "name": "stderr",
     "output_type": "stream",
     "text": [
      "\r\u001b[32mloss: 63.3:  22%|█████████                              |  ETA: 0:04:13\u001b[39m\u001b[K"
     ]
    },
    {
     "name": "stderr",
     "output_type": "stream",
     "text": [
      "\r\u001b[32mloss: 63:  22%|██████████                               |  ETA: 0:04:13\u001b[39m\u001b[K"
     ]
    },
    {
     "name": "stderr",
     "output_type": "stream",
     "text": [
      "\r\u001b[32mloss: 62.8:  22%|█████████                              |  ETA: 0:04:12\u001b[39m\u001b[K"
     ]
    },
    {
     "name": "stderr",
     "output_type": "stream",
     "text": [
      "\r\u001b[32mloss: 62.5:  23%|█████████                              |  ETA: 0:04:12\u001b[39m\u001b[K"
     ]
    },
    {
     "name": "stderr",
     "output_type": "stream",
     "text": [
      "\r\u001b[32mloss: 62.2:  23%|█████████                              |  ETA: 0:04:11\u001b[39m\u001b[K"
     ]
    },
    {
     "name": "stderr",
     "output_type": "stream",
     "text": [
      "\r\u001b[32mloss: 62:  23%|██████████                               |  ETA: 0:04:12\u001b[39m\u001b[K"
     ]
    },
    {
     "name": "stderr",
     "output_type": "stream",
     "text": [
      "\r\u001b[32mloss: 61.7:  24%|██████████                             |  ETA: 0:04:11\u001b[39m\u001b[K"
     ]
    },
    {
     "name": "stderr",
     "output_type": "stream",
     "text": [
      "\r\u001b[32mloss: 61.4:  24%|██████████                             |  ETA: 0:04:11\u001b[39m\u001b[K"
     ]
    },
    {
     "name": "stderr",
     "output_type": "stream",
     "text": [
      "\r\u001b[32mloss: 61.1:  24%|██████████                             |  ETA: 0:04:10\u001b[39m\u001b[K"
     ]
    },
    {
     "name": "stderr",
     "output_type": "stream",
     "text": [
      "\r\u001b[32mloss: 60.8:  24%|██████████                             |  ETA: 0:04:10\u001b[39m\u001b[K"
     ]
    },
    {
     "name": "stderr",
     "output_type": "stream",
     "text": [
      "\r\u001b[32mloss: 60.5:  24%|██████████                             |  ETA: 0:04:09\u001b[39m\u001b[K"
     ]
    },
    {
     "name": "stderr",
     "output_type": "stream",
     "text": [
      "\r\u001b[32mloss: 60.1:  25%|██████████                             |  ETA: 0:04:09\u001b[39m\u001b[K"
     ]
    },
    {
     "name": "stderr",
     "output_type": "stream",
     "text": [
      "\r\u001b[32mloss: 59.8:  25%|██████████                             |  ETA: 0:04:08\u001b[39m\u001b[K"
     ]
    },
    {
     "name": "stderr",
     "output_type": "stream",
     "text": [
      "\r\u001b[32mloss: 59.5:  25%|██████████                             |  ETA: 0:04:08\u001b[39m\u001b[K"
     ]
    },
    {
     "name": "stderr",
     "output_type": "stream",
     "text": [
      "\r\u001b[32mloss: 59.2:  26%|██████████                             |  ETA: 0:04:07\u001b[39m\u001b[K"
     ]
    },
    {
     "name": "stderr",
     "output_type": "stream",
     "text": [
      "\r\u001b[32mloss: 58.8:  26%|███████████                            |  ETA: 0:04:07\u001b[39m\u001b[K"
     ]
    },
    {
     "name": "stderr",
     "output_type": "stream",
     "text": [
      "\r\u001b[32mloss: 58.5:  26%|███████████                            |  ETA: 0:04:06\u001b[39m\u001b[K"
     ]
    },
    {
     "name": "stderr",
     "output_type": "stream",
     "text": [
      "\r\u001b[32mloss: 58.1:  26%|███████████                            |  ETA: 0:04:06\u001b[39m\u001b[K"
     ]
    },
    {
     "name": "stderr",
     "output_type": "stream",
     "text": [
      "\r\u001b[32mloss: 57.7:  26%|███████████                            |  ETA: 0:04:06\u001b[39m\u001b[K"
     ]
    },
    {
     "name": "stderr",
     "output_type": "stream",
     "text": [
      "\r\u001b[32mloss: 57.3:  27%|███████████                            |  ETA: 0:04:07\u001b[39m\u001b[K"
     ]
    },
    {
     "name": "stderr",
     "output_type": "stream",
     "text": [
      "\r\u001b[32mloss: 56.9:  27%|███████████                            |  ETA: 0:04:06\u001b[39m\u001b[K"
     ]
    },
    {
     "name": "stderr",
     "output_type": "stream",
     "text": [
      "\r\u001b[32mloss: 56.5:  27%|███████████                            |  ETA: 0:04:06\u001b[39m\u001b[K"
     ]
    },
    {
     "name": "stderr",
     "output_type": "stream",
     "text": [
      "\r\u001b[32mloss: 56.1:  28%|███████████                            |  ETA: 0:04:05\u001b[39m\u001b[K"
     ]
    },
    {
     "name": "stderr",
     "output_type": "stream",
     "text": [
      "\r\u001b[32mloss: 55.6:  28%|███████████                            |  ETA: 0:04:06\u001b[39m\u001b[K"
     ]
    },
    {
     "name": "stderr",
     "output_type": "stream",
     "text": [
      "\r\u001b[32mloss: 55.2:  28%|███████████                            |  ETA: 0:04:05\u001b[39m\u001b[K"
     ]
    },
    {
     "name": "stderr",
     "output_type": "stream",
     "text": [
      "\r\u001b[32mloss: 54.7:  28%|███████████                            |  ETA: 0:04:04\u001b[39m\u001b[K"
     ]
    },
    {
     "name": "stderr",
     "output_type": "stream",
     "text": [
      "\r\u001b[32mloss: 54.3:  28%|████████████                           |  ETA: 0:04:03\u001b[39m\u001b[K"
     ]
    },
    {
     "name": "stderr",
     "output_type": "stream",
     "text": [
      "\r\u001b[32mloss: 53.9:  29%|████████████                           |  ETA: 0:04:03\u001b[39m\u001b[K"
     ]
    },
    {
     "name": "stderr",
     "output_type": "stream",
     "text": [
      "\r\u001b[32mloss: 53.4:  29%|████████████                           |  ETA: 0:04:01\u001b[39m\u001b[K"
     ]
    },
    {
     "name": "stderr",
     "output_type": "stream",
     "text": [
      "\r\u001b[32mloss: 53:  29%|████████████                             |  ETA: 0:04:01\u001b[39m\u001b[K"
     ]
    },
    {
     "name": "stderr",
     "output_type": "stream",
     "text": [
      "\r\u001b[32mloss: 52.6:  30%|████████████                           |  ETA: 0:03:59\u001b[39m\u001b[K"
     ]
    },
    {
     "name": "stderr",
     "output_type": "stream",
     "text": [
      "\r\u001b[32mloss: 52.1:  30%|████████████                           |  ETA: 0:03:59\u001b[39m\u001b[K"
     ]
    },
    {
     "name": "stderr",
     "output_type": "stream",
     "text": [
      "\r\u001b[32mloss: 51.7:  30%|████████████                           |  ETA: 0:03:57\u001b[39m\u001b[K"
     ]
    },
    {
     "name": "stderr",
     "output_type": "stream",
     "text": [
      "\r\u001b[32mloss: 51.4:  30%|████████████                           |  ETA: 0:03:57\u001b[39m\u001b[K"
     ]
    },
    {
     "name": "stderr",
     "output_type": "stream",
     "text": [
      "\r\u001b[32mloss: 51:  30%|█████████████                            |  ETA: 0:03:55\u001b[39m\u001b[K"
     ]
    },
    {
     "name": "stderr",
     "output_type": "stream",
     "text": [
      "\r\u001b[32mloss: 50.6:  31%|████████████                           |  ETA: 0:03:55\u001b[39m\u001b[K"
     ]
    },
    {
     "name": "stderr",
     "output_type": "stream",
     "text": [
      "\r\u001b[32mloss: 50.3:  31%|█████████████                          |  ETA: 0:03:53\u001b[39m\u001b[K"
     ]
    },
    {
     "name": "stderr",
     "output_type": "stream",
     "text": [
      "\r\u001b[32mloss: 50:  31%|█████████████                            |  ETA: 0:03:53\u001b[39m\u001b[K"
     ]
    },
    {
     "name": "stderr",
     "output_type": "stream",
     "text": [
      "\r\u001b[32mloss: 49.6:  32%|█████████████                          |  ETA: 0:03:51\u001b[39m\u001b[K"
     ]
    },
    {
     "name": "stderr",
     "output_type": "stream",
     "text": [
      "\r\u001b[32mloss: 49.3:  32%|█████████████                          |  ETA: 0:03:51\u001b[39m\u001b[K"
     ]
    },
    {
     "name": "stderr",
     "output_type": "stream",
     "text": [
      "\r\u001b[32mloss: 49:  32%|██████████████                           |  ETA: 0:03:49\u001b[39m\u001b[K"
     ]
    },
    {
     "name": "stderr",
     "output_type": "stream",
     "text": [
      "\r\u001b[32mloss: 48.6:  32%|█████████████                          |  ETA: 0:03:49\u001b[39m\u001b[K"
     ]
    },
    {
     "name": "stderr",
     "output_type": "stream",
     "text": [
      "\r\u001b[32mloss: 48.2:  32%|█████████████                          |  ETA: 0:03:47\u001b[39m\u001b[K"
     ]
    },
    {
     "name": "stderr",
     "output_type": "stream",
     "text": [
      "\r\u001b[32mloss: 47.8:  33%|█████████████                          |  ETA: 0:03:47\u001b[39m\u001b[K"
     ]
    },
    {
     "name": "stderr",
     "output_type": "stream",
     "text": [
      "\r\u001b[32mloss: 47.3:  33%|█████████████                          |  ETA: 0:03:45\u001b[39m\u001b[K"
     ]
    },
    {
     "name": "stderr",
     "output_type": "stream",
     "text": [
      "\r\u001b[32mloss: 46.8:  33%|█████████████                          |  ETA: 0:03:45\u001b[39m\u001b[K"
     ]
    },
    {
     "name": "stderr",
     "output_type": "stream",
     "text": [
      "\r\u001b[32mloss: 46.2:  34%|██████████████                         |  ETA: 0:03:43\u001b[39m\u001b[K"
     ]
    },
    {
     "name": "stderr",
     "output_type": "stream",
     "text": [
      "\r\u001b[32mloss: 45.5:  34%|██████████████                         |  ETA: 0:03:43\u001b[39m\u001b[K"
     ]
    },
    {
     "name": "stderr",
     "output_type": "stream",
     "text": [
      "\r\u001b[32mloss: 44.7:  34%|██████████████                         |  ETA: 0:03:41\u001b[39m\u001b[K"
     ]
    },
    {
     "name": "stderr",
     "output_type": "stream",
     "text": [
      "\r\u001b[32mloss: 43.7:  34%|██████████████                         |  ETA: 0:03:40\u001b[39m\u001b[K"
     ]
    },
    {
     "name": "stderr",
     "output_type": "stream",
     "text": [
      "\r\u001b[32mloss: 42.5:  34%|██████████████                         |  ETA: 0:03:39\u001b[39m\u001b[K"
     ]
    },
    {
     "name": "stderr",
     "output_type": "stream",
     "text": [
      "\r\u001b[32mloss: 41.1:  35%|██████████████                         |  ETA: 0:03:38\u001b[39m\u001b[K"
     ]
    },
    {
     "name": "stderr",
     "output_type": "stream",
     "text": [
      "\r\u001b[32mloss: 39.6:  35%|██████████████                         |  ETA: 0:03:37\u001b[39m\u001b[K"
     ]
    },
    {
     "name": "stderr",
     "output_type": "stream",
     "text": [
      "\r\u001b[32mloss: 38:  35%|███████████████                          |  ETA: 0:03:37\u001b[39m\u001b[K"
     ]
    },
    {
     "name": "stderr",
     "output_type": "stream",
     "text": [
      "\r\u001b[32mloss: 36.2:  36%|██████████████                         |  ETA: 0:03:36\u001b[39m\u001b[K"
     ]
    },
    {
     "name": "stderr",
     "output_type": "stream",
     "text": [
      "\r\u001b[32mloss: 34.4:  36%|██████████████                         |  ETA: 0:03:35\u001b[39m\u001b[K"
     ]
    },
    {
     "name": "stderr",
     "output_type": "stream",
     "text": [
      "\r\u001b[32mloss: 32.7:  36%|███████████████                        |  ETA: 0:03:34\u001b[39m\u001b[K"
     ]
    },
    {
     "name": "stderr",
     "output_type": "stream",
     "text": [
      "\r\u001b[32mloss: 31.2:  36%|███████████████                        |  ETA: 0:03:35\u001b[39m\u001b[K"
     ]
    },
    {
     "name": "stderr",
     "output_type": "stream",
     "text": [
      "\r\u001b[32mloss: 29.6:  36%|███████████████                        |  ETA: 0:03:34\u001b[39m\u001b[K"
     ]
    },
    {
     "name": "stderr",
     "output_type": "stream",
     "text": [
      "\r\u001b[32mloss: 28.1:  37%|███████████████                        |  ETA: 0:03:33\u001b[39m\u001b[K"
     ]
    },
    {
     "name": "stderr",
     "output_type": "stream",
     "text": [
      "\r\u001b[32mloss: 26.9:  37%|███████████████                        |  ETA: 0:03:32\u001b[39m\u001b[K"
     ]
    },
    {
     "name": "stderr",
     "output_type": "stream",
     "text": [
      "\r\u001b[32mloss: 25.7:  37%|███████████████                        |  ETA: 0:03:31\u001b[39m\u001b[K"
     ]
    },
    {
     "name": "stderr",
     "output_type": "stream",
     "text": [
      "\r\u001b[32mloss: 24.5:  38%|███████████████                        |  ETA: 0:03:30\u001b[39m\u001b[K"
     ]
    },
    {
     "name": "stderr",
     "output_type": "stream",
     "text": [
      "\r\u001b[32mloss: 23.5:  38%|███████████████                        |  ETA: 0:03:31\u001b[39m\u001b[K"
     ]
    },
    {
     "name": "stderr",
     "output_type": "stream",
     "text": [
      "\r\u001b[32mloss: 22.4:  38%|███████████████                        |  ETA: 0:03:29\u001b[39m\u001b[K"
     ]
    },
    {
     "name": "stderr",
     "output_type": "stream",
     "text": [
      "\r\u001b[32mloss: 21.3:  38%|███████████████                        |  ETA: 0:03:29\u001b[39m\u001b[K"
     ]
    },
    {
     "name": "stderr",
     "output_type": "stream",
     "text": [
      "\r\u001b[32mloss: 20.4:  38%|████████████████                       |  ETA: 0:03:28\u001b[39m\u001b[K"
     ]
    },
    {
     "name": "stderr",
     "output_type": "stream",
     "text": [
      "\r\u001b[32mloss: 19.6:  39%|████████████████                       |  ETA: 0:03:28\u001b[39m\u001b[K"
     ]
    },
    {
     "name": "stderr",
     "output_type": "stream",
     "text": [
      "\r\u001b[32mloss: 18.6:  39%|████████████████                       |  ETA: 0:03:26\u001b[39m\u001b[K"
     ]
    },
    {
     "name": "stderr",
     "output_type": "stream",
     "text": [
      "\r\u001b[32mloss: 17.9:  39%|████████████████                       |  ETA: 0:03:26\u001b[39m\u001b[K"
     ]
    },
    {
     "name": "stderr",
     "output_type": "stream",
     "text": [
      "\r\u001b[32mloss: 17.2:  40%|████████████████                       |  ETA: 0:03:25\u001b[39m\u001b[K"
     ]
    },
    {
     "name": "stderr",
     "output_type": "stream",
     "text": [
      "\r\u001b[32mloss: 16.5:  40%|████████████████                       |  ETA: 0:03:24\u001b[39m\u001b[K"
     ]
    },
    {
     "name": "stderr",
     "output_type": "stream",
     "text": [
      "\r\u001b[32mloss: 16:  40%|█████████████████                        |  ETA: 0:03:23\u001b[39m\u001b[K"
     ]
    },
    {
     "name": "stderr",
     "output_type": "stream",
     "text": [
      "\r\u001b[32mloss: 15.4:  40%|████████████████                       |  ETA: 0:03:23\u001b[39m\u001b[K"
     ]
    },
    {
     "name": "stderr",
     "output_type": "stream",
     "text": [
      "\r\u001b[32mloss: 14.9:  40%|████████████████                       |  ETA: 0:03:22\u001b[39m\u001b[K"
     ]
    },
    {
     "name": "stderr",
     "output_type": "stream",
     "text": [
      "\r\u001b[32mloss: 14.5:  41%|████████████████                       |  ETA: 0:03:21\u001b[39m\u001b[K"
     ]
    },
    {
     "name": "stderr",
     "output_type": "stream",
     "text": [
      "\r\u001b[32mloss: 14:  41%|█████████████████                        |  ETA: 0:03:20\u001b[39m\u001b[K"
     ]
    },
    {
     "name": "stderr",
     "output_type": "stream",
     "text": [
      "\r\u001b[32mloss: 13.7:  41%|█████████████████                      |  ETA: 0:03:20\u001b[39m\u001b[K"
     ]
    },
    {
     "name": "stderr",
     "output_type": "stream",
     "text": [
      "\r\u001b[32mloss: 13.3:  42%|█████████████████                      |  ETA: 0:03:18\u001b[39m\u001b[K"
     ]
    },
    {
     "name": "stderr",
     "output_type": "stream",
     "text": [
      "\r\u001b[32mloss: 13:  42%|██████████████████                       |  ETA: 0:03:18\u001b[39m\u001b[K"
     ]
    },
    {
     "name": "stderr",
     "output_type": "stream",
     "text": [
      "\r\u001b[32mloss: 12.8:  42%|█████████████████                      |  ETA: 0:03:16\u001b[39m\u001b[K"
     ]
    },
    {
     "name": "stderr",
     "output_type": "stream",
     "text": [
      "\r\u001b[32mloss: 12.5:  42%|█████████████████                      |  ETA: 0:03:16\u001b[39m\u001b[K"
     ]
    },
    {
     "name": "stderr",
     "output_type": "stream",
     "text": [
      "\r\u001b[32mloss: 12.3:  42%|█████████████████                      |  ETA: 0:03:14\u001b[39m\u001b[K"
     ]
    },
    {
     "name": "stderr",
     "output_type": "stream",
     "text": [
      "\r\u001b[32mloss: 12.1:  43%|█████████████████                      |  ETA: 0:03:14\u001b[39m\u001b[K"
     ]
    },
    {
     "name": "stderr",
     "output_type": "stream",
     "text": [
      "\r\u001b[32mloss: 12:  43%|██████████████████                       |  ETA: 0:03:13\u001b[39m\u001b[K"
     ]
    },
    {
     "name": "stderr",
     "output_type": "stream",
     "text": [
      "\r\u001b[32mloss: 11.8:  43%|█████████████████                      |  ETA: 0:03:12\u001b[39m\u001b[K"
     ]
    },
    {
     "name": "stderr",
     "output_type": "stream",
     "text": [
      "\r\u001b[32mloss: 11.6:  44%|█████████████████                      |  ETA: 0:03:11\u001b[39m\u001b[K"
     ]
    },
    {
     "name": "stderr",
     "output_type": "stream",
     "text": [
      "\r\u001b[32mloss: 11.4:  44%|██████████████████                     |  ETA: 0:03:10\u001b[39m\u001b[K"
     ]
    },
    {
     "name": "stderr",
     "output_type": "stream",
     "text": [
      "\r\u001b[32mloss: 11.3:  44%|██████████████████                     |  ETA: 0:03:09\u001b[39m\u001b[K"
     ]
    },
    {
     "name": "stderr",
     "output_type": "stream",
     "text": [
      "\r\u001b[32mloss: 11.1:  44%|██████████████████                     |  ETA: 0:03:08\u001b[39m\u001b[K"
     ]
    },
    {
     "name": "stderr",
     "output_type": "stream",
     "text": [
      "\r\u001b[32mloss: 11:  44%|███████████████████                      |  ETA: 0:03:07\u001b[39m\u001b[K"
     ]
    },
    {
     "name": "stderr",
     "output_type": "stream",
     "text": [
      "\r\u001b[32mloss: 10.8:  45%|██████████████████                     |  ETA: 0:03:06\u001b[39m\u001b[K"
     ]
    },
    {
     "name": "stderr",
     "output_type": "stream",
     "text": [
      "\r\u001b[32mloss: 10.7:  45%|██████████████████                     |  ETA: 0:03:05\u001b[39m\u001b[K"
     ]
    },
    {
     "name": "stderr",
     "output_type": "stream",
     "text": [
      "\r\u001b[32mloss: 10.5:  45%|██████████████████                     |  ETA: 0:03:04\u001b[39m\u001b[K"
     ]
    },
    {
     "name": "stderr",
     "output_type": "stream",
     "text": [
      "\r\u001b[32mloss: 10.4:  46%|██████████████████                     |  ETA: 0:03:03\u001b[39m\u001b[K"
     ]
    },
    {
     "name": "stderr",
     "output_type": "stream",
     "text": [
      "\r\u001b[32mloss: 10.3:  46%|██████████████████                     |  ETA: 0:03:02\u001b[39m\u001b[K"
     ]
    },
    {
     "name": "stderr",
     "output_type": "stream",
     "text": [
      "\r\u001b[32mloss: 10.1:  46%|██████████████████                     |  ETA: 0:03:01\u001b[39m\u001b[K"
     ]
    },
    {
     "name": "stderr",
     "output_type": "stream",
     "text": [
      "\r\u001b[32mloss: 10:  46%|███████████████████                      |  ETA: 0:03:00\u001b[39m\u001b[K"
     ]
    },
    {
     "name": "stderr",
     "output_type": "stream",
     "text": [
      "\r\u001b[32mloss: 9.94:  46%|███████████████████                    |  ETA: 0:02:59\u001b[39m\u001b[K"
     ]
    },
    {
     "name": "stderr",
     "output_type": "stream",
     "text": [
      "\r\u001b[32mloss: 9.86:  47%|███████████████████                    |  ETA: 0:02:58\u001b[39m\u001b[K"
     ]
    },
    {
     "name": "stderr",
     "output_type": "stream",
     "text": [
      "\r\u001b[32mloss: 9.78:  47%|███████████████████                    |  ETA: 0:02:57\u001b[39m\u001b[K"
     ]
    },
    {
     "name": "stderr",
     "output_type": "stream",
     "text": [
      "\r\u001b[32mloss: 9.72:  47%|███████████████████                    |  ETA: 0:02:56\u001b[39m\u001b[K"
     ]
    },
    {
     "name": "stderr",
     "output_type": "stream",
     "text": [
      "\r\u001b[32mloss: 9.65:  48%|███████████████████                    |  ETA: 0:02:55\u001b[39m\u001b[K"
     ]
    },
    {
     "name": "stderr",
     "output_type": "stream",
     "text": [
      "\r\u001b[32mloss: 9.59:  48%|███████████████████                    |  ETA: 0:02:54\u001b[39m\u001b[K"
     ]
    },
    {
     "name": "stderr",
     "output_type": "stream",
     "text": [
      "\r\u001b[32mloss: 9.54:  48%|███████████████████                    |  ETA: 0:02:53\u001b[39m\u001b[K"
     ]
    },
    {
     "name": "stderr",
     "output_type": "stream",
     "text": [
      "\r\u001b[32mloss: 9.48:  48%|███████████████████                    |  ETA: 0:02:52\u001b[39m\u001b[K"
     ]
    },
    {
     "name": "stderr",
     "output_type": "stream",
     "text": [
      "\r\u001b[32mloss: 9.43:  48%|███████████████████                    |  ETA: 0:02:51\u001b[39m\u001b[K"
     ]
    },
    {
     "name": "stderr",
     "output_type": "stream",
     "text": [
      "\r\u001b[32mloss: 9.38:  49%|███████████████████                    |  ETA: 0:02:50\u001b[39m\u001b[K"
     ]
    },
    {
     "name": "stderr",
     "output_type": "stream",
     "text": [
      "\r\u001b[32mloss: 9.34:  49%|████████████████████                   |  ETA: 0:02:49\u001b[39m\u001b[K"
     ]
    },
    {
     "name": "stderr",
     "output_type": "stream",
     "text": [
      "\r\u001b[32mloss: 9.29:  49%|████████████████████                   |  ETA: 0:02:48\u001b[39m\u001b[K"
     ]
    },
    {
     "name": "stderr",
     "output_type": "stream",
     "text": [
      "\r\u001b[32mloss: 9.24:  50%|████████████████████                   |  ETA: 0:02:47\u001b[39m\u001b[K"
     ]
    },
    {
     "name": "stderr",
     "output_type": "stream",
     "text": [
      "\r\u001b[32mloss: 9.2:  50%|████████████████████                    |  ETA: 0:02:46\u001b[39m\u001b[K"
     ]
    },
    {
     "name": "stderr",
     "output_type": "stream",
     "text": [
      "\r\u001b[32mloss: 9.16:  50%|████████████████████                   |  ETA: 0:02:45\u001b[39m\u001b[K"
     ]
    },
    {
     "name": "stderr",
     "output_type": "stream",
     "text": [
      "\r\u001b[32mloss: 9.12:  50%|████████████████████                   |  ETA: 0:02:44\u001b[39m\u001b[K"
     ]
    },
    {
     "name": "stderr",
     "output_type": "stream",
     "text": [
      "\r\u001b[32mloss: 9.08:  50%|████████████████████                   |  ETA: 0:02:43\u001b[39m\u001b[K"
     ]
    },
    {
     "name": "stderr",
     "output_type": "stream",
     "text": [
      "\r\u001b[32mloss: 9.05:  51%|████████████████████                   |  ETA: 0:02:43\u001b[39m\u001b[K"
     ]
    },
    {
     "name": "stderr",
     "output_type": "stream",
     "text": [
      "\r\u001b[32mloss: 9.02:  51%|████████████████████                   |  ETA: 0:02:41\u001b[39m\u001b[K"
     ]
    },
    {
     "name": "stderr",
     "output_type": "stream",
     "text": [
      "\r\u001b[32mloss: 8.99:  51%|████████████████████                   |  ETA: 0:02:40\u001b[39m\u001b[K"
     ]
    },
    {
     "name": "stderr",
     "output_type": "stream",
     "text": [
      "\r\u001b[32mloss: 8.95:  52%|█████████████████████                  |  ETA: 0:02:39\u001b[39m\u001b[K"
     ]
    },
    {
     "name": "stderr",
     "output_type": "stream",
     "text": [
      "\r\u001b[32mloss: 8.93:  52%|█████████████████████                  |  ETA: 0:02:39\u001b[39m\u001b[K"
     ]
    },
    {
     "name": "stderr",
     "output_type": "stream",
     "text": [
      "\r\u001b[32mloss: 8.9:  52%|█████████████████████                   |  ETA: 0:02:37\u001b[39m\u001b[K"
     ]
    },
    {
     "name": "stderr",
     "output_type": "stream",
     "text": [
      "\r\u001b[32mloss: 8.87:  52%|█████████████████████                  |  ETA: 0:02:37\u001b[39m\u001b[K"
     ]
    },
    {
     "name": "stderr",
     "output_type": "stream",
     "text": [
      "\r\u001b[32mloss: 8.84:  52%|█████████████████████                  |  ETA: 0:02:35\u001b[39m\u001b[K"
     ]
    },
    {
     "name": "stderr",
     "output_type": "stream",
     "text": [
      "\r\u001b[32mloss: 8.81:  53%|█████████████████████                  |  ETA: 0:02:35\u001b[39m\u001b[K"
     ]
    },
    {
     "name": "stderr",
     "output_type": "stream",
     "text": [
      "\r\u001b[32mloss: 8.79:  53%|█████████████████████                  |  ETA: 0:02:33\u001b[39m\u001b[K"
     ]
    },
    {
     "name": "stderr",
     "output_type": "stream",
     "text": [
      "\r\u001b[32mloss: 8.76:  53%|█████████████████████                  |  ETA: 0:02:33\u001b[39m\u001b[K"
     ]
    },
    {
     "name": "stderr",
     "output_type": "stream",
     "text": [
      "\r\u001b[32mloss: 8.73:  54%|█████████████████████                  |  ETA: 0:02:31\u001b[39m\u001b[K"
     ]
    },
    {
     "name": "stderr",
     "output_type": "stream",
     "text": [
      "\r\u001b[32mloss: 8.71:  54%|█████████████████████                  |  ETA: 0:02:31\u001b[39m\u001b[K"
     ]
    },
    {
     "name": "stderr",
     "output_type": "stream",
     "text": [
      "\r\u001b[32mloss: 8.68:  54%|██████████████████████                 |  ETA: 0:02:29\u001b[39m\u001b[K"
     ]
    },
    {
     "name": "stderr",
     "output_type": "stream",
     "text": [
      "\r\u001b[32mloss: 8.65:  54%|██████████████████████                 |  ETA: 0:02:29\u001b[39m\u001b[K"
     ]
    },
    {
     "name": "stderr",
     "output_type": "stream",
     "text": [
      "\r\u001b[32mloss: 8.63:  54%|██████████████████████                 |  ETA: 0:02:27\u001b[39m\u001b[K"
     ]
    },
    {
     "name": "stderr",
     "output_type": "stream",
     "text": [
      "\r\u001b[32mloss: 8.6:  55%|██████████████████████                  |  ETA: 0:02:27\u001b[39m\u001b[K"
     ]
    },
    {
     "name": "stderr",
     "output_type": "stream",
     "text": [
      "\r\u001b[32mloss: 8.58:  55%|██████████████████████                 |  ETA: 0:02:26\u001b[39m\u001b[K"
     ]
    },
    {
     "name": "stderr",
     "output_type": "stream",
     "text": [
      "\r\u001b[32mloss: 8.55:  55%|██████████████████████                 |  ETA: 0:02:25\u001b[39m\u001b[K"
     ]
    },
    {
     "name": "stderr",
     "output_type": "stream",
     "text": [
      "\r\u001b[32mloss: 8.52:  56%|██████████████████████                 |  ETA: 0:02:24\u001b[39m\u001b[K"
     ]
    },
    {
     "name": "stderr",
     "output_type": "stream",
     "text": [
      "\r\u001b[32mloss: 8.5:  56%|███████████████████████                 |  ETA: 0:02:23\u001b[39m\u001b[K"
     ]
    },
    {
     "name": "stderr",
     "output_type": "stream",
     "text": [
      "\r\u001b[32mloss: 8.48:  56%|██████████████████████                 |  ETA: 0:02:22\u001b[39m\u001b[K"
     ]
    },
    {
     "name": "stderr",
     "output_type": "stream",
     "text": [
      "\r\u001b[32mloss: 8.45:  56%|██████████████████████                 |  ETA: 0:02:21\u001b[39m\u001b[K"
     ]
    },
    {
     "name": "stderr",
     "output_type": "stream",
     "text": [
      "\r\u001b[32mloss: 8.43:  56%|███████████████████████                |  ETA: 0:02:20\u001b[39m\u001b[K"
     ]
    },
    {
     "name": "stderr",
     "output_type": "stream",
     "text": [
      "\r\u001b[32mloss: 8.4:  57%|███████████████████████                 |  ETA: 0:02:19\u001b[39m\u001b[K"
     ]
    },
    {
     "name": "stderr",
     "output_type": "stream",
     "text": [
      "\r\u001b[32mloss: 8.38:  57%|███████████████████████                |  ETA: 0:02:18\u001b[39m\u001b[K"
     ]
    },
    {
     "name": "stderr",
     "output_type": "stream",
     "text": [
      "\r\u001b[32mloss: 8.35:  57%|███████████████████████                |  ETA: 0:02:17\u001b[39m\u001b[K"
     ]
    },
    {
     "name": "stderr",
     "output_type": "stream",
     "text": [
      "\r\u001b[32mloss: 8.33:  58%|███████████████████████                |  ETA: 0:02:16\u001b[39m\u001b[K"
     ]
    },
    {
     "name": "stderr",
     "output_type": "stream",
     "text": [
      "\r\u001b[32mloss: 8.31:  58%|███████████████████████                |  ETA: 0:02:15\u001b[39m\u001b[K"
     ]
    },
    {
     "name": "stderr",
     "output_type": "stream",
     "text": [
      "\r\u001b[32mloss: 8.28:  58%|███████████████████████                |  ETA: 0:02:14\u001b[39m\u001b[K"
     ]
    },
    {
     "name": "stderr",
     "output_type": "stream",
     "text": [
      "\r\u001b[32mloss: 8.26:  58%|███████████████████████                |  ETA: 0:02:14\u001b[39m\u001b[K"
     ]
    },
    {
     "name": "stderr",
     "output_type": "stream",
     "text": [
      "\r\u001b[32mloss: 8.23:  58%|███████████████████████                |  ETA: 0:02:13\u001b[39m\u001b[K"
     ]
    },
    {
     "name": "stderr",
     "output_type": "stream",
     "text": [
      "\r\u001b[32mloss: 8.21:  59%|███████████████████████                |  ETA: 0:02:12\u001b[39m\u001b[K"
     ]
    },
    {
     "name": "stderr",
     "output_type": "stream",
     "text": [
      "\r\u001b[32mloss: 8.19:  59%|████████████████████████               |  ETA: 0:02:11\u001b[39m\u001b[K"
     ]
    },
    {
     "name": "stderr",
     "output_type": "stream",
     "text": [
      "\r\u001b[32mloss: 8.16:  59%|████████████████████████               |  ETA: 0:02:10\u001b[39m\u001b[K"
     ]
    },
    {
     "name": "stderr",
     "output_type": "stream",
     "text": [
      "\r\u001b[32mloss: 8.14:  60%|████████████████████████               |  ETA: 0:02:09\u001b[39m\u001b[K"
     ]
    },
    {
     "name": "stderr",
     "output_type": "stream",
     "text": [
      "\r\u001b[32mloss: 8.12:  60%|████████████████████████               |  ETA: 0:02:08\u001b[39m\u001b[K"
     ]
    },
    {
     "name": "stderr",
     "output_type": "stream",
     "text": [
      "\r\u001b[32mloss: 8.09:  60%|████████████████████████               |  ETA: 0:02:07\u001b[39m\u001b[K"
     ]
    },
    {
     "name": "stderr",
     "output_type": "stream",
     "text": [
      "\r\u001b[32mloss: 8.07:  60%|████████████████████████               |  ETA: 0:02:06\u001b[39m\u001b[K"
     ]
    },
    {
     "name": "stderr",
     "output_type": "stream",
     "text": [
      "\r\u001b[32mloss: 8.05:  60%|████████████████████████               |  ETA: 0:02:05\u001b[39m\u001b[K"
     ]
    },
    {
     "name": "stderr",
     "output_type": "stream",
     "text": [
      "\r\u001b[32mloss: 8.02:  61%|████████████████████████               |  ETA: 0:02:05\u001b[39m\u001b[K"
     ]
    },
    {
     "name": "stderr",
     "output_type": "stream",
     "text": [
      "\r\u001b[32mloss: 8:  61%|██████████████████████████                |  ETA: 0:02:04\u001b[39m\u001b[K"
     ]
    },
    {
     "name": "stderr",
     "output_type": "stream",
     "text": [
      "\r\u001b[32mloss: 7.98:  61%|████████████████████████               |  ETA: 0:02:03\u001b[39m\u001b[K"
     ]
    },
    {
     "name": "stderr",
     "output_type": "stream",
     "text": [
      "\r\u001b[32mloss: 7.96:  62%|████████████████████████               |  ETA: 0:02:02\u001b[39m\u001b[K"
     ]
    },
    {
     "name": "stderr",
     "output_type": "stream",
     "text": [
      "\r\u001b[32mloss: 7.93:  62%|█████████████████████████              |  ETA: 0:02:01\u001b[39m\u001b[K"
     ]
    },
    {
     "name": "stderr",
     "output_type": "stream",
     "text": [
      "\r\u001b[32mloss: 7.91:  62%|█████████████████████████              |  ETA: 0:02:00\u001b[39m\u001b[K"
     ]
    },
    {
     "name": "stderr",
     "output_type": "stream",
     "text": [
      "\r\u001b[32mloss: 7.89:  62%|█████████████████████████              |  ETA: 0:01:59\u001b[39m\u001b[K"
     ]
    },
    {
     "name": "stderr",
     "output_type": "stream",
     "text": [
      "\r\u001b[32mloss: 7.87:  62%|█████████████████████████              |  ETA: 0:01:58\u001b[39m\u001b[K"
     ]
    },
    {
     "name": "stderr",
     "output_type": "stream",
     "text": [
      "\r\u001b[32mloss: 7.84:  63%|█████████████████████████              |  ETA: 0:01:58\u001b[39m\u001b[K"
     ]
    },
    {
     "name": "stderr",
     "output_type": "stream",
     "text": [
      "\r\u001b[32mloss: 7.82:  63%|█████████████████████████              |  ETA: 0:01:57\u001b[39m\u001b[K"
     ]
    },
    {
     "name": "stderr",
     "output_type": "stream",
     "text": [
      "\r\u001b[32mloss: 7.8:  63%|██████████████████████████              |  ETA: 0:01:56\u001b[39m\u001b[K"
     ]
    },
    {
     "name": "stderr",
     "output_type": "stream",
     "text": [
      "\r\u001b[32mloss: 7.78:  64%|█████████████████████████              |  ETA: 0:01:55\u001b[39m\u001b[K"
     ]
    },
    {
     "name": "stderr",
     "output_type": "stream",
     "text": [
      "\r\u001b[32mloss: 7.76:  64%|█████████████████████████              |  ETA: 0:01:54\u001b[39m\u001b[K"
     ]
    },
    {
     "name": "stderr",
     "output_type": "stream",
     "text": [
      "\r\u001b[32mloss: 7.73:  64%|█████████████████████████              |  ETA: 0:01:53\u001b[39m\u001b[K"
     ]
    },
    {
     "name": "stderr",
     "output_type": "stream",
     "text": [
      "\r\u001b[32mloss: 7.71:  64%|██████████████████████████             |  ETA: 0:01:53\u001b[39m\u001b[K"
     ]
    },
    {
     "name": "stderr",
     "output_type": "stream",
     "text": [
      "\r\u001b[32mloss: 7.69:  64%|██████████████████████████             |  ETA: 0:01:52\u001b[39m\u001b[K"
     ]
    },
    {
     "name": "stderr",
     "output_type": "stream",
     "text": [
      "\r\u001b[32mloss: 7.67:  65%|██████████████████████████             |  ETA: 0:01:51\u001b[39m\u001b[K"
     ]
    },
    {
     "name": "stderr",
     "output_type": "stream",
     "text": [
      "\r\u001b[32mloss: 7.65:  65%|██████████████████████████             |  ETA: 0:01:50\u001b[39m\u001b[K"
     ]
    },
    {
     "name": "stderr",
     "output_type": "stream",
     "text": [
      "\r\u001b[32mloss: 7.62:  65%|██████████████████████████             |  ETA: 0:01:49\u001b[39m\u001b[K"
     ]
    },
    {
     "name": "stderr",
     "output_type": "stream",
     "text": [
      "\r\u001b[32mloss: 7.6:  66%|███████████████████████████             |  ETA: 0:01:48\u001b[39m\u001b[K"
     ]
    },
    {
     "name": "stderr",
     "output_type": "stream",
     "text": [
      "\r\u001b[32mloss: 7.58:  66%|██████████████████████████             |  ETA: 0:01:47\u001b[39m\u001b[K"
     ]
    },
    {
     "name": "stderr",
     "output_type": "stream",
     "text": [
      "\r\u001b[32mloss: 7.56:  66%|██████████████████████████             |  ETA: 0:01:46\u001b[39m\u001b[K"
     ]
    },
    {
     "name": "stderr",
     "output_type": "stream",
     "text": [
      "\r\u001b[32mloss: 7.54:  66%|██████████████████████████             |  ETA: 0:01:46\u001b[39m\u001b[K"
     ]
    },
    {
     "name": "stderr",
     "output_type": "stream",
     "text": [
      "\r\u001b[32mloss: 7.52:  66%|██████████████████████████             |  ETA: 0:01:45\u001b[39m\u001b[K"
     ]
    },
    {
     "name": "stderr",
     "output_type": "stream",
     "text": [
      "\r\u001b[32mloss: 7.5:  67%|███████████████████████████             |  ETA: 0:01:44\u001b[39m\u001b[K"
     ]
    },
    {
     "name": "stderr",
     "output_type": "stream",
     "text": [
      "\r\u001b[32mloss: 7.48:  67%|███████████████████████████            |  ETA: 0:01:43\u001b[39m\u001b[K"
     ]
    },
    {
     "name": "stderr",
     "output_type": "stream",
     "text": [
      "\r\u001b[32mloss: 7.46:  67%|███████████████████████████            |  ETA: 0:01:42\u001b[39m\u001b[K"
     ]
    },
    {
     "name": "stderr",
     "output_type": "stream",
     "text": [
      "\r\u001b[32mloss: 7.43:  68%|███████████████████████████            |  ETA: 0:01:41\u001b[39m\u001b[K"
     ]
    },
    {
     "name": "stderr",
     "output_type": "stream",
     "text": [
      "\r\u001b[32mloss: 7.41:  68%|███████████████████████████            |  ETA: 0:01:41\u001b[39m\u001b[K"
     ]
    },
    {
     "name": "stderr",
     "output_type": "stream",
     "text": [
      "\r\u001b[32mloss: 7.39:  68%|███████████████████████████            |  ETA: 0:01:40\u001b[39m\u001b[K"
     ]
    },
    {
     "name": "stderr",
     "output_type": "stream",
     "text": [
      "\r\u001b[32mloss: 7.37:  68%|███████████████████████████            |  ETA: 0:01:39\u001b[39m\u001b[K"
     ]
    },
    {
     "name": "stderr",
     "output_type": "stream",
     "text": [
      "\r\u001b[32mloss: 7.35:  68%|███████████████████████████            |  ETA: 0:01:38\u001b[39m\u001b[K"
     ]
    },
    {
     "name": "stderr",
     "output_type": "stream",
     "text": [
      "\r\u001b[32mloss: 7.33:  69%|███████████████████████████            |  ETA: 0:01:37\u001b[39m\u001b[K"
     ]
    },
    {
     "name": "stderr",
     "output_type": "stream",
     "text": [
      "\r\u001b[32mloss: 7.31:  69%|███████████████████████████            |  ETA: 0:01:36\u001b[39m\u001b[K"
     ]
    },
    {
     "name": "stderr",
     "output_type": "stream",
     "text": [
      "\r\u001b[32mloss: 7.29:  69%|███████████████████████████            |  ETA: 0:01:36\u001b[39m\u001b[K"
     ]
    },
    {
     "name": "stderr",
     "output_type": "stream",
     "text": [
      "\r\u001b[32mloss: 7.27:  70%|████████████████████████████           |  ETA: 0:01:35\u001b[39m\u001b[K"
     ]
    },
    {
     "name": "stderr",
     "output_type": "stream",
     "text": [
      "\r\u001b[32mloss: 7.25:  70%|████████████████████████████           |  ETA: 0:01:34\u001b[39m\u001b[K"
     ]
    },
    {
     "name": "stderr",
     "output_type": "stream",
     "text": [
      "\r\u001b[32mloss: 7.23:  70%|████████████████████████████           |  ETA: 0:01:33\u001b[39m\u001b[K"
     ]
    },
    {
     "name": "stderr",
     "output_type": "stream",
     "text": [
      "\r\u001b[32mloss: 7.21:  70%|████████████████████████████           |  ETA: 0:01:32\u001b[39m\u001b[K"
     ]
    },
    {
     "name": "stderr",
     "output_type": "stream",
     "text": [
      "\r\u001b[32mloss: 7.19:  70%|████████████████████████████           |  ETA: 0:01:31\u001b[39m\u001b[K"
     ]
    },
    {
     "name": "stderr",
     "output_type": "stream",
     "text": [
      "\r\u001b[32mloss: 7.17:  71%|████████████████████████████           |  ETA: 0:01:31\u001b[39m\u001b[K"
     ]
    },
    {
     "name": "stderr",
     "output_type": "stream",
     "text": [
      "\r\u001b[32mloss: 7.15:  71%|████████████████████████████           |  ETA: 0:01:30\u001b[39m\u001b[K"
     ]
    },
    {
     "name": "stderr",
     "output_type": "stream",
     "text": [
      "\r\u001b[32mloss: 7.13:  71%|████████████████████████████           |  ETA: 0:01:29\u001b[39m\u001b[K"
     ]
    },
    {
     "name": "stderr",
     "output_type": "stream",
     "text": [
      "\r\u001b[32mloss: 7.11:  72%|████████████████████████████           |  ETA: 0:01:28\u001b[39m\u001b[K"
     ]
    },
    {
     "name": "stderr",
     "output_type": "stream",
     "text": [
      "\r\u001b[32mloss: 7.1:  72%|█████████████████████████████           |  ETA: 0:01:27\u001b[39m\u001b[K"
     ]
    },
    {
     "name": "stderr",
     "output_type": "stream",
     "text": [
      "\r\u001b[32mloss: 7.08:  72%|█████████████████████████████          |  ETA: 0:01:26\u001b[39m\u001b[K"
     ]
    },
    {
     "name": "stderr",
     "output_type": "stream",
     "text": [
      "\r\u001b[32mloss: 7.06:  72%|█████████████████████████████          |  ETA: 0:01:26\u001b[39m\u001b[K"
     ]
    },
    {
     "name": "stderr",
     "output_type": "stream",
     "text": [
      "\r\u001b[32mloss: 7.04:  72%|█████████████████████████████          |  ETA: 0:01:25\u001b[39m\u001b[K"
     ]
    },
    {
     "name": "stderr",
     "output_type": "stream",
     "text": [
      "\r\u001b[32mloss: 7.02:  73%|█████████████████████████████          |  ETA: 0:01:24\u001b[39m\u001b[K"
     ]
    },
    {
     "name": "stderr",
     "output_type": "stream",
     "text": [
      "\r\u001b[32mloss: 7:  73%|███████████████████████████████           |  ETA: 0:01:23\u001b[39m\u001b[K"
     ]
    },
    {
     "name": "stderr",
     "output_type": "stream",
     "text": [
      "\r\u001b[32mloss: 6.98:  73%|█████████████████████████████          |  ETA: 0:01:23\u001b[39m\u001b[K"
     ]
    },
    {
     "name": "stderr",
     "output_type": "stream",
     "text": [
      "\r\u001b[32mloss: 6.97:  74%|█████████████████████████████          |  ETA: 0:01:22\u001b[39m\u001b[K"
     ]
    },
    {
     "name": "stderr",
     "output_type": "stream",
     "text": [
      "\r\u001b[32mloss: 6.96:  74%|█████████████████████████████          |  ETA: 0:01:21\u001b[39m\u001b[K"
     ]
    },
    {
     "name": "stderr",
     "output_type": "stream",
     "text": [
      "\r\u001b[32mloss: 6.96:  74%|█████████████████████████████          |  ETA: 0:01:20\u001b[39m\u001b[K"
     ]
    },
    {
     "name": "stderr",
     "output_type": "stream",
     "text": [
      "\r\u001b[32mloss: 7.03:  74%|█████████████████████████████          |  ETA: 0:01:20\u001b[39m\u001b[K"
     ]
    },
    {
     "name": "stderr",
     "output_type": "stream",
     "text": [
      "\r\u001b[32mloss: 7.19:  74%|██████████████████████████████         |  ETA: 0:01:19\u001b[39m\u001b[K"
     ]
    },
    {
     "name": "stderr",
     "output_type": "stream",
     "text": [
      "\r\u001b[32mloss: 7.47:  75%|██████████████████████████████         |  ETA: 0:01:18\u001b[39m\u001b[K"
     ]
    },
    {
     "name": "stderr",
     "output_type": "stream",
     "text": [
      "\r\u001b[32mloss: 7.08:  75%|██████████████████████████████         |  ETA: 0:01:17\u001b[39m\u001b[K"
     ]
    },
    {
     "name": "stderr",
     "output_type": "stream",
     "text": [
      "\r\u001b[32mloss: 6.85:  75%|██████████████████████████████         |  ETA: 0:01:17\u001b[39m\u001b[K"
     ]
    },
    {
     "name": "stderr",
     "output_type": "stream",
     "text": [
      "\r\u001b[32mloss: 7.07:  76%|██████████████████████████████         |  ETA: 0:01:16\u001b[39m\u001b[K"
     ]
    },
    {
     "name": "stderr",
     "output_type": "stream",
     "text": [
      "\r\u001b[32mloss: 6.98:  76%|██████████████████████████████         |  ETA: 0:01:15\u001b[39m\u001b[K"
     ]
    },
    {
     "name": "stderr",
     "output_type": "stream",
     "text": [
      "\r\u001b[32mloss: 6.81:  76%|██████████████████████████████         |  ETA: 0:01:14\u001b[39m\u001b[K"
     ]
    },
    {
     "name": "stderr",
     "output_type": "stream",
     "text": [
      "\r\u001b[32mloss: 6.91:  76%|██████████████████████████████         |  ETA: 0:01:14\u001b[39m\u001b[K"
     ]
    },
    {
     "name": "stderr",
     "output_type": "stream",
     "text": [
      "\r\u001b[32mloss: 6.87:  76%|██████████████████████████████         |  ETA: 0:01:13\u001b[39m\u001b[K"
     ]
    },
    {
     "name": "stderr",
     "output_type": "stream",
     "text": [
      "\r\u001b[32mloss: 6.77:  77%|██████████████████████████████         |  ETA: 0:01:12\u001b[39m\u001b[K"
     ]
    },
    {
     "name": "stderr",
     "output_type": "stream",
     "text": [
      "\r\u001b[32mloss: 6.83:  77%|███████████████████████████████        |  ETA: 0:01:11\u001b[39m\u001b[K"
     ]
    },
    {
     "name": "stderr",
     "output_type": "stream",
     "text": [
      "\r\u001b[32mloss: 6.8:  77%|███████████████████████████████         |  ETA: 0:01:11\u001b[39m\u001b[K"
     ]
    },
    {
     "name": "stderr",
     "output_type": "stream",
     "text": [
      "\r\u001b[32mloss: 6.73:  78%|███████████████████████████████        |  ETA: 0:01:10\u001b[39m\u001b[K"
     ]
    },
    {
     "name": "stderr",
     "output_type": "stream",
     "text": [
      "\r\u001b[32mloss: 6.77:  78%|███████████████████████████████        |  ETA: 0:01:09\u001b[39m\u001b[K"
     ]
    },
    {
     "name": "stderr",
     "output_type": "stream",
     "text": [
      "\r\u001b[32mloss: 6.74:  78%|███████████████████████████████        |  ETA: 0:01:08\u001b[39m\u001b[K"
     ]
    },
    {
     "name": "stderr",
     "output_type": "stream",
     "text": [
      "\r\u001b[32mloss: 6.7:  78%|████████████████████████████████        |  ETA: 0:01:08\u001b[39m\u001b[K"
     ]
    },
    {
     "name": "stderr",
     "output_type": "stream",
     "text": [
      "\r\u001b[32mloss: 6.72:  78%|███████████████████████████████        |  ETA: 0:01:07\u001b[39m\u001b[K"
     ]
    },
    {
     "name": "stderr",
     "output_type": "stream",
     "text": [
      "\r\u001b[32mloss: 6.69:  79%|███████████████████████████████        |  ETA: 0:01:06\u001b[39m\u001b[K"
     ]
    },
    {
     "name": "stderr",
     "output_type": "stream",
     "text": [
      "\r\u001b[32mloss: 6.66:  79%|███████████████████████████████        |  ETA: 0:01:05\u001b[39m\u001b[K"
     ]
    },
    {
     "name": "stderr",
     "output_type": "stream",
     "text": [
      "\r\u001b[32mloss: 6.67:  79%|███████████████████████████████        |  ETA: 0:01:05\u001b[39m\u001b[K"
     ]
    },
    {
     "name": "stderr",
     "output_type": "stream",
     "text": [
      "\r\u001b[32mloss: 6.65:  80%|████████████████████████████████       |  ETA: 0:01:04\u001b[39m\u001b[K"
     ]
    },
    {
     "name": "stderr",
     "output_type": "stream",
     "text": [
      "\r\u001b[32mloss: 6.63:  80%|████████████████████████████████       |  ETA: 0:01:03\u001b[39m\u001b[K"
     ]
    },
    {
     "name": "stderr",
     "output_type": "stream",
     "text": [
      "\r\u001b[32mloss: 6.63:  80%|████████████████████████████████       |  ETA: 0:01:02\u001b[39m\u001b[K"
     ]
    },
    {
     "name": "stderr",
     "output_type": "stream",
     "text": [
      "\r\u001b[32mloss: 6.61:  80%|████████████████████████████████       |  ETA: 0:01:01\u001b[39m\u001b[K"
     ]
    },
    {
     "name": "stderr",
     "output_type": "stream",
     "text": [
      "\r\u001b[32mloss: 6.59:  80%|████████████████████████████████       |  ETA: 0:01:00\u001b[39m\u001b[K"
     ]
    },
    {
     "name": "stderr",
     "output_type": "stream",
     "text": [
      "\r\u001b[32mloss: 6.59:  81%|████████████████████████████████       |  ETA: 0:01:00\u001b[39m\u001b[K"
     ]
    },
    {
     "name": "stderr",
     "output_type": "stream",
     "text": [
      "\r\u001b[32mloss: 6.57:  81%|████████████████████████████████       |  ETA: 0:00:59\u001b[39m\u001b[K"
     ]
    },
    {
     "name": "stderr",
     "output_type": "stream",
     "text": [
      "\r\u001b[32mloss: 6.56:  81%|████████████████████████████████       |  ETA: 0:00:58\u001b[39m\u001b[K"
     ]
    },
    {
     "name": "stderr",
     "output_type": "stream",
     "text": [
      "\r\u001b[32mloss: 6.55:  82%|████████████████████████████████       |  ETA: 0:00:57\u001b[39m\u001b[K"
     ]
    },
    {
     "name": "stderr",
     "output_type": "stream",
     "text": [
      "\r\u001b[32mloss: 6.54:  82%|████████████████████████████████       |  ETA: 0:00:57\u001b[39m\u001b[K"
     ]
    },
    {
     "name": "stderr",
     "output_type": "stream",
     "text": [
      "\r\u001b[32mloss: 6.52:  82%|████████████████████████████████       |  ETA: 0:00:56\u001b[39m\u001b[K"
     ]
    },
    {
     "name": "stderr",
     "output_type": "stream",
     "text": [
      "\r\u001b[32mloss: 6.51:  82%|█████████████████████████████████      |  ETA: 0:00:55\u001b[39m\u001b[K"
     ]
    },
    {
     "name": "stderr",
     "output_type": "stream",
     "text": [
      "\r\u001b[32mloss: 6.5:  82%|██████████████████████████████████      |  ETA: 0:00:54\u001b[39m\u001b[K"
     ]
    },
    {
     "name": "stderr",
     "output_type": "stream",
     "text": [
      "\r\u001b[32mloss: 6.49:  83%|█████████████████████████████████      |  ETA: 0:00:54\u001b[39m\u001b[K"
     ]
    },
    {
     "name": "stderr",
     "output_type": "stream",
     "text": [
      "\r\u001b[32mloss: 6.48:  83%|█████████████████████████████████      |  ETA: 0:00:53\u001b[39m\u001b[K"
     ]
    },
    {
     "name": "stderr",
     "output_type": "stream",
     "text": [
      "\r\u001b[32mloss: 6.47:  83%|█████████████████████████████████      |  ETA: 0:00:52\u001b[39m\u001b[K"
     ]
    },
    {
     "name": "stderr",
     "output_type": "stream",
     "text": [
      "\r\u001b[32mloss: 6.46:  84%|█████████████████████████████████      |  ETA: 0:00:51\u001b[39m\u001b[K"
     ]
    },
    {
     "name": "stderr",
     "output_type": "stream",
     "text": [
      "\r\u001b[32mloss: 6.44:  84%|█████████████████████████████████      |  ETA: 0:00:50\u001b[39m\u001b[K"
     ]
    },
    {
     "name": "stderr",
     "output_type": "stream",
     "text": [
      "\r\u001b[32mloss: 6.44:  84%|█████████████████████████████████      |  ETA: 0:00:50\u001b[39m\u001b[K"
     ]
    },
    {
     "name": "stderr",
     "output_type": "stream",
     "text": [
      "\r\u001b[32mloss: 6.43:  84%|█████████████████████████████████      |  ETA: 0:00:49\u001b[39m\u001b[K"
     ]
    },
    {
     "name": "stderr",
     "output_type": "stream",
     "text": [
      "\r\u001b[32mloss: 6.41:  84%|█████████████████████████████████      |  ETA: 0:00:48\u001b[39m\u001b[K"
     ]
    },
    {
     "name": "stderr",
     "output_type": "stream",
     "text": [
      "\r\u001b[32mloss: 6.4:  85%|██████████████████████████████████      |  ETA: 0:00:47\u001b[39m\u001b[K"
     ]
    },
    {
     "name": "stderr",
     "output_type": "stream",
     "text": [
      "\r\u001b[32mloss: 6.39:  85%|██████████████████████████████████     |  ETA: 0:00:46\u001b[39m\u001b[K"
     ]
    },
    {
     "name": "stderr",
     "output_type": "stream",
     "text": [
      "\r\u001b[32mloss: 6.38:  85%|██████████████████████████████████     |  ETA: 0:00:46\u001b[39m\u001b[K"
     ]
    },
    {
     "name": "stderr",
     "output_type": "stream",
     "text": [
      "\r\u001b[32mloss: 6.37:  86%|██████████████████████████████████     |  ETA: 0:00:45\u001b[39m\u001b[K"
     ]
    },
    {
     "name": "stderr",
     "output_type": "stream",
     "text": [
      "\r\u001b[32mloss: 6.36:  86%|██████████████████████████████████     |  ETA: 0:00:44\u001b[39m\u001b[K"
     ]
    },
    {
     "name": "stderr",
     "output_type": "stream",
     "text": [
      "\r\u001b[32mloss: 6.35:  86%|██████████████████████████████████     |  ETA: 0:00:43\u001b[39m\u001b[K"
     ]
    },
    {
     "name": "stderr",
     "output_type": "stream",
     "text": [
      "\r\u001b[32mloss: 6.34:  86%|██████████████████████████████████     |  ETA: 0:00:43\u001b[39m\u001b[K"
     ]
    },
    {
     "name": "stderr",
     "output_type": "stream",
     "text": [
      "\r\u001b[32mloss: 6.33:  86%|██████████████████████████████████     |  ETA: 0:00:42\u001b[39m\u001b[K"
     ]
    },
    {
     "name": "stderr",
     "output_type": "stream",
     "text": [
      "\r\u001b[32mloss: 6.32:  87%|██████████████████████████████████     |  ETA: 0:00:41\u001b[39m\u001b[K"
     ]
    },
    {
     "name": "stderr",
     "output_type": "stream",
     "text": [
      "\r\u001b[32mloss: 6.31:  87%|██████████████████████████████████     |  ETA: 0:00:40\u001b[39m\u001b[K"
     ]
    },
    {
     "name": "stderr",
     "output_type": "stream",
     "text": [
      "\r\u001b[32mloss: 6.3:  87%|███████████████████████████████████     |  ETA: 0:00:40\u001b[39m\u001b[K"
     ]
    },
    {
     "name": "stderr",
     "output_type": "stream",
     "text": [
      "\r\u001b[32mloss: 6.29:  88%|███████████████████████████████████    |  ETA: 0:00:39\u001b[39m\u001b[K"
     ]
    },
    {
     "name": "stderr",
     "output_type": "stream",
     "text": [
      "\r\u001b[32mloss: 6.28:  88%|███████████████████████████████████    |  ETA: 0:00:38\u001b[39m\u001b[K"
     ]
    },
    {
     "name": "stderr",
     "output_type": "stream",
     "text": [
      "\r\u001b[32mloss: 6.27:  88%|███████████████████████████████████    |  ETA: 0:00:37\u001b[39m\u001b[K"
     ]
    },
    {
     "name": "stderr",
     "output_type": "stream",
     "text": [
      "\r\u001b[32mloss: 6.26:  88%|███████████████████████████████████    |  ETA: 0:00:36\u001b[39m\u001b[K"
     ]
    },
    {
     "name": "stderr",
     "output_type": "stream",
     "text": [
      "\r\u001b[32mloss: 6.25:  88%|███████████████████████████████████    |  ETA: 0:00:35\u001b[39m\u001b[K"
     ]
    },
    {
     "name": "stderr",
     "output_type": "stream",
     "text": [
      "\r\u001b[32mloss: 6.24:  89%|███████████████████████████████████    |  ETA: 0:00:35\u001b[39m\u001b[K"
     ]
    },
    {
     "name": "stderr",
     "output_type": "stream",
     "text": [
      "\r\u001b[32mloss: 6.23:  89%|███████████████████████████████████    |  ETA: 0:00:34\u001b[39m\u001b[K"
     ]
    },
    {
     "name": "stderr",
     "output_type": "stream",
     "text": [
      "\r\u001b[32mloss: 6.22:  89%|███████████████████████████████████    |  ETA: 0:00:33\u001b[39m\u001b[K"
     ]
    },
    {
     "name": "stderr",
     "output_type": "stream",
     "text": [
      "\r\u001b[32mloss: 6.21:  90%|███████████████████████████████████    |  ETA: 0:00:32\u001b[39m\u001b[K"
     ]
    },
    {
     "name": "stderr",
     "output_type": "stream",
     "text": [
      "\r\u001b[32mloss: 6.2:  90%|████████████████████████████████████    |  ETA: 0:00:32\u001b[39m\u001b[K"
     ]
    },
    {
     "name": "stderr",
     "output_type": "stream",
     "text": [
      "\r\u001b[32mloss: 6.19:  90%|████████████████████████████████████   |  ETA: 0:00:31\u001b[39m\u001b[K"
     ]
    },
    {
     "name": "stderr",
     "output_type": "stream",
     "text": [
      "\r\u001b[32mloss: 6.18:  90%|████████████████████████████████████   |  ETA: 0:00:30\u001b[39m\u001b[K"
     ]
    },
    {
     "name": "stderr",
     "output_type": "stream",
     "text": [
      "\r\u001b[32mloss: 6.17:  90%|████████████████████████████████████   |  ETA: 0:00:29\u001b[39m\u001b[K"
     ]
    },
    {
     "name": "stderr",
     "output_type": "stream",
     "text": [
      "\r\u001b[32mloss: 6.16:  91%|████████████████████████████████████   |  ETA: 0:00:29\u001b[39m\u001b[K"
     ]
    },
    {
     "name": "stderr",
     "output_type": "stream",
     "text": [
      "\r\u001b[32mloss: 6.15:  91%|████████████████████████████████████   |  ETA: 0:00:28\u001b[39m\u001b[K"
     ]
    },
    {
     "name": "stderr",
     "output_type": "stream",
     "text": [
      "\r\u001b[32mloss: 6.14:  91%|████████████████████████████████████   |  ETA: 0:00:27\u001b[39m\u001b[K"
     ]
    },
    {
     "name": "stderr",
     "output_type": "stream",
     "text": [
      "\r\u001b[32mloss: 6.13:  92%|████████████████████████████████████   |  ETA: 0:00:26\u001b[39m\u001b[K"
     ]
    },
    {
     "name": "stderr",
     "output_type": "stream",
     "text": [
      "\r\u001b[32mloss: 6.12:  92%|████████████████████████████████████   |  ETA: 0:00:25\u001b[39m\u001b[K"
     ]
    },
    {
     "name": "stderr",
     "output_type": "stream",
     "text": [
      "\r\u001b[32mloss: 6.11:  92%|████████████████████████████████████   |  ETA: 0:00:25\u001b[39m\u001b[K"
     ]
    },
    {
     "name": "stderr",
     "output_type": "stream",
     "text": [
      "\r\u001b[32mloss: 6.11:  92%|████████████████████████████████████   |  ETA: 0:00:24\u001b[39m\u001b[K"
     ]
    },
    {
     "name": "stderr",
     "output_type": "stream",
     "text": [
      "\r\u001b[32mloss: 6.1:  92%|██████████████████████████████████████  |  ETA: 0:00:23\u001b[39m\u001b[K"
     ]
    },
    {
     "name": "stderr",
     "output_type": "stream",
     "text": [
      "\r\u001b[32mloss: 6.09:  93%|█████████████████████████████████████  |  ETA: 0:00:22\u001b[39m\u001b[K"
     ]
    },
    {
     "name": "stderr",
     "output_type": "stream",
     "text": [
      "\r\u001b[32mloss: 6.08:  93%|█████████████████████████████████████  |  ETA: 0:00:21\u001b[39m\u001b[K"
     ]
    },
    {
     "name": "stderr",
     "output_type": "stream",
     "text": [
      "\r\u001b[32mloss: 6.07:  93%|█████████████████████████████████████  |  ETA: 0:00:21\u001b[39m\u001b[K"
     ]
    },
    {
     "name": "stderr",
     "output_type": "stream",
     "text": [
      "\r\u001b[32mloss: 6.06:  94%|█████████████████████████████████████  |  ETA: 0:00:20\u001b[39m\u001b[K"
     ]
    },
    {
     "name": "stderr",
     "output_type": "stream",
     "text": [
      "\r\u001b[32mloss: 6.06:  94%|█████████████████████████████████████  |  ETA: 0:00:19\u001b[39m\u001b[K"
     ]
    },
    {
     "name": "stderr",
     "output_type": "stream",
     "text": [
      "\r\u001b[32mloss: 6.05:  94%|█████████████████████████████████████  |  ETA: 0:00:18\u001b[39m\u001b[K"
     ]
    },
    {
     "name": "stderr",
     "output_type": "stream",
     "text": [
      "\r\u001b[32mloss: 6.05:  94%|█████████████████████████████████████  |  ETA: 0:00:18\u001b[39m\u001b[K"
     ]
    },
    {
     "name": "stderr",
     "output_type": "stream",
     "text": [
      "\r\u001b[32mloss: 6.06:  94%|█████████████████████████████████████  |  ETA: 0:00:17\u001b[39m\u001b[K"
     ]
    },
    {
     "name": "stderr",
     "output_type": "stream",
     "text": [
      "\r\u001b[32mloss: 6.1:  95%|██████████████████████████████████████  |  ETA: 0:00:16\u001b[39m\u001b[K"
     ]
    },
    {
     "name": "stderr",
     "output_type": "stream",
     "text": [
      "\r\u001b[32mloss: 6.16:  95%|██████████████████████████████████████ |  ETA: 0:00:15\u001b[39m\u001b[K"
     ]
    },
    {
     "name": "stderr",
     "output_type": "stream",
     "text": [
      "\r\u001b[32mloss: 6.3:  95%|███████████████████████████████████████ |  ETA: 0:00:15\u001b[39m\u001b[K"
     ]
    },
    {
     "name": "stderr",
     "output_type": "stream",
     "text": [
      "\r\u001b[32mloss: 6.31:  96%|██████████████████████████████████████ |  ETA: 0:00:14\u001b[39m\u001b[K"
     ]
    },
    {
     "name": "stderr",
     "output_type": "stream",
     "text": [
      "\r\u001b[32mloss: 6.27:  96%|██████████████████████████████████████ |  ETA: 0:00:13\u001b[39m\u001b[K"
     ]
    },
    {
     "name": "stderr",
     "output_type": "stream",
     "text": [
      "\r\u001b[32mloss: 6.03:  96%|██████████████████████████████████████ |  ETA: 0:00:12\u001b[39m\u001b[K"
     ]
    },
    {
     "name": "stderr",
     "output_type": "stream",
     "text": [
      "\r\u001b[32mloss: 5.99:  96%|██████████████████████████████████████ |  ETA: 0:00:12\u001b[39m\u001b[K"
     ]
    },
    {
     "name": "stderr",
     "output_type": "stream",
     "text": [
      "\r\u001b[32mloss: 6.14:  96%|██████████████████████████████████████ |  ETA: 0:00:11\u001b[39m\u001b[K"
     ]
    },
    {
     "name": "stderr",
     "output_type": "stream",
     "text": [
      "\r\u001b[32mloss: 6.11:  97%|██████████████████████████████████████ |  ETA: 0:00:10\u001b[39m\u001b[K"
     ]
    },
    {
     "name": "stderr",
     "output_type": "stream",
     "text": [
      "\r\u001b[32mloss: 5.99:  97%|██████████████████████████████████████ |  ETA: 0:00:09\u001b[39m\u001b[K"
     ]
    },
    {
     "name": "stderr",
     "output_type": "stream",
     "text": [
      "\r\u001b[32mloss: 5.95:  97%|██████████████████████████████████████ |  ETA: 0:00:09\u001b[39m\u001b[K"
     ]
    },
    {
     "name": "stderr",
     "output_type": "stream",
     "text": [
      "\r\u001b[32mloss: 6.03:  98%|███████████████████████████████████████|  ETA: 0:00:08\u001b[39m\u001b[K"
     ]
    },
    {
     "name": "stderr",
     "output_type": "stream",
     "text": [
      "\r\u001b[32mloss: 6.05:  98%|███████████████████████████████████████|  ETA: 0:00:07\u001b[39m\u001b[K"
     ]
    },
    {
     "name": "stderr",
     "output_type": "stream",
     "text": [
      "\r\u001b[32mloss: 5.94:  98%|███████████████████████████████████████|  ETA: 0:00:06\u001b[39m\u001b[K"
     ]
    },
    {
     "name": "stderr",
     "output_type": "stream",
     "text": [
      "\r\u001b[32mloss: 5.94:  98%|███████████████████████████████████████|  ETA: 0:00:06\u001b[39m\u001b[K"
     ]
    },
    {
     "name": "stderr",
     "output_type": "stream",
     "text": [
      "\r\u001b[32mloss: 6.01:  98%|███████████████████████████████████████|  ETA: 0:00:05\u001b[39m\u001b[K"
     ]
    },
    {
     "name": "stderr",
     "output_type": "stream",
     "text": [
      "\r\u001b[32mloss: 5.95:  99%|███████████████████████████████████████|  ETA: 0:00:04\u001b[39m\u001b[K"
     ]
    },
    {
     "name": "stderr",
     "output_type": "stream",
     "text": [
      "\r\u001b[32mloss: 5.9:  99%|████████████████████████████████████████|  ETA: 0:00:03\u001b[39m\u001b[K"
     ]
    },
    {
     "name": "stderr",
     "output_type": "stream",
     "text": [
      "\r\u001b[32mloss: 5.93:  99%|███████████████████████████████████████|  ETA: 0:00:02\u001b[39m\u001b[K"
     ]
    },
    {
     "name": "stderr",
     "output_type": "stream",
     "text": [
      "\r\u001b[32mloss: 5.94: 100%|███████████████████████████████████████|  ETA: 0:00:02\u001b[39m\u001b[K"
     ]
    },
    {
     "name": "stderr",
     "output_type": "stream",
     "text": [
      "\r\u001b[32mloss: 5.89: 100%|███████████████████████████████████████|  ETA: 0:00:01\u001b[39m\u001b[K"
     ]
    },
    {
     "name": "stderr",
     "output_type": "stream",
     "text": [
      "\r\u001b[32mloss: 5.87: 100%|███████████████████████████████████████| Time: 0:05:11\u001b[39m\u001b[K\n"
     ]
    },
    {
     "name": "stderr",
     "output_type": "stream",
     "text": [
      "\r\u001b[32mloss: 24:   0%|█                                        |  ETA: 0:08:37\u001b[39m\u001b[K"
     ]
    },
    {
     "name": "stderr",
     "output_type": "stream",
     "text": [
      "\r\u001b[32mloss: 6.78:   1%|█                                      |  ETA: 0:09:51\u001b[39m\u001b[K"
     ]
    },
    {
     "name": "stderr",
     "output_type": "stream",
     "text": [
      "\r\u001b[32mloss: 8.36:   1%|█                                      |  ETA: 0:09:19\u001b[39m\u001b[K"
     ]
    },
    {
     "name": "stderr",
     "output_type": "stream",
     "text": [
      "\r\u001b[32mloss: 13.7:   1%|█                                      |  ETA: 0:10:13\u001b[39m\u001b[K"
     ]
    },
    {
     "name": "stderr",
     "output_type": "stream",
     "text": [
      "\r\u001b[32mloss: 15.4:   2%|█                                      |  ETA: 0:10:13\u001b[39m\u001b[K"
     ]
    },
    {
     "name": "stderr",
     "output_type": "stream",
     "text": [
      "\r\u001b[32mloss: 13.7:   2%|█                                      |  ETA: 0:10:50\u001b[39m\u001b[K"
     ]
    },
    {
     "name": "stderr",
     "output_type": "stream",
     "text": [
      "\r\u001b[32mloss: 10.3:   2%|█                                      |  ETA: 0:10:32\u001b[39m\u001b[K"
     ]
    },
    {
     "name": "stderr",
     "output_type": "stream",
     "text": [
      "\r\u001b[32mloss: 7.1:   2%|█                                       |  ETA: 0:10:28\u001b[39m\u001b[K"
     ]
    },
    {
     "name": "stderr",
     "output_type": "stream",
     "text": [
      "\r\u001b[32mloss: 6.03:   2%|█                                      |  ETA: 0:09:43\u001b[39m\u001b[K"
     ]
    },
    {
     "name": "stderr",
     "output_type": "stream",
     "text": [
      "\r\u001b[32mloss: 7.58:   3%|██                                     |  ETA: 0:09:53\u001b[39m\u001b[K"
     ]
    },
    {
     "name": "stderr",
     "output_type": "stream",
     "text": [
      "\r\u001b[32mloss: 9.76:   3%|██                                     |  ETA: 0:09:50\u001b[39m\u001b[K"
     ]
    },
    {
     "name": "stderr",
     "output_type": "stream",
     "text": [
      "\r\u001b[32mloss: 10:   3%|██                                       |  ETA: 0:10:01\u001b[39m\u001b[K"
     ]
    },
    {
     "name": "stderr",
     "output_type": "stream",
     "text": [
      "\r\u001b[32mloss: 8.39:   4%|██                                     |  ETA: 0:09:55\u001b[39m\u001b[K"
     ]
    },
    {
     "name": "stderr",
     "output_type": "stream",
     "text": [
      "\r\u001b[32mloss: 6.65:   4%|██                                     |  ETA: 0:09:56\u001b[39m\u001b[K"
     ]
    },
    {
     "name": "stderr",
     "output_type": "stream",
     "text": [
      "\r\u001b[32mloss: 6.05:   4%|██                                     |  ETA: 0:09:27\u001b[39m\u001b[K"
     ]
    },
    {
     "name": "stderr",
     "output_type": "stream",
     "text": [
      "\r\u001b[32mloss: 6.54:   4%|██                                     |  ETA: 0:09:23\u001b[39m\u001b[K"
     ]
    },
    {
     "name": "stderr",
     "output_type": "stream",
     "text": [
      "\r\u001b[32mloss: 7.41:   4%|██                                     |  ETA: 0:09:16\u001b[39m\u001b[K"
     ]
    },
    {
     "name": "stderr",
     "output_type": "stream",
     "text": [
      "\r\u001b[32mloss: 7.96:   5%|██                                     |  ETA: 0:09:19\u001b[39m\u001b[K"
     ]
    },
    {
     "name": "stderr",
     "output_type": "stream",
     "text": [
      "\r\u001b[32mloss: 7.9:   5%|███                                     |  ETA: 0:09:10\u001b[39m\u001b[K"
     ]
    },
    {
     "name": "stderr",
     "output_type": "stream",
     "text": [
      "\r\u001b[32mloss: 7.31:   5%|███                                    |  ETA: 0:09:13\u001b[39m\u001b[K"
     ]
    },
    {
     "name": "stderr",
     "output_type": "stream",
     "text": [
      "\r\u001b[32mloss: 6.55:   6%|███                                    |  ETA: 0:09:01\u001b[39m\u001b[K"
     ]
    },
    {
     "name": "stderr",
     "output_type": "stream",
     "text": [
      "\r\u001b[32mloss: 6.04:   6%|███                                    |  ETA: 0:08:56\u001b[39m\u001b[K"
     ]
    },
    {
     "name": "stderr",
     "output_type": "stream",
     "text": [
      "\r\u001b[32mloss: 6.06:   6%|███                                    |  ETA: 0:08:45\u001b[39m\u001b[K"
     ]
    },
    {
     "name": "stderr",
     "output_type": "stream",
     "text": [
      "\r\u001b[32mloss: 6.48:   6%|███                                    |  ETA: 0:08:48\u001b[39m\u001b[K"
     ]
    },
    {
     "name": "stderr",
     "output_type": "stream",
     "text": [
      "\r\u001b[32mloss: 6.87:   6%|███                                    |  ETA: 0:08:45\u001b[39m\u001b[K"
     ]
    },
    {
     "name": "stderr",
     "output_type": "stream",
     "text": [
      "\r\u001b[32mloss: 6.85:   7%|███                                    |  ETA: 0:08:49\u001b[39m\u001b[K"
     ]
    },
    {
     "name": "stderr",
     "output_type": "stream",
     "text": [
      "\r\u001b[32mloss: 6.47:   7%|███                                    |  ETA: 0:08:41\u001b[39m\u001b[K"
     ]
    },
    {
     "name": "stderr",
     "output_type": "stream",
     "text": [
      "\r\u001b[32mloss: 6.06:   7%|███                                    |  ETA: 0:08:39\u001b[39m\u001b[K"
     ]
    },
    {
     "name": "stderr",
     "output_type": "stream",
     "text": [
      "\r\u001b[32mloss: 5.91:   8%|███                                    |  ETA: 0:08:28\u001b[39m\u001b[K"
     ]
    },
    {
     "name": "stderr",
     "output_type": "stream",
     "text": [
      "\r\u001b[32mloss: 6.05:   8%|████                                   |  ETA: 0:08:28\u001b[39m\u001b[K"
     ]
    },
    {
     "name": "stderr",
     "output_type": "stream",
     "text": [
      "\r\u001b[32mloss: 6.28:   8%|████                                   |  ETA: 0:08:22\u001b[39m\u001b[K"
     ]
    },
    {
     "name": "stderr",
     "output_type": "stream",
     "text": [
      "\r\u001b[32mloss: 6.4:   8%|████                                    |  ETA: 0:08:26\u001b[39m\u001b[K"
     ]
    },
    {
     "name": "stderr",
     "output_type": "stream",
     "text": [
      "\r\u001b[32mloss: 6.32:   8%|████                                   |  ETA: 0:08:21\u001b[39m\u001b[K"
     ]
    },
    {
     "name": "stderr",
     "output_type": "stream",
     "text": [
      "\r\u001b[32mloss: 6.11:   9%|████                                   |  ETA: 0:08:22\u001b[39m\u001b[K"
     ]
    },
    {
     "name": "stderr",
     "output_type": "stream",
     "text": [
      "\r\u001b[32mloss: 5.93:   9%|████                                   |  ETA: 0:08:13\u001b[39m\u001b[K"
     ]
    },
    {
     "name": "stderr",
     "output_type": "stream",
     "text": [
      "\r\u001b[32mloss: 5.9:   9%|████                                    |  ETA: 0:08:09\u001b[39m\u001b[K"
     ]
    },
    {
     "name": "stderr",
     "output_type": "stream",
     "text": [
      "\r\u001b[32mloss: 6.01:  10%|████                                   |  ETA: 0:08:01\u001b[39m\u001b[K"
     ]
    },
    {
     "name": "stderr",
     "output_type": "stream",
     "text": [
      "\r\u001b[32mloss: 6.14:  10%|████                                   |  ETA: 0:08:02\u001b[39m\u001b[K"
     ]
    },
    {
     "name": "stderr",
     "output_type": "stream",
     "text": [
      "\r\u001b[32mloss: 6.15:  10%|████                                   |  ETA: 0:07:54\u001b[39m\u001b[K"
     ]
    },
    {
     "name": "stderr",
     "output_type": "stream",
     "text": [
      "\r\u001b[32mloss: 6.04:  10%|████                                   |  ETA: 0:07:54\u001b[39m\u001b[K"
     ]
    },
    {
     "name": "stderr",
     "output_type": "stream",
     "text": [
      "\r\u001b[32mloss: 5.92:  10%|█████                                  |  ETA: 0:07:47\u001b[39m\u001b[K"
     ]
    },
    {
     "name": "stderr",
     "output_type": "stream",
     "text": [
      "\r\u001b[32mloss: 5.89:  11%|█████                                  |  ETA: 0:07:44\u001b[39m\u001b[K"
     ]
    },
    {
     "name": "stderr",
     "output_type": "stream",
     "text": [
      "\r\u001b[32mloss: 5.94:  11%|█████                                  |  ETA: 0:07:38\u001b[39m\u001b[K"
     ]
    },
    {
     "name": "stderr",
     "output_type": "stream",
     "text": [
      "\r\u001b[32mloss: 6.01:  11%|█████                                  |  ETA: 0:07:36\u001b[39m\u001b[K"
     ]
    },
    {
     "name": "stderr",
     "output_type": "stream",
     "text": [
      "\r\u001b[32mloss: 6.02:  12%|█████                                  |  ETA: 0:07:30\u001b[39m\u001b[K"
     ]
    },
    {
     "name": "stderr",
     "output_type": "stream",
     "text": [
      "\r\u001b[32mloss: 5.97:  12%|█████                                  |  ETA: 0:07:28\u001b[39m\u001b[K"
     ]
    },
    {
     "name": "stderr",
     "output_type": "stream",
     "text": [
      "\r\u001b[32mloss: 5.9:  12%|█████                                   |  ETA: 0:07:22\u001b[39m\u001b[K"
     ]
    },
    {
     "name": "stderr",
     "output_type": "stream",
     "text": [
      "\r\u001b[32mloss: 5.87:  12%|█████                                  |  ETA: 0:07:19\u001b[39m\u001b[K"
     ]
    },
    {
     "name": "stderr",
     "output_type": "stream",
     "text": [
      "\r\u001b[32mloss: 5.9:  12%|██████                                  |  ETA: 0:07:12\u001b[39m\u001b[K"
     ]
    },
    {
     "name": "stderr",
     "output_type": "stream",
     "text": [
      "\r\u001b[32mloss: 5.93:  13%|█████                                  |  ETA: 0:07:11\u001b[39m\u001b[K"
     ]
    },
    {
     "name": "stderr",
     "output_type": "stream",
     "text": [
      "\r\u001b[32mloss: 5.94:  13%|██████                                 |  ETA: 0:07:05\u001b[39m\u001b[K"
     ]
    },
    {
     "name": "stderr",
     "output_type": "stream",
     "text": [
      "\r\u001b[32mloss: 5.91:  13%|██████                                 |  ETA: 0:07:04\u001b[39m\u001b[K"
     ]
    },
    {
     "name": "stderr",
     "output_type": "stream",
     "text": [
      "\r\u001b[32mloss: 5.87:  14%|██████                                 |  ETA: 0:06:59\u001b[39m\u001b[K"
     ]
    },
    {
     "name": "stderr",
     "output_type": "stream",
     "text": [
      "\r\u001b[32mloss: 5.86:  14%|██████                                 |  ETA: 0:06:57\u001b[39m\u001b[K"
     ]
    },
    {
     "name": "stderr",
     "output_type": "stream",
     "text": [
      "\r\u001b[32mloss: 5.88:  14%|██████                                 |  ETA: 0:06:52\u001b[39m\u001b[K"
     ]
    },
    {
     "name": "stderr",
     "output_type": "stream",
     "text": [
      "\r\u001b[32mloss: 5.9:  14%|██████                                  |  ETA: 0:06:50\u001b[39m\u001b[K"
     ]
    },
    {
     "name": "stderr",
     "output_type": "stream",
     "text": [
      "\r\u001b[32mloss: 5.9:  14%|██████                                  |  ETA: 0:06:45\u001b[39m\u001b[K"
     ]
    },
    {
     "name": "stderr",
     "output_type": "stream",
     "text": [
      "\r\u001b[32mloss: 5.88:  15%|██████                                 |  ETA: 0:06:44\u001b[39m\u001b[K"
     ]
    },
    {
     "name": "stderr",
     "output_type": "stream",
     "text": [
      "\r\u001b[32mloss: 5.86:  15%|██████                                 |  ETA: 0:06:39\u001b[39m\u001b[K"
     ]
    },
    {
     "name": "stderr",
     "output_type": "stream",
     "text": [
      "\r\u001b[32mloss: 5.85:  15%|██████                                 |  ETA: 0:06:36\u001b[39m\u001b[K"
     ]
    },
    {
     "name": "stderr",
     "output_type": "stream",
     "text": [
      "\r\u001b[32mloss: 5.86:  16%|███████                                |  ETA: 0:06:31\u001b[39m\u001b[K"
     ]
    },
    {
     "name": "stderr",
     "output_type": "stream",
     "text": [
      "\r\u001b[32mloss: 5.87:  16%|███████                                |  ETA: 0:06:30\u001b[39m\u001b[K"
     ]
    },
    {
     "name": "stderr",
     "output_type": "stream",
     "text": [
      "\r\u001b[32mloss: 5.87:  16%|███████                                |  ETA: 0:06:27\u001b[39m\u001b[K"
     ]
    },
    {
     "name": "stderr",
     "output_type": "stream",
     "text": [
      "\r\u001b[32mloss: 5.85:  16%|███████                                |  ETA: 0:06:25\u001b[39m\u001b[K"
     ]
    },
    {
     "name": "stderr",
     "output_type": "stream",
     "text": [
      "\r\u001b[32mloss: 5.84:  16%|███████                                |  ETA: 0:06:20\u001b[39m\u001b[K"
     ]
    },
    {
     "name": "stderr",
     "output_type": "stream",
     "text": [
      "\r\u001b[32mloss: 5.84:  17%|███████                                |  ETA: 0:06:18\u001b[39m\u001b[K"
     ]
    },
    {
     "name": "stderr",
     "output_type": "stream",
     "text": [
      "\r\u001b[32mloss: 5.85:  17%|███████                                |  ETA: 0:06:14\u001b[39m\u001b[K"
     ]
    },
    {
     "name": "stderr",
     "output_type": "stream",
     "text": [
      "\r\u001b[32mloss: 5.85:  17%|███████                                |  ETA: 0:06:13\u001b[39m\u001b[K"
     ]
    },
    {
     "name": "stderr",
     "output_type": "stream",
     "text": [
      "\r\u001b[32mloss: 5.84:  18%|███████                                |  ETA: 0:06:09\u001b[39m\u001b[K"
     ]
    },
    {
     "name": "stderr",
     "output_type": "stream",
     "text": [
      "\r\u001b[32mloss: 5.83:  18%|███████                                |  ETA: 0:06:07\u001b[39m\u001b[K"
     ]
    },
    {
     "name": "stderr",
     "output_type": "stream",
     "text": [
      "\r\u001b[32mloss: 5.83:  18%|████████                               |  ETA: 0:06:03\u001b[39m\u001b[K"
     ]
    },
    {
     "name": "stderr",
     "output_type": "stream",
     "text": [
      "\r\u001b[32mloss: 5.83:  18%|████████                               |  ETA: 0:06:02\u001b[39m\u001b[K"
     ]
    },
    {
     "name": "stderr",
     "output_type": "stream",
     "text": [
      "\r\u001b[32mloss: 5.84:  18%|████████                               |  ETA: 0:05:59\u001b[39m\u001b[K"
     ]
    },
    {
     "name": "stderr",
     "output_type": "stream",
     "text": [
      "\r\u001b[32mloss: 5.83:  19%|████████                               |  ETA: 0:05:58\u001b[39m\u001b[K"
     ]
    },
    {
     "name": "stderr",
     "output_type": "stream",
     "text": [
      "\r\u001b[32mloss: 5.83:  19%|████████                               |  ETA: 0:05:53\u001b[39m\u001b[K"
     ]
    },
    {
     "name": "stderr",
     "output_type": "stream",
     "text": [
      "\r\u001b[32mloss: 5.82:  19%|████████                               |  ETA: 0:05:52\u001b[39m\u001b[K"
     ]
    },
    {
     "name": "stderr",
     "output_type": "stream",
     "text": [
      "\r\u001b[32mloss: 5.82:  20%|████████                               |  ETA: 0:05:49\u001b[39m\u001b[K"
     ]
    },
    {
     "name": "stderr",
     "output_type": "stream",
     "text": [
      "\r\u001b[32mloss: 5.82:  20%|████████                               |  ETA: 0:05:47\u001b[39m\u001b[K"
     ]
    },
    {
     "name": "stderr",
     "output_type": "stream",
     "text": [
      "\r\u001b[32mloss: 5.82:  20%|████████                               |  ETA: 0:05:44\u001b[39m\u001b[K"
     ]
    },
    {
     "name": "stderr",
     "output_type": "stream",
     "text": [
      "\r\u001b[32mloss: 5.82:  20%|████████                               |  ETA: 0:05:42\u001b[39m\u001b[K"
     ]
    },
    {
     "name": "stderr",
     "output_type": "stream",
     "text": [
      "\r\u001b[32mloss: 5.81:  20%|████████                               |  ETA: 0:05:39\u001b[39m\u001b[K"
     ]
    },
    {
     "name": "stderr",
     "output_type": "stream",
     "text": [
      "\r\u001b[32mloss: 5.81:  21%|█████████                              |  ETA: 0:05:38\u001b[39m\u001b[K"
     ]
    },
    {
     "name": "stderr",
     "output_type": "stream",
     "text": [
      "\r\u001b[32mloss: 5.81:  21%|█████████                              |  ETA: 0:05:35\u001b[39m\u001b[K"
     ]
    },
    {
     "name": "stderr",
     "output_type": "stream",
     "text": [
      "\r\u001b[32mloss: 5.81:  21%|█████████                              |  ETA: 0:05:34\u001b[39m\u001b[K"
     ]
    },
    {
     "name": "stderr",
     "output_type": "stream",
     "text": [
      "\r\u001b[32mloss: 5.81:  22%|█████████                              |  ETA: 0:05:30\u001b[39m\u001b[K"
     ]
    },
    {
     "name": "stderr",
     "output_type": "stream",
     "text": [
      "\r\u001b[32mloss: 5.81:  22%|█████████                              |  ETA: 0:05:29\u001b[39m\u001b[K"
     ]
    },
    {
     "name": "stderr",
     "output_type": "stream",
     "text": [
      "\r\u001b[32mloss: 5.8:  22%|█████████                               |  ETA: 0:05:26\u001b[39m\u001b[K"
     ]
    },
    {
     "name": "stderr",
     "output_type": "stream",
     "text": [
      "\r\u001b[32mloss: 5.8:  22%|█████████                               |  ETA: 0:05:25\u001b[39m\u001b[K"
     ]
    },
    {
     "name": "stderr",
     "output_type": "stream",
     "text": [
      "\r\u001b[32mloss: 5.8:  22%|██████████                              |  ETA: 0:05:22\u001b[39m\u001b[K"
     ]
    },
    {
     "name": "stderr",
     "output_type": "stream",
     "text": [
      "\r\u001b[32mloss: 5.8:  23%|██████████                              |  ETA: 0:05:21\u001b[39m\u001b[K"
     ]
    },
    {
     "name": "stderr",
     "output_type": "stream",
     "text": [
      "\r\u001b[32mloss: 5.8:  23%|██████████                              |  ETA: 0:05:17\u001b[39m\u001b[K"
     ]
    },
    {
     "name": "stderr",
     "output_type": "stream",
     "text": [
      "\r\u001b[32mloss: 5.8:  23%|██████████                              |  ETA: 0:05:16\u001b[39m\u001b[K"
     ]
    },
    {
     "name": "stderr",
     "output_type": "stream",
     "text": [
      "\r\u001b[32mloss: 5.8:  24%|██████████                              |  ETA: 0:05:13\u001b[39m\u001b[K"
     ]
    },
    {
     "name": "stderr",
     "output_type": "stream",
     "text": [
      "\r\u001b[32mloss: 5.79:  24%|██████████                             |  ETA: 0:05:12\u001b[39m\u001b[K"
     ]
    },
    {
     "name": "stderr",
     "output_type": "stream",
     "text": [
      "\r\u001b[32mloss: 5.79:  24%|██████████                             |  ETA: 0:05:09\u001b[39m\u001b[K"
     ]
    },
    {
     "name": "stderr",
     "output_type": "stream",
     "text": [
      "\r\u001b[32mloss: 5.79:  24%|██████████                             |  ETA: 0:05:09\u001b[39m\u001b[K"
     ]
    },
    {
     "name": "stderr",
     "output_type": "stream",
     "text": [
      "\r\u001b[32mloss: 5.79:  24%|██████████                             |  ETA: 0:05:06\u001b[39m\u001b[K"
     ]
    },
    {
     "name": "stderr",
     "output_type": "stream",
     "text": [
      "\r\u001b[32mloss: 5.79:  25%|██████████                             |  ETA: 0:05:05\u001b[39m\u001b[K"
     ]
    },
    {
     "name": "stderr",
     "output_type": "stream",
     "text": [
      "\r\u001b[32mloss: 5.79:  25%|██████████                             |  ETA: 0:05:03\u001b[39m\u001b[K"
     ]
    },
    {
     "name": "stderr",
     "output_type": "stream",
     "text": [
      "\r\u001b[32mloss: 5.78:  25%|██████████                             |  ETA: 0:05:02\u001b[39m\u001b[K"
     ]
    },
    {
     "name": "stderr",
     "output_type": "stream",
     "text": [
      "\r\u001b[32mloss: 5.78:  26%|██████████                             |  ETA: 0:04:59\u001b[39m\u001b[K"
     ]
    },
    {
     "name": "stderr",
     "output_type": "stream",
     "text": [
      "\r\u001b[32mloss: 5.78:  26%|███████████                            |  ETA: 0:04:58\u001b[39m\u001b[K"
     ]
    },
    {
     "name": "stderr",
     "output_type": "stream",
     "text": [
      "\r\u001b[32mloss: 5.78:  26%|███████████                            |  ETA: 0:04:55\u001b[39m\u001b[K"
     ]
    },
    {
     "name": "stderr",
     "output_type": "stream",
     "text": [
      "\r\u001b[32mloss: 5.78:  26%|███████████                            |  ETA: 0:04:55\u001b[39m\u001b[K"
     ]
    },
    {
     "name": "stderr",
     "output_type": "stream",
     "text": [
      "\r\u001b[32mloss: 5.78:  26%|███████████                            |  ETA: 0:04:52\u001b[39m\u001b[K"
     ]
    },
    {
     "name": "stderr",
     "output_type": "stream",
     "text": [
      "\r\u001b[32mloss: 5.77:  27%|███████████                            |  ETA: 0:04:51\u001b[39m\u001b[K"
     ]
    },
    {
     "name": "stderr",
     "output_type": "stream",
     "text": [
      "\r\u001b[32mloss: 5.77:  27%|███████████                            |  ETA: 0:04:49\u001b[39m\u001b[K"
     ]
    },
    {
     "name": "stderr",
     "output_type": "stream",
     "text": [
      "\r\u001b[32mloss: 5.77:  27%|███████████                            |  ETA: 0:04:48\u001b[39m\u001b[K"
     ]
    },
    {
     "name": "stderr",
     "output_type": "stream",
     "text": [
      "\r\u001b[32mloss: 5.77:  28%|███████████                            |  ETA: 0:04:46\u001b[39m\u001b[K"
     ]
    },
    {
     "name": "stderr",
     "output_type": "stream",
     "text": [
      "\r\u001b[32mloss: 5.77:  28%|███████████                            |  ETA: 0:04:45\u001b[39m\u001b[K"
     ]
    },
    {
     "name": "stderr",
     "output_type": "stream",
     "text": [
      "\r\u001b[32mloss: 5.77:  28%|███████████                            |  ETA: 0:04:42\u001b[39m\u001b[K"
     ]
    },
    {
     "name": "stderr",
     "output_type": "stream",
     "text": [
      "\r\u001b[32mloss: 5.76:  28%|███████████                            |  ETA: 0:04:42\u001b[39m\u001b[K"
     ]
    },
    {
     "name": "stderr",
     "output_type": "stream",
     "text": [
      "\r\u001b[32mloss: 5.76:  28%|████████████                           |  ETA: 0:04:40\u001b[39m\u001b[K"
     ]
    },
    {
     "name": "stderr",
     "output_type": "stream",
     "text": [
      "\r\u001b[32mloss: 5.76:  29%|████████████                           |  ETA: 0:04:39\u001b[39m\u001b[K"
     ]
    },
    {
     "name": "stderr",
     "output_type": "stream",
     "text": [
      "\r\u001b[32mloss: 5.76:  29%|████████████                           |  ETA: 0:04:37\u001b[39m\u001b[K"
     ]
    },
    {
     "name": "stderr",
     "output_type": "stream",
     "text": [
      "\r\u001b[32mloss: 5.76:  29%|████████████                           |  ETA: 0:04:36\u001b[39m\u001b[K"
     ]
    },
    {
     "name": "stderr",
     "output_type": "stream",
     "text": [
      "\r\u001b[32mloss: 5.76:  30%|████████████                           |  ETA: 0:04:34\u001b[39m\u001b[K"
     ]
    },
    {
     "name": "stderr",
     "output_type": "stream",
     "text": [
      "\r\u001b[32mloss: 5.75:  30%|████████████                           |  ETA: 0:04:33\u001b[39m\u001b[K"
     ]
    },
    {
     "name": "stderr",
     "output_type": "stream",
     "text": [
      "\r\u001b[32mloss: 5.75:  30%|████████████                           |  ETA: 0:04:31\u001b[39m\u001b[K"
     ]
    },
    {
     "name": "stderr",
     "output_type": "stream",
     "text": [
      "\r\u001b[32mloss: 5.75:  30%|████████████                           |  ETA: 0:04:30\u001b[39m\u001b[K"
     ]
    },
    {
     "name": "stderr",
     "output_type": "stream",
     "text": [
      "\r\u001b[32mloss: 5.75:  30%|████████████                           |  ETA: 0:04:28\u001b[39m\u001b[K"
     ]
    },
    {
     "name": "stderr",
     "output_type": "stream",
     "text": [
      "\r\u001b[32mloss: 5.75:  31%|████████████                           |  ETA: 0:04:27\u001b[39m\u001b[K"
     ]
    },
    {
     "name": "stderr",
     "output_type": "stream",
     "text": [
      "\r\u001b[32mloss: 5.75:  31%|█████████████                          |  ETA: 0:04:25\u001b[39m\u001b[K"
     ]
    },
    {
     "name": "stderr",
     "output_type": "stream",
     "text": [
      "\r\u001b[32mloss: 5.74:  31%|█████████████                          |  ETA: 0:04:25\u001b[39m\u001b[K"
     ]
    },
    {
     "name": "stderr",
     "output_type": "stream",
     "text": [
      "\r\u001b[32mloss: 5.74:  32%|█████████████                          |  ETA: 0:04:23\u001b[39m\u001b[K"
     ]
    },
    {
     "name": "stderr",
     "output_type": "stream",
     "text": [
      "\r\u001b[32mloss: 5.74:  32%|█████████████                          |  ETA: 0:04:22\u001b[39m\u001b[K"
     ]
    },
    {
     "name": "stderr",
     "output_type": "stream",
     "text": [
      "\r\u001b[32mloss: 5.74:  32%|█████████████                          |  ETA: 0:04:20\u001b[39m\u001b[K"
     ]
    },
    {
     "name": "stderr",
     "output_type": "stream",
     "text": [
      "\r\u001b[32mloss: 5.74:  32%|█████████████                          |  ETA: 0:04:19\u001b[39m\u001b[K"
     ]
    },
    {
     "name": "stderr",
     "output_type": "stream",
     "text": [
      "\r\u001b[32mloss: 5.73:  32%|█████████████                          |  ETA: 0:04:17\u001b[39m\u001b[K"
     ]
    },
    {
     "name": "stderr",
     "output_type": "stream",
     "text": [
      "\r\u001b[32mloss: 5.73:  33%|█████████████                          |  ETA: 0:04:16\u001b[39m\u001b[K"
     ]
    },
    {
     "name": "stderr",
     "output_type": "stream",
     "text": [
      "\r\u001b[32mloss: 5.73:  33%|█████████████                          |  ETA: 0:04:14\u001b[39m\u001b[K"
     ]
    },
    {
     "name": "stderr",
     "output_type": "stream",
     "text": [
      "\r\u001b[32mloss: 5.73:  33%|█████████████                          |  ETA: 0:04:13\u001b[39m\u001b[K"
     ]
    },
    {
     "name": "stderr",
     "output_type": "stream",
     "text": [
      "\r\u001b[32mloss: 5.73:  34%|██████████████                         |  ETA: 0:04:11\u001b[39m\u001b[K"
     ]
    },
    {
     "name": "stderr",
     "output_type": "stream",
     "text": [
      "\r\u001b[32mloss: 5.73:  34%|██████████████                         |  ETA: 0:04:10\u001b[39m\u001b[K"
     ]
    },
    {
     "name": "stderr",
     "output_type": "stream",
     "text": [
      "\r\u001b[32mloss: 5.72:  34%|██████████████                         |  ETA: 0:04:09\u001b[39m\u001b[K"
     ]
    },
    {
     "name": "stderr",
     "output_type": "stream",
     "text": [
      "\r\u001b[32mloss: 5.72:  34%|██████████████                         |  ETA: 0:04:08\u001b[39m\u001b[K"
     ]
    },
    {
     "name": "stderr",
     "output_type": "stream",
     "text": [
      "\r\u001b[32mloss: 5.72:  34%|██████████████                         |  ETA: 0:04:06\u001b[39m\u001b[K"
     ]
    },
    {
     "name": "stderr",
     "output_type": "stream",
     "text": [
      "\r\u001b[32mloss: 5.72:  35%|██████████████                         |  ETA: 0:04:05\u001b[39m\u001b[K"
     ]
    },
    {
     "name": "stderr",
     "output_type": "stream",
     "text": [
      "\r\u001b[32mloss: 5.72:  35%|██████████████                         |  ETA: 0:04:03\u001b[39m\u001b[K"
     ]
    },
    {
     "name": "stderr",
     "output_type": "stream",
     "text": [
      "\r\u001b[32mloss: 5.71:  35%|██████████████                         |  ETA: 0:04:02\u001b[39m\u001b[K"
     ]
    },
    {
     "name": "stderr",
     "output_type": "stream",
     "text": [
      "\r\u001b[32mloss: 5.71:  36%|██████████████                         |  ETA: 0:04:01\u001b[39m\u001b[K"
     ]
    },
    {
     "name": "stderr",
     "output_type": "stream",
     "text": [
      "\r\u001b[32mloss: 5.71:  36%|██████████████                         |  ETA: 0:04:00\u001b[39m\u001b[K"
     ]
    },
    {
     "name": "stderr",
     "output_type": "stream",
     "text": [
      "\r\u001b[32mloss: 5.71:  36%|███████████████                        |  ETA: 0:03:58\u001b[39m\u001b[K"
     ]
    },
    {
     "name": "stderr",
     "output_type": "stream",
     "text": [
      "\r\u001b[32mloss: 5.71:  36%|███████████████                        |  ETA: 0:03:57\u001b[39m\u001b[K"
     ]
    },
    {
     "name": "stderr",
     "output_type": "stream",
     "text": [
      "\r\u001b[32mloss: 5.71:  36%|███████████████                        |  ETA: 0:03:55\u001b[39m\u001b[K"
     ]
    },
    {
     "name": "stderr",
     "output_type": "stream",
     "text": [
      "\r\u001b[32mloss: 5.7:  37%|███████████████                         |  ETA: 0:03:55\u001b[39m\u001b[K"
     ]
    },
    {
     "name": "stderr",
     "output_type": "stream",
     "text": [
      "\r\u001b[32mloss: 5.7:  37%|███████████████                         |  ETA: 0:03:53\u001b[39m\u001b[K"
     ]
    },
    {
     "name": "stderr",
     "output_type": "stream",
     "text": [
      "\r\u001b[32mloss: 5.7:  37%|███████████████                         |  ETA: 0:03:52\u001b[39m\u001b[K"
     ]
    },
    {
     "name": "stderr",
     "output_type": "stream",
     "text": [
      "\r\u001b[32mloss: 5.7:  38%|████████████████                        |  ETA: 0:03:51\u001b[39m\u001b[K"
     ]
    },
    {
     "name": "stderr",
     "output_type": "stream",
     "text": [
      "\r\u001b[32mloss: 5.7:  38%|████████████████                        |  ETA: 0:03:50\u001b[39m\u001b[K"
     ]
    },
    {
     "name": "stderr",
     "output_type": "stream",
     "text": [
      "\r\u001b[32mloss: 5.69:  38%|███████████████                        |  ETA: 0:03:48\u001b[39m\u001b[K"
     ]
    },
    {
     "name": "stderr",
     "output_type": "stream",
     "text": [
      "\r\u001b[32mloss: 5.69:  38%|███████████████                        |  ETA: 0:03:47\u001b[39m\u001b[K"
     ]
    },
    {
     "name": "stderr",
     "output_type": "stream",
     "text": [
      "\r\u001b[32mloss: 5.69:  38%|████████████████                       |  ETA: 0:03:45\u001b[39m\u001b[K"
     ]
    },
    {
     "name": "stderr",
     "output_type": "stream",
     "text": [
      "\r\u001b[32mloss: 5.69:  39%|████████████████                       |  ETA: 0:03:45\u001b[39m\u001b[K"
     ]
    },
    {
     "name": "stderr",
     "output_type": "stream",
     "text": [
      "\r\u001b[32mloss: 5.69:  39%|████████████████                       |  ETA: 0:03:43\u001b[39m\u001b[K"
     ]
    },
    {
     "name": "stderr",
     "output_type": "stream",
     "text": [
      "\r\u001b[32mloss: 5.69:  39%|████████████████                       |  ETA: 0:03:42\u001b[39m\u001b[K"
     ]
    },
    {
     "name": "stderr",
     "output_type": "stream",
     "text": [
      "\r\u001b[32mloss: 5.68:  40%|████████████████                       |  ETA: 0:03:41\u001b[39m\u001b[K"
     ]
    },
    {
     "name": "stderr",
     "output_type": "stream",
     "text": [
      "\r\u001b[32mloss: 5.68:  40%|████████████████                       |  ETA: 0:03:40\u001b[39m\u001b[K"
     ]
    },
    {
     "name": "stderr",
     "output_type": "stream",
     "text": [
      "\r\u001b[32mloss: 5.68:  40%|████████████████                       |  ETA: 0:03:38\u001b[39m\u001b[K"
     ]
    },
    {
     "name": "stderr",
     "output_type": "stream",
     "text": [
      "\r\u001b[32mloss: 5.68:  40%|████████████████                       |  ETA: 0:03:38\u001b[39m\u001b[K"
     ]
    },
    {
     "name": "stderr",
     "output_type": "stream",
     "text": [
      "\r\u001b[32mloss: 5.68:  40%|████████████████                       |  ETA: 0:03:36\u001b[39m\u001b[K"
     ]
    },
    {
     "name": "stderr",
     "output_type": "stream",
     "text": [
      "\r\u001b[32mloss: 5.67:  41%|████████████████                       |  ETA: 0:03:35\u001b[39m\u001b[K"
     ]
    },
    {
     "name": "stderr",
     "output_type": "stream",
     "text": [
      "\r\u001b[32mloss: 5.67:  41%|████████████████                       |  ETA: 0:03:34\u001b[39m\u001b[K"
     ]
    },
    {
     "name": "stderr",
     "output_type": "stream",
     "text": [
      "\r\u001b[32mloss: 5.67:  41%|█████████████████                      |  ETA: 0:03:33\u001b[39m\u001b[K"
     ]
    },
    {
     "name": "stderr",
     "output_type": "stream",
     "text": [
      "\r\u001b[32mloss: 5.67:  42%|█████████████████                      |  ETA: 0:03:31\u001b[39m\u001b[K"
     ]
    },
    {
     "name": "stderr",
     "output_type": "stream",
     "text": [
      "\r\u001b[32mloss: 5.67:  42%|█████████████████                      |  ETA: 0:03:31\u001b[39m\u001b[K"
     ]
    },
    {
     "name": "stderr",
     "output_type": "stream",
     "text": [
      "\r\u001b[32mloss: 5.67:  42%|█████████████████                      |  ETA: 0:03:29\u001b[39m\u001b[K"
     ]
    },
    {
     "name": "stderr",
     "output_type": "stream",
     "text": [
      "\r\u001b[32mloss: 5.66:  42%|█████████████████                      |  ETA: 0:03:29\u001b[39m\u001b[K"
     ]
    },
    {
     "name": "stderr",
     "output_type": "stream",
     "text": [
      "\r\u001b[32mloss: 5.66:  42%|█████████████████                      |  ETA: 0:03:27\u001b[39m\u001b[K"
     ]
    },
    {
     "name": "stderr",
     "output_type": "stream",
     "text": [
      "\r\u001b[32mloss: 5.66:  43%|█████████████████                      |  ETA: 0:03:26\u001b[39m\u001b[K"
     ]
    },
    {
     "name": "stderr",
     "output_type": "stream",
     "text": [
      "\r\u001b[32mloss: 5.66:  43%|█████████████████                      |  ETA: 0:03:25\u001b[39m\u001b[K"
     ]
    },
    {
     "name": "stderr",
     "output_type": "stream",
     "text": [
      "\r\u001b[32mloss: 5.66:  43%|█████████████████                      |  ETA: 0:03:24\u001b[39m\u001b[K"
     ]
    },
    {
     "name": "stderr",
     "output_type": "stream",
     "text": [
      "\r\u001b[32mloss: 5.65:  44%|█████████████████                      |  ETA: 0:03:23\u001b[39m\u001b[K"
     ]
    },
    {
     "name": "stderr",
     "output_type": "stream",
     "text": [
      "\r\u001b[32mloss: 5.65:  44%|██████████████████                     |  ETA: 0:03:22\u001b[39m\u001b[K"
     ]
    },
    {
     "name": "stderr",
     "output_type": "stream",
     "text": [
      "\r\u001b[32mloss: 5.65:  44%|██████████████████                     |  ETA: 0:03:20\u001b[39m\u001b[K"
     ]
    },
    {
     "name": "stderr",
     "output_type": "stream",
     "text": [
      "\r\u001b[32mloss: 5.65:  44%|██████████████████                     |  ETA: 0:03:20\u001b[39m\u001b[K"
     ]
    },
    {
     "name": "stderr",
     "output_type": "stream",
     "text": [
      "\r\u001b[32mloss: 5.65:  44%|██████████████████                     |  ETA: 0:03:18\u001b[39m\u001b[K"
     ]
    },
    {
     "name": "stderr",
     "output_type": "stream",
     "text": [
      "\r\u001b[32mloss: 5.64:  45%|██████████████████                     |  ETA: 0:03:17\u001b[39m\u001b[K"
     ]
    },
    {
     "name": "stderr",
     "output_type": "stream",
     "text": [
      "\r\u001b[32mloss: 5.64:  45%|██████████████████                     |  ETA: 0:03:16\u001b[39m\u001b[K"
     ]
    },
    {
     "name": "stderr",
     "output_type": "stream",
     "text": [
      "\r\u001b[32mloss: 5.64:  45%|██████████████████                     |  ETA: 0:03:15\u001b[39m\u001b[K"
     ]
    },
    {
     "name": "stderr",
     "output_type": "stream",
     "text": [
      "\r\u001b[32mloss: 5.64:  46%|██████████████████                     |  ETA: 0:03:14\u001b[39m\u001b[K"
     ]
    },
    {
     "name": "stderr",
     "output_type": "stream",
     "text": [
      "\r\u001b[32mloss: 5.64:  46%|██████████████████                     |  ETA: 0:03:13\u001b[39m\u001b[K"
     ]
    },
    {
     "name": "stderr",
     "output_type": "stream",
     "text": [
      "\r\u001b[32mloss: 5.63:  46%|██████████████████                     |  ETA: 0:03:12\u001b[39m\u001b[K"
     ]
    },
    {
     "name": "stderr",
     "output_type": "stream",
     "text": [
      "\r\u001b[32mloss: 5.63:  46%|███████████████████                    |  ETA: 0:03:11\u001b[39m\u001b[K"
     ]
    },
    {
     "name": "stderr",
     "output_type": "stream",
     "text": [
      "\r\u001b[32mloss: 5.63:  46%|███████████████████                    |  ETA: 0:03:10\u001b[39m\u001b[K"
     ]
    },
    {
     "name": "stderr",
     "output_type": "stream",
     "text": [
      "\r\u001b[32mloss: 5.63:  47%|███████████████████                    |  ETA: 0:03:09\u001b[39m\u001b[K"
     ]
    },
    {
     "name": "stderr",
     "output_type": "stream",
     "text": [
      "\r\u001b[32mloss: 5.63:  47%|███████████████████                    |  ETA: 0:03:08\u001b[39m\u001b[K"
     ]
    },
    {
     "name": "stderr",
     "output_type": "stream",
     "text": [
      "\r\u001b[32mloss: 5.62:  47%|███████████████████                    |  ETA: 0:03:07\u001b[39m\u001b[K"
     ]
    },
    {
     "name": "stderr",
     "output_type": "stream",
     "text": [
      "\r\u001b[32mloss: 5.62:  48%|███████████████████                    |  ETA: 0:03:06\u001b[39m\u001b[K"
     ]
    },
    {
     "name": "stderr",
     "output_type": "stream",
     "text": [
      "\r\u001b[32mloss: 5.62:  48%|███████████████████                    |  ETA: 0:03:05\u001b[39m\u001b[K"
     ]
    },
    {
     "name": "stderr",
     "output_type": "stream",
     "text": [
      "\r\u001b[32mloss: 5.62:  48%|███████████████████                    |  ETA: 0:03:04\u001b[39m\u001b[K"
     ]
    },
    {
     "name": "stderr",
     "output_type": "stream",
     "text": [
      "\r\u001b[32mloss: 5.62:  48%|███████████████████                    |  ETA: 0:03:04\u001b[39m\u001b[K"
     ]
    },
    {
     "name": "stderr",
     "output_type": "stream",
     "text": [
      "\r\u001b[32mloss: 5.62:  48%|███████████████████                    |  ETA: 0:03:03\u001b[39m\u001b[K"
     ]
    },
    {
     "name": "stderr",
     "output_type": "stream",
     "text": [
      "\r\u001b[32mloss: 5.61:  49%|███████████████████                    |  ETA: 0:03:05\u001b[39m\u001b[K"
     ]
    },
    {
     "name": "stderr",
     "output_type": "stream",
     "text": [
      "\r\u001b[32mloss: 5.61:  49%|████████████████████                   |  ETA: 0:03:40\u001b[39m\u001b[K"
     ]
    },
    {
     "name": "stderr",
     "output_type": "stream",
     "text": [
      "\r\u001b[32mloss: 5.61:  49%|████████████████████                   |  ETA: 0:03:39\u001b[39m\u001b[K"
     ]
    },
    {
     "name": "stderr",
     "output_type": "stream",
     "text": [
      "\r\u001b[32mloss: 5.61:  50%|████████████████████                   |  ETA: 0:03:37\u001b[39m\u001b[K"
     ]
    },
    {
     "name": "stderr",
     "output_type": "stream",
     "text": [
      "\r\u001b[32mloss: 5.61:  50%|████████████████████                   |  ETA: 0:03:36\u001b[39m\u001b[K"
     ]
    },
    {
     "name": "stderr",
     "output_type": "stream",
     "text": [
      "\r\u001b[32mloss: 5.6:  50%|█████████████████████                   |  ETA: 0:03:34\u001b[39m\u001b[K"
     ]
    },
    {
     "name": "stderr",
     "output_type": "stream",
     "text": [
      "\r\u001b[32mloss: 5.6:  50%|█████████████████████                   |  ETA: 0:03:33\u001b[39m\u001b[K"
     ]
    },
    {
     "name": "stderr",
     "output_type": "stream",
     "text": [
      "\r\u001b[32mloss: 5.6:  50%|█████████████████████                   |  ETA: 0:03:31\u001b[39m\u001b[K"
     ]
    },
    {
     "name": "stderr",
     "output_type": "stream",
     "text": [
      "\r\u001b[32mloss: 5.6:  51%|█████████████████████                   |  ETA: 0:03:30\u001b[39m\u001b[K"
     ]
    },
    {
     "name": "stderr",
     "output_type": "stream",
     "text": [
      "\r\u001b[32mloss: 5.6:  51%|█████████████████████                   |  ETA: 0:03:28\u001b[39m\u001b[K"
     ]
    },
    {
     "name": "stderr",
     "output_type": "stream",
     "text": [
      "\r\u001b[32mloss: 5.59:  51%|████████████████████                   |  ETA: 0:03:26\u001b[39m\u001b[K"
     ]
    },
    {
     "name": "stderr",
     "output_type": "stream",
     "text": [
      "\r\u001b[32mloss: 5.59:  52%|█████████████████████                  |  ETA: 0:03:24\u001b[39m\u001b[K"
     ]
    },
    {
     "name": "stderr",
     "output_type": "stream",
     "text": [
      "\r\u001b[32mloss: 5.59:  52%|█████████████████████                  |  ETA: 0:03:23\u001b[39m\u001b[K"
     ]
    },
    {
     "name": "stderr",
     "output_type": "stream",
     "text": [
      "\r\u001b[32mloss: 5.59:  52%|█████████████████████                  |  ETA: 0:03:21\u001b[39m\u001b[K"
     ]
    },
    {
     "name": "stderr",
     "output_type": "stream",
     "text": [
      "\r\u001b[32mloss: 5.59:  52%|█████████████████████                  |  ETA: 0:03:20\u001b[39m\u001b[K"
     ]
    },
    {
     "name": "stderr",
     "output_type": "stream",
     "text": [
      "\r\u001b[32mloss: 5.58:  52%|█████████████████████                  |  ETA: 0:03:18\u001b[39m\u001b[K"
     ]
    },
    {
     "name": "stderr",
     "output_type": "stream",
     "text": [
      "\r\u001b[32mloss: 5.58:  53%|█████████████████████                  |  ETA: 0:03:17\u001b[39m\u001b[K"
     ]
    },
    {
     "name": "stderr",
     "output_type": "stream",
     "text": [
      "\r\u001b[32mloss: 5.58:  53%|█████████████████████                  |  ETA: 0:03:15\u001b[39m\u001b[K"
     ]
    },
    {
     "name": "stderr",
     "output_type": "stream",
     "text": [
      "\r\u001b[32mloss: 5.58:  53%|█████████████████████                  |  ETA: 0:03:14\u001b[39m\u001b[K"
     ]
    },
    {
     "name": "stderr",
     "output_type": "stream",
     "text": [
      "\r\u001b[32mloss: 5.58:  54%|█████████████████████                  |  ETA: 0:03:12\u001b[39m\u001b[K"
     ]
    },
    {
     "name": "stderr",
     "output_type": "stream",
     "text": [
      "\r\u001b[32mloss: 5.57:  54%|█████████████████████                  |  ETA: 0:03:11\u001b[39m\u001b[K"
     ]
    },
    {
     "name": "stderr",
     "output_type": "stream",
     "text": [
      "\r\u001b[32mloss: 5.57:  54%|██████████████████████                 |  ETA: 0:03:09\u001b[39m\u001b[K"
     ]
    },
    {
     "name": "stderr",
     "output_type": "stream",
     "text": [
      "\r\u001b[32mloss: 5.57:  54%|██████████████████████                 |  ETA: 0:03:08\u001b[39m\u001b[K"
     ]
    },
    {
     "name": "stderr",
     "output_type": "stream",
     "text": [
      "\r\u001b[32mloss: 5.57:  54%|██████████████████████                 |  ETA: 0:03:06\u001b[39m\u001b[K"
     ]
    },
    {
     "name": "stderr",
     "output_type": "stream",
     "text": [
      "\r\u001b[32mloss: 5.57:  55%|██████████████████████                 |  ETA: 0:03:05\u001b[39m\u001b[K"
     ]
    },
    {
     "name": "stderr",
     "output_type": "stream",
     "text": [
      "\r\u001b[32mloss: 5.56:  55%|██████████████████████                 |  ETA: 0:03:04\u001b[39m\u001b[K"
     ]
    },
    {
     "name": "stderr",
     "output_type": "stream",
     "text": [
      "\r\u001b[32mloss: 5.56:  55%|██████████████████████                 |  ETA: 0:03:03\u001b[39m\u001b[K"
     ]
    },
    {
     "name": "stderr",
     "output_type": "stream",
     "text": [
      "\r\u001b[32mloss: 5.56:  56%|██████████████████████                 |  ETA: 0:03:01\u001b[39m\u001b[K"
     ]
    },
    {
     "name": "stderr",
     "output_type": "stream",
     "text": [
      "\r\u001b[32mloss: 5.56:  56%|██████████████████████                 |  ETA: 0:03:00\u001b[39m\u001b[K"
     ]
    },
    {
     "name": "stderr",
     "output_type": "stream",
     "text": [
      "\r\u001b[32mloss: 5.56:  56%|██████████████████████                 |  ETA: 0:02:58\u001b[39m\u001b[K"
     ]
    },
    {
     "name": "stderr",
     "output_type": "stream",
     "text": [
      "\r\u001b[32mloss: 5.55:  56%|██████████████████████                 |  ETA: 0:02:57\u001b[39m\u001b[K"
     ]
    },
    {
     "name": "stderr",
     "output_type": "stream",
     "text": [
      "\r\u001b[32mloss: 5.55:  56%|███████████████████████                |  ETA: 0:02:55\u001b[39m\u001b[K"
     ]
    },
    {
     "name": "stderr",
     "output_type": "stream",
     "text": [
      "\r\u001b[32mloss: 5.55:  57%|███████████████████████                |  ETA: 0:02:54\u001b[39m\u001b[K"
     ]
    },
    {
     "name": "stderr",
     "output_type": "stream",
     "text": [
      "\r\u001b[32mloss: 5.55:  57%|███████████████████████                |  ETA: 0:02:53\u001b[39m\u001b[K"
     ]
    },
    {
     "name": "stderr",
     "output_type": "stream",
     "text": [
      "\r\u001b[32mloss: 5.55:  57%|███████████████████████                |  ETA: 0:02:52\u001b[39m\u001b[K"
     ]
    },
    {
     "name": "stderr",
     "output_type": "stream",
     "text": [
      "\r\u001b[32mloss: 5.54:  58%|███████████████████████                |  ETA: 0:02:50\u001b[39m\u001b[K"
     ]
    },
    {
     "name": "stderr",
     "output_type": "stream",
     "text": [
      "\r\u001b[32mloss: 5.54:  58%|███████████████████████                |  ETA: 0:02:49\u001b[39m\u001b[K"
     ]
    },
    {
     "name": "stderr",
     "output_type": "stream",
     "text": [
      "\r\u001b[32mloss: 5.54:  58%|███████████████████████                |  ETA: 0:02:47\u001b[39m\u001b[K"
     ]
    },
    {
     "name": "stderr",
     "output_type": "stream",
     "text": [
      "\r\u001b[32mloss: 5.54:  58%|███████████████████████                |  ETA: 0:02:46\u001b[39m\u001b[K"
     ]
    },
    {
     "name": "stderr",
     "output_type": "stream",
     "text": [
      "\r\u001b[32mloss: 5.54:  58%|███████████████████████                |  ETA: 0:02:45\u001b[39m\u001b[K"
     ]
    },
    {
     "name": "stderr",
     "output_type": "stream",
     "text": [
      "\r\u001b[32mloss: 5.53:  59%|███████████████████████                |  ETA: 0:02:44\u001b[39m\u001b[K"
     ]
    },
    {
     "name": "stderr",
     "output_type": "stream",
     "text": [
      "\r\u001b[32mloss: 5.53:  59%|████████████████████████               |  ETA: 0:02:42\u001b[39m\u001b[K"
     ]
    },
    {
     "name": "stderr",
     "output_type": "stream",
     "text": [
      "\r\u001b[32mloss: 5.53:  59%|████████████████████████               |  ETA: 0:02:41\u001b[39m\u001b[K"
     ]
    },
    {
     "name": "stderr",
     "output_type": "stream",
     "text": [
      "\r\u001b[32mloss: 5.53:  60%|████████████████████████               |  ETA: 0:02:39\u001b[39m\u001b[K"
     ]
    },
    {
     "name": "stderr",
     "output_type": "stream",
     "text": [
      "\r\u001b[32mloss: 5.53:  60%|████████████████████████               |  ETA: 0:02:38\u001b[39m\u001b[K"
     ]
    },
    {
     "name": "stderr",
     "output_type": "stream",
     "text": [
      "\r\u001b[32mloss: 5.52:  60%|████████████████████████               |  ETA: 0:02:37\u001b[39m\u001b[K"
     ]
    },
    {
     "name": "stderr",
     "output_type": "stream",
     "text": [
      "\r\u001b[32mloss: 5.52:  60%|████████████████████████               |  ETA: 0:02:36\u001b[39m\u001b[K"
     ]
    },
    {
     "name": "stderr",
     "output_type": "stream",
     "text": [
      "\r\u001b[32mloss: 5.52:  60%|████████████████████████               |  ETA: 0:02:34\u001b[39m\u001b[K"
     ]
    },
    {
     "name": "stderr",
     "output_type": "stream",
     "text": [
      "\r\u001b[32mloss: 5.52:  61%|████████████████████████               |  ETA: 0:02:33\u001b[39m\u001b[K"
     ]
    },
    {
     "name": "stderr",
     "output_type": "stream",
     "text": [
      "\r\u001b[32mloss: 5.51:  61%|████████████████████████               |  ETA: 0:02:32\u001b[39m\u001b[K"
     ]
    },
    {
     "name": "stderr",
     "output_type": "stream",
     "text": [
      "\r\u001b[32mloss: 5.51:  61%|████████████████████████               |  ETA: 0:02:31\u001b[39m\u001b[K"
     ]
    },
    {
     "name": "stderr",
     "output_type": "stream",
     "text": [
      "\r\u001b[32mloss: 5.51:  62%|████████████████████████               |  ETA: 0:02:29\u001b[39m\u001b[K"
     ]
    },
    {
     "name": "stderr",
     "output_type": "stream",
     "text": [
      "\r\u001b[32mloss: 5.51:  62%|█████████████████████████              |  ETA: 0:02:28\u001b[39m\u001b[K"
     ]
    },
    {
     "name": "stderr",
     "output_type": "stream",
     "text": [
      "\r\u001b[32mloss: 5.51:  62%|█████████████████████████              |  ETA: 0:02:27\u001b[39m\u001b[K"
     ]
    },
    {
     "name": "stderr",
     "output_type": "stream",
     "text": [
      "\r\u001b[32mloss: 5.5:  62%|█████████████████████████               |  ETA: 0:02:26\u001b[39m\u001b[K"
     ]
    },
    {
     "name": "stderr",
     "output_type": "stream",
     "text": [
      "\r\u001b[32mloss: 5.5:  62%|██████████████████████████              |  ETA: 0:02:24\u001b[39m\u001b[K"
     ]
    },
    {
     "name": "stderr",
     "output_type": "stream",
     "text": [
      "\r\u001b[32mloss: 5.5:  63%|██████████████████████████              |  ETA: 0:02:24\u001b[39m\u001b[K"
     ]
    },
    {
     "name": "stderr",
     "output_type": "stream",
     "text": [
      "\r\u001b[32mloss: 5.5:  63%|██████████████████████████              |  ETA: 0:02:22\u001b[39m\u001b[K"
     ]
    },
    {
     "name": "stderr",
     "output_type": "stream",
     "text": [
      "\r\u001b[32mloss: 5.5:  63%|██████████████████████████              |  ETA: 0:02:21\u001b[39m\u001b[K"
     ]
    },
    {
     "name": "stderr",
     "output_type": "stream",
     "text": [
      "\r\u001b[32mloss: 5.49:  64%|█████████████████████████              |  ETA: 0:02:20\u001b[39m\u001b[K"
     ]
    },
    {
     "name": "stderr",
     "output_type": "stream",
     "text": [
      "\r\u001b[32mloss: 5.49:  64%|█████████████████████████              |  ETA: 0:02:19\u001b[39m\u001b[K"
     ]
    },
    {
     "name": "stderr",
     "output_type": "stream",
     "text": [
      "\r\u001b[32mloss: 5.49:  64%|█████████████████████████              |  ETA: 0:02:17\u001b[39m\u001b[K"
     ]
    },
    {
     "name": "stderr",
     "output_type": "stream",
     "text": [
      "\r\u001b[32mloss: 5.49:  64%|██████████████████████████             |  ETA: 0:02:16\u001b[39m\u001b[K"
     ]
    },
    {
     "name": "stderr",
     "output_type": "stream",
     "text": [
      "\r\u001b[32mloss: 5.49:  64%|██████████████████████████             |  ETA: 0:02:15\u001b[39m\u001b[K"
     ]
    },
    {
     "name": "stderr",
     "output_type": "stream",
     "text": [
      "\r\u001b[32mloss: 5.48:  65%|██████████████████████████             |  ETA: 0:02:14\u001b[39m\u001b[K"
     ]
    },
    {
     "name": "stderr",
     "output_type": "stream",
     "text": [
      "\r\u001b[32mloss: 5.48:  65%|██████████████████████████             |  ETA: 0:02:13\u001b[39m\u001b[K"
     ]
    },
    {
     "name": "stderr",
     "output_type": "stream",
     "text": [
      "\r\u001b[32mloss: 5.48:  65%|██████████████████████████             |  ETA: 0:02:12\u001b[39m\u001b[K"
     ]
    },
    {
     "name": "stderr",
     "output_type": "stream",
     "text": [
      "\r\u001b[32mloss: 5.48:  66%|██████████████████████████             |  ETA: 0:02:10\u001b[39m\u001b[K"
     ]
    },
    {
     "name": "stderr",
     "output_type": "stream",
     "text": [
      "\r\u001b[32mloss: 5.48:  66%|██████████████████████████             |  ETA: 0:02:10\u001b[39m\u001b[K"
     ]
    },
    {
     "name": "stderr",
     "output_type": "stream",
     "text": [
      "\r\u001b[32mloss: 5.47:  66%|██████████████████████████             |  ETA: 0:02:08\u001b[39m\u001b[K"
     ]
    },
    {
     "name": "stderr",
     "output_type": "stream",
     "text": [
      "\r\u001b[32mloss: 5.47:  66%|██████████████████████████             |  ETA: 0:02:07\u001b[39m\u001b[K"
     ]
    },
    {
     "name": "stderr",
     "output_type": "stream",
     "text": [
      "\r\u001b[32mloss: 5.47:  66%|██████████████████████████             |  ETA: 0:02:06\u001b[39m\u001b[K"
     ]
    },
    {
     "name": "stderr",
     "output_type": "stream",
     "text": [
      "\r\u001b[32mloss: 5.47:  67%|███████████████████████████            |  ETA: 0:02:05\u001b[39m\u001b[K"
     ]
    },
    {
     "name": "stderr",
     "output_type": "stream",
     "text": [
      "\r\u001b[32mloss: 5.47:  67%|███████████████████████████            |  ETA: 0:02:04\u001b[39m\u001b[K"
     ]
    },
    {
     "name": "stderr",
     "output_type": "stream",
     "text": [
      "\r\u001b[32mloss: 5.46:  67%|███████████████████████████            |  ETA: 0:02:03\u001b[39m\u001b[K"
     ]
    },
    {
     "name": "stderr",
     "output_type": "stream",
     "text": [
      "\r\u001b[32mloss: 5.46:  68%|███████████████████████████            |  ETA: 0:02:01\u001b[39m\u001b[K"
     ]
    },
    {
     "name": "stderr",
     "output_type": "stream",
     "text": [
      "\r\u001b[32mloss: 5.46:  68%|███████████████████████████            |  ETA: 0:02:01\u001b[39m\u001b[K"
     ]
    },
    {
     "name": "stderr",
     "output_type": "stream",
     "text": [
      "\r\u001b[32mloss: 5.46:  68%|███████████████████████████            |  ETA: 0:01:59\u001b[39m\u001b[K"
     ]
    },
    {
     "name": "stderr",
     "output_type": "stream",
     "text": [
      "\r\u001b[32mloss: 5.46:  68%|███████████████████████████            |  ETA: 0:01:58\u001b[39m\u001b[K"
     ]
    },
    {
     "name": "stderr",
     "output_type": "stream",
     "text": [
      "\r\u001b[32mloss: 5.45:  68%|███████████████████████████            |  ETA: 0:01:57\u001b[39m\u001b[K"
     ]
    },
    {
     "name": "stderr",
     "output_type": "stream",
     "text": [
      "\r\u001b[32mloss: 5.45:  69%|███████████████████████████            |  ETA: 0:01:56\u001b[39m\u001b[K"
     ]
    },
    {
     "name": "stderr",
     "output_type": "stream",
     "text": [
      "\r\u001b[32mloss: 5.45:  69%|███████████████████████████            |  ETA: 0:01:55\u001b[39m\u001b[K"
     ]
    },
    {
     "name": "stderr",
     "output_type": "stream",
     "text": [
      "\r\u001b[32mloss: 5.45:  69%|███████████████████████████            |  ETA: 0:01:54\u001b[39m\u001b[K"
     ]
    },
    {
     "name": "stderr",
     "output_type": "stream",
     "text": [
      "\r\u001b[32mloss: 5.45:  70%|████████████████████████████           |  ETA: 0:01:53\u001b[39m\u001b[K"
     ]
    },
    {
     "name": "stderr",
     "output_type": "stream",
     "text": [
      "\r\u001b[32mloss: 5.44:  70%|████████████████████████████           |  ETA: 0:01:52\u001b[39m\u001b[K"
     ]
    },
    {
     "name": "stderr",
     "output_type": "stream",
     "text": [
      "\r\u001b[32mloss: 5.44:  70%|████████████████████████████           |  ETA: 0:01:50\u001b[39m\u001b[K"
     ]
    },
    {
     "name": "stderr",
     "output_type": "stream",
     "text": [
      "\r\u001b[32mloss: 5.44:  70%|████████████████████████████           |  ETA: 0:01:50\u001b[39m\u001b[K"
     ]
    },
    {
     "name": "stderr",
     "output_type": "stream",
     "text": [
      "\r\u001b[32mloss: 5.44:  70%|████████████████████████████           |  ETA: 0:01:48\u001b[39m\u001b[K"
     ]
    },
    {
     "name": "stderr",
     "output_type": "stream",
     "text": [
      "\r\u001b[32mloss: 5.43:  71%|████████████████████████████           |  ETA: 0:01:47\u001b[39m\u001b[K"
     ]
    },
    {
     "name": "stderr",
     "output_type": "stream",
     "text": [
      "\r\u001b[32mloss: 5.43:  71%|████████████████████████████           |  ETA: 0:01:46\u001b[39m\u001b[K"
     ]
    },
    {
     "name": "stderr",
     "output_type": "stream",
     "text": [
      "\r\u001b[32mloss: 5.43:  71%|████████████████████████████           |  ETA: 0:01:45\u001b[39m\u001b[K"
     ]
    },
    {
     "name": "stderr",
     "output_type": "stream",
     "text": [
      "\r\u001b[32mloss: 5.43:  72%|████████████████████████████           |  ETA: 0:01:44\u001b[39m\u001b[K"
     ]
    },
    {
     "name": "stderr",
     "output_type": "stream",
     "text": [
      "\r\u001b[32mloss: 5.43:  72%|████████████████████████████           |  ETA: 0:01:43\u001b[39m\u001b[K"
     ]
    },
    {
     "name": "stderr",
     "output_type": "stream",
     "text": [
      "\r\u001b[32mloss: 5.42:  72%|█████████████████████████████          |  ETA: 0:01:42\u001b[39m\u001b[K"
     ]
    },
    {
     "name": "stderr",
     "output_type": "stream",
     "text": [
      "\r\u001b[32mloss: 5.42:  72%|█████████████████████████████          |  ETA: 0:01:41\u001b[39m\u001b[K"
     ]
    },
    {
     "name": "stderr",
     "output_type": "stream",
     "text": [
      "\r\u001b[32mloss: 5.42:  72%|█████████████████████████████          |  ETA: 0:01:40\u001b[39m\u001b[K"
     ]
    },
    {
     "name": "stderr",
     "output_type": "stream",
     "text": [
      "\r\u001b[32mloss: 5.42:  73%|█████████████████████████████          |  ETA: 0:01:39\u001b[39m\u001b[K"
     ]
    },
    {
     "name": "stderr",
     "output_type": "stream",
     "text": [
      "\r\u001b[32mloss: 5.42:  73%|█████████████████████████████          |  ETA: 0:01:38\u001b[39m\u001b[K"
     ]
    },
    {
     "name": "stderr",
     "output_type": "stream",
     "text": [
      "\r\u001b[32mloss: 5.41:  73%|█████████████████████████████          |  ETA: 0:01:37\u001b[39m\u001b[K"
     ]
    },
    {
     "name": "stderr",
     "output_type": "stream",
     "text": [
      "\r\u001b[32mloss: 5.41:  74%|█████████████████████████████          |  ETA: 0:01:36\u001b[39m\u001b[K"
     ]
    },
    {
     "name": "stderr",
     "output_type": "stream",
     "text": [
      "\r\u001b[32mloss: 5.41:  74%|█████████████████████████████          |  ETA: 0:01:35\u001b[39m\u001b[K"
     ]
    },
    {
     "name": "stderr",
     "output_type": "stream",
     "text": [
      "\r\u001b[32mloss: 5.41:  74%|█████████████████████████████          |  ETA: 0:01:34\u001b[39m\u001b[K"
     ]
    },
    {
     "name": "stderr",
     "output_type": "stream",
     "text": [
      "\r\u001b[32mloss: 5.41:  74%|█████████████████████████████          |  ETA: 0:01:33\u001b[39m\u001b[K"
     ]
    },
    {
     "name": "stderr",
     "output_type": "stream",
     "text": [
      "\r\u001b[32mloss: 5.4:  74%|██████████████████████████████          |  ETA: 0:01:32\u001b[39m\u001b[K"
     ]
    },
    {
     "name": "stderr",
     "output_type": "stream",
     "text": [
      "\r\u001b[32mloss: 5.4:  75%|██████████████████████████████          |  ETA: 0:01:31\u001b[39m\u001b[K"
     ]
    },
    {
     "name": "stderr",
     "output_type": "stream",
     "text": [
      "\r\u001b[32mloss: 5.4:  75%|███████████████████████████████         |  ETA: 0:01:29\u001b[39m\u001b[K"
     ]
    },
    {
     "name": "stderr",
     "output_type": "stream",
     "text": [
      "\r\u001b[32mloss: 5.4:  75%|███████████████████████████████         |  ETA: 0:01:29\u001b[39m\u001b[K"
     ]
    },
    {
     "name": "stderr",
     "output_type": "stream",
     "text": [
      "\r\u001b[32mloss: 5.4:  76%|███████████████████████████████         |  ETA: 0:01:27\u001b[39m\u001b[K"
     ]
    },
    {
     "name": "stderr",
     "output_type": "stream",
     "text": [
      "\r\u001b[32mloss: 5.39:  76%|██████████████████████████████         |  ETA: 0:01:27\u001b[39m\u001b[K"
     ]
    },
    {
     "name": "stderr",
     "output_type": "stream",
     "text": [
      "\r\u001b[32mloss: 5.39:  76%|██████████████████████████████         |  ETA: 0:01:25\u001b[39m\u001b[K"
     ]
    },
    {
     "name": "stderr",
     "output_type": "stream",
     "text": [
      "\r\u001b[32mloss: 5.39:  76%|██████████████████████████████         |  ETA: 0:01:25\u001b[39m\u001b[K"
     ]
    },
    {
     "name": "stderr",
     "output_type": "stream",
     "text": [
      "\r\u001b[32mloss: 5.39:  76%|██████████████████████████████         |  ETA: 0:01:23\u001b[39m\u001b[K"
     ]
    },
    {
     "name": "stderr",
     "output_type": "stream",
     "text": [
      "\r\u001b[32mloss: 5.39:  77%|██████████████████████████████         |  ETA: 0:01:23\u001b[39m\u001b[K"
     ]
    },
    {
     "name": "stderr",
     "output_type": "stream",
     "text": [
      "\r\u001b[32mloss: 5.38:  77%|███████████████████████████████        |  ETA: 0:01:22\u001b[39m\u001b[K"
     ]
    },
    {
     "name": "stderr",
     "output_type": "stream",
     "text": [
      "\r\u001b[32mloss: 5.38:  77%|███████████████████████████████        |  ETA: 0:01:21\u001b[39m\u001b[K"
     ]
    },
    {
     "name": "stderr",
     "output_type": "stream",
     "text": [
      "\r\u001b[32mloss: 5.38:  78%|███████████████████████████████        |  ETA: 0:01:20\u001b[39m\u001b[K"
     ]
    },
    {
     "name": "stderr",
     "output_type": "stream",
     "text": [
      "\r\u001b[32mloss: 5.38:  78%|███████████████████████████████        |  ETA: 0:01:19\u001b[39m\u001b[K"
     ]
    },
    {
     "name": "stderr",
     "output_type": "stream",
     "text": [
      "\r\u001b[32mloss: 5.37:  78%|███████████████████████████████        |  ETA: 0:01:18\u001b[39m\u001b[K"
     ]
    },
    {
     "name": "stderr",
     "output_type": "stream",
     "text": [
      "\r\u001b[32mloss: 5.37:  78%|███████████████████████████████        |  ETA: 0:01:17\u001b[39m\u001b[K"
     ]
    },
    {
     "name": "stderr",
     "output_type": "stream",
     "text": [
      "\r\u001b[32mloss: 5.37:  78%|███████████████████████████████        |  ETA: 0:01:16\u001b[39m\u001b[K"
     ]
    },
    {
     "name": "stderr",
     "output_type": "stream",
     "text": [
      "\r\u001b[32mloss: 5.37:  79%|███████████████████████████████        |  ETA: 0:01:15\u001b[39m\u001b[K"
     ]
    },
    {
     "name": "stderr",
     "output_type": "stream",
     "text": [
      "\r\u001b[32mloss: 5.37:  79%|███████████████████████████████        |  ETA: 0:01:14\u001b[39m\u001b[K"
     ]
    },
    {
     "name": "stderr",
     "output_type": "stream",
     "text": [
      "\r\u001b[32mloss: 5.36:  79%|███████████████████████████████        |  ETA: 0:01:13\u001b[39m\u001b[K"
     ]
    },
    {
     "name": "stderr",
     "output_type": "stream",
     "text": [
      "\r\u001b[32mloss: 5.36:  80%|████████████████████████████████       |  ETA: 0:01:12\u001b[39m\u001b[K"
     ]
    },
    {
     "name": "stderr",
     "output_type": "stream",
     "text": [
      "\r\u001b[32mloss: 5.36:  80%|████████████████████████████████       |  ETA: 0:01:11\u001b[39m\u001b[K"
     ]
    },
    {
     "name": "stderr",
     "output_type": "stream",
     "text": [
      "\r\u001b[32mloss: 5.36:  80%|████████████████████████████████       |  ETA: 0:01:10\u001b[39m\u001b[K"
     ]
    },
    {
     "name": "stderr",
     "output_type": "stream",
     "text": [
      "\r\u001b[32mloss: 5.36:  80%|████████████████████████████████       |  ETA: 0:01:09\u001b[39m\u001b[K"
     ]
    },
    {
     "name": "stderr",
     "output_type": "stream",
     "text": [
      "\r\u001b[32mloss: 5.35:  80%|████████████████████████████████       |  ETA: 0:01:08\u001b[39m\u001b[K"
     ]
    },
    {
     "name": "stderr",
     "output_type": "stream",
     "text": [
      "\r\u001b[32mloss: 5.35:  81%|████████████████████████████████       |  ETA: 0:01:07\u001b[39m\u001b[K"
     ]
    },
    {
     "name": "stderr",
     "output_type": "stream",
     "text": [
      "\r\u001b[32mloss: 5.35:  81%|████████████████████████████████       |  ETA: 0:01:06\u001b[39m\u001b[K"
     ]
    },
    {
     "name": "stderr",
     "output_type": "stream",
     "text": [
      "\r\u001b[32mloss: 5.35:  81%|████████████████████████████████       |  ETA: 0:01:05\u001b[39m\u001b[K"
     ]
    },
    {
     "name": "stderr",
     "output_type": "stream",
     "text": [
      "\r\u001b[32mloss: 5.35:  82%|████████████████████████████████       |  ETA: 0:01:04\u001b[39m\u001b[K"
     ]
    },
    {
     "name": "stderr",
     "output_type": "stream",
     "text": [
      "\r\u001b[32mloss: 5.34:  82%|████████████████████████████████       |  ETA: 0:01:03\u001b[39m\u001b[K"
     ]
    },
    {
     "name": "stderr",
     "output_type": "stream",
     "text": [
      "\r\u001b[32mloss: 5.34:  82%|████████████████████████████████       |  ETA: 0:01:02\u001b[39m\u001b[K"
     ]
    },
    {
     "name": "stderr",
     "output_type": "stream",
     "text": [
      "\r\u001b[32mloss: 5.34:  82%|█████████████████████████████████      |  ETA: 0:01:02\u001b[39m\u001b[K"
     ]
    },
    {
     "name": "stderr",
     "output_type": "stream",
     "text": [
      "\r\u001b[32mloss: 5.34:  82%|█████████████████████████████████      |  ETA: 0:01:00\u001b[39m\u001b[K"
     ]
    },
    {
     "name": "stderr",
     "output_type": "stream",
     "text": [
      "\r\u001b[32mloss: 5.34:  83%|█████████████████████████████████      |  ETA: 0:01:00\u001b[39m\u001b[K"
     ]
    },
    {
     "name": "stderr",
     "output_type": "stream",
     "text": [
      "\r\u001b[32mloss: 5.33:  83%|█████████████████████████████████      |  ETA: 0:00:59\u001b[39m\u001b[K"
     ]
    },
    {
     "name": "stderr",
     "output_type": "stream",
     "text": [
      "\r\u001b[32mloss: 5.33:  83%|█████████████████████████████████      |  ETA: 0:00:58\u001b[39m\u001b[K"
     ]
    },
    {
     "name": "stderr",
     "output_type": "stream",
     "text": [
      "\r\u001b[32mloss: 5.33:  84%|█████████████████████████████████      |  ETA: 0:00:57\u001b[39m\u001b[K"
     ]
    },
    {
     "name": "stderr",
     "output_type": "stream",
     "text": [
      "\r\u001b[32mloss: 5.33:  84%|█████████████████████████████████      |  ETA: 0:00:56\u001b[39m\u001b[K"
     ]
    },
    {
     "name": "stderr",
     "output_type": "stream",
     "text": [
      "\r\u001b[32mloss: 5.32:  84%|█████████████████████████████████      |  ETA: 0:00:55\u001b[39m\u001b[K"
     ]
    },
    {
     "name": "stderr",
     "output_type": "stream",
     "text": [
      "\r\u001b[32mloss: 5.32:  84%|█████████████████████████████████      |  ETA: 0:00:54\u001b[39m\u001b[K"
     ]
    },
    {
     "name": "stderr",
     "output_type": "stream",
     "text": [
      "\r\u001b[32mloss: 5.32:  84%|█████████████████████████████████      |  ETA: 0:00:53\u001b[39m\u001b[K"
     ]
    },
    {
     "name": "stderr",
     "output_type": "stream",
     "text": [
      "\r\u001b[32mloss: 5.32:  85%|██████████████████████████████████     |  ETA: 0:00:52\u001b[39m\u001b[K"
     ]
    },
    {
     "name": "stderr",
     "output_type": "stream",
     "text": [
      "\r\u001b[32mloss: 5.32:  85%|██████████████████████████████████     |  ETA: 0:00:51\u001b[39m\u001b[K"
     ]
    },
    {
     "name": "stderr",
     "output_type": "stream",
     "text": [
      "\r\u001b[32mloss: 5.31:  85%|██████████████████████████████████     |  ETA: 0:00:51\u001b[39m\u001b[K"
     ]
    },
    {
     "name": "stderr",
     "output_type": "stream",
     "text": [
      "\r\u001b[32mloss: 5.31:  86%|██████████████████████████████████     |  ETA: 0:00:50\u001b[39m\u001b[K"
     ]
    },
    {
     "name": "stderr",
     "output_type": "stream",
     "text": [
      "\r\u001b[32mloss: 5.31:  86%|██████████████████████████████████     |  ETA: 0:00:49\u001b[39m\u001b[K"
     ]
    },
    {
     "name": "stderr",
     "output_type": "stream",
     "text": [
      "\r\u001b[32mloss: 5.31:  86%|██████████████████████████████████     |  ETA: 0:00:48\u001b[39m\u001b[K"
     ]
    },
    {
     "name": "stderr",
     "output_type": "stream",
     "text": [
      "\r\u001b[32mloss: 5.31:  86%|██████████████████████████████████     |  ETA: 0:00:47\u001b[39m\u001b[K"
     ]
    },
    {
     "name": "stderr",
     "output_type": "stream",
     "text": [
      "\r\u001b[32mloss: 5.3:  86%|███████████████████████████████████     |  ETA: 0:00:46\u001b[39m\u001b[K"
     ]
    },
    {
     "name": "stderr",
     "output_type": "stream",
     "text": [
      "\r\u001b[32mloss: 5.3:  87%|███████████████████████████████████     |  ETA: 0:00:45\u001b[39m\u001b[K"
     ]
    },
    {
     "name": "stderr",
     "output_type": "stream",
     "text": [
      "\r\u001b[32mloss: 5.3:  87%|███████████████████████████████████     |  ETA: 0:00:44\u001b[39m\u001b[K"
     ]
    },
    {
     "name": "stderr",
     "output_type": "stream",
     "text": [
      "\r\u001b[32mloss: 5.3:  87%|███████████████████████████████████     |  ETA: 0:00:43\u001b[39m\u001b[K"
     ]
    },
    {
     "name": "stderr",
     "output_type": "stream",
     "text": [
      "\r\u001b[32mloss: 5.3:  88%|████████████████████████████████████    |  ETA: 0:00:42\u001b[39m\u001b[K"
     ]
    },
    {
     "name": "stderr",
     "output_type": "stream",
     "text": [
      "\r\u001b[32mloss: 5.29:  88%|███████████████████████████████████    |  ETA: 0:00:42\u001b[39m\u001b[K"
     ]
    },
    {
     "name": "stderr",
     "output_type": "stream",
     "text": [
      "\r\u001b[32mloss: 5.29:  88%|███████████████████████████████████    |  ETA: 0:00:41\u001b[39m\u001b[K"
     ]
    },
    {
     "name": "stderr",
     "output_type": "stream",
     "text": [
      "\r\u001b[32mloss: 5.29:  88%|███████████████████████████████████    |  ETA: 0:00:40\u001b[39m\u001b[K"
     ]
    },
    {
     "name": "stderr",
     "output_type": "stream",
     "text": [
      "\r\u001b[32mloss: 5.29:  88%|███████████████████████████████████    |  ETA: 0:00:39\u001b[39m\u001b[K"
     ]
    },
    {
     "name": "stderr",
     "output_type": "stream",
     "text": [
      "\r\u001b[32mloss: 5.29:  89%|███████████████████████████████████    |  ETA: 0:00:38\u001b[39m\u001b[K"
     ]
    },
    {
     "name": "stderr",
     "output_type": "stream",
     "text": [
      "\r\u001b[32mloss: 5.28:  89%|███████████████████████████████████    |  ETA: 0:00:37\u001b[39m\u001b[K"
     ]
    },
    {
     "name": "stderr",
     "output_type": "stream",
     "text": [
      "\r\u001b[32mloss: 5.28:  89%|███████████████████████████████████    |  ETA: 0:00:36\u001b[39m\u001b[K"
     ]
    },
    {
     "name": "stderr",
     "output_type": "stream",
     "text": [
      "\r\u001b[32mloss: 5.28:  90%|███████████████████████████████████    |  ETA: 0:00:35\u001b[39m\u001b[K"
     ]
    },
    {
     "name": "stderr",
     "output_type": "stream",
     "text": [
      "\r\u001b[32mloss: 5.28:  90%|███████████████████████████████████    |  ETA: 0:00:35\u001b[39m\u001b[K"
     ]
    },
    {
     "name": "stderr",
     "output_type": "stream",
     "text": [
      "\r\u001b[32mloss: 5.28:  90%|████████████████████████████████████   |  ETA: 0:00:34\u001b[39m\u001b[K"
     ]
    },
    {
     "name": "stderr",
     "output_type": "stream",
     "text": [
      "\r\u001b[32mloss: 5.27:  90%|████████████████████████████████████   |  ETA: 0:00:33\u001b[39m\u001b[K"
     ]
    },
    {
     "name": "stderr",
     "output_type": "stream",
     "text": [
      "\r\u001b[32mloss: 5.27:  90%|████████████████████████████████████   |  ETA: 0:00:32\u001b[39m\u001b[K"
     ]
    },
    {
     "name": "stderr",
     "output_type": "stream",
     "text": [
      "\r\u001b[32mloss: 5.27:  91%|████████████████████████████████████   |  ETA: 0:00:31\u001b[39m\u001b[K"
     ]
    },
    {
     "name": "stderr",
     "output_type": "stream",
     "text": [
      "\r\u001b[32mloss: 5.27:  91%|████████████████████████████████████   |  ETA: 0:00:30\u001b[39m\u001b[K"
     ]
    },
    {
     "name": "stderr",
     "output_type": "stream",
     "text": [
      "\r\u001b[32mloss: 5.26:  91%|████████████████████████████████████   |  ETA: 0:00:30\u001b[39m\u001b[K"
     ]
    },
    {
     "name": "stderr",
     "output_type": "stream",
     "text": [
      "\r\u001b[32mloss: 5.26:  92%|████████████████████████████████████   |  ETA: 0:00:28\u001b[39m\u001b[K"
     ]
    },
    {
     "name": "stderr",
     "output_type": "stream",
     "text": [
      "\r\u001b[32mloss: 5.26:  92%|████████████████████████████████████   |  ETA: 0:00:28\u001b[39m\u001b[K"
     ]
    },
    {
     "name": "stderr",
     "output_type": "stream",
     "text": [
      "\r\u001b[32mloss: 5.26:  92%|████████████████████████████████████   |  ETA: 0:00:27\u001b[39m\u001b[K"
     ]
    },
    {
     "name": "stderr",
     "output_type": "stream",
     "text": [
      "\r\u001b[32mloss: 5.26:  92%|████████████████████████████████████   |  ETA: 0:00:26\u001b[39m\u001b[K"
     ]
    },
    {
     "name": "stderr",
     "output_type": "stream",
     "text": [
      "\r\u001b[32mloss: 5.25:  92%|█████████████████████████████████████  |  ETA: 0:00:25\u001b[39m\u001b[K"
     ]
    },
    {
     "name": "stderr",
     "output_type": "stream",
     "text": [
      "\r\u001b[32mloss: 5.25:  93%|█████████████████████████████████████  |  ETA: 0:00:24\u001b[39m\u001b[K"
     ]
    },
    {
     "name": "stderr",
     "output_type": "stream",
     "text": [
      "\r\u001b[32mloss: 5.25:  93%|█████████████████████████████████████  |  ETA: 0:00:23\u001b[39m\u001b[K"
     ]
    },
    {
     "name": "stderr",
     "output_type": "stream",
     "text": [
      "\r\u001b[32mloss: 5.25:  93%|█████████████████████████████████████  |  ETA: 0:00:23\u001b[39m\u001b[K"
     ]
    },
    {
     "name": "stderr",
     "output_type": "stream",
     "text": [
      "\r\u001b[32mloss: 5.25:  94%|█████████████████████████████████████  |  ETA: 0:00:22\u001b[39m\u001b[K"
     ]
    },
    {
     "name": "stderr",
     "output_type": "stream",
     "text": [
      "\r\u001b[32mloss: 5.24:  94%|█████████████████████████████████████  |  ETA: 0:00:21\u001b[39m\u001b[K"
     ]
    },
    {
     "name": "stderr",
     "output_type": "stream",
     "text": [
      "\r\u001b[32mloss: 5.24:  94%|█████████████████████████████████████  |  ETA: 0:00:20\u001b[39m\u001b[K"
     ]
    },
    {
     "name": "stderr",
     "output_type": "stream",
     "text": [
      "\r\u001b[32mloss: 5.24:  94%|█████████████████████████████████████  |  ETA: 0:00:19\u001b[39m\u001b[K"
     ]
    },
    {
     "name": "stderr",
     "output_type": "stream",
     "text": [
      "\r\u001b[32mloss: 5.24:  94%|█████████████████████████████████████  |  ETA: 0:00:18\u001b[39m\u001b[K"
     ]
    },
    {
     "name": "stderr",
     "output_type": "stream",
     "text": [
      "\r\u001b[32mloss: 5.24:  95%|█████████████████████████████████████  |  ETA: 0:00:18\u001b[39m\u001b[K"
     ]
    },
    {
     "name": "stderr",
     "output_type": "stream",
     "text": [
      "\r\u001b[32mloss: 5.23:  95%|██████████████████████████████████████ |  ETA: 0:00:17\u001b[39m\u001b[K"
     ]
    },
    {
     "name": "stderr",
     "output_type": "stream",
     "text": [
      "\r\u001b[32mloss: 5.23:  95%|██████████████████████████████████████ |  ETA: 0:00:16\u001b[39m\u001b[K"
     ]
    },
    {
     "name": "stderr",
     "output_type": "stream",
     "text": [
      "\r\u001b[32mloss: 5.23:  96%|██████████████████████████████████████ |  ETA: 0:00:15\u001b[39m\u001b[K"
     ]
    },
    {
     "name": "stderr",
     "output_type": "stream",
     "text": [
      "\r\u001b[32mloss: 5.23:  96%|██████████████████████████████████████ |  ETA: 0:00:14\u001b[39m\u001b[K"
     ]
    },
    {
     "name": "stderr",
     "output_type": "stream",
     "text": [
      "\r\u001b[32mloss: 5.23:  96%|██████████████████████████████████████ |  ETA: 0:00:13\u001b[39m\u001b[K"
     ]
    },
    {
     "name": "stderr",
     "output_type": "stream",
     "text": [
      "\r\u001b[32mloss: 5.22:  96%|██████████████████████████████████████ |  ETA: 0:00:13\u001b[39m\u001b[K"
     ]
    },
    {
     "name": "stderr",
     "output_type": "stream",
     "text": [
      "\r\u001b[32mloss: 5.22:  96%|██████████████████████████████████████ |  ETA: 0:00:12\u001b[39m\u001b[K"
     ]
    },
    {
     "name": "stderr",
     "output_type": "stream",
     "text": [
      "\r\u001b[32mloss: 5.22:  97%|██████████████████████████████████████ |  ETA: 0:00:11\u001b[39m\u001b[K"
     ]
    },
    {
     "name": "stderr",
     "output_type": "stream",
     "text": [
      "\r\u001b[32mloss: 5.22:  97%|██████████████████████████████████████ |  ETA: 0:00:10\u001b[39m\u001b[K"
     ]
    },
    {
     "name": "stderr",
     "output_type": "stream",
     "text": [
      "\r\u001b[32mloss: 5.22:  97%|██████████████████████████████████████ |  ETA: 0:00:09\u001b[39m\u001b[K"
     ]
    },
    {
     "name": "stderr",
     "output_type": "stream",
     "text": [
      "\r\u001b[32mloss: 5.21:  98%|███████████████████████████████████████|  ETA: 0:00:08\u001b[39m\u001b[K"
     ]
    },
    {
     "name": "stderr",
     "output_type": "stream",
     "text": [
      "\r\u001b[32mloss: 5.21:  98%|███████████████████████████████████████|  ETA: 0:00:08\u001b[39m\u001b[K"
     ]
    },
    {
     "name": "stderr",
     "output_type": "stream",
     "text": [
      "\r\u001b[32mloss: 5.21:  98%|███████████████████████████████████████|  ETA: 0:00:07\u001b[39m\u001b[K"
     ]
    },
    {
     "name": "stderr",
     "output_type": "stream",
     "text": [
      "\r\u001b[32mloss: 5.21:  98%|███████████████████████████████████████|  ETA: 0:00:06\u001b[39m\u001b[K"
     ]
    },
    {
     "name": "stderr",
     "output_type": "stream",
     "text": [
      "\r\u001b[32mloss: 5.2:  98%|████████████████████████████████████████|  ETA: 0:00:05\u001b[39m\u001b[K"
     ]
    },
    {
     "name": "stderr",
     "output_type": "stream",
     "text": [
      "\r\u001b[32mloss: 5.2:  99%|████████████████████████████████████████|  ETA: 0:00:04\u001b[39m\u001b[K"
     ]
    },
    {
     "name": "stderr",
     "output_type": "stream",
     "text": [
      "\r\u001b[32mloss: 5.2:  99%|████████████████████████████████████████|  ETA: 0:00:03\u001b[39m\u001b[K"
     ]
    },
    {
     "name": "stderr",
     "output_type": "stream",
     "text": [
      "\r\u001b[32mloss: 5.2:  99%|████████████████████████████████████████|  ETA: 0:00:03\u001b[39m\u001b[K"
     ]
    },
    {
     "name": "stderr",
     "output_type": "stream",
     "text": [
      "\r\u001b[32mloss: 5.2: 100%|████████████████████████████████████████|  ETA: 0:00:02\u001b[39m\u001b[K"
     ]
    },
    {
     "name": "stderr",
     "output_type": "stream",
     "text": [
      "\r\u001b[32mloss: 5.19: 100%|███████████████████████████████████████|  ETA: 0:00:01\u001b[39m\u001b[K"
     ]
    },
    {
     "name": "stderr",
     "output_type": "stream",
     "text": [
      "\r\u001b[32mloss: 5.19: 100%|███████████████████████████████████████| Time: 0:05:26\u001b[39m\u001b[K\n"
     ]
    },
    {
     "name": "stderr",
     "output_type": "stream",
     "text": [
      "\r\u001b[32mloss: 5.22:   0%|█                                      |  ETA: 0:02:29\u001b[39m\u001b[K"
     ]
    },
    {
     "name": "stderr",
     "output_type": "stream",
     "text": [
      "\r\u001b[32mloss: 11.6:   1%|█                                      |  ETA: 0:05:21\u001b[39m\u001b[K"
     ]
    },
    {
     "name": "stderr",
     "output_type": "stream",
     "text": [
      "\r\u001b[32mloss: 5.38:   1%|█                                      |  ETA: 0:05:13\u001b[39m\u001b[K"
     ]
    },
    {
     "name": "stderr",
     "output_type": "stream",
     "text": [
      "\r\u001b[32mloss: 9.42:   1%|█                                      |  ETA: 0:06:38\u001b[39m\u001b[K"
     ]
    },
    {
     "name": "stderr",
     "output_type": "stream",
     "text": [
      "\r\u001b[32mloss: 7.96:   2%|█                                      |  ETA: 0:06:54\u001b[39m\u001b[K"
     ]
    },
    {
     "name": "stderr",
     "output_type": "stream",
     "text": [
      "\r\u001b[32mloss: 5.22:   2%|█                                      |  ETA: 0:06:48\u001b[39m\u001b[K"
     ]
    },
    {
     "name": "stderr",
     "output_type": "stream",
     "text": [
      "\r\u001b[32mloss: 6.15:   2%|█                                      |  ETA: 0:06:43\u001b[39m\u001b[K"
     ]
    },
    {
     "name": "stderr",
     "output_type": "stream",
     "text": [
      "\r\u001b[32mloss: 7.55:   2%|█                                      |  ETA: 0:07:03\u001b[39m\u001b[K"
     ]
    },
    {
     "name": "stderr",
     "output_type": "stream",
     "text": [
      "\r\u001b[32mloss: 7.2:   2%|██                                      |  ETA: 0:06:58\u001b[39m\u001b[K"
     ]
    },
    {
     "name": "stderr",
     "output_type": "stream",
     "text": [
      "\r\u001b[32mloss: 5.83:   3%|██                                     |  ETA: 0:07:07\u001b[39m\u001b[K"
     ]
    },
    {
     "name": "stderr",
     "output_type": "stream",
     "text": [
      "\r\u001b[32mloss: 5.19:   3%|██                                     |  ETA: 0:06:48\u001b[39m\u001b[K"
     ]
    },
    {
     "name": "stderr",
     "output_type": "stream",
     "text": [
      "\r\u001b[32mloss: 5.98:   3%|██                                     |  ETA: 0:06:59\u001b[39m\u001b[K"
     ]
    },
    {
     "name": "stderr",
     "output_type": "stream",
     "text": [
      "\r\u001b[32mloss: 6.63:   4%|██                                     |  ETA: 0:06:58\u001b[39m\u001b[K"
     ]
    },
    {
     "name": "stderr",
     "output_type": "stream",
     "text": [
      "\r\u001b[32mloss: 6.01:   4%|██                                     |  ETA: 0:07:04\u001b[39m\u001b[K"
     ]
    },
    {
     "name": "stderr",
     "output_type": "stream",
     "text": [
      "\r\u001b[32mloss: 5.25:   4%|██                                     |  ETA: 0:06:48\u001b[39m\u001b[K"
     ]
    },
    {
     "name": "stderr",
     "output_type": "stream",
     "text": [
      "\r\u001b[32mloss: 5.33:   4%|██                                     |  ETA: 0:06:50\u001b[39m\u001b[K"
     ]
    },
    {
     "name": "stderr",
     "output_type": "stream",
     "text": [
      "\r\u001b[32mloss: 5.85:   4%|██                                     |  ETA: 0:06:41\u001b[39m\u001b[K"
     ]
    },
    {
     "name": "stderr",
     "output_type": "stream",
     "text": [
      "\r\u001b[32mloss: 6.01:   5%|██                                     |  ETA: 0:06:44\u001b[39m\u001b[K"
     ]
    },
    {
     "name": "stderr",
     "output_type": "stream",
     "text": [
      "\r\u001b[32mloss: 5.65:   5%|██                                     |  ETA: 0:06:36\u001b[39m\u001b[K"
     ]
    },
    {
     "name": "stderr",
     "output_type": "stream",
     "text": [
      "\r\u001b[32mloss: 5.23:   5%|███                                    |  ETA: 0:06:35\u001b[39m\u001b[K"
     ]
    },
    {
     "name": "stderr",
     "output_type": "stream",
     "text": [
      "\r\u001b[32mloss: 5.24:   6%|███                                    |  ETA: 0:06:26\u001b[39m\u001b[K"
     ]
    },
    {
     "name": "stderr",
     "output_type": "stream",
     "text": [
      "\r\u001b[32mloss: 5.57:   6%|███                                    |  ETA: 0:06:29\u001b[39m\u001b[K"
     ]
    },
    {
     "name": "stderr",
     "output_type": "stream",
     "text": [
      "\r\u001b[32mloss: 5.66:   6%|███                                    |  ETA: 0:06:23\u001b[39m\u001b[K"
     ]
    },
    {
     "name": "stderr",
     "output_type": "stream",
     "text": [
      "\r\u001b[32mloss: 5.37:   6%|███                                    |  ETA: 0:06:24\u001b[39m\u001b[K"
     ]
    },
    {
     "name": "stderr",
     "output_type": "stream",
     "text": [
      "\r\u001b[32mloss: 5.16:   6%|███                                    |  ETA: 0:06:14\u001b[39m\u001b[K"
     ]
    },
    {
     "name": "stderr",
     "output_type": "stream",
     "text": [
      "\r\u001b[32mloss: 5.26:   7%|███                                    |  ETA: 0:06:14\u001b[39m\u001b[K"
     ]
    },
    {
     "name": "stderr",
     "output_type": "stream",
     "text": [
      "\r\u001b[32mloss: 5.45:   7%|███                                    |  ETA: 0:06:09\u001b[39m\u001b[K"
     ]
    },
    {
     "name": "stderr",
     "output_type": "stream",
     "text": [
      "\r\u001b[32mloss: 5.44:   7%|███                                    |  ETA: 0:06:11\u001b[39m\u001b[K"
     ]
    },
    {
     "name": "stderr",
     "output_type": "stream",
     "text": [
      "\r\u001b[32mloss: 5.25:   8%|███                                    |  ETA: 0:06:05\u001b[39m\u001b[K"
     ]
    },
    {
     "name": "stderr",
     "output_type": "stream",
     "text": [
      "\r\u001b[32mloss: 5.15:   8%|████                                   |  ETA: 0:06:02\u001b[39m\u001b[K"
     ]
    },
    {
     "name": "stderr",
     "output_type": "stream",
     "text": [
      "\r\u001b[32mloss: 5.24:   8%|████                                   |  ETA: 0:05:58\u001b[39m\u001b[K"
     ]
    },
    {
     "name": "stderr",
     "output_type": "stream",
     "text": [
      "\r\u001b[32mloss: 5.35:   8%|████                                   |  ETA: 0:05:59\u001b[39m\u001b[K"
     ]
    },
    {
     "name": "stderr",
     "output_type": "stream",
     "text": [
      "\r\u001b[32mloss: 5.29:   8%|████                                   |  ETA: 0:05:53\u001b[39m\u001b[K"
     ]
    },
    {
     "name": "stderr",
     "output_type": "stream",
     "text": [
      "\r\u001b[32mloss: 5.16:   9%|████                                   |  ETA: 0:05:52\u001b[39m\u001b[K"
     ]
    },
    {
     "name": "stderr",
     "output_type": "stream",
     "text": [
      "\r\u001b[32mloss: 5.16:   9%|████                                   |  ETA: 0:05:46\u001b[39m\u001b[K"
     ]
    },
    {
     "name": "stderr",
     "output_type": "stream",
     "text": [
      "\r\u001b[32mloss: 5.24:   9%|████                                   |  ETA: 0:05:46\u001b[39m\u001b[K"
     ]
    },
    {
     "name": "stderr",
     "output_type": "stream",
     "text": [
      "\r\u001b[32mloss: 5.26:  10%|████                                   |  ETA: 0:05:41\u001b[39m\u001b[K"
     ]
    },
    {
     "name": "stderr",
     "output_type": "stream",
     "text": [
      "\r\u001b[32mloss: 5.19:  10%|████                                   |  ETA: 0:05:40\u001b[39m\u001b[K"
     ]
    },
    {
     "name": "stderr",
     "output_type": "stream",
     "text": [
      "\r\u001b[32mloss: 5.14:  10%|████                                   |  ETA: 0:05:33\u001b[39m\u001b[K"
     ]
    },
    {
     "name": "stderr",
     "output_type": "stream",
     "text": [
      "\r\u001b[32mloss: 5.17:  10%|████                                   |  ETA: 0:05:33\u001b[39m\u001b[K"
     ]
    },
    {
     "name": "stderr",
     "output_type": "stream",
     "text": [
      "\r\u001b[32mloss: 5.21:  10%|█████                                  |  ETA: 0:05:30\u001b[39m\u001b[K"
     ]
    },
    {
     "name": "stderr",
     "output_type": "stream",
     "text": [
      "\r\u001b[32mloss: 5.19:  11%|█████                                  |  ETA: 0:05:30\u001b[39m\u001b[K"
     ]
    },
    {
     "name": "stderr",
     "output_type": "stream",
     "text": [
      "\r\u001b[32mloss: 5.14:  11%|█████                                  |  ETA: 0:05:25\u001b[39m\u001b[K"
     ]
    },
    {
     "name": "stderr",
     "output_type": "stream",
     "text": [
      "\r\u001b[32mloss: 5.14:  11%|█████                                  |  ETA: 0:05:25\u001b[39m\u001b[K"
     ]
    },
    {
     "name": "stderr",
     "output_type": "stream",
     "text": [
      "\r\u001b[32mloss: 5.17:  12%|█████                                  |  ETA: 0:05:20\u001b[39m\u001b[K"
     ]
    },
    {
     "name": "stderr",
     "output_type": "stream",
     "text": [
      "\r\u001b[32mloss: 5.17:  12%|█████                                  |  ETA: 0:05:20\u001b[39m\u001b[K"
     ]
    },
    {
     "name": "stderr",
     "output_type": "stream",
     "text": [
      "\r\u001b[32mloss: 5.14:  12%|█████                                  |  ETA: 0:05:15\u001b[39m\u001b[K"
     ]
    },
    {
     "name": "stderr",
     "output_type": "stream",
     "text": [
      "\r\u001b[32mloss: 5.12:  12%|█████                                  |  ETA: 0:05:14\u001b[39m\u001b[K"
     ]
    },
    {
     "name": "stderr",
     "output_type": "stream",
     "text": [
      "\r\u001b[32mloss: 5.15:  12%|█████                                  |  ETA: 0:05:11\u001b[39m\u001b[K"
     ]
    },
    {
     "name": "stderr",
     "output_type": "stream",
     "text": [
      "\r\u001b[32mloss: 5.16:  13%|█████                                  |  ETA: 0:05:11\u001b[39m\u001b[K"
     ]
    },
    {
     "name": "stderr",
     "output_type": "stream",
     "text": [
      "\r\u001b[32mloss: 5.13:  13%|██████                                 |  ETA: 0:05:08\u001b[39m\u001b[K"
     ]
    },
    {
     "name": "stderr",
     "output_type": "stream",
     "text": [
      "\r\u001b[32mloss: 5.12:  13%|██████                                 |  ETA: 0:05:06\u001b[39m\u001b[K"
     ]
    },
    {
     "name": "stderr",
     "output_type": "stream",
     "text": [
      "\r\u001b[32mloss: 5.13:  14%|██████                                 |  ETA: 0:05:03\u001b[39m\u001b[K"
     ]
    },
    {
     "name": "stderr",
     "output_type": "stream",
     "text": [
      "\r\u001b[32mloss: 5.14:  14%|██████                                 |  ETA: 0:05:02\u001b[39m\u001b[K"
     ]
    },
    {
     "name": "stderr",
     "output_type": "stream",
     "text": [
      "\r\u001b[32mloss: 5.13:  14%|██████                                 |  ETA: 0:05:00\u001b[39m\u001b[K"
     ]
    },
    {
     "name": "stderr",
     "output_type": "stream",
     "text": [
      "\r\u001b[32mloss: 5.11:  14%|██████                                 |  ETA: 0:04:58\u001b[39m\u001b[K"
     ]
    },
    {
     "name": "stderr",
     "output_type": "stream",
     "text": [
      "\r\u001b[32mloss: 5.12:  14%|██████                                 |  ETA: 0:04:55\u001b[39m\u001b[K"
     ]
    },
    {
     "name": "stderr",
     "output_type": "stream",
     "text": [
      "\r\u001b[32mloss: 5.13:  15%|██████                                 |  ETA: 0:04:54\u001b[39m\u001b[K"
     ]
    },
    {
     "name": "stderr",
     "output_type": "stream",
     "text": [
      "\r\u001b[32mloss: 5.12:  15%|██████                                 |  ETA: 0:04:50\u001b[39m\u001b[K"
     ]
    },
    {
     "name": "stderr",
     "output_type": "stream",
     "text": [
      "\r\u001b[32mloss: 5.11:  15%|██████                                 |  ETA: 0:04:49\u001b[39m\u001b[K"
     ]
    },
    {
     "name": "stderr",
     "output_type": "stream",
     "text": [
      "\r\u001b[32mloss: 5.11:  16%|███████                                |  ETA: 0:04:46\u001b[39m\u001b[K"
     ]
    },
    {
     "name": "stderr",
     "output_type": "stream",
     "text": [
      "\r\u001b[32mloss: 5.12:  16%|███████                                |  ETA: 0:04:45\u001b[39m\u001b[K"
     ]
    },
    {
     "name": "stderr",
     "output_type": "stream",
     "text": [
      "\r\u001b[32mloss: 5.11:  16%|███████                                |  ETA: 0:04:42\u001b[39m\u001b[K"
     ]
    },
    {
     "name": "stderr",
     "output_type": "stream",
     "text": [
      "\r\u001b[32mloss: 5.1:  16%|███████                                 |  ETA: 0:04:41\u001b[39m\u001b[K"
     ]
    },
    {
     "name": "stderr",
     "output_type": "stream",
     "text": [
      "\r\u001b[32mloss: 5.1:  16%|███████                                 |  ETA: 0:04:38\u001b[39m\u001b[K"
     ]
    },
    {
     "name": "stderr",
     "output_type": "stream",
     "text": [
      "\r\u001b[32mloss: 5.11:  17%|███████                                |  ETA: 0:04:38\u001b[39m\u001b[K"
     ]
    },
    {
     "name": "stderr",
     "output_type": "stream",
     "text": [
      "\r\u001b[32mloss: 5.1:  17%|███████                                 |  ETA: 0:04:35\u001b[39m\u001b[K"
     ]
    },
    {
     "name": "stderr",
     "output_type": "stream",
     "text": [
      "\r\u001b[32mloss: 5.1:  17%|███████                                 |  ETA: 0:04:34\u001b[39m\u001b[K"
     ]
    },
    {
     "name": "stderr",
     "output_type": "stream",
     "text": [
      "\r\u001b[32mloss: 5.1:  18%|████████                                |  ETA: 0:04:32\u001b[39m\u001b[K"
     ]
    },
    {
     "name": "stderr",
     "output_type": "stream",
     "text": [
      "\r\u001b[32mloss: 5.1:  18%|████████                                |  ETA: 0:04:31\u001b[39m\u001b[K"
     ]
    },
    {
     "name": "stderr",
     "output_type": "stream",
     "text": [
      "\r\u001b[32mloss: 5.09:  18%|████████                               |  ETA: 0:04:28\u001b[39m\u001b[K"
     ]
    },
    {
     "name": "stderr",
     "output_type": "stream",
     "text": [
      "\r\u001b[32mloss: 5.09:  18%|████████                               |  ETA: 0:04:28\u001b[39m\u001b[K"
     ]
    },
    {
     "name": "stderr",
     "output_type": "stream",
     "text": [
      "\r\u001b[32mloss: 5.09:  18%|████████                               |  ETA: 0:04:25\u001b[39m\u001b[K"
     ]
    },
    {
     "name": "stderr",
     "output_type": "stream",
     "text": [
      "\r\u001b[32mloss: 5.09:  19%|████████                               |  ETA: 0:04:24\u001b[39m\u001b[K"
     ]
    },
    {
     "name": "stderr",
     "output_type": "stream",
     "text": [
      "\r\u001b[32mloss: 5.09:  19%|████████                               |  ETA: 0:04:22\u001b[39m\u001b[K"
     ]
    },
    {
     "name": "stderr",
     "output_type": "stream",
     "text": [
      "\r\u001b[32mloss: 5.09:  19%|████████                               |  ETA: 0:04:21\u001b[39m\u001b[K"
     ]
    },
    {
     "name": "stderr",
     "output_type": "stream",
     "text": [
      "\r\u001b[32mloss: 5.09:  20%|████████                               |  ETA: 0:04:18\u001b[39m\u001b[K"
     ]
    },
    {
     "name": "stderr",
     "output_type": "stream",
     "text": [
      "\r\u001b[32mloss: 5.08:  20%|████████                               |  ETA: 0:04:18\u001b[39m\u001b[K"
     ]
    },
    {
     "name": "stderr",
     "output_type": "stream",
     "text": [
      "\r\u001b[32mloss: 5.08:  20%|████████                               |  ETA: 0:04:15\u001b[39m\u001b[K"
     ]
    },
    {
     "name": "stderr",
     "output_type": "stream",
     "text": [
      "\r\u001b[32mloss: 5.08:  20%|████████                               |  ETA: 0:04:15\u001b[39m\u001b[K"
     ]
    },
    {
     "name": "stderr",
     "output_type": "stream",
     "text": [
      "\r\u001b[32mloss: 5.08:  20%|████████                               |  ETA: 0:04:13\u001b[39m\u001b[K"
     ]
    },
    {
     "name": "stderr",
     "output_type": "stream",
     "text": [
      "\r\u001b[32mloss: 5.08:  21%|█████████                              |  ETA: 0:04:12\u001b[39m\u001b[K"
     ]
    },
    {
     "name": "stderr",
     "output_type": "stream",
     "text": [
      "\r\u001b[32mloss: 5.08:  21%|█████████                              |  ETA: 0:04:10\u001b[39m\u001b[K"
     ]
    },
    {
     "name": "stderr",
     "output_type": "stream",
     "text": [
      "\r\u001b[32mloss: 5.07:  21%|█████████                              |  ETA: 0:04:09\u001b[39m\u001b[K"
     ]
    },
    {
     "name": "stderr",
     "output_type": "stream",
     "text": [
      "\r\u001b[32mloss: 5.07:  22%|█████████                              |  ETA: 0:04:07\u001b[39m\u001b[K"
     ]
    },
    {
     "name": "stderr",
     "output_type": "stream",
     "text": [
      "\r\u001b[32mloss: 5.07:  22%|█████████                              |  ETA: 0:04:06\u001b[39m\u001b[K"
     ]
    },
    {
     "name": "stderr",
     "output_type": "stream",
     "text": [
      "\r\u001b[32mloss: 5.07:  22%|█████████                              |  ETA: 0:04:04\u001b[39m\u001b[K"
     ]
    },
    {
     "name": "stderr",
     "output_type": "stream",
     "text": [
      "\r\u001b[32mloss: 5.07:  22%|█████████                              |  ETA: 0:04:03\u001b[39m\u001b[K"
     ]
    },
    {
     "name": "stderr",
     "output_type": "stream",
     "text": [
      "\r\u001b[32mloss: 5.07:  22%|█████████                              |  ETA: 0:04:01\u001b[39m\u001b[K"
     ]
    },
    {
     "name": "stderr",
     "output_type": "stream",
     "text": [
      "\r\u001b[32mloss: 5.06:  23%|█████████                              |  ETA: 0:04:01\u001b[39m\u001b[K"
     ]
    },
    {
     "name": "stderr",
     "output_type": "stream",
     "text": [
      "\r\u001b[32mloss: 5.06:  23%|█████████                              |  ETA: 0:03:59\u001b[39m\u001b[K"
     ]
    },
    {
     "name": "stderr",
     "output_type": "stream",
     "text": [
      "\r\u001b[32mloss: 5.06:  23%|██████████                             |  ETA: 0:03:58\u001b[39m\u001b[K"
     ]
    },
    {
     "name": "stderr",
     "output_type": "stream",
     "text": [
      "\r\u001b[32mloss: 5.06:  24%|██████████                             |  ETA: 0:03:56\u001b[39m\u001b[K"
     ]
    },
    {
     "name": "stderr",
     "output_type": "stream",
     "text": [
      "\r\u001b[32mloss: 5.06:  24%|██████████                             |  ETA: 0:03:56\u001b[39m\u001b[K"
     ]
    },
    {
     "name": "stderr",
     "output_type": "stream",
     "text": [
      "\r\u001b[32mloss: 5.06:  24%|██████████                             |  ETA: 0:03:54\u001b[39m\u001b[K"
     ]
    },
    {
     "name": "stderr",
     "output_type": "stream",
     "text": [
      "\r\u001b[32mloss: 5.06:  24%|██████████                             |  ETA: 0:03:53\u001b[39m\u001b[K"
     ]
    },
    {
     "name": "stderr",
     "output_type": "stream",
     "text": [
      "\r\u001b[32mloss: 5.05:  24%|██████████                             |  ETA: 0:03:51\u001b[39m\u001b[K"
     ]
    },
    {
     "name": "stderr",
     "output_type": "stream",
     "text": [
      "\r\u001b[32mloss: 5.05:  25%|██████████                             |  ETA: 0:03:51\u001b[39m\u001b[K"
     ]
    },
    {
     "name": "stderr",
     "output_type": "stream",
     "text": [
      "\r\u001b[32mloss: 5.05:  25%|██████████                             |  ETA: 0:03:49\u001b[39m\u001b[K"
     ]
    },
    {
     "name": "stderr",
     "output_type": "stream",
     "text": [
      "\r\u001b[32mloss: 5.05:  25%|██████████                             |  ETA: 0:03:48\u001b[39m\u001b[K"
     ]
    },
    {
     "name": "stderr",
     "output_type": "stream",
     "text": [
      "\r\u001b[32mloss: 5.05:  26%|██████████                             |  ETA: 0:03:46\u001b[39m\u001b[K"
     ]
    },
    {
     "name": "stderr",
     "output_type": "stream",
     "text": [
      "\r\u001b[32mloss: 5.05:  26%|███████████                            |  ETA: 0:03:46\u001b[39m\u001b[K"
     ]
    },
    {
     "name": "stderr",
     "output_type": "stream",
     "text": [
      "\r\u001b[32mloss: 5.04:  26%|███████████                            |  ETA: 0:03:44\u001b[39m\u001b[K"
     ]
    },
    {
     "name": "stderr",
     "output_type": "stream",
     "text": [
      "\r\u001b[32mloss: 5.04:  26%|███████████                            |  ETA: 0:03:44\u001b[39m\u001b[K"
     ]
    },
    {
     "name": "stderr",
     "output_type": "stream",
     "text": [
      "\r\u001b[32mloss: 5.04:  26%|███████████                            |  ETA: 0:03:42\u001b[39m\u001b[K"
     ]
    },
    {
     "name": "stderr",
     "output_type": "stream",
     "text": [
      "\r\u001b[32mloss: 5.04:  27%|███████████                            |  ETA: 0:03:41\u001b[39m\u001b[K"
     ]
    },
    {
     "name": "stderr",
     "output_type": "stream",
     "text": [
      "\r\u001b[32mloss: 5.04:  27%|███████████                            |  ETA: 0:03:40\u001b[39m\u001b[K"
     ]
    },
    {
     "name": "stderr",
     "output_type": "stream",
     "text": [
      "\r\u001b[32mloss: 5.04:  27%|███████████                            |  ETA: 0:03:39\u001b[39m\u001b[K"
     ]
    },
    {
     "name": "stderr",
     "output_type": "stream",
     "text": [
      "\r\u001b[32mloss: 5.03:  28%|███████████                            |  ETA: 0:03:37\u001b[39m\u001b[K"
     ]
    },
    {
     "name": "stderr",
     "output_type": "stream",
     "text": [
      "\r\u001b[32mloss: 5.03:  28%|███████████                            |  ETA: 0:03:37\u001b[39m\u001b[K"
     ]
    },
    {
     "name": "stderr",
     "output_type": "stream",
     "text": [
      "\r\u001b[32mloss: 5.03:  28%|███████████                            |  ETA: 0:03:35\u001b[39m\u001b[K"
     ]
    },
    {
     "name": "stderr",
     "output_type": "stream",
     "text": [
      "\r\u001b[32mloss: 5.03:  28%|███████████                            |  ETA: 0:03:35\u001b[39m\u001b[K"
     ]
    },
    {
     "name": "stderr",
     "output_type": "stream",
     "text": [
      "\r\u001b[32mloss: 5.03:  28%|████████████                           |  ETA: 0:03:33\u001b[39m\u001b[K"
     ]
    },
    {
     "name": "stderr",
     "output_type": "stream",
     "text": [
      "\r\u001b[32mloss: 5.03:  29%|████████████                           |  ETA: 0:03:33\u001b[39m\u001b[K"
     ]
    },
    {
     "name": "stderr",
     "output_type": "stream",
     "text": [
      "\r\u001b[32mloss: 5.03:  29%|████████████                           |  ETA: 0:03:32\u001b[39m\u001b[K"
     ]
    },
    {
     "name": "stderr",
     "output_type": "stream",
     "text": [
      "\r\u001b[32mloss: 5.02:  29%|████████████                           |  ETA: 0:03:31\u001b[39m\u001b[K"
     ]
    },
    {
     "name": "stderr",
     "output_type": "stream",
     "text": [
      "\r\u001b[32mloss: 5.02:  30%|████████████                           |  ETA: 0:03:30\u001b[39m\u001b[K"
     ]
    },
    {
     "name": "stderr",
     "output_type": "stream",
     "text": [
      "\r\u001b[32mloss: 5.02:  30%|████████████                           |  ETA: 0:03:29\u001b[39m\u001b[K"
     ]
    },
    {
     "name": "stderr",
     "output_type": "stream",
     "text": [
      "\r\u001b[32mloss: 5.02:  30%|████████████                           |  ETA: 0:03:28\u001b[39m\u001b[K"
     ]
    },
    {
     "name": "stderr",
     "output_type": "stream",
     "text": [
      "\r\u001b[32mloss: 5.02:  30%|████████████                           |  ETA: 0:03:27\u001b[39m\u001b[K"
     ]
    },
    {
     "name": "stderr",
     "output_type": "stream",
     "text": [
      "\r\u001b[32mloss: 5.02:  30%|████████████                           |  ETA: 0:03:25\u001b[39m\u001b[K"
     ]
    },
    {
     "name": "stderr",
     "output_type": "stream",
     "text": [
      "\r\u001b[32mloss: 5.01:  31%|████████████                           |  ETA: 0:03:25\u001b[39m\u001b[K"
     ]
    },
    {
     "name": "stderr",
     "output_type": "stream",
     "text": [
      "\r\u001b[32mloss: 5.01:  31%|█████████████                          |  ETA: 0:03:23\u001b[39m\u001b[K"
     ]
    },
    {
     "name": "stderr",
     "output_type": "stream",
     "text": [
      "\r\u001b[32mloss: 5.01:  31%|█████████████                          |  ETA: 0:03:23\u001b[39m\u001b[K"
     ]
    },
    {
     "name": "stderr",
     "output_type": "stream",
     "text": [
      "\r\u001b[32mloss: 5.01:  32%|█████████████                          |  ETA: 0:03:21\u001b[39m\u001b[K"
     ]
    },
    {
     "name": "stderr",
     "output_type": "stream",
     "text": [
      "\r\u001b[32mloss: 5.01:  32%|█████████████                          |  ETA: 0:03:21\u001b[39m\u001b[K"
     ]
    },
    {
     "name": "stderr",
     "output_type": "stream",
     "text": [
      "\r\u001b[32mloss: 5:  32%|██████████████                            |  ETA: 0:03:19\u001b[39m\u001b[K"
     ]
    },
    {
     "name": "stderr",
     "output_type": "stream",
     "text": [
      "\r\u001b[32mloss: 5:  32%|██████████████                            |  ETA: 0:03:19\u001b[39m\u001b[K"
     ]
    },
    {
     "name": "stderr",
     "output_type": "stream",
     "text": [
      "\r\u001b[32mloss: 5:  32%|██████████████                            |  ETA: 0:03:17\u001b[39m\u001b[K"
     ]
    },
    {
     "name": "stderr",
     "output_type": "stream",
     "text": [
      "\r\u001b[32mloss: 5:  33%|██████████████                            |  ETA: 0:03:17\u001b[39m\u001b[K"
     ]
    },
    {
     "name": "stderr",
     "output_type": "stream",
     "text": [
      "\r\u001b[32mloss: 5:  33%|██████████████                            |  ETA: 0:03:16\u001b[39m\u001b[K"
     ]
    },
    {
     "name": "stderr",
     "output_type": "stream",
     "text": [
      "\r\u001b[32mloss: 5:  33%|██████████████                            |  ETA: 0:03:15\u001b[39m\u001b[K"
     ]
    },
    {
     "name": "stderr",
     "output_type": "stream",
     "text": [
      "\r\u001b[32mloss: 4.99:  34%|██████████████                         |  ETA: 0:03:14\u001b[39m\u001b[K"
     ]
    },
    {
     "name": "stderr",
     "output_type": "stream",
     "text": [
      "\r\u001b[32mloss: 4.99:  34%|██████████████                         |  ETA: 0:03:13\u001b[39m\u001b[K"
     ]
    },
    {
     "name": "stderr",
     "output_type": "stream",
     "text": [
      "\r\u001b[32mloss: 4.99:  34%|██████████████                         |  ETA: 0:03:12\u001b[39m\u001b[K"
     ]
    },
    {
     "name": "stderr",
     "output_type": "stream",
     "text": [
      "\r\u001b[32mloss: 4.99:  34%|██████████████                         |  ETA: 0:03:11\u001b[39m\u001b[K"
     ]
    },
    {
     "name": "stderr",
     "output_type": "stream",
     "text": [
      "\r\u001b[32mloss: 4.99:  34%|██████████████                         |  ETA: 0:03:10\u001b[39m\u001b[K"
     ]
    },
    {
     "name": "stderr",
     "output_type": "stream",
     "text": [
      "\r\u001b[32mloss: 4.99:  35%|██████████████                         |  ETA: 0:03:09\u001b[39m\u001b[K"
     ]
    },
    {
     "name": "stderr",
     "output_type": "stream",
     "text": [
      "\r\u001b[32mloss: 4.98:  35%|██████████████                         |  ETA: 0:03:08\u001b[39m\u001b[K"
     ]
    },
    {
     "name": "stderr",
     "output_type": "stream",
     "text": [
      "\r\u001b[32mloss: 4.98:  35%|██████████████                         |  ETA: 0:03:08\u001b[39m\u001b[K"
     ]
    },
    {
     "name": "stderr",
     "output_type": "stream",
     "text": [
      "\r\u001b[32mloss: 4.98:  36%|██████████████                         |  ETA: 0:03:06\u001b[39m\u001b[K"
     ]
    },
    {
     "name": "stderr",
     "output_type": "stream",
     "text": [
      "\r\u001b[32mloss: 4.98:  36%|██████████████                         |  ETA: 0:03:06\u001b[39m\u001b[K"
     ]
    },
    {
     "name": "stderr",
     "output_type": "stream",
     "text": [
      "\r\u001b[32mloss: 4.98:  36%|███████████████                        |  ETA: 0:03:04\u001b[39m\u001b[K"
     ]
    },
    {
     "name": "stderr",
     "output_type": "stream",
     "text": [
      "\r\u001b[32mloss: 4.98:  36%|███████████████                        |  ETA: 0:03:04\u001b[39m\u001b[K"
     ]
    },
    {
     "name": "stderr",
     "output_type": "stream",
     "text": [
      "\r\u001b[32mloss: 4.97:  36%|███████████████                        |  ETA: 0:03:02\u001b[39m\u001b[K"
     ]
    },
    {
     "name": "stderr",
     "output_type": "stream",
     "text": [
      "\r\u001b[32mloss: 4.97:  37%|███████████████                        |  ETA: 0:03:02\u001b[39m\u001b[K"
     ]
    },
    {
     "name": "stderr",
     "output_type": "stream",
     "text": [
      "\r\u001b[32mloss: 4.97:  37%|███████████████                        |  ETA: 0:03:01\u001b[39m\u001b[K"
     ]
    },
    {
     "name": "stderr",
     "output_type": "stream",
     "text": [
      "\r\u001b[32mloss: 4.97:  37%|███████████████                        |  ETA: 0:03:00\u001b[39m\u001b[K"
     ]
    },
    {
     "name": "stderr",
     "output_type": "stream",
     "text": [
      "\r\u001b[32mloss: 4.97:  38%|███████████████                        |  ETA: 0:02:59\u001b[39m\u001b[K"
     ]
    },
    {
     "name": "stderr",
     "output_type": "stream",
     "text": [
      "\r\u001b[32mloss: 4.96:  38%|███████████████                        |  ETA: 0:02:58\u001b[39m\u001b[K"
     ]
    },
    {
     "name": "stderr",
     "output_type": "stream",
     "text": [
      "\r\u001b[32mloss: 4.96:  38%|███████████████                        |  ETA: 0:02:57\u001b[39m\u001b[K"
     ]
    },
    {
     "name": "stderr",
     "output_type": "stream",
     "text": [
      "\r\u001b[32mloss: 4.96:  38%|███████████████                        |  ETA: 0:02:57\u001b[39m\u001b[K"
     ]
    },
    {
     "name": "stderr",
     "output_type": "stream",
     "text": [
      "\r\u001b[32mloss: 4.96:  38%|████████████████                       |  ETA: 0:02:56\u001b[39m\u001b[K"
     ]
    },
    {
     "name": "stderr",
     "output_type": "stream",
     "text": [
      "\r\u001b[32mloss: 4.96:  39%|████████████████                       |  ETA: 0:02:55\u001b[39m\u001b[K"
     ]
    },
    {
     "name": "stderr",
     "output_type": "stream",
     "text": [
      "\r\u001b[32mloss: 4.96:  39%|████████████████                       |  ETA: 0:02:54\u001b[39m\u001b[K"
     ]
    },
    {
     "name": "stderr",
     "output_type": "stream",
     "text": [
      "\r\u001b[32mloss: 4.95:  39%|████████████████                       |  ETA: 0:02:53\u001b[39m\u001b[K"
     ]
    },
    {
     "name": "stderr",
     "output_type": "stream",
     "text": [
      "\r\u001b[32mloss: 4.95:  40%|████████████████                       |  ETA: 0:02:52\u001b[39m\u001b[K"
     ]
    },
    {
     "name": "stderr",
     "output_type": "stream",
     "text": [
      "\r\u001b[32mloss: 4.95:  40%|████████████████                       |  ETA: 0:02:52\u001b[39m\u001b[K"
     ]
    },
    {
     "name": "stderr",
     "output_type": "stream",
     "text": [
      "\r\u001b[32mloss: 4.95:  40%|████████████████                       |  ETA: 0:02:51\u001b[39m\u001b[K"
     ]
    },
    {
     "name": "stderr",
     "output_type": "stream",
     "text": [
      "\r\u001b[32mloss: 4.95:  40%|████████████████                       |  ETA: 0:02:50\u001b[39m\u001b[K"
     ]
    },
    {
     "name": "stderr",
     "output_type": "stream",
     "text": [
      "\r\u001b[32mloss: 4.94:  40%|████████████████                       |  ETA: 0:02:49\u001b[39m\u001b[K"
     ]
    },
    {
     "name": "stderr",
     "output_type": "stream",
     "text": [
      "\r\u001b[32mloss: 4.94:  41%|████████████████                       |  ETA: 0:02:48\u001b[39m\u001b[K"
     ]
    },
    {
     "name": "stderr",
     "output_type": "stream",
     "text": [
      "\r\u001b[32mloss: 4.94:  41%|████████████████                       |  ETA: 0:02:47\u001b[39m\u001b[K"
     ]
    },
    {
     "name": "stderr",
     "output_type": "stream",
     "text": [
      "\r\u001b[32mloss: 4.94:  41%|█████████████████                      |  ETA: 0:02:47\u001b[39m\u001b[K"
     ]
    },
    {
     "name": "stderr",
     "output_type": "stream",
     "text": [
      "\r\u001b[32mloss: 4.94:  42%|█████████████████                      |  ETA: 0:02:46\u001b[39m\u001b[K"
     ]
    },
    {
     "name": "stderr",
     "output_type": "stream",
     "text": [
      "\r\u001b[32mloss: 4.94:  42%|█████████████████                      |  ETA: 0:02:45\u001b[39m\u001b[K"
     ]
    },
    {
     "name": "stderr",
     "output_type": "stream",
     "text": [
      "\r\u001b[32mloss: 4.93:  42%|█████████████████                      |  ETA: 0:02:44\u001b[39m\u001b[K"
     ]
    },
    {
     "name": "stderr",
     "output_type": "stream",
     "text": [
      "\r\u001b[32mloss: 4.93:  42%|█████████████████                      |  ETA: 0:02:43\u001b[39m\u001b[K\r\u001b[32mloss: 4.93:  42%|█████████████████                      |  ETA: 0:02:42\u001b[39m\u001b[K"
     ]
    },
    {
     "name": "stderr",
     "output_type": "stream",
     "text": [
      "\r\u001b[32mloss: 4.93:  43%|█████████████████                      |  ETA: 0:02:42\u001b[39m\u001b[K"
     ]
    },
    {
     "name": "stderr",
     "output_type": "stream",
     "text": [
      "\r\u001b[32mloss: 4.93:  43%|█████████████████                      |  ETA: 0:02:40\u001b[39m\u001b[K"
     ]
    },
    {
     "name": "stderr",
     "output_type": "stream",
     "text": [
      "\r\u001b[32mloss: 4.92:  43%|█████████████████                      |  ETA: 0:02:40\u001b[39m\u001b[K"
     ]
    },
    {
     "name": "stderr",
     "output_type": "stream",
     "text": [
      "\r\u001b[32mloss: 4.92:  44%|█████████████████                      |  ETA: 0:02:39\u001b[39m\u001b[K"
     ]
    },
    {
     "name": "stderr",
     "output_type": "stream",
     "text": [
      "\r\u001b[32mloss: 4.92:  44%|██████████████████                     |  ETA: 0:02:39\u001b[39m\u001b[K"
     ]
    },
    {
     "name": "stderr",
     "output_type": "stream",
     "text": [
      "\r\u001b[32mloss: 4.92:  44%|██████████████████                     |  ETA: 0:02:38\u001b[39m\u001b[K"
     ]
    },
    {
     "name": "stderr",
     "output_type": "stream",
     "text": [
      "\r\u001b[32mloss: 4.92:  44%|██████████████████                     |  ETA: 0:02:37\u001b[39m\u001b[K"
     ]
    },
    {
     "name": "stderr",
     "output_type": "stream",
     "text": [
      "\r\u001b[32mloss: 4.92:  44%|██████████████████                     |  ETA: 0:02:36\u001b[39m\u001b[K"
     ]
    },
    {
     "name": "stderr",
     "output_type": "stream",
     "text": [
      "\r\u001b[32mloss: 4.91:  45%|██████████████████                     |  ETA: 0:02:35\u001b[39m\u001b[K"
     ]
    },
    {
     "name": "stderr",
     "output_type": "stream",
     "text": [
      "\r\u001b[32mloss: 4.91:  45%|██████████████████                     |  ETA: 0:02:34\u001b[39m\u001b[K"
     ]
    },
    {
     "name": "stderr",
     "output_type": "stream",
     "text": [
      "\r\u001b[32mloss: 4.91:  45%|██████████████████                     |  ETA: 0:02:34\u001b[39m\u001b[K"
     ]
    },
    {
     "name": "stderr",
     "output_type": "stream",
     "text": [
      "\r\u001b[32mloss: 4.91:  46%|██████████████████                     |  ETA: 0:02:33\u001b[39m\u001b[K"
     ]
    },
    {
     "name": "stderr",
     "output_type": "stream",
     "text": [
      "\r\u001b[32mloss: 4.91:  46%|██████████████████                     |  ETA: 0:02:32\u001b[39m\u001b[K"
     ]
    },
    {
     "name": "stderr",
     "output_type": "stream",
     "text": [
      "\r\u001b[32mloss: 4.9:  46%|███████████████████                     |  ETA: 0:02:31\u001b[39m\u001b[K"
     ]
    },
    {
     "name": "stderr",
     "output_type": "stream",
     "text": [
      "\r\u001b[32mloss: 4.9:  46%|███████████████████                     |  ETA: 0:02:31\u001b[39m\u001b[K"
     ]
    },
    {
     "name": "stderr",
     "output_type": "stream",
     "text": [
      "\r\u001b[32mloss: 4.9:  46%|███████████████████                     |  ETA: 0:02:30\u001b[39m\u001b[K"
     ]
    },
    {
     "name": "stderr",
     "output_type": "stream",
     "text": [
      "\r\u001b[32mloss: 4.9:  47%|███████████████████                     |  ETA: 0:02:29\u001b[39m\u001b[K"
     ]
    },
    {
     "name": "stderr",
     "output_type": "stream",
     "text": [
      "\r\u001b[32mloss: 4.9:  47%|███████████████████                     |  ETA: 0:02:28\u001b[39m\u001b[K"
     ]
    },
    {
     "name": "stderr",
     "output_type": "stream",
     "text": [
      "\r\u001b[32mloss: 4.89:  47%|███████████████████                    |  ETA: 0:02:27\u001b[39m\u001b[K"
     ]
    },
    {
     "name": "stderr",
     "output_type": "stream",
     "text": [
      "\r\u001b[32mloss: 4.89:  48%|███████████████████                    |  ETA: 0:02:26\u001b[39m\u001b[K"
     ]
    },
    {
     "name": "stderr",
     "output_type": "stream",
     "text": [
      "\r\u001b[32mloss: 4.89:  48%|███████████████████                    |  ETA: 0:02:26\u001b[39m\u001b[K"
     ]
    },
    {
     "name": "stderr",
     "output_type": "stream",
     "text": [
      "\r\u001b[32mloss: 4.89:  48%|███████████████████                    |  ETA: 0:02:25\u001b[39m\u001b[K"
     ]
    },
    {
     "name": "stderr",
     "output_type": "stream",
     "text": [
      "\r\u001b[32mloss: 4.89:  48%|███████████████████                    |  ETA: 0:02:24\u001b[39m\u001b[K"
     ]
    },
    {
     "name": "stderr",
     "output_type": "stream",
     "text": [
      "\r\u001b[32mloss: 4.89:  48%|███████████████████                    |  ETA: 0:02:23\u001b[39m\u001b[K"
     ]
    },
    {
     "name": "stderr",
     "output_type": "stream",
     "text": [
      "\r\u001b[32mloss: 4.88:  49%|███████████████████                    |  ETA: 0:02:23\u001b[39m\u001b[K"
     ]
    },
    {
     "name": "stderr",
     "output_type": "stream",
     "text": [
      "\r\u001b[32mloss: 4.88:  49%|████████████████████                   |  ETA: 0:02:22\u001b[39m\u001b[K"
     ]
    },
    {
     "name": "stderr",
     "output_type": "stream",
     "text": [
      "\r\u001b[32mloss: 4.88:  49%|████████████████████                   |  ETA: 0:02:21\u001b[39m\u001b[K"
     ]
    },
    {
     "name": "stderr",
     "output_type": "stream",
     "text": [
      "\r\u001b[32mloss: 4.88:  50%|████████████████████                   |  ETA: 0:02:20\u001b[39m\u001b[K"
     ]
    },
    {
     "name": "stderr",
     "output_type": "stream",
     "text": [
      "\r\u001b[32mloss: 4.88:  50%|████████████████████                   |  ETA: 0:02:20\u001b[39m\u001b[K"
     ]
    },
    {
     "name": "stderr",
     "output_type": "stream",
     "text": [
      "\r\u001b[32mloss: 4.87:  50%|████████████████████                   |  ETA: 0:02:19\u001b[39m\u001b[K"
     ]
    },
    {
     "name": "stderr",
     "output_type": "stream",
     "text": [
      "\r\u001b[32mloss: 4.87:  50%|████████████████████                   |  ETA: 0:02:18\u001b[39m\u001b[K"
     ]
    },
    {
     "name": "stderr",
     "output_type": "stream",
     "text": [
      "\r\u001b[32mloss: 4.87:  50%|████████████████████                   |  ETA: 0:02:17\u001b[39m\u001b[K"
     ]
    },
    {
     "name": "stderr",
     "output_type": "stream",
     "text": [
      "\r\u001b[32mloss: 4.87:  51%|████████████████████                   |  ETA: 0:02:17\u001b[39m\u001b[K"
     ]
    },
    {
     "name": "stderr",
     "output_type": "stream",
     "text": [
      "\r\u001b[32mloss: 4.87:  51%|████████████████████                   |  ETA: 0:02:16\u001b[39m\u001b[K"
     ]
    },
    {
     "name": "stderr",
     "output_type": "stream",
     "text": [
      "\r\u001b[32mloss: 4.86:  51%|████████████████████                   |  ETA: 0:02:15\u001b[39m\u001b[K"
     ]
    },
    {
     "name": "stderr",
     "output_type": "stream",
     "text": [
      "\r\u001b[32mloss: 4.86:  52%|█████████████████████                  |  ETA: 0:02:14\u001b[39m\u001b[K"
     ]
    },
    {
     "name": "stderr",
     "output_type": "stream",
     "text": [
      "\r\u001b[32mloss: 4.86:  52%|█████████████████████                  |  ETA: 0:02:13\u001b[39m\u001b[K"
     ]
    },
    {
     "name": "stderr",
     "output_type": "stream",
     "text": [
      "\r\u001b[32mloss: 4.86:  52%|█████████████████████                  |  ETA: 0:02:12\u001b[39m\u001b[K"
     ]
    },
    {
     "name": "stderr",
     "output_type": "stream",
     "text": [
      "\r\u001b[32mloss: 4.86:  52%|█████████████████████                  |  ETA: 0:02:12\u001b[39m\u001b[K"
     ]
    },
    {
     "name": "stderr",
     "output_type": "stream",
     "text": [
      "\r\u001b[32mloss: 4.85:  52%|█████████████████████                  |  ETA: 0:02:11\u001b[39m\u001b[K"
     ]
    },
    {
     "name": "stderr",
     "output_type": "stream",
     "text": [
      "\r\u001b[32mloss: 4.85:  53%|█████████████████████                  |  ETA: 0:02:10\u001b[39m\u001b[K"
     ]
    },
    {
     "name": "stderr",
     "output_type": "stream",
     "text": [
      "\r\u001b[32mloss: 4.85:  53%|█████████████████████                  |  ETA: 0:02:09\u001b[39m\u001b[K"
     ]
    },
    {
     "name": "stderr",
     "output_type": "stream",
     "text": [
      "\r\u001b[32mloss: 4.85:  53%|█████████████████████                  |  ETA: 0:02:09\u001b[39m\u001b[K"
     ]
    },
    {
     "name": "stderr",
     "output_type": "stream",
     "text": [
      "\r\u001b[32mloss: 4.85:  54%|█████████████████████                  |  ETA: 0:02:08\u001b[39m\u001b[K"
     ]
    },
    {
     "name": "stderr",
     "output_type": "stream",
     "text": [
      "\r\u001b[32mloss: 4.84:  54%|█████████████████████                  |  ETA: 0:02:08\u001b[39m\u001b[K"
     ]
    },
    {
     "name": "stderr",
     "output_type": "stream",
     "text": [
      "\r\u001b[32mloss: 4.84:  54%|██████████████████████                 |  ETA: 0:02:07\u001b[39m\u001b[K"
     ]
    },
    {
     "name": "stderr",
     "output_type": "stream",
     "text": [
      "\r\u001b[32mloss: 4.84:  54%|██████████████████████                 |  ETA: 0:02:06\u001b[39m\u001b[K"
     ]
    },
    {
     "name": "stderr",
     "output_type": "stream",
     "text": [
      "\r\u001b[32mloss: 4.84:  54%|██████████████████████                 |  ETA: 0:02:05\u001b[39m\u001b[K"
     ]
    },
    {
     "name": "stderr",
     "output_type": "stream",
     "text": [
      "\r\u001b[32mloss: 4.84:  55%|██████████████████████                 |  ETA: 0:02:05\u001b[39m\u001b[K"
     ]
    },
    {
     "name": "stderr",
     "output_type": "stream",
     "text": [
      "\r\u001b[32mloss: 4.83:  55%|██████████████████████                 |  ETA: 0:02:04\u001b[39m\u001b[K"
     ]
    },
    {
     "name": "stderr",
     "output_type": "stream",
     "text": [
      "\r\u001b[32mloss: 4.83:  55%|██████████████████████                 |  ETA: 0:02:03\u001b[39m\u001b[K"
     ]
    },
    {
     "name": "stderr",
     "output_type": "stream",
     "text": [
      "\r\u001b[32mloss: 4.83:  56%|██████████████████████                 |  ETA: 0:02:02\u001b[39m\u001b[K"
     ]
    },
    {
     "name": "stderr",
     "output_type": "stream",
     "text": [
      "\r\u001b[32mloss: 4.83:  56%|██████████████████████                 |  ETA: 0:02:02\u001b[39m\u001b[K"
     ]
    },
    {
     "name": "stderr",
     "output_type": "stream",
     "text": [
      "\r\u001b[32mloss: 4.83:  56%|██████████████████████                 |  ETA: 0:02:01\u001b[39m\u001b[K"
     ]
    },
    {
     "name": "stderr",
     "output_type": "stream",
     "text": [
      "\r\u001b[32mloss: 4.82:  56%|██████████████████████                 |  ETA: 0:02:00\u001b[39m\u001b[K"
     ]
    },
    {
     "name": "stderr",
     "output_type": "stream",
     "text": [
      "\r\u001b[32mloss: 4.82:  56%|███████████████████████                |  ETA: 0:02:00\u001b[39m\u001b[K"
     ]
    },
    {
     "name": "stderr",
     "output_type": "stream",
     "text": [
      "\r\u001b[32mloss: 4.82:  57%|███████████████████████                |  ETA: 0:01:59\u001b[39m\u001b[K"
     ]
    },
    {
     "name": "stderr",
     "output_type": "stream",
     "text": [
      "\r\u001b[32mloss: 4.82:  57%|███████████████████████                |  ETA: 0:01:58\u001b[39m\u001b[K"
     ]
    },
    {
     "name": "stderr",
     "output_type": "stream",
     "text": [
      "\r\u001b[32mloss: 4.82:  57%|███████████████████████                |  ETA: 0:01:58\u001b[39m\u001b[K"
     ]
    },
    {
     "name": "stderr",
     "output_type": "stream",
     "text": [
      "\r\u001b[32mloss: 4.82:  58%|███████████████████████                |  ETA: 0:01:57\u001b[39m\u001b[K"
     ]
    },
    {
     "name": "stderr",
     "output_type": "stream",
     "text": [
      "\r\u001b[32mloss: 4.81:  58%|███████████████████████                |  ETA: 0:01:56\u001b[39m\u001b[K"
     ]
    },
    {
     "name": "stderr",
     "output_type": "stream",
     "text": [
      "\r\u001b[32mloss: 4.81:  58%|███████████████████████                |  ETA: 0:01:55\u001b[39m\u001b[K"
     ]
    },
    {
     "name": "stderr",
     "output_type": "stream",
     "text": [
      "\r\u001b[32mloss: 4.81:  58%|███████████████████████                |  ETA: 0:01:55\u001b[39m\u001b[K"
     ]
    },
    {
     "name": "stderr",
     "output_type": "stream",
     "text": [
      "\r\u001b[32mloss: 4.81:  58%|███████████████████████                |  ETA: 0:01:54\u001b[39m\u001b[K"
     ]
    },
    {
     "name": "stderr",
     "output_type": "stream",
     "text": [
      "\r\u001b[32mloss: 4.81:  59%|███████████████████████                |  ETA: 0:01:53\u001b[39m\u001b[K"
     ]
    },
    {
     "name": "stderr",
     "output_type": "stream",
     "text": [
      "\r\u001b[32mloss: 4.8:  59%|████████████████████████                |  ETA: 0:01:52\u001b[39m\u001b[K"
     ]
    },
    {
     "name": "stderr",
     "output_type": "stream",
     "text": [
      "\r\u001b[32mloss: 4.8:  59%|████████████████████████                |  ETA: 0:01:52\u001b[39m\u001b[K"
     ]
    },
    {
     "name": "stderr",
     "output_type": "stream",
     "text": [
      "\r\u001b[32mloss: 4.8:  60%|████████████████████████                |  ETA: 0:01:51\u001b[39m\u001b[K"
     ]
    },
    {
     "name": "stderr",
     "output_type": "stream",
     "text": [
      "\r\u001b[32mloss: 4.8:  60%|████████████████████████                |  ETA: 0:01:50\u001b[39m\u001b[K"
     ]
    },
    {
     "name": "stderr",
     "output_type": "stream",
     "text": [
      "\r\u001b[32mloss: 4.8:  60%|█████████████████████████               |  ETA: 0:01:50\u001b[39m\u001b[K"
     ]
    },
    {
     "name": "stderr",
     "output_type": "stream",
     "text": [
      "\r\u001b[32mloss: 4.79:  60%|████████████████████████               |  ETA: 0:01:49\u001b[39m\u001b[K"
     ]
    },
    {
     "name": "stderr",
     "output_type": "stream",
     "text": [
      "\r\u001b[32mloss: 4.79:  60%|████████████████████████               |  ETA: 0:01:48\u001b[39m\u001b[K"
     ]
    },
    {
     "name": "stderr",
     "output_type": "stream",
     "text": [
      "\r\u001b[32mloss: 4.79:  61%|████████████████████████               |  ETA: 0:01:48\u001b[39m\u001b[K"
     ]
    },
    {
     "name": "stderr",
     "output_type": "stream",
     "text": [
      "\r\u001b[32mloss: 4.79:  61%|████████████████████████               |  ETA: 0:01:47\u001b[39m\u001b[K"
     ]
    },
    {
     "name": "stderr",
     "output_type": "stream",
     "text": [
      "\r\u001b[32mloss: 4.79:  61%|████████████████████████               |  ETA: 0:01:46\u001b[39m\u001b[K"
     ]
    },
    {
     "name": "stderr",
     "output_type": "stream",
     "text": [
      "\r\u001b[32mloss: 4.78:  62%|████████████████████████               |  ETA: 0:01:45\u001b[39m\u001b[K"
     ]
    },
    {
     "name": "stderr",
     "output_type": "stream",
     "text": [
      "\r\u001b[32mloss: 4.78:  62%|█████████████████████████              |  ETA: 0:01:45\u001b[39m\u001b[K"
     ]
    },
    {
     "name": "stderr",
     "output_type": "stream",
     "text": [
      "\r\u001b[32mloss: 4.78:  62%|█████████████████████████              |  ETA: 0:01:44\u001b[39m\u001b[K"
     ]
    },
    {
     "name": "stderr",
     "output_type": "stream",
     "text": [
      "\r\u001b[32mloss: 4.78:  62%|█████████████████████████              |  ETA: 0:01:44\u001b[39m\u001b[K"
     ]
    },
    {
     "name": "stderr",
     "output_type": "stream",
     "text": [
      "\r\u001b[32mloss: 4.77:  62%|█████████████████████████              |  ETA: 0:01:43\u001b[39m\u001b[K"
     ]
    },
    {
     "name": "stderr",
     "output_type": "stream",
     "text": [
      "\r\u001b[32mloss: 4.77:  63%|█████████████████████████              |  ETA: 0:01:42\u001b[39m\u001b[K"
     ]
    },
    {
     "name": "stderr",
     "output_type": "stream",
     "text": [
      "\r\u001b[32mloss: 4.77:  63%|█████████████████████████              |  ETA: 0:01:41\u001b[39m\u001b[K"
     ]
    },
    {
     "name": "stderr",
     "output_type": "stream",
     "text": [
      "\r\u001b[32mloss: 4.77:  63%|█████████████████████████              |  ETA: 0:01:41\u001b[39m\u001b[K"
     ]
    },
    {
     "name": "stderr",
     "output_type": "stream",
     "text": [
      "\r\u001b[32mloss: 4.77:  64%|█████████████████████████              |  ETA: 0:01:40\u001b[39m\u001b[K"
     ]
    },
    {
     "name": "stderr",
     "output_type": "stream",
     "text": [
      "\r\u001b[32mloss: 4.76:  64%|█████████████████████████              |  ETA: 0:01:39\u001b[39m\u001b[K"
     ]
    },
    {
     "name": "stderr",
     "output_type": "stream",
     "text": [
      "\r\u001b[32mloss: 4.76:  64%|█████████████████████████              |  ETA: 0:01:38\u001b[39m\u001b[K"
     ]
    },
    {
     "name": "stderr",
     "output_type": "stream",
     "text": [
      "\r\u001b[32mloss: 4.76:  64%|██████████████████████████             |  ETA: 0:01:38\u001b[39m\u001b[K"
     ]
    },
    {
     "name": "stderr",
     "output_type": "stream",
     "text": [
      "\r\u001b[32mloss: 4.76:  64%|██████████████████████████             |  ETA: 0:01:37\u001b[39m\u001b[K"
     ]
    },
    {
     "name": "stderr",
     "output_type": "stream",
     "text": [
      "\r\u001b[32mloss: 4.76:  65%|██████████████████████████             |  ETA: 0:01:37\u001b[39m\u001b[K"
     ]
    },
    {
     "name": "stderr",
     "output_type": "stream",
     "text": [
      "\r\u001b[32mloss: 4.75:  65%|██████████████████████████             |  ETA: 0:01:36\u001b[39m\u001b[K"
     ]
    },
    {
     "name": "stderr",
     "output_type": "stream",
     "text": [
      "\r\u001b[32mloss: 4.75:  65%|██████████████████████████             |  ETA: 0:01:35\u001b[39m\u001b[K"
     ]
    },
    {
     "name": "stderr",
     "output_type": "stream",
     "text": [
      "\r\u001b[32mloss: 4.75:  66%|██████████████████████████             |  ETA: 0:01:34\u001b[39m\u001b[K"
     ]
    },
    {
     "name": "stderr",
     "output_type": "stream",
     "text": [
      "\r\u001b[32mloss: 4.75:  66%|██████████████████████████             |  ETA: 0:01:34\u001b[39m\u001b[K"
     ]
    },
    {
     "name": "stderr",
     "output_type": "stream",
     "text": [
      "\r\u001b[32mloss: 4.75:  66%|██████████████████████████             |  ETA: 0:01:33\u001b[39m\u001b[K"
     ]
    },
    {
     "name": "stderr",
     "output_type": "stream",
     "text": [
      "\r\u001b[32mloss: 4.74:  66%|██████████████████████████             |  ETA: 0:01:32\u001b[39m\u001b[K"
     ]
    },
    {
     "name": "stderr",
     "output_type": "stream",
     "text": [
      "\r\u001b[32mloss: 4.74:  66%|██████████████████████████             |  ETA: 0:01:31\u001b[39m\u001b[K"
     ]
    },
    {
     "name": "stderr",
     "output_type": "stream",
     "text": [
      "\r\u001b[32mloss: 4.74:  67%|███████████████████████████            |  ETA: 0:01:31\u001b[39m\u001b[K"
     ]
    },
    {
     "name": "stderr",
     "output_type": "stream",
     "text": [
      "\r\u001b[32mloss: 4.74:  67%|███████████████████████████            |  ETA: 0:01:30\u001b[39m\u001b[K"
     ]
    },
    {
     "name": "stderr",
     "output_type": "stream",
     "text": [
      "\r\u001b[32mloss: 4.74:  67%|███████████████████████████            |  ETA: 0:01:30\u001b[39m\u001b[K"
     ]
    },
    {
     "name": "stderr",
     "output_type": "stream",
     "text": [
      "\r\u001b[32mloss: 4.73:  68%|███████████████████████████            |  ETA: 0:01:29\u001b[39m\u001b[K"
     ]
    },
    {
     "name": "stderr",
     "output_type": "stream",
     "text": [
      "\r\u001b[32mloss: 4.73:  68%|███████████████████████████            |  ETA: 0:01:28\u001b[39m\u001b[K"
     ]
    },
    {
     "name": "stderr",
     "output_type": "stream",
     "text": [
      "\r\u001b[32mloss: 4.73:  68%|███████████████████████████            |  ETA: 0:01:27\u001b[39m\u001b[K"
     ]
    },
    {
     "name": "stderr",
     "output_type": "stream",
     "text": [
      "\r\u001b[32mloss: 4.73:  68%|███████████████████████████            |  ETA: 0:01:27\u001b[39m\u001b[K"
     ]
    },
    {
     "name": "stderr",
     "output_type": "stream",
     "text": [
      "\r\u001b[32mloss: 4.73:  68%|███████████████████████████            |  ETA: 0:01:26\u001b[39m\u001b[K"
     ]
    },
    {
     "name": "stderr",
     "output_type": "stream",
     "text": [
      "\r\u001b[32mloss: 4.72:  69%|███████████████████████████            |  ETA: 0:01:25\u001b[39m\u001b[K"
     ]
    },
    {
     "name": "stderr",
     "output_type": "stream",
     "text": [
      "\r\u001b[32mloss: 4.72:  69%|███████████████████████████            |  ETA: 0:01:25\u001b[39m\u001b[K"
     ]
    },
    {
     "name": "stderr",
     "output_type": "stream",
     "text": [
      "\r\u001b[32mloss: 4.72:  69%|███████████████████████████            |  ETA: 0:01:24\u001b[39m\u001b[K"
     ]
    },
    {
     "name": "stderr",
     "output_type": "stream",
     "text": [
      "\r\u001b[32mloss: 4.72:  70%|████████████████████████████           |  ETA: 0:01:23\u001b[39m\u001b[K"
     ]
    },
    {
     "name": "stderr",
     "output_type": "stream",
     "text": [
      "\r\u001b[32mloss: 4.72:  70%|████████████████████████████           |  ETA: 0:01:23\u001b[39m\u001b[K"
     ]
    },
    {
     "name": "stderr",
     "output_type": "stream",
     "text": [
      "\r\u001b[32mloss: 4.71:  70%|████████████████████████████           |  ETA: 0:01:22\u001b[39m\u001b[K"
     ]
    },
    {
     "name": "stderr",
     "output_type": "stream",
     "text": [
      "\r\u001b[32mloss: 4.71:  70%|████████████████████████████           |  ETA: 0:01:21\u001b[39m\u001b[K"
     ]
    },
    {
     "name": "stderr",
     "output_type": "stream",
     "text": [
      "\r\u001b[32mloss: 4.71:  70%|████████████████████████████           |  ETA: 0:01:21\u001b[39m\u001b[K"
     ]
    },
    {
     "name": "stderr",
     "output_type": "stream",
     "text": [
      "\r\u001b[32mloss: 4.71:  71%|████████████████████████████           |  ETA: 0:01:20\u001b[39m\u001b[K"
     ]
    },
    {
     "name": "stderr",
     "output_type": "stream",
     "text": [
      "\r\u001b[32mloss: 4.71:  71%|████████████████████████████           |  ETA: 0:01:19\u001b[39m\u001b[K"
     ]
    },
    {
     "name": "stderr",
     "output_type": "stream",
     "text": [
      "\r\u001b[32mloss: 4.7:  71%|█████████████████████████████           |  ETA: 0:01:19\u001b[39m\u001b[K"
     ]
    },
    {
     "name": "stderr",
     "output_type": "stream",
     "text": [
      "\r\u001b[32mloss: 4.7:  72%|█████████████████████████████           |  ETA: 0:01:18\u001b[39m\u001b[K"
     ]
    },
    {
     "name": "stderr",
     "output_type": "stream",
     "text": [
      "\r\u001b[32mloss: 4.7:  72%|█████████████████████████████           |  ETA: 0:01:18\u001b[39m\u001b[K"
     ]
    },
    {
     "name": "stderr",
     "output_type": "stream",
     "text": [
      "\r\u001b[32mloss: 4.7:  72%|█████████████████████████████           |  ETA: 0:01:17\u001b[39m\u001b[K"
     ]
    },
    {
     "name": "stderr",
     "output_type": "stream",
     "text": [
      "\r\u001b[32mloss: 4.69:  72%|█████████████████████████████          |  ETA: 0:01:16\u001b[39m\u001b[K"
     ]
    },
    {
     "name": "stderr",
     "output_type": "stream",
     "text": [
      "\r\u001b[32mloss: 4.69:  72%|█████████████████████████████          |  ETA: 0:01:15\u001b[39m\u001b[K"
     ]
    },
    {
     "name": "stderr",
     "output_type": "stream",
     "text": [
      "\r\u001b[32mloss: 4.69:  73%|█████████████████████████████          |  ETA: 0:01:15\u001b[39m\u001b[K"
     ]
    },
    {
     "name": "stderr",
     "output_type": "stream",
     "text": [
      "\r\u001b[32mloss: 4.69:  73%|█████████████████████████████          |  ETA: 0:01:14\u001b[39m\u001b[K"
     ]
    },
    {
     "name": "stderr",
     "output_type": "stream",
     "text": [
      "\r\u001b[32mloss: 4.69:  73%|█████████████████████████████          |  ETA: 0:01:13\u001b[39m\u001b[K"
     ]
    },
    {
     "name": "stderr",
     "output_type": "stream",
     "text": [
      "\r\u001b[32mloss: 4.68:  74%|█████████████████████████████          |  ETA: 0:01:13\u001b[39m\u001b[K"
     ]
    },
    {
     "name": "stderr",
     "output_type": "stream",
     "text": [
      "\r\u001b[32mloss: 4.68:  74%|█████████████████████████████          |  ETA: 0:01:12\u001b[39m\u001b[K"
     ]
    },
    {
     "name": "stderr",
     "output_type": "stream",
     "text": [
      "\r\u001b[32mloss: 4.68:  74%|█████████████████████████████          |  ETA: 0:01:11\u001b[39m\u001b[K"
     ]
    },
    {
     "name": "stderr",
     "output_type": "stream",
     "text": [
      "\r\u001b[32mloss: 4.68:  74%|█████████████████████████████          |  ETA: 0:01:11\u001b[39m\u001b[K"
     ]
    },
    {
     "name": "stderr",
     "output_type": "stream",
     "text": [
      "\r\u001b[32mloss: 4.68:  74%|██████████████████████████████         |  ETA: 0:01:10\u001b[39m\u001b[K"
     ]
    },
    {
     "name": "stderr",
     "output_type": "stream",
     "text": [
      "\r\u001b[32mloss: 4.67:  75%|██████████████████████████████         |  ETA: 0:01:09\u001b[39m\u001b[K"
     ]
    },
    {
     "name": "stderr",
     "output_type": "stream",
     "text": [
      "\r\u001b[32mloss: 4.67:  75%|██████████████████████████████         |  ETA: 0:01:08\u001b[39m\u001b[K"
     ]
    },
    {
     "name": "stderr",
     "output_type": "stream",
     "text": [
      "\r\u001b[32mloss: 4.67:  75%|██████████████████████████████         |  ETA: 0:01:08\u001b[39m\u001b[K"
     ]
    },
    {
     "name": "stderr",
     "output_type": "stream",
     "text": [
      "\r\u001b[32mloss: 4.67:  76%|██████████████████████████████         |  ETA: 0:01:07\u001b[39m\u001b[K"
     ]
    },
    {
     "name": "stderr",
     "output_type": "stream",
     "text": [
      "\r\u001b[32mloss: 4.67:  76%|██████████████████████████████         |  ETA: 0:01:07\u001b[39m\u001b[K"
     ]
    },
    {
     "name": "stderr",
     "output_type": "stream",
     "text": [
      "\r\u001b[32mloss: 4.66:  76%|██████████████████████████████         |  ETA: 0:01:06\u001b[39m\u001b[K"
     ]
    },
    {
     "name": "stderr",
     "output_type": "stream",
     "text": [
      "\r\u001b[32mloss: 4.66:  76%|██████████████████████████████         |  ETA: 0:01:05\u001b[39m\u001b[K"
     ]
    },
    {
     "name": "stderr",
     "output_type": "stream",
     "text": [
      "\r\u001b[32mloss: 4.66:  76%|██████████████████████████████         |  ETA: 0:01:04\u001b[39m\u001b[K"
     ]
    },
    {
     "name": "stderr",
     "output_type": "stream",
     "text": [
      "\r\u001b[32mloss: 4.66:  77%|██████████████████████████████         |  ETA: 0:01:04\u001b[39m\u001b[K"
     ]
    },
    {
     "name": "stderr",
     "output_type": "stream",
     "text": [
      "\r\u001b[32mloss: 4.65:  77%|███████████████████████████████        |  ETA: 0:01:03\u001b[39m\u001b[K"
     ]
    },
    {
     "name": "stderr",
     "output_type": "stream",
     "text": [
      "\r\u001b[32mloss: 4.65:  77%|███████████████████████████████        |  ETA: 0:01:03\u001b[39m\u001b[K"
     ]
    },
    {
     "name": "stderr",
     "output_type": "stream",
     "text": [
      "\r\u001b[32mloss: 4.65:  78%|███████████████████████████████        |  ETA: 0:01:02\u001b[39m\u001b[K"
     ]
    },
    {
     "name": "stderr",
     "output_type": "stream",
     "text": [
      "\r\u001b[32mloss: 4.65:  78%|███████████████████████████████        |  ETA: 0:01:01\u001b[39m\u001b[K"
     ]
    },
    {
     "name": "stderr",
     "output_type": "stream",
     "text": [
      "\r\u001b[32mloss: 4.65:  78%|███████████████████████████████        |  ETA: 0:01:00\u001b[39m\u001b[K"
     ]
    },
    {
     "name": "stderr",
     "output_type": "stream",
     "text": [
      "\r\u001b[32mloss: 4.64:  78%|███████████████████████████████        |  ETA: 0:01:00\u001b[39m\u001b[K"
     ]
    },
    {
     "name": "stderr",
     "output_type": "stream",
     "text": [
      "\r\u001b[32mloss: 4.64:  78%|███████████████████████████████        |  ETA: 0:00:59\u001b[39m\u001b[K"
     ]
    },
    {
     "name": "stderr",
     "output_type": "stream",
     "text": [
      "\r\u001b[32mloss: 4.64:  79%|███████████████████████████████        |  ETA: 0:00:58\u001b[39m\u001b[K"
     ]
    },
    {
     "name": "stderr",
     "output_type": "stream",
     "text": [
      "\r\u001b[32mloss: 4.64:  79%|███████████████████████████████        |  ETA: 0:00:58\u001b[39m\u001b[K"
     ]
    },
    {
     "name": "stderr",
     "output_type": "stream",
     "text": [
      "\r\u001b[32mloss: 4.64:  79%|███████████████████████████████        |  ETA: 0:00:57\u001b[39m\u001b[K"
     ]
    },
    {
     "name": "stderr",
     "output_type": "stream",
     "text": [
      "\r\u001b[32mloss: 4.63:  80%|████████████████████████████████       |  ETA: 0:00:56\u001b[39m\u001b[K"
     ]
    },
    {
     "name": "stderr",
     "output_type": "stream",
     "text": [
      "\r\u001b[32mloss: 4.63:  80%|████████████████████████████████       |  ETA: 0:00:56\u001b[39m\u001b[K"
     ]
    },
    {
     "name": "stderr",
     "output_type": "stream",
     "text": [
      "\r\u001b[32mloss: 4.63:  80%|████████████████████████████████       |  ETA: 0:00:55\u001b[39m\u001b[K"
     ]
    },
    {
     "name": "stderr",
     "output_type": "stream",
     "text": [
      "\r\u001b[32mloss: 4.63:  80%|████████████████████████████████       |  ETA: 0:00:54\u001b[39m\u001b[K"
     ]
    },
    {
     "name": "stderr",
     "output_type": "stream",
     "text": [
      "\r\u001b[32mloss: 4.62:  80%|████████████████████████████████       |  ETA: 0:00:53\u001b[39m\u001b[K"
     ]
    },
    {
     "name": "stderr",
     "output_type": "stream",
     "text": [
      "\r\u001b[32mloss: 4.62:  81%|████████████████████████████████       |  ETA: 0:00:53\u001b[39m\u001b[K"
     ]
    },
    {
     "name": "stderr",
     "output_type": "stream",
     "text": [
      "\r\u001b[32mloss: 4.62:  81%|████████████████████████████████       |  ETA: 0:00:52\u001b[39m\u001b[K"
     ]
    },
    {
     "name": "stderr",
     "output_type": "stream",
     "text": [
      "\r\u001b[32mloss: 4.62:  81%|████████████████████████████████       |  ETA: 0:00:52\u001b[39m\u001b[K"
     ]
    },
    {
     "name": "stderr",
     "output_type": "stream",
     "text": [
      "\r\u001b[32mloss: 4.62:  82%|████████████████████████████████       |  ETA: 0:00:51\u001b[39m\u001b[K"
     ]
    },
    {
     "name": "stderr",
     "output_type": "stream",
     "text": [
      "\r\u001b[32mloss: 4.61:  82%|████████████████████████████████       |  ETA: 0:00:50\u001b[39m\u001b[K"
     ]
    },
    {
     "name": "stderr",
     "output_type": "stream",
     "text": [
      "\r\u001b[32mloss: 4.61:  82%|████████████████████████████████       |  ETA: 0:00:49\u001b[39m\u001b[K"
     ]
    },
    {
     "name": "stderr",
     "output_type": "stream",
     "text": [
      "\r\u001b[32mloss: 4.61:  82%|█████████████████████████████████      |  ETA: 0:00:49\u001b[39m\u001b[K"
     ]
    },
    {
     "name": "stderr",
     "output_type": "stream",
     "text": [
      "\r\u001b[32mloss: 4.61:  82%|█████████████████████████████████      |  ETA: 0:00:48\u001b[39m\u001b[K"
     ]
    },
    {
     "name": "stderr",
     "output_type": "stream",
     "text": [
      "\r\u001b[32mloss: 4.61:  83%|█████████████████████████████████      |  ETA: 0:00:47\u001b[39m\u001b[K"
     ]
    },
    {
     "name": "stderr",
     "output_type": "stream",
     "text": [
      "\r\u001b[32mloss: 4.6:  83%|██████████████████████████████████      |  ETA: 0:00:47\u001b[39m\u001b[K"
     ]
    },
    {
     "name": "stderr",
     "output_type": "stream",
     "text": [
      "\r\u001b[32mloss: 4.6:  83%|██████████████████████████████████      |  ETA: 0:00:46\u001b[39m\u001b[K"
     ]
    },
    {
     "name": "stderr",
     "output_type": "stream",
     "text": [
      "\r\u001b[32mloss: 4.6:  84%|██████████████████████████████████      |  ETA: 0:00:45\u001b[39m\u001b[K"
     ]
    },
    {
     "name": "stderr",
     "output_type": "stream",
     "text": [
      "\r\u001b[32mloss: 4.6:  84%|██████████████████████████████████      |  ETA: 0:00:45\u001b[39m\u001b[K"
     ]
    },
    {
     "name": "stderr",
     "output_type": "stream",
     "text": [
      "\r\u001b[32mloss: 4.59:  84%|█████████████████████████████████      |  ETA: 0:00:44\u001b[39m\u001b[K"
     ]
    },
    {
     "name": "stderr",
     "output_type": "stream",
     "text": [
      "\r\u001b[32mloss: 4.59:  84%|█████████████████████████████████      |  ETA: 0:00:43\u001b[39m\u001b[K"
     ]
    },
    {
     "name": "stderr",
     "output_type": "stream",
     "text": [
      "\r\u001b[32mloss: 4.59:  84%|█████████████████████████████████      |  ETA: 0:00:43\u001b[39m\u001b[K"
     ]
    },
    {
     "name": "stderr",
     "output_type": "stream",
     "text": [
      "\r\u001b[32mloss: 4.59:  85%|██████████████████████████████████     |  ETA: 0:00:42\u001b[39m\u001b[K"
     ]
    },
    {
     "name": "stderr",
     "output_type": "stream",
     "text": [
      "\r\u001b[32mloss: 4.59:  85%|██████████████████████████████████     |  ETA: 0:00:41\u001b[39m\u001b[K"
     ]
    },
    {
     "name": "stderr",
     "output_type": "stream",
     "text": [
      "\r\u001b[32mloss: 4.58:  85%|██████████████████████████████████     |  ETA: 0:00:41\u001b[39m\u001b[K"
     ]
    },
    {
     "name": "stderr",
     "output_type": "stream",
     "text": [
      "\r\u001b[32mloss: 4.58:  86%|██████████████████████████████████     |  ETA: 0:00:40\u001b[39m\u001b[K"
     ]
    },
    {
     "name": "stderr",
     "output_type": "stream",
     "text": [
      "\r\u001b[32mloss: 4.58:  86%|██████████████████████████████████     |  ETA: 0:00:39\u001b[39m\u001b[K"
     ]
    },
    {
     "name": "stderr",
     "output_type": "stream",
     "text": [
      "\r\u001b[32mloss: 4.58:  86%|██████████████████████████████████     |  ETA: 0:00:38\u001b[39m\u001b[K"
     ]
    },
    {
     "name": "stderr",
     "output_type": "stream",
     "text": [
      "\r\u001b[32mloss: 4.57:  86%|██████████████████████████████████     |  ETA: 0:00:38\u001b[39m\u001b[K"
     ]
    },
    {
     "name": "stderr",
     "output_type": "stream",
     "text": [
      "\r\u001b[32mloss: 4.57:  86%|██████████████████████████████████     |  ETA: 0:00:37\u001b[39m\u001b[K"
     ]
    },
    {
     "name": "stderr",
     "output_type": "stream",
     "text": [
      "\r\u001b[32mloss: 4.57:  87%|██████████████████████████████████     |  ETA: 0:00:37\u001b[39m\u001b[K"
     ]
    },
    {
     "name": "stderr",
     "output_type": "stream",
     "text": [
      "\r\u001b[32mloss: 4.57:  87%|██████████████████████████████████     |  ETA: 0:00:36\u001b[39m\u001b[K"
     ]
    },
    {
     "name": "stderr",
     "output_type": "stream",
     "text": [
      "\r\u001b[32mloss: 4.57:  87%|███████████████████████████████████    |  ETA: 0:00:35\u001b[39m\u001b[K"
     ]
    },
    {
     "name": "stderr",
     "output_type": "stream",
     "text": [
      "\r\u001b[32mloss: 4.56:  88%|███████████████████████████████████    |  ETA: 0:00:34\u001b[39m\u001b[K"
     ]
    },
    {
     "name": "stderr",
     "output_type": "stream",
     "text": [
      "\r\u001b[32mloss: 4.56:  88%|███████████████████████████████████    |  ETA: 0:00:34\u001b[39m\u001b[K"
     ]
    },
    {
     "name": "stderr",
     "output_type": "stream",
     "text": [
      "\r\u001b[32mloss: 4.56:  88%|███████████████████████████████████    |  ETA: 0:00:33\u001b[39m\u001b[K"
     ]
    },
    {
     "name": "stderr",
     "output_type": "stream",
     "text": [
      "\r\u001b[32mloss: 4.56:  88%|███████████████████████████████████    |  ETA: 0:00:32\u001b[39m\u001b[K"
     ]
    },
    {
     "name": "stderr",
     "output_type": "stream",
     "text": [
      "\r\u001b[32mloss: 4.56:  88%|███████████████████████████████████    |  ETA: 0:00:32\u001b[39m\u001b[K"
     ]
    },
    {
     "name": "stderr",
     "output_type": "stream",
     "text": [
      "\r\u001b[32mloss: 4.55:  89%|███████████████████████████████████    |  ETA: 0:00:31\u001b[39m\u001b[K"
     ]
    },
    {
     "name": "stderr",
     "output_type": "stream",
     "text": [
      "\r\u001b[32mloss: 4.55:  89%|███████████████████████████████████    |  ETA: 0:00:30\u001b[39m\u001b[K"
     ]
    },
    {
     "name": "stderr",
     "output_type": "stream",
     "text": [
      "\r\u001b[32mloss: 4.55:  89%|███████████████████████████████████    |  ETA: 0:00:30\u001b[39m\u001b[K"
     ]
    },
    {
     "name": "stderr",
     "output_type": "stream",
     "text": [
      "\r\u001b[32mloss: 4.55:  90%|███████████████████████████████████    |  ETA: 0:00:29\u001b[39m\u001b[K"
     ]
    },
    {
     "name": "stderr",
     "output_type": "stream",
     "text": [
      "\r\u001b[32mloss: 4.54:  90%|███████████████████████████████████    |  ETA: 0:00:28\u001b[39m\u001b[K"
     ]
    },
    {
     "name": "stderr",
     "output_type": "stream",
     "text": [
      "\r\u001b[32mloss: 4.54:  90%|████████████████████████████████████   |  ETA: 0:00:28\u001b[39m\u001b[K"
     ]
    },
    {
     "name": "stderr",
     "output_type": "stream",
     "text": [
      "\r\u001b[32mloss: 4.54:  90%|████████████████████████████████████   |  ETA: 0:00:27\u001b[39m\u001b[K"
     ]
    },
    {
     "name": "stderr",
     "output_type": "stream",
     "text": [
      "\r\u001b[32mloss: 4.54:  90%|████████████████████████████████████   |  ETA: 0:00:26\u001b[39m\u001b[K"
     ]
    },
    {
     "name": "stderr",
     "output_type": "stream",
     "text": [
      "\r\u001b[32mloss: 4.54:  91%|████████████████████████████████████   |  ETA: 0:00:26\u001b[39m\u001b[K"
     ]
    },
    {
     "name": "stderr",
     "output_type": "stream",
     "text": [
      "\r\u001b[32mloss: 4.53:  91%|████████████████████████████████████   |  ETA: 0:00:25\u001b[39m\u001b[K"
     ]
    },
    {
     "name": "stderr",
     "output_type": "stream",
     "text": [
      "\r\u001b[32mloss: 4.53:  91%|████████████████████████████████████   |  ETA: 0:00:24\u001b[39m\u001b[K"
     ]
    },
    {
     "name": "stderr",
     "output_type": "stream",
     "text": [
      "\r\u001b[32mloss: 4.53:  92%|████████████████████████████████████   |  ETA: 0:00:23\u001b[39m\u001b[K"
     ]
    },
    {
     "name": "stderr",
     "output_type": "stream",
     "text": [
      "\r\u001b[32mloss: 4.53:  92%|████████████████████████████████████   |  ETA: 0:00:23\u001b[39m\u001b[K"
     ]
    },
    {
     "name": "stderr",
     "output_type": "stream",
     "text": [
      "\r\u001b[32mloss: 4.52:  92%|████████████████████████████████████   |  ETA: 0:00:22\u001b[39m\u001b[K"
     ]
    },
    {
     "name": "stderr",
     "output_type": "stream",
     "text": [
      "\r\u001b[32mloss: 4.52:  92%|████████████████████████████████████   |  ETA: 0:00:22\u001b[39m\u001b[K"
     ]
    },
    {
     "name": "stderr",
     "output_type": "stream",
     "text": [
      "\r\u001b[32mloss: 4.52:  92%|█████████████████████████████████████  |  ETA: 0:00:21\u001b[39m\u001b[K"
     ]
    },
    {
     "name": "stderr",
     "output_type": "stream",
     "text": [
      "\r\u001b[32mloss: 4.52:  93%|█████████████████████████████████████  |  ETA: 0:00:20\u001b[39m\u001b[K"
     ]
    },
    {
     "name": "stderr",
     "output_type": "stream",
     "text": [
      "\r\u001b[32mloss: 4.52:  93%|█████████████████████████████████████  |  ETA: 0:00:19\u001b[39m\u001b[K"
     ]
    },
    {
     "name": "stderr",
     "output_type": "stream",
     "text": [
      "\r\u001b[32mloss: 4.51:  93%|█████████████████████████████████████  |  ETA: 0:00:19\u001b[39m\u001b[K"
     ]
    },
    {
     "name": "stderr",
     "output_type": "stream",
     "text": [
      "\r\u001b[32mloss: 4.51:  94%|█████████████████████████████████████  |  ETA: 0:00:18\u001b[39m\u001b[K"
     ]
    },
    {
     "name": "stderr",
     "output_type": "stream",
     "text": [
      "\r\u001b[32mloss: 4.51:  94%|█████████████████████████████████████  |  ETA: 0:00:17\u001b[39m\u001b[K"
     ]
    },
    {
     "name": "stderr",
     "output_type": "stream",
     "text": [
      "\r\u001b[32mloss: 4.51:  94%|█████████████████████████████████████  |  ETA: 0:00:17\u001b[39m\u001b[K"
     ]
    },
    {
     "name": "stderr",
     "output_type": "stream",
     "text": [
      "\r\u001b[32mloss: 4.5:  94%|██████████████████████████████████████  |  ETA: 0:00:16\u001b[39m\u001b[K"
     ]
    },
    {
     "name": "stderr",
     "output_type": "stream",
     "text": [
      "\r\u001b[32mloss: 4.5:  94%|██████████████████████████████████████  |  ETA: 0:00:15\u001b[39m\u001b[K"
     ]
    },
    {
     "name": "stderr",
     "output_type": "stream",
     "text": [
      "\r\u001b[32mloss: 4.5:  95%|██████████████████████████████████████  |  ETA: 0:00:15\u001b[39m\u001b[K"
     ]
    },
    {
     "name": "stderr",
     "output_type": "stream",
     "text": [
      "\r\u001b[32mloss: 4.5:  95%|███████████████████████████████████████ |  ETA: 0:00:14\u001b[39m\u001b[K"
     ]
    },
    {
     "name": "stderr",
     "output_type": "stream",
     "text": [
      "\r\u001b[32mloss: 4.49:  95%|██████████████████████████████████████ |  ETA: 0:00:13\u001b[39m\u001b[K"
     ]
    },
    {
     "name": "stderr",
     "output_type": "stream",
     "text": [
      "\r\u001b[32mloss: 4.49:  96%|██████████████████████████████████████ |  ETA: 0:00:12\u001b[39m\u001b[K"
     ]
    },
    {
     "name": "stderr",
     "output_type": "stream",
     "text": [
      "\r\u001b[32mloss: 4.49:  96%|██████████████████████████████████████ |  ETA: 0:00:12\u001b[39m\u001b[K"
     ]
    },
    {
     "name": "stderr",
     "output_type": "stream",
     "text": [
      "\r\u001b[32mloss: 4.49:  96%|██████████████████████████████████████ |  ETA: 0:00:11\u001b[39m\u001b[K"
     ]
    },
    {
     "name": "stderr",
     "output_type": "stream",
     "text": [
      "\r\u001b[32mloss: 4.49:  96%|██████████████████████████████████████ |  ETA: 0:00:10\u001b[39m\u001b[K"
     ]
    },
    {
     "name": "stderr",
     "output_type": "stream",
     "text": [
      "\r\u001b[32mloss: 4.48:  96%|██████████████████████████████████████ |  ETA: 0:00:10\u001b[39m\u001b[K"
     ]
    },
    {
     "name": "stderr",
     "output_type": "stream",
     "text": [
      "\r\u001b[32mloss: 4.48:  97%|██████████████████████████████████████ |  ETA: 0:00:09\u001b[39m\u001b[K"
     ]
    },
    {
     "name": "stderr",
     "output_type": "stream",
     "text": [
      "\r\u001b[32mloss: 4.48:  97%|██████████████████████████████████████ |  ETA: 0:00:08\u001b[39m\u001b[K"
     ]
    },
    {
     "name": "stderr",
     "output_type": "stream",
     "text": [
      "\r\u001b[32mloss: 4.48:  97%|██████████████████████████████████████ |  ETA: 0:00:08\u001b[39m\u001b[K"
     ]
    },
    {
     "name": "stderr",
     "output_type": "stream",
     "text": [
      "\r\u001b[32mloss: 4.47:  98%|███████████████████████████████████████|  ETA: 0:00:07\u001b[39m\u001b[K"
     ]
    },
    {
     "name": "stderr",
     "output_type": "stream",
     "text": [
      "\r\u001b[32mloss: 4.47:  98%|███████████████████████████████████████|  ETA: 0:00:06\u001b[39m\u001b[K"
     ]
    },
    {
     "name": "stderr",
     "output_type": "stream",
     "text": [
      "\r\u001b[32mloss: 4.47:  98%|███████████████████████████████████████|  ETA: 0:00:06\u001b[39m\u001b[K"
     ]
    },
    {
     "name": "stderr",
     "output_type": "stream",
     "text": [
      "\r\u001b[32mloss: 4.47:  98%|███████████████████████████████████████|  ETA: 0:00:05\u001b[39m\u001b[K"
     ]
    },
    {
     "name": "stderr",
     "output_type": "stream",
     "text": [
      "\r\u001b[32mloss: 4.47:  98%|███████████████████████████████████████|  ETA: 0:00:04\u001b[39m\u001b[K"
     ]
    },
    {
     "name": "stderr",
     "output_type": "stream",
     "text": [
      "\r\u001b[32mloss: 4.46:  99%|███████████████████████████████████████|  ETA: 0:00:04\u001b[39m\u001b[K"
     ]
    },
    {
     "name": "stderr",
     "output_type": "stream",
     "text": [
      "\r\u001b[32mloss: 4.46:  99%|███████████████████████████████████████|  ETA: 0:00:03\u001b[39m\u001b[K"
     ]
    },
    {
     "name": "stderr",
     "output_type": "stream",
     "text": [
      "\r\u001b[32mloss: 4.46:  99%|███████████████████████████████████████|  ETA: 0:00:02\u001b[39m\u001b[K"
     ]
    },
    {
     "name": "stderr",
     "output_type": "stream",
     "text": [
      "\r\u001b[32mloss: 4.46: 100%|███████████████████████████████████████|  ETA: 0:00:01\u001b[39m\u001b[K"
     ]
    },
    {
     "name": "stderr",
     "output_type": "stream",
     "text": [
      "\r\u001b[32mloss: 4.45: 100%|███████████████████████████████████████|  ETA: 0:00:01\u001b[39m\u001b[K"
     ]
    },
    {
     "name": "stderr",
     "output_type": "stream",
     "text": [
      "\r\u001b[32mloss: 4.45: 100%|███████████████████████████████████████| Time: 0:04:37\u001b[39m\u001b[K\n"
     ]
    },
    {
     "name": "stderr",
     "output_type": "stream",
     "text": [
      "\r\u001b[32mloss: 4.45:   0%|█                                      |  ETA: 0:03:19\u001b[39m\u001b[K"
     ]
    },
    {
     "name": "stderr",
     "output_type": "stream",
     "text": [
      "\r\u001b[32mloss: 12.8:   1%|█                                      |  ETA: 0:07:12\u001b[39m\u001b[K"
     ]
    },
    {
     "name": "stderr",
     "output_type": "stream",
     "text": [
      "\r\u001b[32mloss: 4.7:   1%|█                                       |  ETA: 0:07:05\u001b[39m\u001b[K"
     ]
    },
    {
     "name": "stderr",
     "output_type": "stream",
     "text": [
      "\r\u001b[32mloss: 10.5:   1%|█                                      |  ETA: 0:08:50\u001b[39m\u001b[K"
     ]
    },
    {
     "name": "stderr",
     "output_type": "stream",
     "text": [
      "\r\u001b[32mloss: 7.93:   2%|█                                      |  ETA: 0:09:04\u001b[39m\u001b[K"
     ]
    },
    {
     "name": "stderr",
     "output_type": "stream",
     "text": [
      "\r\u001b[32mloss: 4.46:   2%|█                                      |  ETA: 0:08:50\u001b[39m\u001b[K"
     ]
    },
    {
     "name": "stderr",
     "output_type": "stream",
     "text": [
      "\r\u001b[32mloss: 5.9:   2%|█                                       |  ETA: 0:08:45\u001b[39m\u001b[K"
     ]
    },
    {
     "name": "stderr",
     "output_type": "stream",
     "text": [
      "\r\u001b[32mloss: 7.67:   2%|█                                      |  ETA: 0:09:15\u001b[39m\u001b[K"
     ]
    },
    {
     "name": "stderr",
     "output_type": "stream",
     "text": [
      "\r\u001b[32mloss: 7.22:   2%|█                                      |  ETA: 0:09:29\u001b[39m\u001b[K"
     ]
    },
    {
     "name": "stderr",
     "output_type": "stream",
     "text": [
      "\r\u001b[32mloss: 5.44:   3%|██                                     |  ETA: 0:09:39\u001b[39m\u001b[K"
     ]
    },
    {
     "name": "stderr",
     "output_type": "stream",
     "text": [
      "\r\u001b[32mloss: 4.46:   3%|██                                     |  ETA: 0:09:04\u001b[39m\u001b[K"
     ]
    },
    {
     "name": "stderr",
     "output_type": "stream",
     "text": [
      "\r\u001b[32mloss: 5.39:   3%|██                                     |  ETA: 0:09:15\u001b[39m\u001b[K"
     ]
    },
    {
     "name": "stderr",
     "output_type": "stream",
     "text": [
      "\r\u001b[32mloss: 6.39:   4%|██                                     |  ETA: 0:09:14\u001b[39m\u001b[K"
     ]
    },
    {
     "name": "stderr",
     "output_type": "stream",
     "text": [
      "\r\u001b[32mloss: 5.69:   4%|██                                     |  ETA: 0:09:20\u001b[39m\u001b[K"
     ]
    },
    {
     "name": "stderr",
     "output_type": "stream",
     "text": [
      "\r\u001b[32mloss: 4.62:   4%|██                                     |  ETA: 0:09:03\u001b[39m\u001b[K"
     ]
    },
    {
     "name": "stderr",
     "output_type": "stream",
     "text": [
      "\r\u001b[32mloss: 4.61:   4%|██                                     |  ETA: 0:09:00\u001b[39m\u001b[K"
     ]
    },
    {
     "name": "stderr",
     "output_type": "stream",
     "text": [
      "\r\u001b[32mloss: 5.27:   4%|██                                     |  ETA: 0:08:47\u001b[39m\u001b[K"
     ]
    },
    {
     "name": "stderr",
     "output_type": "stream",
     "text": [
      "\r\u001b[32mloss: 5.59:   5%|██                                     |  ETA: 0:08:55\u001b[39m\u001b[K"
     ]
    },
    {
     "name": "stderr",
     "output_type": "stream",
     "text": [
      "\r\u001b[32mloss: 5.24:   5%|██                                     |  ETA: 0:08:48\u001b[39m\u001b[K"
     ]
    },
    {
     "name": "stderr",
     "output_type": "stream",
     "text": [
      "\r\u001b[32mloss: 4.65:   5%|███                                    |  ETA: 0:08:53\u001b[39m\u001b[K"
     ]
    },
    {
     "name": "stderr",
     "output_type": "stream",
     "text": [
      "\r\u001b[32mloss: 4.49:   6%|███                                    |  ETA: 0:08:38\u001b[39m\u001b[K"
     ]
    },
    {
     "name": "stderr",
     "output_type": "stream",
     "text": [
      "\r\u001b[32mloss: 4.87:   6%|███                                    |  ETA: 0:08:40\u001b[39m\u001b[K"
     ]
    },
    {
     "name": "stderr",
     "output_type": "stream",
     "text": [
      "\r\u001b[32mloss: 5.14:   6%|███                                    |  ETA: 0:08:36\u001b[39m\u001b[K"
     ]
    },
    {
     "name": "stderr",
     "output_type": "stream",
     "text": [
      "\r\u001b[32mloss: 4.87:   6%|███                                    |  ETA: 0:08:39\u001b[39m\u001b[K"
     ]
    },
    {
     "name": "stderr",
     "output_type": "stream",
     "text": [
      "\r\u001b[32mloss: 4.5:   6%|███                                     |  ETA: 0:08:31\u001b[39m\u001b[K"
     ]
    },
    {
     "name": "stderr",
     "output_type": "stream",
     "text": [
      "\r\u001b[32mloss: 4.5:   7%|███                                     |  ETA: 0:08:28\u001b[39m\u001b[K"
     ]
    },
    {
     "name": "stderr",
     "output_type": "stream",
     "text": [
      "\r\u001b[32mloss: 4.75:   7%|███                                    |  ETA: 0:08:23\u001b[39m\u001b[K"
     ]
    },
    {
     "name": "stderr",
     "output_type": "stream",
     "text": [
      "\r\u001b[32mloss: 4.85:   7%|███                                    |  ETA: 0:08:25\u001b[39m\u001b[K"
     ]
    },
    {
     "name": "stderr",
     "output_type": "stream",
     "text": [
      "\r\u001b[32mloss: 4.68:   8%|███                                    |  ETA: 0:08:17\u001b[39m\u001b[K"
     ]
    },
    {
     "name": "stderr",
     "output_type": "stream",
     "text": [
      "\r\u001b[32mloss: 4.46:   8%|████                                   |  ETA: 0:08:13\u001b[39m\u001b[K"
     ]
    },
    {
     "name": "stderr",
     "output_type": "stream",
     "text": [
      "\r\u001b[32mloss: 4.47:   8%|████                                   |  ETA: 0:08:05\u001b[39m\u001b[K"
     ]
    },
    {
     "name": "stderr",
     "output_type": "stream",
     "text": [
      "\r\u001b[32mloss: 4.64:   8%|████                                   |  ETA: 0:08:07\u001b[39m\u001b[K"
     ]
    },
    {
     "name": "stderr",
     "output_type": "stream",
     "text": [
      "\r\u001b[32mloss: 4.67:   8%|████                                   |  ETA: 0:08:02\u001b[39m\u001b[K"
     ]
    },
    {
     "name": "stderr",
     "output_type": "stream",
     "text": [
      "\r\u001b[32mloss: 4.52:   9%|████                                   |  ETA: 0:08:01\u001b[39m\u001b[K"
     ]
    },
    {
     "name": "stderr",
     "output_type": "stream",
     "text": [
      "\r\u001b[32mloss: 4.42:   9%|████                                   |  ETA: 0:07:51\u001b[39m\u001b[K"
     ]
    },
    {
     "name": "stderr",
     "output_type": "stream",
     "text": [
      "\r\u001b[32mloss: 4.49:   9%|████                                   |  ETA: 0:07:50\u001b[39m\u001b[K"
     ]
    },
    {
     "name": "stderr",
     "output_type": "stream",
     "text": [
      "\r\u001b[32mloss: 4.58:  10%|████                                   |  ETA: 0:07:43\u001b[39m\u001b[K"
     ]
    },
    {
     "name": "stderr",
     "output_type": "stream",
     "text": [
      "\r\u001b[32mloss: 4.55:  10%|████                                   |  ETA: 0:07:42\u001b[39m\u001b[K"
     ]
    },
    {
     "name": "stderr",
     "output_type": "stream",
     "text": [
      "\r\u001b[32mloss: 4.45:  10%|████                                   |  ETA: 0:07:35\u001b[39m\u001b[K"
     ]
    },
    {
     "name": "stderr",
     "output_type": "stream",
     "text": [
      "\r\u001b[32mloss: 4.43:  10%|████                                   |  ETA: 0:07:33\u001b[39m\u001b[K"
     ]
    },
    {
     "name": "stderr",
     "output_type": "stream",
     "text": [
      "\r\u001b[32mloss: 4.49:  10%|█████                                  |  ETA: 0:07:28\u001b[39m\u001b[K"
     ]
    },
    {
     "name": "stderr",
     "output_type": "stream",
     "text": [
      "\r\u001b[32mloss: 4.52:  11%|█████                                  |  ETA: 0:07:27\u001b[39m\u001b[K"
     ]
    },
    {
     "name": "stderr",
     "output_type": "stream",
     "text": [
      "\r\u001b[32mloss: 4.46:  11%|█████                                  |  ETA: 0:07:23\u001b[39m\u001b[K"
     ]
    },
    {
     "name": "stderr",
     "output_type": "stream",
     "text": [
      "\r\u001b[32mloss: 4.42:  11%|█████                                  |  ETA: 0:07:19\u001b[39m\u001b[K"
     ]
    },
    {
     "name": "stderr",
     "output_type": "stream",
     "text": [
      "\r\u001b[32mloss: 4.45:  12%|█████                                  |  ETA: 0:07:14\u001b[39m\u001b[K"
     ]
    },
    {
     "name": "stderr",
     "output_type": "stream",
     "text": [
      "\r\u001b[32mloss: 4.48:  12%|█████                                  |  ETA: 0:07:13\u001b[39m\u001b[K"
     ]
    },
    {
     "name": "stderr",
     "output_type": "stream",
     "text": [
      "\r\u001b[32mloss: 4.46:  12%|█████                                  |  ETA: 0:07:08\u001b[39m\u001b[K"
     ]
    },
    {
     "name": "stderr",
     "output_type": "stream",
     "text": [
      "\r\u001b[32mloss: 4.42:  12%|█████                                  |  ETA: 0:07:06\u001b[39m\u001b[K"
     ]
    },
    {
     "name": "stderr",
     "output_type": "stream",
     "text": [
      "\r\u001b[32mloss: 4.42:  12%|█████                                  |  ETA: 0:07:00\u001b[39m\u001b[K"
     ]
    },
    {
     "name": "stderr",
     "output_type": "stream",
     "text": [
      "\r\u001b[32mloss: 4.45:  13%|█████                                  |  ETA: 0:07:00\u001b[39m\u001b[K"
     ]
    },
    {
     "name": "stderr",
     "output_type": "stream",
     "text": [
      "\r\u001b[32mloss: 4.45:  13%|██████                                 |  ETA: 0:06:56\u001b[39m\u001b[K"
     ]
    },
    {
     "name": "stderr",
     "output_type": "stream",
     "text": [
      "\r\u001b[32mloss: 4.42:  13%|██████                                 |  ETA: 0:06:55\u001b[39m\u001b[K"
     ]
    },
    {
     "name": "stderr",
     "output_type": "stream",
     "text": [
      "\r\u001b[32mloss: 4.41:  14%|██████                                 |  ETA: 0:06:49\u001b[39m\u001b[K"
     ]
    },
    {
     "name": "stderr",
     "output_type": "stream",
     "text": [
      "\r\u001b[32mloss: 4.43:  14%|██████                                 |  ETA: 0:06:48\u001b[39m\u001b[K"
     ]
    },
    {
     "name": "stderr",
     "output_type": "stream",
     "text": [
      "\r\u001b[32mloss: 4.43:  14%|██████                                 |  ETA: 0:06:43\u001b[39m\u001b[K"
     ]
    },
    {
     "name": "stderr",
     "output_type": "stream",
     "text": [
      "\r\u001b[32mloss: 4.41:  14%|██████                                 |  ETA: 0:06:42\u001b[39m\u001b[K"
     ]
    },
    {
     "name": "stderr",
     "output_type": "stream",
     "text": [
      "\r\u001b[32mloss: 4.4:  14%|██████                                  |  ETA: 0:06:37\u001b[39m\u001b[K"
     ]
    },
    {
     "name": "stderr",
     "output_type": "stream",
     "text": [
      "\r\u001b[32mloss: 4.42:  15%|██████                                 |  ETA: 0:06:36\u001b[39m\u001b[K"
     ]
    },
    {
     "name": "stderr",
     "output_type": "stream",
     "text": [
      "\r\u001b[32mloss: 4.42:  15%|██████                                 |  ETA: 0:06:31\u001b[39m\u001b[K"
     ]
    },
    {
     "name": "stderr",
     "output_type": "stream",
     "text": [
      "\r\u001b[32mloss: 4.41:  15%|██████                                 |  ETA: 0:06:30\u001b[39m\u001b[K"
     ]
    },
    {
     "name": "stderr",
     "output_type": "stream",
     "text": [
      "\r\u001b[32mloss: 4.4:  16%|███████                                 |  ETA: 0:06:25\u001b[39m\u001b[K"
     ]
    },
    {
     "name": "stderr",
     "output_type": "stream",
     "text": [
      "\r\u001b[32mloss: 4.41:  16%|███████                                |  ETA: 0:06:24\u001b[39m\u001b[K"
     ]
    },
    {
     "name": "stderr",
     "output_type": "stream",
     "text": [
      "\r\u001b[32mloss: 4.41:  16%|███████                                |  ETA: 0:06:19\u001b[39m\u001b[K"
     ]
    },
    {
     "name": "stderr",
     "output_type": "stream",
     "text": [
      "\r\u001b[32mloss: 4.4:  16%|███████                                 |  ETA: 0:06:17\u001b[39m\u001b[K"
     ]
    },
    {
     "name": "stderr",
     "output_type": "stream",
     "text": [
      "\r\u001b[32mloss: 4.4:  16%|███████                                 |  ETA: 0:06:12\u001b[39m\u001b[K"
     ]
    },
    {
     "name": "stderr",
     "output_type": "stream",
     "text": [
      "\r\u001b[32mloss: 4.4:  17%|███████                                 |  ETA: 0:06:10\u001b[39m"
     ]
    },
    {
     "name": "stderr",
     "output_type": "stream",
     "text": [
      "\u001b[K\r\u001b[32mloss: 4.41:  17%|███████                                |  ETA: 0:06:08\u001b[39m\u001b[K"
     ]
    },
    {
     "name": "stderr",
     "output_type": "stream",
     "text": [
      "\r\u001b[32mloss: 4.4:  17%|███████                                 |  ETA: 0:06:06\u001b[39m\u001b[K"
     ]
    },
    {
     "name": "stderr",
     "output_type": "stream",
     "text": [
      "\r\u001b[32mloss: 4.4:  18%|████████                                |  ETA: 0:06:02\u001b[39m\u001b[K"
     ]
    },
    {
     "name": "stderr",
     "output_type": "stream",
     "text": [
      "\r\u001b[32mloss: 4.4:  18%|████████                                |  ETA: 0:06:00\u001b[39m\u001b[K"
     ]
    },
    {
     "name": "stderr",
     "output_type": "stream",
     "text": [
      "\r\u001b[32mloss: 4.4:  18%|████████                                |  ETA: 0:05:56\u001b[39m\u001b[K"
     ]
    },
    {
     "name": "stderr",
     "output_type": "stream",
     "text": [
      "\r\u001b[32mloss: 4.39:  18%|████████                               |  ETA: 0:05:55\u001b[39m\u001b[K"
     ]
    },
    {
     "name": "stderr",
     "output_type": "stream",
     "text": [
      "\r\u001b[32mloss: 4.39:  18%|████████                               |  ETA: 0:05:51\u001b[39m\u001b[K"
     ]
    },
    {
     "name": "stderr",
     "output_type": "stream",
     "text": [
      "\r\u001b[32mloss: 4.39:  19%|████████                               |  ETA: 0:05:49\u001b[39m\u001b[K"
     ]
    },
    {
     "name": "stderr",
     "output_type": "stream",
     "text": [
      "\r\u001b[32mloss: 4.39:  19%|████████                               |  ETA: 0:05:46\u001b[39m\u001b[K"
     ]
    },
    {
     "name": "stderr",
     "output_type": "stream",
     "text": [
      "\r\u001b[32mloss: 4.39:  19%|████████                               |  ETA: 0:05:44\u001b[39m\u001b[K"
     ]
    },
    {
     "name": "stderr",
     "output_type": "stream",
     "text": [
      "\r\u001b[32mloss: 4.39:  20%|████████                               |  ETA: 0:05:41\u001b[39m\u001b[K"
     ]
    },
    {
     "name": "stderr",
     "output_type": "stream",
     "text": [
      "\r\u001b[32mloss: 4.39:  20%|████████                               |  ETA: 0:05:40\u001b[39m\u001b[K"
     ]
    },
    {
     "name": "stderr",
     "output_type": "stream",
     "text": [
      "\r\u001b[32mloss: 4.39:  20%|████████                               |  ETA: 0:05:37\u001b[39m\u001b[K"
     ]
    },
    {
     "name": "stderr",
     "output_type": "stream",
     "text": [
      "\r\u001b[32mloss: 4.39:  20%|████████                               |  ETA: 0:05:36\u001b[39m\u001b[K"
     ]
    },
    {
     "name": "stderr",
     "output_type": "stream",
     "text": [
      "\r\u001b[32mloss: 4.39:  20%|████████                               |  ETA: 0:05:33\u001b[39m\u001b[K"
     ]
    },
    {
     "name": "stderr",
     "output_type": "stream",
     "text": [
      "\r\u001b[32mloss: 4.39:  21%|█████████                              |  ETA: 0:05:32\u001b[39m\u001b[K"
     ]
    },
    {
     "name": "stderr",
     "output_type": "stream",
     "text": [
      "\r\u001b[32mloss: 4.38:  21%|█████████                              |  ETA: 0:05:29\u001b[39m\u001b[K"
     ]
    },
    {
     "name": "stderr",
     "output_type": "stream",
     "text": [
      "\r\u001b[32mloss: 4.38:  21%|█████████                              |  ETA: 0:05:28\u001b[39m\u001b[K"
     ]
    },
    {
     "name": "stderr",
     "output_type": "stream",
     "text": [
      "\r\u001b[32mloss: 4.38:  22%|█████████                              |  ETA: 0:05:25\u001b[39m\u001b[K"
     ]
    },
    {
     "name": "stderr",
     "output_type": "stream",
     "text": [
      "\r\u001b[32mloss: 4.38:  22%|█████████                              |  ETA: 0:05:24\u001b[39m\u001b[K"
     ]
    },
    {
     "name": "stderr",
     "output_type": "stream",
     "text": [
      "\r\u001b[32mloss: 4.38:  22%|█████████                              |  ETA: 0:05:21\u001b[39m\u001b[K"
     ]
    },
    {
     "name": "stderr",
     "output_type": "stream",
     "text": [
      "\r\u001b[32mloss: 4.38:  22%|█████████                              |  ETA: 0:05:20\u001b[39m\u001b[K"
     ]
    },
    {
     "name": "stderr",
     "output_type": "stream",
     "text": [
      "\r\u001b[32mloss: 4.38:  22%|█████████                              |  ETA: 0:05:17\u001b[39m\u001b[K"
     ]
    },
    {
     "name": "stderr",
     "output_type": "stream",
     "text": [
      "\r\u001b[32mloss: 4.38:  23%|█████████                              |  ETA: 0:05:17\u001b[39m\u001b[K"
     ]
    },
    {
     "name": "stderr",
     "output_type": "stream",
     "text": [
      "\r\u001b[32mloss: 4.38:  23%|█████████                              |  ETA: 0:05:14\u001b[39m\u001b[K"
     ]
    },
    {
     "name": "stderr",
     "output_type": "stream",
     "text": [
      "\r\u001b[32mloss: 4.38:  23%|██████████                             |  ETA: 0:05:13\u001b[39m\u001b[K"
     ]
    },
    {
     "name": "stderr",
     "output_type": "stream",
     "text": [
      "\r\u001b[32mloss: 4.38:  24%|██████████                             |  ETA: 0:05:10\u001b[39m\u001b[K"
     ]
    },
    {
     "name": "stderr",
     "output_type": "stream",
     "text": [
      "\r\u001b[32mloss: 4.37:  24%|██████████                             |  ETA: 0:05:09\u001b[39m\u001b[K"
     ]
    },
    {
     "name": "stderr",
     "output_type": "stream",
     "text": [
      "\r\u001b[32mloss: 4.37:  24%|██████████                             |  ETA: 0:05:06\u001b[39m\u001b[K"
     ]
    },
    {
     "name": "stderr",
     "output_type": "stream",
     "text": [
      "\r\u001b[32mloss: 4.37:  24%|██████████                             |  ETA: 0:05:06\u001b[39m\u001b[K"
     ]
    },
    {
     "name": "stderr",
     "output_type": "stream",
     "text": [
      "\r\u001b[32mloss: 4.37:  24%|██████████                             |  ETA: 0:05:03\u001b[39m\u001b[K"
     ]
    },
    {
     "name": "stderr",
     "output_type": "stream",
     "text": [
      "\r\u001b[32mloss: 4.37:  25%|██████████                             |  ETA: 0:05:02\u001b[39m\u001b[K"
     ]
    },
    {
     "name": "stderr",
     "output_type": "stream",
     "text": [
      "\r\u001b[32mloss: 4.37:  25%|██████████                             |  ETA: 0:05:00\u001b[39m\u001b[K"
     ]
    },
    {
     "name": "stderr",
     "output_type": "stream",
     "text": [
      "\r\u001b[32mloss: 4.37:  25%|██████████                             |  ETA: 0:04:59\u001b[39m\u001b[K"
     ]
    },
    {
     "name": "stderr",
     "output_type": "stream",
     "text": [
      "\r\u001b[32mloss: 4.37:  26%|██████████                             |  ETA: 0:04:56\u001b[39m\u001b[K"
     ]
    },
    {
     "name": "stderr",
     "output_type": "stream",
     "text": [
      "\r\u001b[32mloss: 4.37:  26%|███████████                            |  ETA: 0:04:56\u001b[39m\u001b[K"
     ]
    },
    {
     "name": "stderr",
     "output_type": "stream",
     "text": [
      "\r\u001b[32mloss: 4.37:  26%|███████████                            |  ETA: 0:04:53\u001b[39m\u001b[K"
     ]
    },
    {
     "name": "stderr",
     "output_type": "stream",
     "text": [
      "\r\u001b[32mloss: 4.37:  26%|███████████                            |  ETA: 0:04:52\u001b[39m\u001b[K"
     ]
    },
    {
     "name": "stderr",
     "output_type": "stream",
     "text": [
      "\r\u001b[32mloss: 4.36:  26%|███████████                            |  ETA: 0:04:50\u001b[39m\u001b[K"
     ]
    },
    {
     "name": "stderr",
     "output_type": "stream",
     "text": [
      "\r\u001b[32mloss: 4.36:  27%|███████████                            |  ETA: 0:04:49\u001b[39m\u001b[K"
     ]
    },
    {
     "name": "stderr",
     "output_type": "stream",
     "text": [
      "\r\u001b[32mloss: 4.36:  27%|███████████                            |  ETA: 0:04:47\u001b[39m\u001b[K"
     ]
    },
    {
     "name": "stderr",
     "output_type": "stream",
     "text": [
      "\r\u001b[32mloss: 4.36:  27%|███████████                            |  ETA: 0:04:47\u001b[39m\u001b[K"
     ]
    },
    {
     "name": "stderr",
     "output_type": "stream",
     "text": [
      "\r\u001b[32mloss: 4.36:  28%|███████████                            |  ETA: 0:04:44\u001b[39m\u001b[K"
     ]
    },
    {
     "name": "stderr",
     "output_type": "stream",
     "text": [
      "\r\u001b[32mloss: 4.36:  28%|███████████                            |  ETA: 0:04:43\u001b[39m\u001b[K"
     ]
    },
    {
     "name": "stderr",
     "output_type": "stream",
     "text": [
      "\r\u001b[32mloss: 4.36:  28%|███████████                            |  ETA: 0:04:41\u001b[39m\u001b[K"
     ]
    },
    {
     "name": "stderr",
     "output_type": "stream",
     "text": [
      "\r\u001b[32mloss: 4.36:  28%|███████████                            |  ETA: 0:04:40\u001b[39m\u001b[K"
     ]
    },
    {
     "name": "stderr",
     "output_type": "stream",
     "text": [
      "\r\u001b[32mloss: 4.36:  28%|████████████                           |  ETA: 0:04:38\u001b[39m\u001b[K"
     ]
    },
    {
     "name": "stderr",
     "output_type": "stream",
     "text": [
      "\r\u001b[32mloss: 4.36:  29%|████████████                           |  ETA: 0:04:38\u001b[39m\u001b[K"
     ]
    },
    {
     "name": "stderr",
     "output_type": "stream",
     "text": [
      "\r\u001b[32mloss: 4.35:  29%|████████████                           |  ETA: 0:04:36\u001b[39m\u001b[K"
     ]
    },
    {
     "name": "stderr",
     "output_type": "stream",
     "text": [
      "\r\u001b[32mloss: 4.35:  29%|████████████                           |  ETA: 0:04:35\u001b[39m\u001b[K"
     ]
    },
    {
     "name": "stderr",
     "output_type": "stream",
     "text": [
      "\r\u001b[32mloss: 4.35:  30%|████████████                           |  ETA: 0:04:33\u001b[39m\u001b[K"
     ]
    },
    {
     "name": "stderr",
     "output_type": "stream",
     "text": [
      "\r\u001b[32mloss: 4.35:  30%|████████████                           |  ETA: 0:04:32\u001b[39m\u001b[K"
     ]
    },
    {
     "name": "stderr",
     "output_type": "stream",
     "text": [
      "\r\u001b[32mloss: 4.35:  30%|████████████                           |  ETA: 0:04:30\u001b[39m\u001b[K"
     ]
    },
    {
     "name": "stderr",
     "output_type": "stream",
     "text": [
      "\r\u001b[32mloss: 4.35:  30%|████████████                           |  ETA: 0:04:29\u001b[39m\u001b[K"
     ]
    },
    {
     "name": "stderr",
     "output_type": "stream",
     "text": [
      "\r\u001b[32mloss: 4.35:  30%|████████████                           |  ETA: 0:04:27\u001b[39m\u001b[K"
     ]
    },
    {
     "name": "stderr",
     "output_type": "stream",
     "text": [
      "\r\u001b[32mloss: 4.35:  31%|████████████                           |  ETA: 0:04:27\u001b[39m\u001b[K"
     ]
    },
    {
     "name": "stderr",
     "output_type": "stream",
     "text": [
      "\r\u001b[32mloss: 4.35:  31%|█████████████                          |  ETA: 0:04:25\u001b[39m\u001b[K"
     ]
    },
    {
     "name": "stderr",
     "output_type": "stream",
     "text": [
      "\r\u001b[32mloss: 4.35:  31%|█████████████                          |  ETA: 0:04:24\u001b[39m\u001b[K"
     ]
    },
    {
     "name": "stderr",
     "output_type": "stream",
     "text": [
      "\r\u001b[32mloss: 4.35:  32%|█████████████                          |  ETA: 0:04:22\u001b[39m\u001b[K"
     ]
    },
    {
     "name": "stderr",
     "output_type": "stream",
     "text": [
      "\r\u001b[32mloss: 4.34:  32%|█████████████                          |  ETA: 0:04:21\u001b[39m\u001b[K"
     ]
    },
    {
     "name": "stderr",
     "output_type": "stream",
     "text": [
      "\r\u001b[32mloss: 4.34:  32%|█████████████                          |  ETA: 0:04:19\u001b[39m\u001b[K"
     ]
    },
    {
     "name": "stderr",
     "output_type": "stream",
     "text": [
      "\r\u001b[32mloss: 4.34:  32%|█████████████                          |  ETA: 0:04:18\u001b[39m\u001b[K"
     ]
    },
    {
     "name": "stderr",
     "output_type": "stream",
     "text": [
      "\r\u001b[32mloss: 4.34:  32%|█████████████                          |  ETA: 0:04:16\u001b[39m\u001b[K"
     ]
    },
    {
     "name": "stderr",
     "output_type": "stream",
     "text": [
      "\r\u001b[32mloss: 4.34:  33%|█████████████                          |  ETA: 0:04:16\u001b[39m\u001b[K"
     ]
    },
    {
     "name": "stderr",
     "output_type": "stream",
     "text": [
      "\r\u001b[32mloss: 4.34:  33%|█████████████                          |  ETA: 0:04:14\u001b[39m\u001b[K"
     ]
    },
    {
     "name": "stderr",
     "output_type": "stream",
     "text": [
      "\r\u001b[32mloss: 4.34:  33%|█████████████                          |  ETA: 0:04:13\u001b[39m\u001b[K"
     ]
    },
    {
     "name": "stderr",
     "output_type": "stream",
     "text": [
      "\r\u001b[32mloss: 4.34:  34%|██████████████                         |  ETA: 0:04:11\u001b[39m\u001b[K"
     ]
    },
    {
     "name": "stderr",
     "output_type": "stream",
     "text": [
      "\r\u001b[32mloss: 4.34:  34%|██████████████                         |  ETA: 0:04:10\u001b[39m\u001b[K"
     ]
    },
    {
     "name": "stderr",
     "output_type": "stream",
     "text": [
      "\r\u001b[32mloss: 4.33:  34%|██████████████                         |  ETA: 0:04:08\u001b[39m\u001b[K"
     ]
    },
    {
     "name": "stderr",
     "output_type": "stream",
     "text": [
      "\r\u001b[32mloss: 4.33:  34%|██████████████                         |  ETA: 0:04:08\u001b[39m\u001b[K"
     ]
    },
    {
     "name": "stderr",
     "output_type": "stream",
     "text": [
      "\r\u001b[32mloss: 4.33:  34%|██████████████                         |  ETA: 0:04:06\u001b[39m\u001b[K"
     ]
    },
    {
     "name": "stderr",
     "output_type": "stream",
     "text": [
      "\r\u001b[32mloss: 4.33:  35%|██████████████                         |  ETA: 0:04:05\u001b[39m"
     ]
    },
    {
     "name": "stderr",
     "output_type": "stream",
     "text": [
      "\u001b[K\r\u001b[32mloss: 4.33:  35%|██████████████                         |  ETA: 0:04:03\u001b[39m\u001b[K"
     ]
    },
    {
     "name": "stderr",
     "output_type": "stream",
     "text": [
      "\r\u001b[32mloss: 4.33:  35%|██████████████                         |  ETA: 0:04:03\u001b[39m\u001b[K"
     ]
    },
    {
     "name": "stderr",
     "output_type": "stream",
     "text": [
      "\r\u001b[32mloss: 4.33:  36%|██████████████                         |  ETA: 0:04:01\u001b[39m\u001b[K"
     ]
    },
    {
     "name": "stderr",
     "output_type": "stream",
     "text": [
      "\r\u001b[32mloss: 4.33:  36%|██████████████                         |  ETA: 0:04:00\u001b[39m\u001b[K"
     ]
    },
    {
     "name": "stderr",
     "output_type": "stream",
     "text": [
      "\r\u001b[32mloss: 4.33:  36%|███████████████                        |  ETA: 0:03:59\u001b[39m\u001b[K"
     ]
    },
    {
     "name": "stderr",
     "output_type": "stream",
     "text": [
      "\r\u001b[32mloss: 4.33:  36%|███████████████                        |  ETA: 0:03:58\u001b[39m\u001b[K"
     ]
    },
    {
     "name": "stderr",
     "output_type": "stream",
     "text": [
      "\r\u001b[32mloss: 4.32:  36%|███████████████                        |  ETA: 0:03:56\u001b[39m\u001b[K"
     ]
    },
    {
     "name": "stderr",
     "output_type": "stream",
     "text": [
      "\r\u001b[32mloss: 4.32:  37%|███████████████                        |  ETA: 0:03:55\u001b[39m\u001b[K"
     ]
    },
    {
     "name": "stderr",
     "output_type": "stream",
     "text": [
      "\r\u001b[32mloss: 4.32:  37%|███████████████                        |  ETA: 0:03:54\u001b[39m\u001b[K"
     ]
    },
    {
     "name": "stderr",
     "output_type": "stream",
     "text": [
      "\r\u001b[32mloss: 4.32:  37%|███████████████                        |  ETA: 0:03:53\u001b[39m\u001b[K"
     ]
    },
    {
     "name": "stderr",
     "output_type": "stream",
     "text": [
      "\r\u001b[32mloss: 4.32:  38%|███████████████                        |  ETA: 0:03:51\u001b[39m\u001b[K"
     ]
    },
    {
     "name": "stderr",
     "output_type": "stream",
     "text": [
      "\r\u001b[32mloss: 4.32:  38%|███████████████                        |  ETA: 0:03:51\u001b[39m\u001b[K"
     ]
    },
    {
     "name": "stderr",
     "output_type": "stream",
     "text": [
      "\r\u001b[32mloss: 4.32:  38%|███████████████                        |  ETA: 0:03:49\u001b[39m\u001b[K"
     ]
    },
    {
     "name": "stderr",
     "output_type": "stream",
     "text": [
      "\r\u001b[32mloss: 4.32:  38%|███████████████                        |  ETA: 0:03:48\u001b[39m\u001b[K"
     ]
    },
    {
     "name": "stderr",
     "output_type": "stream",
     "text": [
      "\r\u001b[32mloss: 4.32:  38%|████████████████                       |  ETA: 0:03:47\u001b[39m\u001b[K"
     ]
    },
    {
     "name": "stderr",
     "output_type": "stream",
     "text": [
      "\r\u001b[32mloss: 4.31:  39%|████████████████                       |  ETA: 0:03:46\u001b[39m\u001b[K"
     ]
    },
    {
     "name": "stderr",
     "output_type": "stream",
     "text": [
      "\r\u001b[32mloss: 4.31:  39%|████████████████                       |  ETA: 0:03:45\u001b[39m\u001b[K"
     ]
    },
    {
     "name": "stderr",
     "output_type": "stream",
     "text": [
      "\r\u001b[32mloss: 4.31:  39%|████████████████                       |  ETA: 0:03:44\u001b[39m\u001b[K"
     ]
    },
    {
     "name": "stderr",
     "output_type": "stream",
     "text": [
      "\r\u001b[32mloss: 4.31:  40%|████████████████                       |  ETA: 0:03:42\u001b[39m\u001b[K"
     ]
    },
    {
     "name": "stderr",
     "output_type": "stream",
     "text": [
      "\r\u001b[32mloss: 4.31:  40%|████████████████                       |  ETA: 0:03:42\u001b[39m\u001b[K"
     ]
    },
    {
     "name": "stderr",
     "output_type": "stream",
     "text": [
      "\r\u001b[32mloss: 4.31:  40%|████████████████                       |  ETA: 0:03:40\u001b[39m\u001b[K"
     ]
    },
    {
     "name": "stderr",
     "output_type": "stream",
     "text": [
      "\r\u001b[32mloss: 4.31:  40%|████████████████                       |  ETA: 0:03:40\u001b[39m\u001b[K"
     ]
    },
    {
     "name": "stderr",
     "output_type": "stream",
     "text": [
      "\r\u001b[32mloss: 4.31:  40%|████████████████                       |  ETA: 0:03:38\u001b[39m\u001b[K"
     ]
    },
    {
     "name": "stderr",
     "output_type": "stream",
     "text": [
      "\r\u001b[32mloss: 4.31:  41%|████████████████                       |  ETA: 0:03:37\u001b[39m\u001b[K"
     ]
    },
    {
     "name": "stderr",
     "output_type": "stream",
     "text": [
      "\r\u001b[32mloss: 4.3:  41%|█████████████████                       |  ETA: 0:03:36\u001b[39m\u001b[K"
     ]
    },
    {
     "name": "stderr",
     "output_type": "stream",
     "text": [
      "\r\u001b[32mloss: 4.3:  41%|█████████████████                       |  ETA: 0:03:35\u001b[39m\u001b[K"
     ]
    },
    {
     "name": "stderr",
     "output_type": "stream",
     "text": [
      "\r\u001b[32mloss: 4.3:  42%|█████████████████                       |  ETA: 0:03:33\u001b[39m\u001b[K"
     ]
    },
    {
     "name": "stderr",
     "output_type": "stream",
     "text": [
      "\r\u001b[32mloss: 4.3:  42%|█████████████████                       |  ETA: 0:03:33\u001b[39m\u001b[K"
     ]
    },
    {
     "name": "stderr",
     "output_type": "stream",
     "text": [
      "\r\u001b[32mloss: 4.3:  42%|█████████████████                       |  ETA: 0:03:31\u001b[39m\u001b[K"
     ]
    },
    {
     "name": "stderr",
     "output_type": "stream",
     "text": [
      "\r\u001b[32mloss: 4.3:  42%|█████████████████                       |  ETA: 0:03:31\u001b[39m\u001b[K"
     ]
    },
    {
     "name": "stderr",
     "output_type": "stream",
     "text": [
      "\r\u001b[32mloss: 4.3:  42%|██████████████████                      |  ETA: 0:03:29\u001b[39m\u001b[K"
     ]
    },
    {
     "name": "stderr",
     "output_type": "stream",
     "text": [
      "\r\u001b[32mloss: 4.3:  43%|██████████████████                      |  ETA: 0:03:29\u001b[39m\u001b[K"
     ]
    },
    {
     "name": "stderr",
     "output_type": "stream",
     "text": [
      "\r\u001b[32mloss: 4.3:  43%|██████████████████                      |  ETA: 0:03:27\u001b[39m\u001b[K"
     ]
    },
    {
     "name": "stderr",
     "output_type": "stream",
     "text": [
      "\r\u001b[32mloss: 4.29:  43%|█████████████████                      |  ETA: 0:03:26\u001b[39m\u001b[K"
     ]
    },
    {
     "name": "stderr",
     "output_type": "stream",
     "text": [
      "\r\u001b[32mloss: 4.29:  44%|█████████████████                      |  ETA: 0:03:25\u001b[39m\u001b[K"
     ]
    },
    {
     "name": "stderr",
     "output_type": "stream",
     "text": [
      "\r\u001b[32mloss: 4.29:  44%|██████████████████                     |  ETA: 0:03:24\u001b[39m\u001b[K"
     ]
    },
    {
     "name": "stderr",
     "output_type": "stream",
     "text": [
      "\r\u001b[32mloss: 4.29:  44%|██████████████████                     |  ETA: 0:03:23\u001b[39m\u001b[K"
     ]
    },
    {
     "name": "stderr",
     "output_type": "stream",
     "text": [
      "\r\u001b[32mloss: 4.29:  44%|██████████████████                     |  ETA: 0:03:22\u001b[39m\u001b[K"
     ]
    },
    {
     "name": "stderr",
     "output_type": "stream",
     "text": [
      "\r\u001b[32mloss: 4.29:  44%|██████████████████                     |  ETA: 0:03:21\u001b[39m\u001b[K"
     ]
    },
    {
     "name": "stderr",
     "output_type": "stream",
     "text": [
      "\r\u001b[32mloss: 4.29:  45%|██████████████████                     |  ETA: 0:03:20\u001b[39m\u001b[K"
     ]
    },
    {
     "name": "stderr",
     "output_type": "stream",
     "text": [
      "\r\u001b[32mloss: 4.29:  45%|██████████████████                     |  ETA: 0:03:19\u001b[39m\u001b[K"
     ]
    },
    {
     "name": "stderr",
     "output_type": "stream",
     "text": [
      "\r\u001b[32mloss: 4.28:  45%|██████████████████                     |  ETA: 0:03:18\u001b[39m\u001b[K"
     ]
    },
    {
     "name": "stderr",
     "output_type": "stream",
     "text": [
      "\r\u001b[32mloss: 4.28:  46%|██████████████████                     |  ETA: 0:03:16\u001b[39m\u001b[K"
     ]
    },
    {
     "name": "stderr",
     "output_type": "stream",
     "text": [
      "\r\u001b[32mloss: 4.28:  46%|██████████████████                     |  ETA: 0:03:16\u001b[39m\u001b[K"
     ]
    },
    {
     "name": "stderr",
     "output_type": "stream",
     "text": [
      "\r\u001b[32mloss: 4.28:  46%|██████████████████                     |  ETA: 0:03:14\u001b[39m\u001b[K"
     ]
    },
    {
     "name": "stderr",
     "output_type": "stream",
     "text": [
      "\r\u001b[32mloss: 4.28:  46%|███████████████████                    |  ETA: 0:03:14\u001b[39m\u001b[K"
     ]
    },
    {
     "name": "stderr",
     "output_type": "stream",
     "text": [
      "\r\u001b[32mloss: 4.28:  46%|███████████████████                    |  ETA: 0:03:12\u001b[39m\u001b[K"
     ]
    },
    {
     "name": "stderr",
     "output_type": "stream",
     "text": [
      "\r\u001b[32mloss: 4.28:  47%|███████████████████                    |  ETA: 0:03:12\u001b[39m\u001b[K"
     ]
    },
    {
     "name": "stderr",
     "output_type": "stream",
     "text": [
      "\r\u001b[32mloss: 4.28:  47%|███████████████████                    |  ETA: 0:03:10\u001b[39m\u001b[K"
     ]
    },
    {
     "name": "stderr",
     "output_type": "stream",
     "text": [
      "\r\u001b[32mloss: 4.28:  47%|███████████████████                    |  ETA: 0:03:10\u001b[39m\u001b[K"
     ]
    },
    {
     "name": "stderr",
     "output_type": "stream",
     "text": [
      "\r\u001b[32mloss: 4.27:  48%|███████████████████                    |  ETA: 0:03:08\u001b[39m\u001b[K"
     ]
    },
    {
     "name": "stderr",
     "output_type": "stream",
     "text": [
      "\r\u001b[32mloss: 4.27:  48%|███████████████████                    |  ETA: 0:03:08\u001b[39m\u001b[K"
     ]
    },
    {
     "name": "stderr",
     "output_type": "stream",
     "text": [
      "\r\u001b[32mloss: 4.27:  48%|███████████████████                    |  ETA: 0:03:06\u001b[39m\u001b[K"
     ]
    },
    {
     "name": "stderr",
     "output_type": "stream",
     "text": [
      "\r\u001b[32mloss: 4.27:  48%|███████████████████                    |  ETA: 0:03:06\u001b[39m\u001b[K"
     ]
    },
    {
     "name": "stderr",
     "output_type": "stream",
     "text": [
      "\r\u001b[32mloss: 4.27:  48%|███████████████████                    |  ETA: 0:03:04\u001b[39m\u001b[K"
     ]
    },
    {
     "name": "stderr",
     "output_type": "stream",
     "text": [
      "\r\u001b[32mloss: 4.27:  49%|███████████████████                    |  ETA: 0:03:04\u001b[39m\u001b[K"
     ]
    },
    {
     "name": "stderr",
     "output_type": "stream",
     "text": [
      "\r\u001b[32mloss: 4.27:  49%|████████████████████                   |  ETA: 0:03:03\u001b[39m\u001b[K"
     ]
    },
    {
     "name": "stderr",
     "output_type": "stream",
     "text": [
      "\r\u001b[32mloss: 4.27:  49%|████████████████████                   |  ETA: 0:03:02\u001b[39m\u001b[K"
     ]
    },
    {
     "name": "stderr",
     "output_type": "stream",
     "text": [
      "\r\u001b[32mloss: 4.26:  50%|████████████████████                   |  ETA: 0:03:01\u001b[39m\u001b[K"
     ]
    },
    {
     "name": "stderr",
     "output_type": "stream",
     "text": [
      "\r\u001b[32mloss: 4.26:  50%|████████████████████                   |  ETA: 0:03:00\u001b[39m\u001b[K"
     ]
    },
    {
     "name": "stderr",
     "output_type": "stream",
     "text": [
      "\r\u001b[32mloss: 4.26:  50%|████████████████████                   |  ETA: 0:02:59\u001b[39m\u001b[K"
     ]
    },
    {
     "name": "stderr",
     "output_type": "stream",
     "text": [
      "\r\u001b[32mloss: 4.26:  50%|████████████████████                   |  ETA: 0:02:58\u001b[39m\u001b[K"
     ]
    },
    {
     "name": "stderr",
     "output_type": "stream",
     "text": [
      "\r\u001b[32mloss: 4.26:  50%|████████████████████                   |  ETA: 0:02:57\u001b[39m\u001b[K"
     ]
    },
    {
     "name": "stderr",
     "output_type": "stream",
     "text": [
      "\r\u001b[32mloss: 4.26:  51%|████████████████████                   |  ETA: 0:02:56\u001b[39m\u001b[K"
     ]
    },
    {
     "name": "stderr",
     "output_type": "stream",
     "text": [
      "\r\u001b[32mloss: 4.26:  51%|████████████████████                   |  ETA: 0:02:55\u001b[39m\u001b[K"
     ]
    },
    {
     "name": "stderr",
     "output_type": "stream",
     "text": [
      "\r\u001b[32mloss: 4.26:  51%|████████████████████                   |  ETA: 0:02:54\u001b[39m\u001b[K"
     ]
    },
    {
     "name": "stderr",
     "output_type": "stream",
     "text": [
      "\r\u001b[32mloss: 4.25:  52%|█████████████████████                  |  ETA: 0:02:53\u001b[39m\u001b[K"
     ]
    },
    {
     "name": "stderr",
     "output_type": "stream",
     "text": [
      "\r\u001b[32mloss: 4.25:  52%|█████████████████████                  |  ETA: 0:02:52\u001b[39m\u001b[K"
     ]
    },
    {
     "name": "stderr",
     "output_type": "stream",
     "text": [
      "\r\u001b[32mloss: 4.25:  52%|█████████████████████                  |  ETA: 0:02:51\u001b[39m\u001b[K"
     ]
    },
    {
     "name": "stderr",
     "output_type": "stream",
     "text": [
      "\r\u001b[32mloss: 4.25:  52%|█████████████████████                  |  ETA: 0:02:50\u001b[39m\u001b[K"
     ]
    },
    {
     "name": "stderr",
     "output_type": "stream",
     "text": [
      "\r\u001b[32mloss: 4.25:  52%|█████████████████████                  |  ETA: 0:02:49\u001b[39m\u001b[K"
     ]
    },
    {
     "name": "stderr",
     "output_type": "stream",
     "text": [
      "\r\u001b[32mloss: 4.25:  53%|█████████████████████                  |  ETA: 0:02:48\u001b[39m\u001b[K"
     ]
    },
    {
     "name": "stderr",
     "output_type": "stream",
     "text": [
      "\r\u001b[32mloss: 4.25:  53%|█████████████████████                  |  ETA: 0:02:47\u001b[39m\u001b[K"
     ]
    },
    {
     "name": "stderr",
     "output_type": "stream",
     "text": [
      "\r\u001b[32mloss: 4.25:  53%|█████████████████████                  |  ETA: 0:02:46\u001b[39m\u001b[K"
     ]
    },
    {
     "name": "stderr",
     "output_type": "stream",
     "text": [
      "\r\u001b[32mloss: 4.24:  54%|█████████████████████                  |  ETA: 0:02:45\u001b[39m\u001b[K"
     ]
    },
    {
     "name": "stderr",
     "output_type": "stream",
     "text": [
      "\r\u001b[32mloss: 4.24:  54%|█████████████████████                  |  ETA: 0:02:45\u001b[39m\u001b[K"
     ]
    },
    {
     "name": "stderr",
     "output_type": "stream",
     "text": [
      "\r\u001b[32mloss: 4.24:  54%|██████████████████████                 |  ETA: 0:02:43\u001b[39m\u001b[K"
     ]
    },
    {
     "name": "stderr",
     "output_type": "stream",
     "text": [
      "\r\u001b[32mloss: 4.24:  54%|██████████████████████                 |  ETA: 0:02:43\u001b[39m\u001b[K"
     ]
    },
    {
     "name": "stderr",
     "output_type": "stream",
     "text": [
      "\r\u001b[32mloss: 4.24:  54%|██████████████████████                 |  ETA: 0:02:41\u001b[39m\u001b[K"
     ]
    },
    {
     "name": "stderr",
     "output_type": "stream",
     "text": [
      "\r\u001b[32mloss: 4.24:  55%|██████████████████████                 |  ETA: 0:02:41\u001b[39m\u001b[K"
     ]
    },
    {
     "name": "stderr",
     "output_type": "stream",
     "text": [
      "\r\u001b[32mloss: 4.24:  55%|██████████████████████                 |  ETA: 0:02:39\u001b[39m\u001b[K"
     ]
    },
    {
     "name": "stderr",
     "output_type": "stream",
     "text": [
      "\r\u001b[32mloss: 4.24:  55%|██████████████████████                 |  ETA: 0:02:39\u001b[39m\u001b[K"
     ]
    },
    {
     "name": "stderr",
     "output_type": "stream",
     "text": [
      "\r\u001b[32mloss: 4.23:  56%|██████████████████████                 |  ETA: 0:02:38\u001b[39m\u001b[K"
     ]
    },
    {
     "name": "stderr",
     "output_type": "stream",
     "text": [
      "\r\u001b[32mloss: 4.23:  56%|██████████████████████                 |  ETA: 0:02:37\u001b[39m\u001b[K"
     ]
    },
    {
     "name": "stderr",
     "output_type": "stream",
     "text": [
      "\r\u001b[32mloss: 4.23:  56%|██████████████████████                 |  ETA: 0:02:36\u001b[39m\u001b[K"
     ]
    },
    {
     "name": "stderr",
     "output_type": "stream",
     "text": [
      "\r\u001b[32mloss: 4.23:  56%|██████████████████████                 |  ETA: 0:02:35\u001b[39m\u001b[K"
     ]
    },
    {
     "name": "stderr",
     "output_type": "stream",
     "text": [
      "\r\u001b[32mloss: 4.23:  56%|███████████████████████                |  ETA: 0:02:34\u001b[39m\u001b[K"
     ]
    },
    {
     "name": "stderr",
     "output_type": "stream",
     "text": [
      "\r\u001b[32mloss: 4.23:  57%|███████████████████████                |  ETA: 0:02:33\u001b[39m\u001b[K"
     ]
    },
    {
     "name": "stderr",
     "output_type": "stream",
     "text": [
      "\r\u001b[32mloss: 4.23:  57%|███████████████████████                |  ETA: 0:02:32\u001b[39m\u001b[K"
     ]
    },
    {
     "name": "stderr",
     "output_type": "stream",
     "text": [
      "\r\u001b[32mloss: 4.22:  57%|███████████████████████                |  ETA: 0:02:31\u001b[39m\u001b[K"
     ]
    },
    {
     "name": "stderr",
     "output_type": "stream",
     "text": [
      "\r\u001b[32mloss: 4.22:  58%|███████████████████████                |  ETA: 0:02:30\u001b[39m\u001b[K"
     ]
    },
    {
     "name": "stderr",
     "output_type": "stream",
     "text": [
      "\r\u001b[32mloss: 4.22:  58%|███████████████████████                |  ETA: 0:02:29\u001b[39m\u001b[K"
     ]
    },
    {
     "name": "stderr",
     "output_type": "stream",
     "text": [
      "\r\u001b[32mloss: 4.22:  58%|███████████████████████                |  ETA: 0:02:28\u001b[39m\u001b[K"
     ]
    },
    {
     "name": "stderr",
     "output_type": "stream",
     "text": [
      "\r\u001b[32mloss: 4.22:  58%|███████████████████████                |  ETA: 0:02:27\u001b[39m\u001b[K"
     ]
    },
    {
     "name": "stderr",
     "output_type": "stream",
     "text": [
      "\r\u001b[32mloss: 4.22:  58%|███████████████████████                |  ETA: 0:02:26\u001b[39m\u001b[K"
     ]
    },
    {
     "name": "stderr",
     "output_type": "stream",
     "text": [
      "\r\u001b[32mloss: 4.22:  59%|███████████████████████                |  ETA: 0:02:26\u001b[39m\u001b[K"
     ]
    },
    {
     "name": "stderr",
     "output_type": "stream",
     "text": [
      "\r\u001b[32mloss: 4.22:  59%|████████████████████████               |  ETA: 0:02:24\u001b[39m\u001b[K"
     ]
    },
    {
     "name": "stderr",
     "output_type": "stream",
     "text": [
      "\r\u001b[32mloss: 4.21:  59%|████████████████████████               |  ETA: 0:02:24\u001b[39m\u001b[K"
     ]
    },
    {
     "name": "stderr",
     "output_type": "stream",
     "text": [
      "\r\u001b[32mloss: 4.21:  60%|████████████████████████               |  ETA: 0:02:22\u001b[39m\u001b[K"
     ]
    },
    {
     "name": "stderr",
     "output_type": "stream",
     "text": [
      "\r\u001b[32mloss: 4.21:  60%|████████████████████████               |  ETA: 0:02:22\u001b[39m\u001b[K"
     ]
    },
    {
     "name": "stderr",
     "output_type": "stream",
     "text": [
      "\r\u001b[32mloss: 4.21:  60%|████████████████████████               |  ETA: 0:02:21\u001b[39m\u001b[K"
     ]
    },
    {
     "name": "stderr",
     "output_type": "stream",
     "text": [
      "\r\u001b[32mloss: 4.21:  60%|████████████████████████               |  ETA: 0:02:20\u001b[39m\u001b[K"
     ]
    },
    {
     "name": "stderr",
     "output_type": "stream",
     "text": [
      "\r\u001b[32mloss: 4.21:  60%|████████████████████████               |  ETA: 0:02:19\u001b[39m\u001b[K"
     ]
    },
    {
     "name": "stderr",
     "output_type": "stream",
     "text": [
      "\r\u001b[32mloss: 4.21:  61%|████████████████████████               |  ETA: 0:02:18\u001b[39m\u001b[K"
     ]
    },
    {
     "name": "stderr",
     "output_type": "stream",
     "text": [
      "\r\u001b[32mloss: 4.2:  61%|█████████████████████████               |  ETA: 0:02:17\u001b[39m\u001b[K"
     ]
    },
    {
     "name": "stderr",
     "output_type": "stream",
     "text": [
      "\r\u001b[32mloss: 4.2:  61%|█████████████████████████               |  ETA: 0:02:16\u001b[39m\u001b[K"
     ]
    },
    {
     "name": "stderr",
     "output_type": "stream",
     "text": [
      "\r\u001b[32mloss: 4.2:  62%|█████████████████████████               |  ETA: 0:02:15\u001b[39m\u001b[K"
     ]
    },
    {
     "name": "stderr",
     "output_type": "stream",
     "text": [
      "\r\u001b[32mloss: 4.2:  62%|█████████████████████████               |  ETA: 0:02:14\u001b[39m\u001b[K"
     ]
    },
    {
     "name": "stderr",
     "output_type": "stream",
     "text": [
      "\r\u001b[32mloss: 4.2:  62%|█████████████████████████               |  ETA: 0:02:13\u001b[39m\u001b[K"
     ]
    },
    {
     "name": "stderr",
     "output_type": "stream",
     "text": [
      "\r\u001b[32mloss: 4.2:  62%|█████████████████████████               |  ETA: 0:02:13\u001b[39m\u001b[K"
     ]
    },
    {
     "name": "stderr",
     "output_type": "stream",
     "text": [
      "\r\u001b[32mloss: 4.2:  62%|██████████████████████████              |  ETA: 0:02:11\u001b[39m\u001b[K"
     ]
    },
    {
     "name": "stderr",
     "output_type": "stream",
     "text": [
      "\r\u001b[32mloss: 4.19:  63%|█████████████████████████              |  ETA: 0:02:11\u001b[39m\u001b[K"
     ]
    },
    {
     "name": "stderr",
     "output_type": "stream",
     "text": [
      "\r\u001b[32mloss: 4.19:  63%|█████████████████████████              |  ETA: 0:02:09\u001b[39m\u001b[K"
     ]
    },
    {
     "name": "stderr",
     "output_type": "stream",
     "text": [
      "\r\u001b[32mloss: 4.19:  63%|█████████████████████████              |  ETA: 0:02:09\u001b[39m\u001b[K"
     ]
    },
    {
     "name": "stderr",
     "output_type": "stream",
     "text": [
      "\r\u001b[32mloss: 4.19:  64%|█████████████████████████              |  ETA: 0:02:08\u001b[39m\u001b[K"
     ]
    },
    {
     "name": "stderr",
     "output_type": "stream",
     "text": [
      "\r\u001b[32mloss: 4.19:  64%|█████████████████████████              |  ETA: 0:02:07\u001b[39m\u001b[K"
     ]
    },
    {
     "name": "stderr",
     "output_type": "stream",
     "text": [
      "\r\u001b[32mloss: 4.19:  64%|█████████████████████████              |  ETA: 0:02:06\u001b[39m\u001b[K"
     ]
    },
    {
     "name": "stderr",
     "output_type": "stream",
     "text": [
      "\r\u001b[32mloss: 4.19:  64%|██████████████████████████             |  ETA: 0:02:05\u001b[39m\u001b[K"
     ]
    },
    {
     "name": "stderr",
     "output_type": "stream",
     "text": [
      "\r\u001b[32mloss: 4.18:  64%|██████████████████████████             |  ETA: 0:02:04\u001b[39m\u001b[K"
     ]
    },
    {
     "name": "stderr",
     "output_type": "stream",
     "text": [
      "\r\u001b[32mloss: 4.18:  65%|██████████████████████████             |  ETA: 0:02:04\u001b[39m\u001b[K"
     ]
    },
    {
     "name": "stderr",
     "output_type": "stream",
     "text": [
      "\r\u001b[32mloss: 4.18:  65%|██████████████████████████             |  ETA: 0:02:04\u001b[39m\u001b[K"
     ]
    },
    {
     "name": "stderr",
     "output_type": "stream",
     "text": [
      "\r\u001b[32mloss: 4.18:  65%|██████████████████████████             |  ETA: 0:02:19\u001b[39m\u001b[K\r\u001b[32mloss: 4.18:  66%|██████████████████████████             |  ETA: 0:02:17\u001b[39m\u001b[K"
     ]
    },
    {
     "name": "stderr",
     "output_type": "stream",
     "text": [
      "\r\u001b[32mloss: 4.18:  66%|██████████████████████████             |  ETA: 0:02:16\u001b[39m\u001b[K"
     ]
    },
    {
     "name": "stderr",
     "output_type": "stream",
     "text": [
      "\r\u001b[32mloss: 4.18:  66%|██████████████████████████             |  ETA: 0:02:15\u001b[39m\u001b[K"
     ]
    },
    {
     "name": "stderr",
     "output_type": "stream",
     "text": [
      "\r\u001b[32mloss: 4.17:  66%|██████████████████████████             |  ETA: 0:02:14\u001b[39m\u001b[K"
     ]
    },
    {
     "name": "stderr",
     "output_type": "stream",
     "text": [
      "\r\u001b[32mloss: 4.17:  66%|██████████████████████████             |  ETA: 0:02:12\u001b[39m\u001b[K"
     ]
    },
    {
     "name": "stderr",
     "output_type": "stream",
     "text": [
      "\r\u001b[32mloss: 4.17:  67%|███████████████████████████            |  ETA: 0:02:11\u001b[39m\u001b[K"
     ]
    },
    {
     "name": "stderr",
     "output_type": "stream",
     "text": [
      "\r\u001b[32mloss: 4.17:  67%|███████████████████████████            |  ETA: 0:02:10\u001b[39m\u001b[K"
     ]
    },
    {
     "name": "stderr",
     "output_type": "stream",
     "text": [
      "\r\u001b[32mloss: 4.17:  67%|███████████████████████████            |  ETA: 0:02:09\u001b[39m\u001b[K"
     ]
    },
    {
     "name": "stderr",
     "output_type": "stream",
     "text": [
      "\r\u001b[32mloss: 4.17:  68%|███████████████████████████            |  ETA: 0:02:07\u001b[39m\u001b[K"
     ]
    },
    {
     "name": "stderr",
     "output_type": "stream",
     "text": [
      "\r\u001b[32mloss: 4.17:  68%|███████████████████████████            |  ETA: 0:02:06\u001b[39m\u001b[K"
     ]
    },
    {
     "name": "stderr",
     "output_type": "stream",
     "text": [
      "\r\u001b[32mloss: 4.16:  68%|███████████████████████████            |  ETA: 0:02:05\u001b[39m\u001b[K"
     ]
    },
    {
     "name": "stderr",
     "output_type": "stream",
     "text": [
      "\r\u001b[32mloss: 4.16:  68%|███████████████████████████            |  ETA: 0:02:04\u001b[39m\u001b[K"
     ]
    },
    {
     "name": "stderr",
     "output_type": "stream",
     "text": [
      "\r\u001b[32mloss: 4.16:  68%|███████████████████████████            |  ETA: 0:02:02\u001b[39m\u001b[K"
     ]
    },
    {
     "name": "stderr",
     "output_type": "stream",
     "text": [
      "\r\u001b[32mloss: 4.16:  69%|███████████████████████████            |  ETA: 0:02:02\u001b[39m\u001b[K"
     ]
    },
    {
     "name": "stderr",
     "output_type": "stream",
     "text": [
      "\r\u001b[32mloss: 4.16:  69%|███████████████████████████            |  ETA: 0:02:00\u001b[39m\u001b[K"
     ]
    },
    {
     "name": "stderr",
     "output_type": "stream",
     "text": [
      "\r\u001b[32mloss: 4.16:  69%|███████████████████████████            |  ETA: 0:01:59\u001b[39m\u001b[K"
     ]
    },
    {
     "name": "stderr",
     "output_type": "stream",
     "text": [
      "\r\u001b[32mloss: 4.16:  70%|████████████████████████████           |  ETA: 0:01:58\u001b[39m\u001b[K"
     ]
    },
    {
     "name": "stderr",
     "output_type": "stream",
     "text": [
      "\r\u001b[32mloss: 4.15:  70%|████████████████████████████           |  ETA: 0:01:57\u001b[39m\u001b[K"
     ]
    },
    {
     "name": "stderr",
     "output_type": "stream",
     "text": [
      "\r\u001b[32mloss: 4.15:  70%|████████████████████████████           |  ETA: 0:01:55\u001b[39m\u001b[K"
     ]
    },
    {
     "name": "stderr",
     "output_type": "stream",
     "text": [
      "\r\u001b[32mloss: 4.15:  70%|████████████████████████████           |  ETA: 0:01:55\u001b[39m\u001b[K"
     ]
    },
    {
     "name": "stderr",
     "output_type": "stream",
     "text": [
      "\r\u001b[32mloss: 4.15:  70%|████████████████████████████           |  ETA: 0:01:53\u001b[39m\u001b[K"
     ]
    },
    {
     "name": "stderr",
     "output_type": "stream",
     "text": [
      "\r\u001b[32mloss: 4.15:  71%|████████████████████████████           |  ETA: 0:01:52\u001b[39m\u001b[K"
     ]
    },
    {
     "name": "stderr",
     "output_type": "stream",
     "text": [
      "\r\u001b[32mloss: 4.15:  71%|████████████████████████████           |  ETA: 0:01:51\u001b[39m\u001b[K"
     ]
    },
    {
     "name": "stderr",
     "output_type": "stream",
     "text": [
      "\r\u001b[32mloss: 4.15:  71%|████████████████████████████           |  ETA: 0:01:50\u001b[39m\u001b[K"
     ]
    },
    {
     "name": "stderr",
     "output_type": "stream",
     "text": [
      "\r\u001b[32mloss: 4.14:  72%|████████████████████████████           |  ETA: 0:01:49\u001b[39m\u001b[K"
     ]
    },
    {
     "name": "stderr",
     "output_type": "stream",
     "text": [
      "\r\u001b[32mloss: 4.14:  72%|████████████████████████████           |  ETA: 0:01:48\u001b[39m\u001b[K"
     ]
    },
    {
     "name": "stderr",
     "output_type": "stream",
     "text": [
      "\r\u001b[32mloss: 4.14:  72%|█████████████████████████████          |  ETA: 0:01:46\u001b[39m\u001b[K"
     ]
    },
    {
     "name": "stderr",
     "output_type": "stream",
     "text": [
      "\r\u001b[32mloss: 4.14:  72%|█████████████████████████████          |  ETA: 0:01:45\u001b[39m\u001b[K"
     ]
    },
    {
     "name": "stderr",
     "output_type": "stream",
     "text": [
      "\r\u001b[32mloss: 4.14:  72%|█████████████████████████████          |  ETA: 0:01:44\u001b[39m\u001b[K"
     ]
    },
    {
     "name": "stderr",
     "output_type": "stream",
     "text": [
      "\r\u001b[32mloss: 4.14:  73%|█████████████████████████████          |  ETA: 0:01:43\u001b[39m\u001b[K"
     ]
    },
    {
     "name": "stderr",
     "output_type": "stream",
     "text": [
      "\r\u001b[32mloss: 4.14:  73%|█████████████████████████████          |  ETA: 0:01:42\u001b[39m\u001b[K"
     ]
    },
    {
     "name": "stderr",
     "output_type": "stream",
     "text": [
      "\r\u001b[32mloss: 4.13:  73%|█████████████████████████████          |  ETA: 0:01:41\u001b[39m\u001b[K"
     ]
    },
    {
     "name": "stderr",
     "output_type": "stream",
     "text": [
      "\r\u001b[32mloss: 4.13:  74%|█████████████████████████████          |  ETA: 0:01:39\u001b[39m\u001b[K"
     ]
    },
    {
     "name": "stderr",
     "output_type": "stream",
     "text": [
      "\r\u001b[32mloss: 4.13:  74%|█████████████████████████████          |  ETA: 0:01:39\u001b[39m\u001b[K"
     ]
    },
    {
     "name": "stderr",
     "output_type": "stream",
     "text": [
      "\r\u001b[32mloss: 4.13:  74%|█████████████████████████████          |  ETA: 0:01:37\u001b[39m\u001b[K"
     ]
    },
    {
     "name": "stderr",
     "output_type": "stream",
     "text": [
      "\r\u001b[32mloss: 4.13:  74%|█████████████████████████████          |  ETA: 0:01:36\u001b[39m\u001b[K"
     ]
    },
    {
     "name": "stderr",
     "output_type": "stream",
     "text": [
      "\r\u001b[32mloss: 4.13:  74%|██████████████████████████████         |  ETA: 0:01:35\u001b[39m\u001b[K"
     ]
    },
    {
     "name": "stderr",
     "output_type": "stream",
     "text": [
      "\r\u001b[32mloss: 4.12:  75%|██████████████████████████████         |  ETA: 0:01:34\u001b[39m\u001b[K"
     ]
    },
    {
     "name": "stderr",
     "output_type": "stream",
     "text": [
      "\r\u001b[32mloss: 4.12:  75%|██████████████████████████████         |  ETA: 0:01:33\u001b[39m\u001b[K"
     ]
    },
    {
     "name": "stderr",
     "output_type": "stream",
     "text": [
      "\r\u001b[32mloss: 4.12:  75%|██████████████████████████████         |  ETA: 0:01:32\u001b[39m\u001b[K"
     ]
    },
    {
     "name": "stderr",
     "output_type": "stream",
     "text": [
      "\r\u001b[32mloss: 4.12:  76%|██████████████████████████████         |  ETA: 0:01:31\u001b[39m\u001b[K"
     ]
    },
    {
     "name": "stderr",
     "output_type": "stream",
     "text": [
      "\r\u001b[32mloss: 4.12:  76%|██████████████████████████████         |  ETA: 0:01:30\u001b[39m\u001b[K"
     ]
    },
    {
     "name": "stderr",
     "output_type": "stream",
     "text": [
      "\r\u001b[32mloss: 4.12:  76%|██████████████████████████████         |  ETA: 0:01:29\u001b[39m\u001b[K"
     ]
    },
    {
     "name": "stderr",
     "output_type": "stream",
     "text": [
      "\r\u001b[32mloss: 4.12:  76%|██████████████████████████████         |  ETA: 0:01:28\u001b[39m\u001b[K"
     ]
    },
    {
     "name": "stderr",
     "output_type": "stream",
     "text": [
      "\r\u001b[32mloss: 4.11:  76%|██████████████████████████████         |  ETA: 0:01:27\u001b[39m\u001b[K"
     ]
    },
    {
     "name": "stderr",
     "output_type": "stream",
     "text": [
      "\r\u001b[32mloss: 4.11:  77%|██████████████████████████████         |  ETA: 0:01:26\u001b[39m\u001b[K"
     ]
    },
    {
     "name": "stderr",
     "output_type": "stream",
     "text": [
      "\r\u001b[32mloss: 4.11:  77%|███████████████████████████████        |  ETA: 0:01:24\u001b[39m\u001b[K"
     ]
    },
    {
     "name": "stderr",
     "output_type": "stream",
     "text": [
      "\r\u001b[32mloss: 4.11:  77%|███████████████████████████████        |  ETA: 0:01:24\u001b[39m\u001b[K"
     ]
    },
    {
     "name": "stderr",
     "output_type": "stream",
     "text": [
      "\r\u001b[32mloss: 4.11:  78%|███████████████████████████████        |  ETA: 0:01:22\u001b[39m\u001b[K"
     ]
    },
    {
     "name": "stderr",
     "output_type": "stream",
     "text": [
      "\r\u001b[32mloss: 4.11:  78%|███████████████████████████████        |  ETA: 0:01:22\u001b[39m\u001b[K"
     ]
    },
    {
     "name": "stderr",
     "output_type": "stream",
     "text": [
      "\r\u001b[32mloss: 4.1:  78%|████████████████████████████████        |  ETA: 0:01:20\u001b[39m\u001b[K"
     ]
    },
    {
     "name": "stderr",
     "output_type": "stream",
     "text": [
      "\r\u001b[32mloss: 4.1:  78%|████████████████████████████████        |  ETA: 0:01:19\u001b[39m\u001b[K"
     ]
    },
    {
     "name": "stderr",
     "output_type": "stream",
     "text": [
      "\r\u001b[32mloss: 4.1:  78%|████████████████████████████████        |  ETA: 0:01:18\u001b[39m\u001b[K"
     ]
    },
    {
     "name": "stderr",
     "output_type": "stream",
     "text": [
      "\r\u001b[32mloss: 4.1:  79%|████████████████████████████████        |  ETA: 0:01:17\u001b[39m\u001b[K"
     ]
    },
    {
     "name": "stderr",
     "output_type": "stream",
     "text": [
      "\r\u001b[32mloss: 4.1:  79%|████████████████████████████████        |  ETA: 0:01:16\u001b[39m\u001b[K"
     ]
    },
    {
     "name": "stderr",
     "output_type": "stream",
     "text": [
      "\r\u001b[32mloss: 4.1:  79%|████████████████████████████████        |  ETA: 0:01:15\u001b[39m\u001b[K"
     ]
    },
    {
     "name": "stderr",
     "output_type": "stream",
     "text": [
      "\r\u001b[32mloss: 4.1:  80%|████████████████████████████████        |  ETA: 0:01:14\u001b[39m\u001b[K"
     ]
    },
    {
     "name": "stderr",
     "output_type": "stream",
     "text": [
      "\r\u001b[32mloss: 4.09:  80%|████████████████████████████████       |  ETA: 0:01:13\u001b[39m\u001b[K"
     ]
    },
    {
     "name": "stderr",
     "output_type": "stream",
     "text": [
      "\r\u001b[32mloss: 4.09:  80%|████████████████████████████████       |  ETA: 0:01:12\u001b[39m\u001b[K"
     ]
    },
    {
     "name": "stderr",
     "output_type": "stream",
     "text": [
      "\r\u001b[32mloss: 4.09:  80%|████████████████████████████████       |  ETA: 0:01:11\u001b[39m\u001b[K"
     ]
    },
    {
     "name": "stderr",
     "output_type": "stream",
     "text": [
      "\r\u001b[32mloss: 4.09:  80%|████████████████████████████████       |  ETA: 0:01:10\u001b[39m\u001b[K"
     ]
    },
    {
     "name": "stderr",
     "output_type": "stream",
     "text": [
      "\r\u001b[32mloss: 4.09:  81%|████████████████████████████████       |  ETA: 0:01:09\u001b[39m\u001b[K"
     ]
    },
    {
     "name": "stderr",
     "output_type": "stream",
     "text": [
      "\r\u001b[32mloss: 4.09:  81%|████████████████████████████████       |  ETA: 0:01:08\u001b[39m\u001b[K"
     ]
    },
    {
     "name": "stderr",
     "output_type": "stream",
     "text": [
      "\r\u001b[32mloss: 4.08:  81%|████████████████████████████████       |  ETA: 0:01:07\u001b[39m\u001b[K"
     ]
    },
    {
     "name": "stderr",
     "output_type": "stream",
     "text": [
      "\r\u001b[32mloss: 4.08:  82%|████████████████████████████████       |  ETA: 0:01:06\u001b[39m\u001b[K"
     ]
    },
    {
     "name": "stderr",
     "output_type": "stream",
     "text": [
      "\r\u001b[32mloss: 4.08:  82%|████████████████████████████████       |  ETA: 0:01:05\u001b[39m\u001b[K"
     ]
    },
    {
     "name": "stderr",
     "output_type": "stream",
     "text": [
      "\r\u001b[32mloss: 4.08:  82%|████████████████████████████████       |  ETA: 0:01:04\u001b[39m\u001b[K"
     ]
    },
    {
     "name": "stderr",
     "output_type": "stream",
     "text": [
      "\r\u001b[32mloss: 4.08:  82%|█████████████████████████████████      |  ETA: 0:01:03\u001b[39m\u001b[K"
     ]
    },
    {
     "name": "stderr",
     "output_type": "stream",
     "text": [
      "\r\u001b[32mloss: 4.08:  82%|█████████████████████████████████      |  ETA: 0:01:02\u001b[39m\u001b[K"
     ]
    },
    {
     "name": "stderr",
     "output_type": "stream",
     "text": [
      "\r\u001b[32mloss: 4.07:  83%|█████████████████████████████████      |  ETA: 0:01:01\u001b[39m\u001b[K"
     ]
    },
    {
     "name": "stderr",
     "output_type": "stream",
     "text": [
      "\r\u001b[32mloss: 4.07:  83%|█████████████████████████████████      |  ETA: 0:01:00\u001b[39m\u001b[K"
     ]
    },
    {
     "name": "stderr",
     "output_type": "stream",
     "text": [
      "\r\u001b[32mloss: 4.07:  83%|█████████████████████████████████      |  ETA: 0:01:00\u001b[39m\u001b[K"
     ]
    },
    {
     "name": "stderr",
     "output_type": "stream",
     "text": [
      "\r\u001b[32mloss: 4.07:  84%|█████████████████████████████████      |  ETA: 0:00:58\u001b[39m\u001b[K"
     ]
    },
    {
     "name": "stderr",
     "output_type": "stream",
     "text": [
      "\r\u001b[32mloss: 4.07:  84%|█████████████████████████████████      |  ETA: 0:00:58\u001b[39m\u001b[K"
     ]
    },
    {
     "name": "stderr",
     "output_type": "stream",
     "text": [
      "\r\u001b[32mloss: 4.07:  84%|█████████████████████████████████      |  ETA: 0:00:56\u001b[39m\u001b[K"
     ]
    },
    {
     "name": "stderr",
     "output_type": "stream",
     "text": [
      "\r\u001b[32mloss: 4.06:  84%|█████████████████████████████████      |  ETA: 0:00:56\u001b[39m\u001b[K"
     ]
    },
    {
     "name": "stderr",
     "output_type": "stream",
     "text": [
      "\r\u001b[32mloss: 4.06:  84%|█████████████████████████████████      |  ETA: 0:00:55\u001b[39m\u001b[K"
     ]
    },
    {
     "name": "stderr",
     "output_type": "stream",
     "text": [
      "\r\u001b[32mloss: 4.06:  85%|██████████████████████████████████     |  ETA: 0:00:54\u001b[39m\u001b[K"
     ]
    },
    {
     "name": "stderr",
     "output_type": "stream",
     "text": [
      "\r\u001b[32mloss: 4.06:  85%|██████████████████████████████████     |  ETA: 0:00:53\u001b[39m\u001b[K"
     ]
    },
    {
     "name": "stderr",
     "output_type": "stream",
     "text": [
      "\r\u001b[32mloss: 4.06:  85%|██████████████████████████████████     |  ETA: 0:00:52\u001b[39m\u001b[K"
     ]
    },
    {
     "name": "stderr",
     "output_type": "stream",
     "text": [
      "\r\u001b[32mloss: 4.06:  86%|██████████████████████████████████     |  ETA: 0:00:51\u001b[39m\u001b[K"
     ]
    },
    {
     "name": "stderr",
     "output_type": "stream",
     "text": [
      "\r\u001b[32mloss: 4.05:  86%|██████████████████████████████████     |  ETA: 0:00:50\u001b[39m\u001b[K"
     ]
    },
    {
     "name": "stderr",
     "output_type": "stream",
     "text": [
      "\r\u001b[32mloss: 4.05:  86%|██████████████████████████████████     |  ETA: 0:00:49\u001b[39m\u001b[K"
     ]
    },
    {
     "name": "stderr",
     "output_type": "stream",
     "text": [
      "\r\u001b[32mloss: 4.05:  86%|██████████████████████████████████     |  ETA: 0:00:48\u001b[39m\u001b[K"
     ]
    },
    {
     "name": "stderr",
     "output_type": "stream",
     "text": [
      "\r\u001b[32mloss: 4.05:  86%|██████████████████████████████████     |  ETA: 0:00:47\u001b[39m\u001b[K"
     ]
    },
    {
     "name": "stderr",
     "output_type": "stream",
     "text": [
      "\r\u001b[32mloss: 4.05:  87%|██████████████████████████████████     |  ETA: 0:00:46\u001b[39m\u001b[K"
     ]
    },
    {
     "name": "stderr",
     "output_type": "stream",
     "text": [
      "\r\u001b[32mloss: 4.05:  87%|██████████████████████████████████     |  ETA: 0:00:45\u001b[39m\u001b[K"
     ]
    },
    {
     "name": "stderr",
     "output_type": "stream",
     "text": [
      "\r\u001b[32mloss: 4.05:  87%|███████████████████████████████████    |  ETA: 0:00:44\u001b[39m\u001b[K"
     ]
    },
    {
     "name": "stderr",
     "output_type": "stream",
     "text": [
      "\r\u001b[32mloss: 4.04:  88%|███████████████████████████████████    |  ETA: 0:00:43\u001b[39m\u001b[K"
     ]
    },
    {
     "name": "stderr",
     "output_type": "stream",
     "text": [
      "\r\u001b[32mloss: 4.04:  88%|███████████████████████████████████    |  ETA: 0:00:43\u001b[39m\u001b[K"
     ]
    },
    {
     "name": "stderr",
     "output_type": "stream",
     "text": [
      "\r\u001b[32mloss: 4.04:  88%|███████████████████████████████████    |  ETA: 0:00:42\u001b[39m\u001b[K"
     ]
    },
    {
     "name": "stderr",
     "output_type": "stream",
     "text": [
      "\r\u001b[32mloss: 4.04:  88%|███████████████████████████████████    |  ETA: 0:00:41\u001b[39m\u001b[K"
     ]
    },
    {
     "name": "stderr",
     "output_type": "stream",
     "text": [
      "\r\u001b[32mloss: 4.04:  88%|███████████████████████████████████    |  ETA: 0:00:40\u001b[39m\u001b[K"
     ]
    },
    {
     "name": "stderr",
     "output_type": "stream",
     "text": [
      "\r\u001b[32mloss: 4.04:  89%|███████████████████████████████████    |  ETA: 0:00:39\u001b[39m\u001b[K"
     ]
    },
    {
     "name": "stderr",
     "output_type": "stream",
     "text": [
      "\r\u001b[32mloss: 4.03:  89%|███████████████████████████████████    |  ETA: 0:00:38\u001b[39m\u001b[K"
     ]
    },
    {
     "name": "stderr",
     "output_type": "stream",
     "text": [
      "\r\u001b[32mloss: 4.03:  89%|███████████████████████████████████    |  ETA: 0:00:37\u001b[39m\u001b[K"
     ]
    },
    {
     "name": "stderr",
     "output_type": "stream",
     "text": [
      "\r\u001b[32mloss: 4.03:  90%|███████████████████████████████████    |  ETA: 0:00:36\u001b[39m\u001b[K"
     ]
    },
    {
     "name": "stderr",
     "output_type": "stream",
     "text": [
      "\r\u001b[32mloss: 4.03:  90%|███████████████████████████████████    |  ETA: 0:00:35\u001b[39m\u001b[K"
     ]
    },
    {
     "name": "stderr",
     "output_type": "stream",
     "text": [
      "\r\u001b[32mloss: 4.03:  90%|████████████████████████████████████   |  ETA: 0:00:34\u001b[39m\u001b[K"
     ]
    },
    {
     "name": "stderr",
     "output_type": "stream",
     "text": [
      "\r\u001b[32mloss: 4.03:  90%|████████████████████████████████████   |  ETA: 0:00:34\u001b[39m\u001b[K"
     ]
    },
    {
     "name": "stderr",
     "output_type": "stream",
     "text": [
      "\r\u001b[32mloss: 4.02:  90%|████████████████████████████████████   |  ETA: 0:00:32\u001b[39m\u001b[K"
     ]
    },
    {
     "name": "stderr",
     "output_type": "stream",
     "text": [
      "\r\u001b[32mloss: 4.02:  91%|████████████████████████████████████   |  ETA: 0:00:32\u001b[39m\u001b[K"
     ]
    },
    {
     "name": "stderr",
     "output_type": "stream",
     "text": [
      "\r\u001b[32mloss: 4.02:  91%|████████████████████████████████████   |  ETA: 0:00:31\u001b[39m\u001b[K"
     ]
    },
    {
     "name": "stderr",
     "output_type": "stream",
     "text": [
      "\r\u001b[32mloss: 4.02:  91%|████████████████████████████████████   |  ETA: 0:00:30\u001b[39m\u001b[K"
     ]
    },
    {
     "name": "stderr",
     "output_type": "stream",
     "text": [
      "\r\u001b[32mloss: 4.02:  92%|████████████████████████████████████   |  ETA: 0:00:29\u001b[39m\u001b[K"
     ]
    },
    {
     "name": "stderr",
     "output_type": "stream",
     "text": [
      "\r\u001b[32mloss: 4.01:  92%|████████████████████████████████████   |  ETA: 0:00:28\u001b[39m\u001b[K"
     ]
    },
    {
     "name": "stderr",
     "output_type": "stream",
     "text": [
      "\r\u001b[32mloss: 4.01:  92%|████████████████████████████████████   |  ETA: 0:00:27\u001b[39m\u001b[K"
     ]
    },
    {
     "name": "stderr",
     "output_type": "stream",
     "text": [
      "\r\u001b[32mloss: 4.01:  92%|████████████████████████████████████   |  ETA: 0:00:26\u001b[39m\u001b[K"
     ]
    },
    {
     "name": "stderr",
     "output_type": "stream",
     "text": [
      "\r\u001b[32mloss: 4.01:  92%|█████████████████████████████████████  |  ETA: 0:00:25\u001b[39m\u001b[K"
     ]
    },
    {
     "name": "stderr",
     "output_type": "stream",
     "text": [
      "\r\u001b[32mloss: 4.01:  93%|█████████████████████████████████████  |  ETA: 0:00:25\u001b[39m\u001b[K"
     ]
    },
    {
     "name": "stderr",
     "output_type": "stream",
     "text": [
      "\r\u001b[32mloss: 4.01:  93%|█████████████████████████████████████  |  ETA: 0:00:24\u001b[39m\u001b[K"
     ]
    },
    {
     "name": "stderr",
     "output_type": "stream",
     "text": [
      "\r\u001b[32mloss: 4:  93%|████████████████████████████████████████  |  ETA: 0:00:23\u001b[39m\u001b[K"
     ]
    },
    {
     "name": "stderr",
     "output_type": "stream",
     "text": [
      "\r\u001b[32mloss: 4:  94%|████████████████████████████████████████  |  ETA: 0:00:22\u001b[39m\u001b[K"
     ]
    },
    {
     "name": "stderr",
     "output_type": "stream",
     "text": [
      "\r\u001b[32mloss: 4:  94%|████████████████████████████████████████  |  ETA: 0:00:21\u001b[39m\u001b[K"
     ]
    },
    {
     "name": "stderr",
     "output_type": "stream",
     "text": [
      "\r\u001b[32mloss: 4:  94%|████████████████████████████████████████  |  ETA: 0:00:20\u001b[39m\u001b[K"
     ]
    },
    {
     "name": "stderr",
     "output_type": "stream",
     "text": [
      "\r\u001b[32mloss: 4:  94%|████████████████████████████████████████  |  ETA: 0:00:20\u001b[39m\u001b[K"
     ]
    },
    {
     "name": "stderr",
     "output_type": "stream",
     "text": [
      "\r\u001b[32mloss: 4:  94%|████████████████████████████████████████  |  ETA: 0:00:19\u001b[39m\u001b[K"
     ]
    },
    {
     "name": "stderr",
     "output_type": "stream",
     "text": [
      "\r\u001b[32mloss: 3.99:  95%|█████████████████████████████████████  |  ETA: 0:00:18\u001b[39m\u001b[K"
     ]
    },
    {
     "name": "stderr",
     "output_type": "stream",
     "text": [
      "\r\u001b[32mloss: 3.99:  95%|██████████████████████████████████████ |  ETA: 0:00:17\u001b[39m\u001b[K"
     ]
    },
    {
     "name": "stderr",
     "output_type": "stream",
     "text": [
      "\r\u001b[32mloss: 3.99:  95%|██████████████████████████████████████ |  ETA: 0:00:16\u001b[39m\u001b[K"
     ]
    },
    {
     "name": "stderr",
     "output_type": "stream",
     "text": [
      "\r\u001b[32mloss: 3.99:  96%|██████████████████████████████████████ |  ETA: 0:00:15\u001b[39m\u001b[K"
     ]
    },
    {
     "name": "stderr",
     "output_type": "stream",
     "text": [
      "\r\u001b[32mloss: 3.99:  96%|██████████████████████████████████████ |  ETA: 0:00:14\u001b[39m\u001b[K"
     ]
    },
    {
     "name": "stderr",
     "output_type": "stream",
     "text": [
      "\r\u001b[32mloss: 3.99:  96%|██████████████████████████████████████ |  ETA: 0:00:13\u001b[39m\u001b[K"
     ]
    },
    {
     "name": "stderr",
     "output_type": "stream",
     "text": [
      "\r\u001b[32mloss: 3.98:  96%|██████████████████████████████████████ |  ETA: 0:00:13\u001b[39m\u001b[K"
     ]
    },
    {
     "name": "stderr",
     "output_type": "stream",
     "text": [
      "\r\u001b[32mloss: 3.98:  96%|██████████████████████████████████████ |  ETA: 0:00:12\u001b[39m\u001b[K"
     ]
    },
    {
     "name": "stderr",
     "output_type": "stream",
     "text": [
      "\r\u001b[32mloss: 3.98:  97%|██████████████████████████████████████ |  ETA: 0:00:11\u001b[39m\u001b[K"
     ]
    },
    {
     "name": "stderr",
     "output_type": "stream",
     "text": [
      "\r\u001b[32mloss: 3.98:  97%|██████████████████████████████████████ |  ETA: 0:00:10\u001b[39m\u001b[K"
     ]
    },
    {
     "name": "stderr",
     "output_type": "stream",
     "text": [
      "\r\u001b[32mloss: 3.98:  97%|██████████████████████████████████████ |  ETA: 0:00:09\u001b[39m\u001b[K"
     ]
    },
    {
     "name": "stderr",
     "output_type": "stream",
     "text": [
      "\r\u001b[32mloss: 3.98:  98%|███████████████████████████████████████|  ETA: 0:00:08\u001b[39m\u001b[K"
     ]
    },
    {
     "name": "stderr",
     "output_type": "stream",
     "text": [
      "\r\u001b[32mloss: 3.97:  98%|███████████████████████████████████████|  ETA: 0:00:08\u001b[39m\u001b[K"
     ]
    },
    {
     "name": "stderr",
     "output_type": "stream",
     "text": [
      "\r\u001b[32mloss: 3.97:  98%|███████████████████████████████████████|  ETA: 0:00:07\u001b[39m\u001b[K"
     ]
    },
    {
     "name": "stderr",
     "output_type": "stream",
     "text": [
      "\r\u001b[32mloss: 3.97:  98%|███████████████████████████████████████|  ETA: 0:00:06\u001b[39m\u001b[K"
     ]
    },
    {
     "name": "stderr",
     "output_type": "stream",
     "text": [
      "\r\u001b[32mloss: 3.97:  98%|███████████████████████████████████████|  ETA: 0:00:05\u001b[39m\u001b[K"
     ]
    },
    {
     "name": "stderr",
     "output_type": "stream",
     "text": [
      "\r\u001b[32mloss: 3.97:  99%|███████████████████████████████████████|  ETA: 0:00:04\u001b[39m\u001b[K"
     ]
    },
    {
     "name": "stderr",
     "output_type": "stream",
     "text": [
      "\r\u001b[32mloss: 3.96:  99%|███████████████████████████████████████|  ETA: 0:00:03\u001b[39m\u001b[K"
     ]
    },
    {
     "name": "stderr",
     "output_type": "stream",
     "text": [
      "\r\u001b[32mloss: 3.96:  99%|███████████████████████████████████████|  ETA: 0:00:03\u001b[39m\u001b[K"
     ]
    },
    {
     "name": "stderr",
     "output_type": "stream",
     "text": [
      "\r\u001b[32mloss: 3.96: 100%|███████████████████████████████████████|  ETA: 0:00:02\u001b[39m\u001b[K"
     ]
    },
    {
     "name": "stderr",
     "output_type": "stream",
     "text": [
      "\r\u001b[32mloss: 3.96: 100%|███████████████████████████████████████|  ETA: 0:00:01\u001b[39m\u001b[K"
     ]
    },
    {
     "name": "stderr",
     "output_type": "stream",
     "text": [
      "\r\u001b[32mloss: 3.96: 100%|███████████████████████████████████████| Time: 0:05:29\u001b[39m\u001b[K\n"
     ]
    },
    {
     "data": {
      "text/plain": [
       "predict (generic function with 1 method)"
      ]
     },
     "metadata": {},
     "output_type": "display_data"
    }
   ],
   "source": [
    "obs_grid = 4:4:length(t_train) # we train on an increasing amount of the first k obs\n",
    "maxiters = 400\n",
    "lr = 5e-4\n",
    "θs, state, losses, final_loss = train(t_train, y_train, obs_grid, maxiters, lr, rng, progress=true);\n",
    "@save \"artefacts/training_output.bson\" θs losses\n",
    "\n",
    "predict(y0, t, θ, state) = begin\n",
    "    node, _, _ = neural_ode(t, length(y0))\n",
    "    ŷ = Array(node(y0, θ, state)[1])\n",
    "end\n"
   ]
  },
  {
   "cell_type": "code",
   "execution_count": 9,
   "id": "a34568d3",
   "metadata": {},
   "outputs": [
    {
     "name": "stderr",
     "output_type": "stream",
     "text": [
      "┌ Info: Generating training animation...\n",
      "└ @ Main c:\\Users\\SpOoKyJaRvIs\\Desktop\\CSO211 project\\neural-ode-weather-forecast\\scripts\\heavy3gpu.ipynb:16\n"
     ]
    },
    {
     "name": "stderr",
     "output_type": "stream",
     "text": [
      "┌ Info: Saved animation to c:\\Users\\SpOoKyJaRvIs\\Desktop\\CSO211 project\\neural-ode-weather-forecast\\scripts\\plots\\training.gif\n",
      "└ @ Plots C:\\Users\\SpOoKyJaRvIs\\.julia\\packages\\Plots\\QZRtR\\src\\animation.jl:156\n"
     ]
    },
    {
     "name": "stderr",
     "output_type": "stream",
     "text": [
      "┌ Info: Generating extrapolation plot...\n",
      "└ @ Main c:\\Users\\SpOoKyJaRvIs\\Desktop\\CSO211 project\\neural-ode-weather-forecast\\scripts\\heavy3gpu.ipynb:27\n",
      "┌ Info: Done!\n",
      "└ @ Main c:\\Users\\SpOoKyJaRvIs\\Desktop\\CSO211 project\\neural-ode-weather-forecast\\scripts\\heavy3gpu.ipynb:40\n"
     ]
    }
   ],
   "source": [
    "function plot_pred(\n",
    "    t_train, y_train, t_grid,\n",
    "    rescale_t, rescale_y, num_iters, θ, state, loss, y0=y_train[:, 1]\n",
    ")\n",
    "    ŷ = predict(y0, t_grid, θ, state)\n",
    "    plt = plot_result(\n",
    "        rescale_t(t_train),\n",
    "        rescale_y(y_train),\n",
    "        rescale_t(t_grid),\n",
    "        rescale_y(ŷ),\n",
    "        loss,\n",
    "        num_iters\n",
    "    )\n",
    "end\n",
    "\n",
    "@info \"Generating training animation...\"\n",
    "num_iters = length(losses)\n",
    "t_train_grid = collect(range(extrema(t_train)..., length=500))\n",
    "rescale_t(x) = t_scale .* x .+ t_mean\n",
    "rescale_y(x) = y_scale .* x .+ y_mean\n",
    "plot_frame(t, y, θ, loss) = plot_pred(\n",
    "    t, y, t_train_grid, rescale_t, rescale_y, num_iters, θ, state, loss\n",
    ")\n",
    "anim = animate_training(plot_frame, t_train, y_train, θs, losses, obs_grid);\n",
    "gif(anim, \"plots/training.gif\")\n",
    "\n",
    "@info \"Generating extrapolation plot...\"\n",
    "t_grid = collect(range(minimum(t_train), maximum(t_test), length=500))\n",
    "ŷ = predict(y_train[:,1], t_grid, θs[end], state)\n",
    "plt_ext = plot_extrapolation(\n",
    "    rescale_t(t_train),\n",
    "    rescale_y(y_train),\n",
    "    rescale_t(t_test),\n",
    "    rescale_y(y_test),\n",
    "    rescale_t(t_grid),\n",
    "    rescale_y(ŷ)\n",
    ");\n",
    "savefig(plt_ext, \"plots/extrapolation.svg\")\n",
    "\n",
    "@info \"Done!\""
   ]
  },
  {
   "cell_type": "code",
   "execution_count": 10,
   "id": "aecc358a",
   "metadata": {
    "scrolled": true
   },
   "outputs": [
    {
     "data": {
      "text/plain": [
       "4×32 Matrix{Float64}:\n",
       " -1.76393   -1.16623   -0.332808  …   0.961043   0.858207   0.848021\n",
       "  0.742803   0.530371  -0.371161     -0.724243  -0.436564  -0.582241\n",
       " -1.25499   -0.161541   0.468133      0.318522  -0.119049  -0.544659\n",
       "  1.35756    1.10174    0.570255     -1.32911   -1.17889   -0.916124"
      ]
     },
     "metadata": {},
     "output_type": "display_data"
    }
   ],
   "source": [
    "ŷ = predict(y_train[:,1], t_test, θs[end], state)"
   ]
  },
  {
   "cell_type": "code",
   "execution_count": 11,
   "id": "481827fd",
   "metadata": {},
   "outputs": [
    {
     "data": {
      "text/plain": [
       "mean_squared_error (generic function with 1 method)"
      ]
     },
     "metadata": {},
     "output_type": "display_data"
    }
   ],
   "source": [
    "function mean_squared_error(ŷ, y_test)\n",
    "    diff = ŷ - y_test\n",
    "    mse = sum(diff .^ 2) / length(diff)\n",
    "    return mse\n",
    "end"
   ]
  },
  {
   "cell_type": "code",
   "execution_count": 12,
   "id": "7bca90c8",
   "metadata": {},
   "outputs": [
    {
     "data": {
      "text/plain": [
       "9.939061275581846"
      ]
     },
     "metadata": {},
     "output_type": "display_data"
    }
   ],
   "source": [
    "mean_squared_error(ŷ, y_test)"
   ]
  },
  {
   "cell_type": "code",
   "execution_count": null,
   "id": "885c4ba5",
   "metadata": {},
   "outputs": [],
   "source": []
  }
 ],
 "metadata": {
  "kernelspec": {
   "display_name": "Julia 1.9.3",
   "language": "julia",
   "name": "julia-1.9"
  },
  "language_info": {
   "file_extension": ".jl",
   "mimetype": "application/julia",
   "name": "julia",
   "version": "1.9.3"
  }
 },
 "nbformat": 4,
 "nbformat_minor": 5
}
